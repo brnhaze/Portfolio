{
 "cells": [
  {
   "cell_type": "markdown",
   "id": "98b76a40-07b3-4f0f-b048-956a3870f6a8",
   "metadata": {},
   "source": [
    "# Data Cleansing"
   ]
  },
  {
   "cell_type": "code",
   "execution_count": 11,
   "id": "fe012f41-7638-42d4-960e-8369d462d72d",
   "metadata": {},
   "outputs": [],
   "source": [
    "# Import Libraries\n",
    "\n",
    "# data manipulation and analysis\n",
    "import pandas as pd\n",
    "\n",
    "# multi-dimensional arrays and matrices\n",
    "# mathematical functions\n",
    "import numpy as np\n",
    "\n",
    "# parsing & processing Python Source Code\n",
    "# convert strings of Python code into executable code\n",
    "import ast # Abstract Syntax Trees (AST) module\n",
    "\n",
    "# data visualization\n",
    "import matplotlib.pyplot as plt # creating static, animated, and interactive visualizations\n",
    "import seaborn as sns # interface for drawing & statistical graphics\n",
    "import mplcursors # interactive data cursors\n",
    "import plotly.express as px\n",
    "\n",
    "# database adapter for Python\n",
    "import psycopg2 # allows interaction with PostgreSQL\n",
    "import pandas as pd\n",
    "\n",
    "# probability distributions and statistical functions\n",
    "from scipy.stats import norm \n",
    "from scipy.stats import ttest_ind\n",
    "from scipy.stats import f_oneway\n",
    "from scipy import stats\n",
    "import statsmodels.api as sm\n",
    "import statsmodels.formula.api as smf\n",
    "\n",
    "from sklearn.model_selection import train_test_split\n",
    "from sklearn.linear_model import LinearRegression\n",
    "from sklearn.metrics import mean_squared_error\n",
    "\n",
    "from tabulate import tabulate"
   ]
  },
  {
   "cell_type": "code",
   "execution_count": 17,
   "id": "0a8cc2b8-bec5-4659-97a3-1c3a818efe7d",
   "metadata": {},
   "outputs": [],
   "source": [
    "df_2 = pd.read_csv(r'C:\\Users\\ashwi\\Documents\\Data Analytics\\Portfolio\\IGN VIdeo Game Rarings\\Python\\df_2.csv', index_col=False, delimiter=',')"
   ]
  },
  {
   "cell_type": "code",
   "execution_count": 18,
   "id": "0a3c16e3-c2ad-46c5-8190-09a897b84575",
   "metadata": {},
   "outputs": [
    {
     "data": {
      "text/html": [
       "<div>\n",
       "<style scoped>\n",
       "    .dataframe tbody tr th:only-of-type {\n",
       "        vertical-align: middle;\n",
       "    }\n",
       "\n",
       "    .dataframe tbody tr th {\n",
       "        vertical-align: top;\n",
       "    }\n",
       "\n",
       "    .dataframe thead th {\n",
       "        text-align: right;\n",
       "    }\n",
       "</style>\n",
       "<table border=\"1\" class=\"dataframe\">\n",
       "  <thead>\n",
       "    <tr style=\"text-align: right;\">\n",
       "      <th></th>\n",
       "      <th>title</th>\n",
       "      <th>score</th>\n",
       "      <th>score_phrase</th>\n",
       "      <th>platform</th>\n",
       "      <th>genre</th>\n",
       "      <th>release_year</th>\n",
       "      <th>release_month</th>\n",
       "      <th>release_day</th>\n",
       "    </tr>\n",
       "  </thead>\n",
       "  <tbody>\n",
       "    <tr>\n",
       "      <th>0</th>\n",
       "      <td>Checkered Flag</td>\n",
       "      <td>10.0</td>\n",
       "      <td>Masterpiece</td>\n",
       "      <td>Lynx</td>\n",
       "      <td>Racing</td>\n",
       "      <td>1999</td>\n",
       "      <td>7</td>\n",
       "      <td>6</td>\n",
       "    </tr>\n",
       "  </tbody>\n",
       "</table>\n",
       "</div>"
      ],
      "text/plain": [
       "            title  score score_phrase platform   genre  release_year  \\\n",
       "0  Checkered Flag   10.0  Masterpiece     Lynx  Racing          1999   \n",
       "\n",
       "   release_month  release_day  \n",
       "0              7            6  "
      ]
     },
     "execution_count": 18,
     "metadata": {},
     "output_type": "execute_result"
    }
   ],
   "source": [
    "df_2.head(1)"
   ]
  },
  {
   "cell_type": "code",
   "execution_count": 19,
   "id": "36d8fa8a-106a-483a-94cf-ed76fcf94e44",
   "metadata": {},
   "outputs": [
    {
     "data": {
      "text/plain": [
       "Index(['title', 'score', 'score_phrase', 'platform', 'genre', 'release_year',\n",
       "       'release_month', 'release_day'],\n",
       "      dtype='object')"
      ]
     },
     "execution_count": 19,
     "metadata": {},
     "output_type": "execute_result"
    }
   ],
   "source": [
    "df_2.columns"
   ]
  },
  {
   "cell_type": "code",
   "execution_count": 20,
   "id": "faf20f8e-0f85-47f8-86f9-ee6af25cf4d6",
   "metadata": {},
   "outputs": [
    {
     "data": {
      "text/plain": [
       "title             object\n",
       "score            float64\n",
       "score_phrase      object\n",
       "platform          object\n",
       "genre             object\n",
       "release_year       int64\n",
       "release_month      int64\n",
       "release_day        int64\n",
       "dtype: object"
      ]
     },
     "execution_count": 20,
     "metadata": {},
     "output_type": "execute_result"
    }
   ],
   "source": [
    "df_2.dtypes"
   ]
  },
  {
   "cell_type": "code",
   "execution_count": 21,
   "id": "03c8e75d-7812-4bc6-8c7f-7e9900a6799a",
   "metadata": {},
   "outputs": [
    {
     "data": {
      "text/plain": [
       "(18541, 8)"
      ]
     },
     "execution_count": 21,
     "metadata": {},
     "output_type": "execute_result"
    }
   ],
   "source": [
    "df_2.shape"
   ]
  },
  {
   "cell_type": "code",
   "execution_count": null,
   "id": "3ade6d56-dfa1-4316-995e-427030aedf09",
   "metadata": {},
   "outputs": [],
   "source": []
  }
 ],
 "metadata": {
  "kernelspec": {
   "display_name": "Python 3 (ipykernel)",
   "language": "python",
   "name": "python3"
  },
  "language_info": {
   "codemirror_mode": {
    "name": "ipython",
    "version": 3
   },
   "file_extension": ".py",
   "mimetype": "text/x-python",
   "name": "python",
   "nbconvert_exporter": "python",
   "pygments_lexer": "ipython3",
   "version": "3.11.7"
  }
 },
 "nbformat": 4,
 "nbformat_minor": 5
}
