{
 "cells": [
  {
   "cell_type": "markdown",
   "id": "aee1c59b-d5b5-4443-914f-9a7d8fb83cd3",
   "metadata": {},
   "source": [
    "# Data Validation"
   ]
  },
  {
   "cell_type": "code",
   "execution_count": 1,
   "id": "0b3f3f2f-9f2c-4cd0-a8ae-854d55451e65",
   "metadata": {},
   "outputs": [],
   "source": [
    "# Import Libraries\n",
    "\n",
    "# data manipulation and analysis\n",
    "import pandas as pd\n",
    "\n",
    "# multi-dimensional arrays and matrices\n",
    "# mathematical functions\n",
    "import numpy as np\n",
    "\n",
    "# parsing & processing Python Source Code\n",
    "# convert strings of Python code into executable code\n",
    "import ast # Abstract Syntax Trees (AST) module\n",
    "\n",
    "# data visualization\n",
    "import matplotlib.pyplot as plt # creating static, animated, and interactive visualizations\n",
    "import seaborn as sns # interface for drawing & statistical graphics\n",
    "import mplcursors # interactive data cursors\n",
    "import plotly.express as px\n",
    "\n",
    "# database adapter for Python\n",
    "import psycopg2 # allows interaction with PostgreSQL\n",
    "import pandas as pd\n",
    "\n",
    "# probability distributions and statistical functions\n",
    "from scipy.stats import norm \n",
    "from scipy.stats import ttest_ind\n",
    "from scipy.stats import f_oneway\n",
    "from scipy import stats\n",
    "import statsmodels.api as sm\n",
    "import statsmodels.formula.api as smf\n",
    "\n",
    "from sklearn.model_selection import train_test_split\n",
    "from sklearn.linear_model import LinearRegression\n",
    "from sklearn.metrics import mean_squared_error"
   ]
  },
  {
   "cell_type": "code",
   "execution_count": 2,
   "id": "25608354-d036-486e-a1d8-97ac241e1318",
   "metadata": {},
   "outputs": [],
   "source": [
    "# Load Data\n",
    "df_1 = pd.read_csv(r'C:\\Users\\ashwi\\Documents\\Data Analytics\\Portfolio\\IGN VIdeo Game Rarings\\SQL\\sql_cleaned_games.csv', index_col=False, delimiter=',')"
   ]
  },
  {
   "cell_type": "markdown",
   "id": "7551fabb-60fa-40bc-90a9-39dbd2ca41a9",
   "metadata": {},
   "source": [
    "## Data Inspection"
   ]
  },
  {
   "cell_type": "code",
   "execution_count": null,
   "id": "ffbfaa09-664d-45cb-9053-59a8f1bcbb6f",
   "metadata": {},
   "outputs": [],
   "source": []
  }
 ],
 "metadata": {
  "kernelspec": {
   "display_name": "Python 3 (ipykernel)",
   "language": "python",
   "name": "python3"
  },
  "language_info": {
   "codemirror_mode": {
    "name": "ipython",
    "version": 3
   },
   "file_extension": ".py",
   "mimetype": "text/x-python",
   "name": "python",
   "nbconvert_exporter": "python",
   "pygments_lexer": "ipython3",
   "version": "3.11.7"
  }
 },
 "nbformat": 4,
 "nbformat_minor": 5
}
