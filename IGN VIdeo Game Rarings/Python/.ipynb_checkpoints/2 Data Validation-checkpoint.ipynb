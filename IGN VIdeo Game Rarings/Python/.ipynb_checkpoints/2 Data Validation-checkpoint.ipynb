{
 "cells": [
  {
   "cell_type": "markdown",
   "id": "aee1c59b-d5b5-4443-914f-9a7d8fb83cd3",
   "metadata": {},
   "source": [
    "# Data Validation"
   ]
  },
  {
   "cell_type": "code",
   "execution_count": 83,
   "id": "0b3f3f2f-9f2c-4cd0-a8ae-854d55451e65",
   "metadata": {},
   "outputs": [],
   "source": [
    "# Import Libraries\n",
    "\n",
    "# data manipulation and analysis\n",
    "import pandas as pd\n",
    "\n",
    "# multi-dimensional arrays and matrices\n",
    "# mathematical functions\n",
    "import numpy as np\n",
    "\n",
    "# parsing & processing Python Source Code\n",
    "# convert strings of Python code into executable code\n",
    "import ast # Abstract Syntax Trees (AST) module\n",
    "\n",
    "# data visualization\n",
    "import matplotlib.pyplot as plt # creating static, animated, and interactive visualizations\n",
    "import seaborn as sns # interface for drawing & statistical graphics\n",
    "import mplcursors # interactive data cursors\n",
    "import plotly.express as px\n",
    "\n",
    "# database adapter for Python\n",
    "import psycopg2 # allows interaction with PostgreSQL\n",
    "import pandas as pd\n",
    "\n",
    "# probability distributions and statistical functions\n",
    "from scipy.stats import norm \n",
    "from scipy.stats import ttest_ind\n",
    "from scipy.stats import f_oneway\n",
    "from scipy import stats\n",
    "import statsmodels.api as sm\n",
    "import statsmodels.formula.api as smf\n",
    "\n",
    "from sklearn.model_selection import train_test_split\n",
    "from sklearn.linear_model import LinearRegression\n",
    "from sklearn.metrics import mean_squared_error\n",
    "\n",
    "from tabulate import tabulate"
   ]
  },
  {
   "cell_type": "code",
   "execution_count": 84,
   "id": "25608354-d036-486e-a1d8-97ac241e1318",
   "metadata": {},
   "outputs": [],
   "source": [
    "# Load Data\n",
    "df_1 = pd.read_csv(r'C:\\Users\\ashwi\\Documents\\Data Analytics\\Portfolio\\IGN VIdeo Game Rarings\\SQL\\sql_cleaned_games.csv', index_col=False, delimiter=',')"
   ]
  },
  {
   "cell_type": "markdown",
   "id": "7551fabb-60fa-40bc-90a9-39dbd2ca41a9",
   "metadata": {},
   "source": [
    "## Data Inspection"
   ]
  },
  {
   "cell_type": "markdown",
   "id": "e015e9f2-8fd5-4887-98d1-5c3d43a8a92f",
   "metadata": {},
   "source": [
    "### Score"
   ]
  },
  {
   "cell_type": "code",
   "execution_count": 85,
   "id": "ffbfaa09-664d-45cb-9053-59a8f1bcbb6f",
   "metadata": {},
   "outputs": [
    {
     "name": "stdout",
     "output_type": "stream",
     "text": [
      "minimum score: 0.5\n",
      "maximum score: 10.0\n"
     ]
    }
   ],
   "source": [
    "# find min score min and max\n",
    "min_score = df_1['score'].min()\n",
    "max_score = df_1['score'].max()\n",
    "\n",
    "print(f'minimum score: {min_score}')\n",
    "print(f'maximum score: {max_score}')"
   ]
  },
  {
   "cell_type": "code",
   "execution_count": 86,
   "id": "5e5bcb7f-4705-490d-a6c7-ba76e43cb223",
   "metadata": {},
   "outputs": [],
   "source": [
    "## Data Integrity\n",
    "\n",
    "invalid_score = df_1[df_1['score'] < 0]\n",
    "if not invalid_score.empty:\n",
    "    print(\"Invalid score values found:\")\n",
    "    print(invalid_score)"
   ]
  },
  {
   "cell_type": "markdown",
   "id": "9a4c98f3-4f45-4fc2-b084-e309d970425d",
   "metadata": {},
   "source": [
    "### Release Year"
   ]
  },
  {
   "cell_type": "code",
   "execution_count": 87,
   "id": "859b304f-e272-4bed-a866-bb2a33a90740",
   "metadata": {},
   "outputs": [
    {
     "name": "stdout",
     "output_type": "stream",
     "text": [
      "minimum release year: 1970\n",
      "maximum release year: 2016\n"
     ]
    }
   ],
   "source": [
    "# find min release year and max\n",
    "min_rel_yr = df_1['release_year'].min()\n",
    "max_rel_yr = df_1['release_year'].max()\n",
    "\n",
    "print(f'minimum release year: {min_rel_yr}')\n",
    "print(f'maximum release year: {max_rel_yr}')"
   ]
  },
  {
   "cell_type": "code",
   "execution_count": 88,
   "id": "e2d0c5aa-6e85-4fa6-8a80-dc3b1d286276",
   "metadata": {},
   "outputs": [],
   "source": [
    "invalid_release_year = df_1[df_1['release_year'] < 0]\n",
    "if not invalid_release_year.empty:\n",
    "    print(\"Invalid release_year values found:\")\n",
    "    print(invalid_release_year)"
   ]
  },
  {
   "cell_type": "markdown",
   "id": "60937a85-cbc5-4724-bd59-3d904e3fb690",
   "metadata": {},
   "source": [
    "### Release Month"
   ]
  },
  {
   "cell_type": "code",
   "execution_count": 89,
   "id": "55b37101-68b0-450e-b5ca-6352ecb482a2",
   "metadata": {},
   "outputs": [
    {
     "name": "stdout",
     "output_type": "stream",
     "text": [
      "minimum release month: 1\n",
      "maximum release month: 12\n"
     ]
    }
   ],
   "source": [
    "# find min release year and max\n",
    "min_rel_mon = df_1['release_month'].min()\n",
    "max_rel_mon = df_1['release_month'].max()\n",
    "\n",
    "print(f'minimum release month: {min_rel_mon}')\n",
    "print(f'maximum release month: {max_rel_mon}')"
   ]
  },
  {
   "cell_type": "code",
   "execution_count": 90,
   "id": "0898e12c-b224-4e93-adc1-c10ddef70efb",
   "metadata": {},
   "outputs": [],
   "source": [
    "invalid_release_month = df_1[df_1['release_month'] < 0]\n",
    "if not invalid_release_month.empty:\n",
    "    print(\"Invalid release_month values found:\")\n",
    "    print(invalid_release_month)"
   ]
  },
  {
   "cell_type": "markdown",
   "id": "ddda16b0-d571-4df0-87fb-39fb23618bf8",
   "metadata": {},
   "source": [
    "### Release Day"
   ]
  },
  {
   "cell_type": "code",
   "execution_count": 91,
   "id": "5f959716-555c-40e4-9227-8c1c0926113e",
   "metadata": {},
   "outputs": [
    {
     "name": "stdout",
     "output_type": "stream",
     "text": [
      "minimum release day: 1\n",
      "maximum release day: 31\n"
     ]
    }
   ],
   "source": [
    "# find min release year and max\n",
    "min_rel_day = df_1['release_day'].min()\n",
    "max_rel_day = df_1['release_day'].max()\n",
    "\n",
    "print(f'minimum release day: {min_rel_day}')\n",
    "print(f'maximum release day: {max_rel_day}')"
   ]
  },
  {
   "cell_type": "code",
   "execution_count": 92,
   "id": "c354afd9-08c6-4b39-bfaa-b987c09b6a35",
   "metadata": {},
   "outputs": [],
   "source": [
    "invalid_release_day = df_1[df_1['release_day'] < 0]\n",
    "if not invalid_release_day.empty:\n",
    "    print(\"Invalid release_day values found:\")\n",
    "    print(invalid_release_day)"
   ]
  },
  {
   "cell_type": "markdown",
   "id": "7f7b75f4-9259-45eb-8289-f47937b7a9ea",
   "metadata": {},
   "source": [
    "## Genre"
   ]
  },
  {
   "cell_type": "code",
   "execution_count": 93,
   "id": "278cde0d-089a-43f0-b7a1-8f0d5aa5cdd5",
   "metadata": {},
   "outputs": [
    {
     "data": {
      "text/html": [
       "<div>\n",
       "<style scoped>\n",
       "    .dataframe tbody tr th:only-of-type {\n",
       "        vertical-align: middle;\n",
       "    }\n",
       "\n",
       "    .dataframe tbody tr th {\n",
       "        vertical-align: top;\n",
       "    }\n",
       "\n",
       "    .dataframe thead th {\n",
       "        text-align: right;\n",
       "    }\n",
       "</style>\n",
       "<table border=\"1\" class=\"dataframe\">\n",
       "  <thead>\n",
       "    <tr style=\"text-align: right;\">\n",
       "      <th></th>\n",
       "      <th>title</th>\n",
       "      <th>score</th>\n",
       "      <th>score_phrase</th>\n",
       "      <th>platform</th>\n",
       "      <th>genre</th>\n",
       "      <th>release_year</th>\n",
       "      <th>release_month</th>\n",
       "      <th>release_day</th>\n",
       "    </tr>\n",
       "  </thead>\n",
       "  <tbody>\n",
       "    <tr>\n",
       "      <th>0</th>\n",
       "      <td>Checkered Flag</td>\n",
       "      <td>10.0</td>\n",
       "      <td>Masterpiece</td>\n",
       "      <td>Lynx</td>\n",
       "      <td>Racing</td>\n",
       "      <td>1999</td>\n",
       "      <td>7</td>\n",
       "      <td>6</td>\n",
       "    </tr>\n",
       "    <tr>\n",
       "      <th>1</th>\n",
       "      <td>Chrono Trigger</td>\n",
       "      <td>10.0</td>\n",
       "      <td>Masterpiece</td>\n",
       "      <td>Wii</td>\n",
       "      <td>Action, RPG</td>\n",
       "      <td>2011</td>\n",
       "      <td>5</td>\n",
       "      <td>25</td>\n",
       "    </tr>\n",
       "    <tr>\n",
       "      <th>2</th>\n",
       "      <td>Dragon Warrior III</td>\n",
       "      <td>10.0</td>\n",
       "      <td>Masterpiece</td>\n",
       "      <td>Game Boy Color</td>\n",
       "      <td>RPG</td>\n",
       "      <td>2001</td>\n",
       "      <td>7</td>\n",
       "      <td>20</td>\n",
       "    </tr>\n",
       "    <tr>\n",
       "      <th>3</th>\n",
       "      <td>Grand Theft Auto IV</td>\n",
       "      <td>10.0</td>\n",
       "      <td>Masterpiece</td>\n",
       "      <td>Xbox 360</td>\n",
       "      <td>Action, Adventure</td>\n",
       "      <td>2008</td>\n",
       "      <td>4</td>\n",
       "      <td>25</td>\n",
       "    </tr>\n",
       "    <tr>\n",
       "      <th>4</th>\n",
       "      <td>Grand Theft Auto IV</td>\n",
       "      <td>10.0</td>\n",
       "      <td>Masterpiece</td>\n",
       "      <td>PlayStation 3</td>\n",
       "      <td>Action, Adventure</td>\n",
       "      <td>2008</td>\n",
       "      <td>4</td>\n",
       "      <td>25</td>\n",
       "    </tr>\n",
       "    <tr>\n",
       "      <th>...</th>\n",
       "      <td>...</td>\n",
       "      <td>...</td>\n",
       "      <td>...</td>\n",
       "      <td>...</td>\n",
       "      <td>...</td>\n",
       "      <td>...</td>\n",
       "      <td>...</td>\n",
       "      <td>...</td>\n",
       "    </tr>\n",
       "    <tr>\n",
       "      <th>18620</th>\n",
       "      <td>The Crow: City of Angels</td>\n",
       "      <td>1.0</td>\n",
       "      <td>Unbearable</td>\n",
       "      <td>PlayStation</td>\n",
       "      <td>Action</td>\n",
       "      <td>1997</td>\n",
       "      <td>3</td>\n",
       "      <td>11</td>\n",
       "    </tr>\n",
       "    <tr>\n",
       "      <th>18621</th>\n",
       "      <td>The Simpsons Wrestling</td>\n",
       "      <td>1.0</td>\n",
       "      <td>Unbearable</td>\n",
       "      <td>PlayStation</td>\n",
       "      <td>Action</td>\n",
       "      <td>2001</td>\n",
       "      <td>4</td>\n",
       "      <td>6</td>\n",
       "    </tr>\n",
       "    <tr>\n",
       "      <th>18622</th>\n",
       "      <td>Action Girlz Racing</td>\n",
       "      <td>0.8</td>\n",
       "      <td>Disaster</td>\n",
       "      <td>Wii</td>\n",
       "      <td>Racing</td>\n",
       "      <td>2009</td>\n",
       "      <td>2</td>\n",
       "      <td>11</td>\n",
       "    </tr>\n",
       "    <tr>\n",
       "      <th>18623</th>\n",
       "      <td>Extreme PaintBrawl</td>\n",
       "      <td>0.7</td>\n",
       "      <td>Disaster</td>\n",
       "      <td>PC</td>\n",
       "      <td>Action</td>\n",
       "      <td>1998</td>\n",
       "      <td>10</td>\n",
       "      <td>29</td>\n",
       "    </tr>\n",
       "    <tr>\n",
       "      <th>18624</th>\n",
       "      <td>Looney Tunes: Back in Action: Zany Race</td>\n",
       "      <td>0.5</td>\n",
       "      <td>Disaster</td>\n",
       "      <td>Wireless</td>\n",
       "      <td>Racing</td>\n",
       "      <td>2003</td>\n",
       "      <td>10</td>\n",
       "      <td>28</td>\n",
       "    </tr>\n",
       "  </tbody>\n",
       "</table>\n",
       "<p>18625 rows × 8 columns</p>\n",
       "</div>"
      ],
      "text/plain": [
       "                                         title  score score_phrase  \\\n",
       "0                               Checkered Flag   10.0  Masterpiece   \n",
       "1                               Chrono Trigger   10.0  Masterpiece   \n",
       "2                           Dragon Warrior III   10.0  Masterpiece   \n",
       "3                          Grand Theft Auto IV   10.0  Masterpiece   \n",
       "4                          Grand Theft Auto IV   10.0  Masterpiece   \n",
       "...                                        ...    ...          ...   \n",
       "18620                 The Crow: City of Angels    1.0   Unbearable   \n",
       "18621                   The Simpsons Wrestling    1.0   Unbearable   \n",
       "18622                      Action Girlz Racing    0.8     Disaster   \n",
       "18623                       Extreme PaintBrawl    0.7     Disaster   \n",
       "18624  Looney Tunes: Back in Action: Zany Race    0.5     Disaster   \n",
       "\n",
       "             platform              genre  release_year  release_month  \\\n",
       "0                Lynx             Racing          1999              7   \n",
       "1                 Wii        Action, RPG          2011              5   \n",
       "2      Game Boy Color                RPG          2001              7   \n",
       "3            Xbox 360  Action, Adventure          2008              4   \n",
       "4       PlayStation 3  Action, Adventure          2008              4   \n",
       "...               ...                ...           ...            ...   \n",
       "18620     PlayStation             Action          1997              3   \n",
       "18621     PlayStation             Action          2001              4   \n",
       "18622             Wii             Racing          2009              2   \n",
       "18623              PC             Action          1998             10   \n",
       "18624        Wireless             Racing          2003             10   \n",
       "\n",
       "       release_day  \n",
       "0                6  \n",
       "1               25  \n",
       "2               20  \n",
       "3               25  \n",
       "4               25  \n",
       "...            ...  \n",
       "18620           11  \n",
       "18621            6  \n",
       "18622           11  \n",
       "18623           29  \n",
       "18624           28  \n",
       "\n",
       "[18625 rows x 8 columns]"
      ]
     },
     "execution_count": 93,
     "metadata": {},
     "output_type": "execute_result"
    }
   ],
   "source": [
    "df_1"
   ]
  },
  {
   "cell_type": "code",
   "execution_count": 94,
   "id": "03e494ad-7de9-4c14-b884-9da83d8a042a",
   "metadata": {},
   "outputs": [],
   "source": [
    "# split the rows with multiple genres into separate rows\n",
    "df_1_split_genre = df_1.assign(genre=df_1['genre'].str.split(', ')).explode('genre')\n",
    "\n",
    "# Then, drop duplicates keeping only the first occurrence, effectively keeping only one genre per row\n",
    "df_unique_genre = df_1_split_genre.drop_duplicates(subset=df_1_split_genre.columns.difference(['genre']), keep='first')"
   ]
  },
  {
   "cell_type": "code",
   "execution_count": 95,
   "id": "ba997f61-6389-4f88-941d-9ae1e017be10",
   "metadata": {},
   "outputs": [],
   "source": [
    "df_1 = df_unique_genre"
   ]
  },
  {
   "cell_type": "code",
   "execution_count": 96,
   "id": "8d2a28f6-e41d-432f-86dc-ad892b4efe81",
   "metadata": {},
   "outputs": [
    {
     "data": {
      "text/html": [
       "<div>\n",
       "<style scoped>\n",
       "    .dataframe tbody tr th:only-of-type {\n",
       "        vertical-align: middle;\n",
       "    }\n",
       "\n",
       "    .dataframe tbody tr th {\n",
       "        vertical-align: top;\n",
       "    }\n",
       "\n",
       "    .dataframe thead th {\n",
       "        text-align: right;\n",
       "    }\n",
       "</style>\n",
       "<table border=\"1\" class=\"dataframe\">\n",
       "  <thead>\n",
       "    <tr style=\"text-align: right;\">\n",
       "      <th></th>\n",
       "      <th>title</th>\n",
       "      <th>score</th>\n",
       "      <th>score_phrase</th>\n",
       "      <th>platform</th>\n",
       "      <th>genre</th>\n",
       "      <th>release_year</th>\n",
       "      <th>release_month</th>\n",
       "      <th>release_day</th>\n",
       "    </tr>\n",
       "  </thead>\n",
       "  <tbody>\n",
       "    <tr>\n",
       "      <th>0</th>\n",
       "      <td>Checkered Flag</td>\n",
       "      <td>10.0</td>\n",
       "      <td>Masterpiece</td>\n",
       "      <td>Lynx</td>\n",
       "      <td>Racing</td>\n",
       "      <td>1999</td>\n",
       "      <td>7</td>\n",
       "      <td>6</td>\n",
       "    </tr>\n",
       "    <tr>\n",
       "      <th>1</th>\n",
       "      <td>Chrono Trigger</td>\n",
       "      <td>10.0</td>\n",
       "      <td>Masterpiece</td>\n",
       "      <td>Wii</td>\n",
       "      <td>Action</td>\n",
       "      <td>2011</td>\n",
       "      <td>5</td>\n",
       "      <td>25</td>\n",
       "    </tr>\n",
       "    <tr>\n",
       "      <th>2</th>\n",
       "      <td>Dragon Warrior III</td>\n",
       "      <td>10.0</td>\n",
       "      <td>Masterpiece</td>\n",
       "      <td>Game Boy Color</td>\n",
       "      <td>RPG</td>\n",
       "      <td>2001</td>\n",
       "      <td>7</td>\n",
       "      <td>20</td>\n",
       "    </tr>\n",
       "    <tr>\n",
       "      <th>3</th>\n",
       "      <td>Grand Theft Auto IV</td>\n",
       "      <td>10.0</td>\n",
       "      <td>Masterpiece</td>\n",
       "      <td>Xbox 360</td>\n",
       "      <td>Action</td>\n",
       "      <td>2008</td>\n",
       "      <td>4</td>\n",
       "      <td>25</td>\n",
       "    </tr>\n",
       "    <tr>\n",
       "      <th>4</th>\n",
       "      <td>Grand Theft Auto IV</td>\n",
       "      <td>10.0</td>\n",
       "      <td>Masterpiece</td>\n",
       "      <td>PlayStation 3</td>\n",
       "      <td>Action</td>\n",
       "      <td>2008</td>\n",
       "      <td>4</td>\n",
       "      <td>25</td>\n",
       "    </tr>\n",
       "    <tr>\n",
       "      <th>...</th>\n",
       "      <td>...</td>\n",
       "      <td>...</td>\n",
       "      <td>...</td>\n",
       "      <td>...</td>\n",
       "      <td>...</td>\n",
       "      <td>...</td>\n",
       "      <td>...</td>\n",
       "      <td>...</td>\n",
       "    </tr>\n",
       "    <tr>\n",
       "      <th>18620</th>\n",
       "      <td>The Crow: City of Angels</td>\n",
       "      <td>1.0</td>\n",
       "      <td>Unbearable</td>\n",
       "      <td>PlayStation</td>\n",
       "      <td>Action</td>\n",
       "      <td>1997</td>\n",
       "      <td>3</td>\n",
       "      <td>11</td>\n",
       "    </tr>\n",
       "    <tr>\n",
       "      <th>18621</th>\n",
       "      <td>The Simpsons Wrestling</td>\n",
       "      <td>1.0</td>\n",
       "      <td>Unbearable</td>\n",
       "      <td>PlayStation</td>\n",
       "      <td>Action</td>\n",
       "      <td>2001</td>\n",
       "      <td>4</td>\n",
       "      <td>6</td>\n",
       "    </tr>\n",
       "    <tr>\n",
       "      <th>18622</th>\n",
       "      <td>Action Girlz Racing</td>\n",
       "      <td>0.8</td>\n",
       "      <td>Disaster</td>\n",
       "      <td>Wii</td>\n",
       "      <td>Racing</td>\n",
       "      <td>2009</td>\n",
       "      <td>2</td>\n",
       "      <td>11</td>\n",
       "    </tr>\n",
       "    <tr>\n",
       "      <th>18623</th>\n",
       "      <td>Extreme PaintBrawl</td>\n",
       "      <td>0.7</td>\n",
       "      <td>Disaster</td>\n",
       "      <td>PC</td>\n",
       "      <td>Action</td>\n",
       "      <td>1998</td>\n",
       "      <td>10</td>\n",
       "      <td>29</td>\n",
       "    </tr>\n",
       "    <tr>\n",
       "      <th>18624</th>\n",
       "      <td>Looney Tunes: Back in Action: Zany Race</td>\n",
       "      <td>0.5</td>\n",
       "      <td>Disaster</td>\n",
       "      <td>Wireless</td>\n",
       "      <td>Racing</td>\n",
       "      <td>2003</td>\n",
       "      <td>10</td>\n",
       "      <td>28</td>\n",
       "    </tr>\n",
       "  </tbody>\n",
       "</table>\n",
       "<p>18577 rows × 8 columns</p>\n",
       "</div>"
      ],
      "text/plain": [
       "                                         title  score score_phrase  \\\n",
       "0                               Checkered Flag   10.0  Masterpiece   \n",
       "1                               Chrono Trigger   10.0  Masterpiece   \n",
       "2                           Dragon Warrior III   10.0  Masterpiece   \n",
       "3                          Grand Theft Auto IV   10.0  Masterpiece   \n",
       "4                          Grand Theft Auto IV   10.0  Masterpiece   \n",
       "...                                        ...    ...          ...   \n",
       "18620                 The Crow: City of Angels    1.0   Unbearable   \n",
       "18621                   The Simpsons Wrestling    1.0   Unbearable   \n",
       "18622                      Action Girlz Racing    0.8     Disaster   \n",
       "18623                       Extreme PaintBrawl    0.7     Disaster   \n",
       "18624  Looney Tunes: Back in Action: Zany Race    0.5     Disaster   \n",
       "\n",
       "             platform   genre  release_year  release_month  release_day  \n",
       "0                Lynx  Racing          1999              7            6  \n",
       "1                 Wii  Action          2011              5           25  \n",
       "2      Game Boy Color     RPG          2001              7           20  \n",
       "3            Xbox 360  Action          2008              4           25  \n",
       "4       PlayStation 3  Action          2008              4           25  \n",
       "...               ...     ...           ...            ...          ...  \n",
       "18620     PlayStation  Action          1997              3           11  \n",
       "18621     PlayStation  Action          2001              4            6  \n",
       "18622             Wii  Racing          2009              2           11  \n",
       "18623              PC  Action          1998             10           29  \n",
       "18624        Wireless  Racing          2003             10           28  \n",
       "\n",
       "[18577 rows x 8 columns]"
      ]
     },
     "execution_count": 96,
     "metadata": {},
     "output_type": "execute_result"
    }
   ],
   "source": [
    "df_1"
   ]
  },
  {
   "cell_type": "markdown",
   "id": "e3802030-bd4c-444a-8ba5-edf8a1bbf99a",
   "metadata": {},
   "source": [
    "## Duplicates"
   ]
  },
  {
   "cell_type": "code",
   "execution_count": 97,
   "id": "7515b240-dae9-40a7-9b7e-1ee67da9e1d7",
   "metadata": {},
   "outputs": [
    {
     "data": {
      "text/plain": [
       "0"
      ]
     },
     "execution_count": 97,
     "metadata": {},
     "output_type": "execute_result"
    }
   ],
   "source": [
    "# Count duplicate rows\n",
    "num_duplicates = df_1.duplicated().sum()\n",
    "\n",
    "num_duplicates"
   ]
  },
  {
   "cell_type": "code",
   "execution_count": 98,
   "id": "756c7a44-e01e-4ff1-ba42-ec3a63910fcf",
   "metadata": {},
   "outputs": [
    {
     "data": {
      "text/html": [
       "<div>\n",
       "<style scoped>\n",
       "    .dataframe tbody tr th:only-of-type {\n",
       "        vertical-align: middle;\n",
       "    }\n",
       "\n",
       "    .dataframe tbody tr th {\n",
       "        vertical-align: top;\n",
       "    }\n",
       "\n",
       "    .dataframe thead th {\n",
       "        text-align: right;\n",
       "    }\n",
       "</style>\n",
       "<table border=\"1\" class=\"dataframe\">\n",
       "  <thead>\n",
       "    <tr style=\"text-align: right;\">\n",
       "      <th></th>\n",
       "      <th>title</th>\n",
       "      <th>score</th>\n",
       "      <th>score_phrase</th>\n",
       "      <th>platform</th>\n",
       "      <th>genre</th>\n",
       "      <th>release_year</th>\n",
       "      <th>release_month</th>\n",
       "      <th>release_day</th>\n",
       "    </tr>\n",
       "  </thead>\n",
       "  <tbody>\n",
       "  </tbody>\n",
       "</table>\n",
       "</div>"
      ],
      "text/plain": [
       "Empty DataFrame\n",
       "Columns: [title, score, score_phrase, platform, genre, release_year, release_month, release_day]\n",
       "Index: []"
      ]
     },
     "execution_count": 98,
     "metadata": {},
     "output_type": "execute_result"
    }
   ],
   "source": [
    "# Find duplicate rows\n",
    "duplicate_rows = df_1[df_1.duplicated(keep=False)]\n",
    "duplicate_rows"
   ]
  },
  {
   "cell_type": "code",
   "execution_count": 99,
   "id": "960f123e-7504-4ee3-a5ea-ef5da09f8828",
   "metadata": {},
   "outputs": [
    {
     "data": {
      "text/html": [
       "<div>\n",
       "<style scoped>\n",
       "    .dataframe tbody tr th:only-of-type {\n",
       "        vertical-align: middle;\n",
       "    }\n",
       "\n",
       "    .dataframe tbody tr th {\n",
       "        vertical-align: top;\n",
       "    }\n",
       "\n",
       "    .dataframe thead th {\n",
       "        text-align: right;\n",
       "    }\n",
       "</style>\n",
       "<table border=\"1\" class=\"dataframe\">\n",
       "  <thead>\n",
       "    <tr style=\"text-align: right;\">\n",
       "      <th></th>\n",
       "      <th>title</th>\n",
       "      <th>score</th>\n",
       "      <th>score_phrase</th>\n",
       "      <th>platform</th>\n",
       "      <th>genre</th>\n",
       "      <th>release_year</th>\n",
       "      <th>release_month</th>\n",
       "      <th>release_day</th>\n",
       "    </tr>\n",
       "  </thead>\n",
       "  <tbody>\n",
       "  </tbody>\n",
       "</table>\n",
       "</div>"
      ],
      "text/plain": [
       "Empty DataFrame\n",
       "Columns: [title, score, score_phrase, platform, genre, release_year, release_month, release_day]\n",
       "Index: []"
      ]
     },
     "execution_count": 99,
     "metadata": {},
     "output_type": "execute_result"
    }
   ],
   "source": [
    "# Drop duplicate rows within the duplicate_rows DataFrame\n",
    "unique_within_duplicates = duplicate_rows.drop_duplicates()\n",
    "\n",
    "# Find rows that are unique within the duplicate_rows DataFrame\n",
    "# These are the rows that appear only once after dropping duplicates\n",
    "unique_rows_from_duplicates = unique_within_duplicates[\n",
    "    ~unique_within_duplicates.duplicated(keep=False)\n",
    "]\n",
    "\n",
    "# Display the result\n",
    "unique_rows_from_duplicates"
   ]
  },
  {
   "cell_type": "code",
   "execution_count": 100,
   "id": "3241753b-6321-477b-b021-19b53f8bdbc6",
   "metadata": {},
   "outputs": [
    {
     "data": {
      "text/plain": [
       "(0, 8)"
      ]
     },
     "execution_count": 100,
     "metadata": {},
     "output_type": "execute_result"
    }
   ],
   "source": [
    "unique_rows_from_duplicates.shape"
   ]
  },
  {
   "cell_type": "code",
   "execution_count": 101,
   "id": "50d89039-fa4a-425e-884f-70c2b6166008",
   "metadata": {},
   "outputs": [
    {
     "data": {
      "text/plain": [
       "title             object\n",
       "score            float64\n",
       "score_phrase      object\n",
       "platform          object\n",
       "genre             object\n",
       "release_year       int64\n",
       "release_month      int64\n",
       "release_day        int64\n",
       "dtype: object"
      ]
     },
     "execution_count": 101,
     "metadata": {},
     "output_type": "execute_result"
    }
   ],
   "source": [
    "df_1.dtypes"
   ]
  },
  {
   "cell_type": "code",
   "execution_count": 102,
   "id": "a8916b3a-3e16-4aeb-a9e6-e99f32b9af17",
   "metadata": {},
   "outputs": [
    {
     "data": {
      "text/html": [
       "<div>\n",
       "<style scoped>\n",
       "    .dataframe tbody tr th:only-of-type {\n",
       "        vertical-align: middle;\n",
       "    }\n",
       "\n",
       "    .dataframe tbody tr th {\n",
       "        vertical-align: top;\n",
       "    }\n",
       "\n",
       "    .dataframe thead th {\n",
       "        text-align: right;\n",
       "    }\n",
       "</style>\n",
       "<table border=\"1\" class=\"dataframe\">\n",
       "  <thead>\n",
       "    <tr style=\"text-align: right;\">\n",
       "      <th></th>\n",
       "      <th>title</th>\n",
       "      <th>score</th>\n",
       "      <th>score_phrase</th>\n",
       "      <th>platform</th>\n",
       "      <th>genre</th>\n",
       "      <th>release_year</th>\n",
       "      <th>release_month</th>\n",
       "      <th>release_day</th>\n",
       "    </tr>\n",
       "  </thead>\n",
       "  <tbody>\n",
       "    <tr>\n",
       "      <th>0</th>\n",
       "      <td>Checkered Flag</td>\n",
       "      <td>10.0</td>\n",
       "      <td>Masterpiece</td>\n",
       "      <td>Lynx</td>\n",
       "      <td>Racing</td>\n",
       "      <td>1999</td>\n",
       "      <td>7</td>\n",
       "      <td>6</td>\n",
       "    </tr>\n",
       "    <tr>\n",
       "      <th>1</th>\n",
       "      <td>Chrono Trigger</td>\n",
       "      <td>10.0</td>\n",
       "      <td>Masterpiece</td>\n",
       "      <td>Wii</td>\n",
       "      <td>Action</td>\n",
       "      <td>2011</td>\n",
       "      <td>5</td>\n",
       "      <td>25</td>\n",
       "    </tr>\n",
       "    <tr>\n",
       "      <th>2</th>\n",
       "      <td>Dragon Warrior III</td>\n",
       "      <td>10.0</td>\n",
       "      <td>Masterpiece</td>\n",
       "      <td>Game Boy Color</td>\n",
       "      <td>RPG</td>\n",
       "      <td>2001</td>\n",
       "      <td>7</td>\n",
       "      <td>20</td>\n",
       "    </tr>\n",
       "    <tr>\n",
       "      <th>3</th>\n",
       "      <td>Grand Theft Auto IV</td>\n",
       "      <td>10.0</td>\n",
       "      <td>Masterpiece</td>\n",
       "      <td>Xbox 360</td>\n",
       "      <td>Action</td>\n",
       "      <td>2008</td>\n",
       "      <td>4</td>\n",
       "      <td>25</td>\n",
       "    </tr>\n",
       "    <tr>\n",
       "      <th>4</th>\n",
       "      <td>Grand Theft Auto IV</td>\n",
       "      <td>10.0</td>\n",
       "      <td>Masterpiece</td>\n",
       "      <td>PlayStation 3</td>\n",
       "      <td>Action</td>\n",
       "      <td>2008</td>\n",
       "      <td>4</td>\n",
       "      <td>25</td>\n",
       "    </tr>\n",
       "    <tr>\n",
       "      <th>...</th>\n",
       "      <td>...</td>\n",
       "      <td>...</td>\n",
       "      <td>...</td>\n",
       "      <td>...</td>\n",
       "      <td>...</td>\n",
       "      <td>...</td>\n",
       "      <td>...</td>\n",
       "      <td>...</td>\n",
       "    </tr>\n",
       "    <tr>\n",
       "      <th>18620</th>\n",
       "      <td>The Crow: City of Angels</td>\n",
       "      <td>1.0</td>\n",
       "      <td>Unbearable</td>\n",
       "      <td>PlayStation</td>\n",
       "      <td>Action</td>\n",
       "      <td>1997</td>\n",
       "      <td>3</td>\n",
       "      <td>11</td>\n",
       "    </tr>\n",
       "    <tr>\n",
       "      <th>18621</th>\n",
       "      <td>The Simpsons Wrestling</td>\n",
       "      <td>1.0</td>\n",
       "      <td>Unbearable</td>\n",
       "      <td>PlayStation</td>\n",
       "      <td>Action</td>\n",
       "      <td>2001</td>\n",
       "      <td>4</td>\n",
       "      <td>6</td>\n",
       "    </tr>\n",
       "    <tr>\n",
       "      <th>18622</th>\n",
       "      <td>Action Girlz Racing</td>\n",
       "      <td>0.8</td>\n",
       "      <td>Disaster</td>\n",
       "      <td>Wii</td>\n",
       "      <td>Racing</td>\n",
       "      <td>2009</td>\n",
       "      <td>2</td>\n",
       "      <td>11</td>\n",
       "    </tr>\n",
       "    <tr>\n",
       "      <th>18623</th>\n",
       "      <td>Extreme PaintBrawl</td>\n",
       "      <td>0.7</td>\n",
       "      <td>Disaster</td>\n",
       "      <td>PC</td>\n",
       "      <td>Action</td>\n",
       "      <td>1998</td>\n",
       "      <td>10</td>\n",
       "      <td>29</td>\n",
       "    </tr>\n",
       "    <tr>\n",
       "      <th>18624</th>\n",
       "      <td>Looney Tunes: Back in Action: Zany Race</td>\n",
       "      <td>0.5</td>\n",
       "      <td>Disaster</td>\n",
       "      <td>Wireless</td>\n",
       "      <td>Racing</td>\n",
       "      <td>2003</td>\n",
       "      <td>10</td>\n",
       "      <td>28</td>\n",
       "    </tr>\n",
       "  </tbody>\n",
       "</table>\n",
       "<p>18541 rows × 8 columns</p>\n",
       "</div>"
      ],
      "text/plain": [
       "                                         title  score score_phrase  \\\n",
       "0                               Checkered Flag   10.0  Masterpiece   \n",
       "1                               Chrono Trigger   10.0  Masterpiece   \n",
       "2                           Dragon Warrior III   10.0  Masterpiece   \n",
       "3                          Grand Theft Auto IV   10.0  Masterpiece   \n",
       "4                          Grand Theft Auto IV   10.0  Masterpiece   \n",
       "...                                        ...    ...          ...   \n",
       "18620                 The Crow: City of Angels    1.0   Unbearable   \n",
       "18621                   The Simpsons Wrestling    1.0   Unbearable   \n",
       "18622                      Action Girlz Racing    0.8     Disaster   \n",
       "18623                       Extreme PaintBrawl    0.7     Disaster   \n",
       "18624  Looney Tunes: Back in Action: Zany Race    0.5     Disaster   \n",
       "\n",
       "             platform   genre  release_year  release_month  release_day  \n",
       "0                Lynx  Racing          1999              7            6  \n",
       "1                 Wii  Action          2011              5           25  \n",
       "2      Game Boy Color     RPG          2001              7           20  \n",
       "3            Xbox 360  Action          2008              4           25  \n",
       "4       PlayStation 3  Action          2008              4           25  \n",
       "...               ...     ...           ...            ...          ...  \n",
       "18620     PlayStation  Action          1997              3           11  \n",
       "18621     PlayStation  Action          2001              4            6  \n",
       "18622             Wii  Racing          2009              2           11  \n",
       "18623              PC  Action          1998             10           29  \n",
       "18624        Wireless  Racing          2003             10           28  \n",
       "\n",
       "[18541 rows x 8 columns]"
      ]
     },
     "execution_count": 102,
     "metadata": {},
     "output_type": "execute_result"
    }
   ],
   "source": [
    "# Step 1: Find duplicate rows\n",
    "duplicate_rows = df_1[df_1.duplicated(keep=False)]\n",
    "\n",
    "# Step 2: Find unique rows within the duplicate rows\n",
    "unique_within_duplicates = duplicate_rows.drop_duplicates()\n",
    "\n",
    "# Step 3: Remove unique rows within the duplicate rows from the original DataFrame\n",
    "df_2 = df_1[~df_1.isin(unique_within_duplicates)].dropna()\n",
    "\n",
    "# Display the result\n",
    "df_2"
   ]
  },
  {
   "cell_type": "code",
   "execution_count": 103,
   "id": "66dcb535-d2ab-4246-9db5-a7f0aca12d16",
   "metadata": {},
   "outputs": [
    {
     "data": {
      "text/plain": [
       "title             object\n",
       "score            float64\n",
       "score_phrase      object\n",
       "platform          object\n",
       "genre             object\n",
       "release_year       int64\n",
       "release_month      int64\n",
       "release_day        int64\n",
       "dtype: object"
      ]
     },
     "execution_count": 103,
     "metadata": {},
     "output_type": "execute_result"
    }
   ],
   "source": [
    "df_2.dtypes"
   ]
  },
  {
   "cell_type": "code",
   "execution_count": 104,
   "id": "c9b164b6-f2fd-43c9-9ea1-5e57e6f7b3e6",
   "metadata": {},
   "outputs": [
    {
     "data": {
      "text/plain": [
       "(18541, 8)"
      ]
     },
     "execution_count": 104,
     "metadata": {},
     "output_type": "execute_result"
    }
   ],
   "source": [
    "df_2.shape"
   ]
  },
  {
   "cell_type": "code",
   "execution_count": 105,
   "id": "cc7bb62d-51a3-43a3-af5a-b6ba4b724849",
   "metadata": {},
   "outputs": [
    {
     "data": {
      "text/plain": [
       "0"
      ]
     },
     "execution_count": 105,
     "metadata": {},
     "output_type": "execute_result"
    }
   ],
   "source": [
    "df_2.duplicated().sum()"
   ]
  },
  {
   "cell_type": "markdown",
   "id": "3252b0c7-2070-497a-9a6f-9baf1ab3d4ba",
   "metadata": {},
   "source": [
    "## Data Integrity"
   ]
  },
  {
   "cell_type": "code",
   "execution_count": 106,
   "id": "24982e45-9478-418a-af5a-56347c2e74c1",
   "metadata": {},
   "outputs": [
    {
     "data": {
      "text/plain": [
       "Index(['title', 'score', 'score_phrase', 'platform', 'genre', 'release_year',\n",
       "       'release_month', 'release_day'],\n",
       "      dtype='object')"
      ]
     },
     "execution_count": 106,
     "metadata": {},
     "output_type": "execute_result"
    }
   ],
   "source": [
    "df_2.columns"
   ]
  },
  {
   "cell_type": "code",
   "execution_count": 107,
   "id": "d732c505-13b9-40f0-8e47-6774843040ed",
   "metadata": {},
   "outputs": [
    {
     "data": {
      "text/html": [
       "<div>\n",
       "<style scoped>\n",
       "    .dataframe tbody tr th:only-of-type {\n",
       "        vertical-align: middle;\n",
       "    }\n",
       "\n",
       "    .dataframe tbody tr th {\n",
       "        vertical-align: top;\n",
       "    }\n",
       "\n",
       "    .dataframe thead th {\n",
       "        text-align: right;\n",
       "    }\n",
       "</style>\n",
       "<table border=\"1\" class=\"dataframe\">\n",
       "  <thead>\n",
       "    <tr style=\"text-align: right;\">\n",
       "      <th></th>\n",
       "      <th>title</th>\n",
       "      <th>score</th>\n",
       "      <th>score_phrase</th>\n",
       "      <th>platform</th>\n",
       "      <th>genre</th>\n",
       "      <th>release_year</th>\n",
       "      <th>release_month</th>\n",
       "      <th>release_day</th>\n",
       "    </tr>\n",
       "  </thead>\n",
       "  <tbody>\n",
       "  </tbody>\n",
       "</table>\n",
       "</div>"
      ],
      "text/plain": [
       "Empty DataFrame\n",
       "Columns: [title, score, score_phrase, platform, genre, release_year, release_month, release_day]\n",
       "Index: []"
      ]
     },
     "execution_count": 107,
     "metadata": {},
     "output_type": "execute_result"
    }
   ],
   "source": [
    "# Display values not containing following characters\n",
    "df_2[~df_2['title'].str.contains(r'[a-zA-Z0-9,.()\\s]')]"
   ]
  },
  {
   "cell_type": "code",
   "execution_count": 108,
   "id": "c54b4cad-b443-40af-ad29-0a305ba60ec2",
   "metadata": {},
   "outputs": [
    {
     "data": {
      "text/html": [
       "<div>\n",
       "<style scoped>\n",
       "    .dataframe tbody tr th:only-of-type {\n",
       "        vertical-align: middle;\n",
       "    }\n",
       "\n",
       "    .dataframe tbody tr th {\n",
       "        vertical-align: top;\n",
       "    }\n",
       "\n",
       "    .dataframe thead th {\n",
       "        text-align: right;\n",
       "    }\n",
       "</style>\n",
       "<table border=\"1\" class=\"dataframe\">\n",
       "  <thead>\n",
       "    <tr style=\"text-align: right;\">\n",
       "      <th></th>\n",
       "      <th>title</th>\n",
       "      <th>score</th>\n",
       "      <th>score_phrase</th>\n",
       "      <th>platform</th>\n",
       "      <th>genre</th>\n",
       "      <th>release_year</th>\n",
       "      <th>release_month</th>\n",
       "      <th>release_day</th>\n",
       "    </tr>\n",
       "  </thead>\n",
       "  <tbody>\n",
       "  </tbody>\n",
       "</table>\n",
       "</div>"
      ],
      "text/plain": [
       "Empty DataFrame\n",
       "Columns: [title, score, score_phrase, platform, genre, release_year, release_month, release_day]\n",
       "Index: []"
      ]
     },
     "execution_count": 108,
     "metadata": {},
     "output_type": "execute_result"
    }
   ],
   "source": [
    "df_2[~df_2['score_phrase'].str.contains(r'[a-zA-Z0-9,.()\\s]')]"
   ]
  },
  {
   "cell_type": "code",
   "execution_count": 109,
   "id": "28a97c81-60e8-4bb1-9d51-faf73ea74214",
   "metadata": {},
   "outputs": [
    {
     "data": {
      "text/html": [
       "<div>\n",
       "<style scoped>\n",
       "    .dataframe tbody tr th:only-of-type {\n",
       "        vertical-align: middle;\n",
       "    }\n",
       "\n",
       "    .dataframe tbody tr th {\n",
       "        vertical-align: top;\n",
       "    }\n",
       "\n",
       "    .dataframe thead th {\n",
       "        text-align: right;\n",
       "    }\n",
       "</style>\n",
       "<table border=\"1\" class=\"dataframe\">\n",
       "  <thead>\n",
       "    <tr style=\"text-align: right;\">\n",
       "      <th></th>\n",
       "      <th>title</th>\n",
       "      <th>score</th>\n",
       "      <th>score_phrase</th>\n",
       "      <th>platform</th>\n",
       "      <th>genre</th>\n",
       "      <th>release_year</th>\n",
       "      <th>release_month</th>\n",
       "      <th>release_day</th>\n",
       "    </tr>\n",
       "  </thead>\n",
       "  <tbody>\n",
       "  </tbody>\n",
       "</table>\n",
       "</div>"
      ],
      "text/plain": [
       "Empty DataFrame\n",
       "Columns: [title, score, score_phrase, platform, genre, release_year, release_month, release_day]\n",
       "Index: []"
      ]
     },
     "execution_count": 109,
     "metadata": {},
     "output_type": "execute_result"
    }
   ],
   "source": [
    "df_2[~df_2['platform'].str.contains(r'[a-zA-Z0-9,.()\\s]')]"
   ]
  },
  {
   "cell_type": "code",
   "execution_count": 110,
   "id": "c362e6df-bbbe-41e2-bd00-8e78e2b3a793",
   "metadata": {},
   "outputs": [
    {
     "data": {
      "text/html": [
       "<div>\n",
       "<style scoped>\n",
       "    .dataframe tbody tr th:only-of-type {\n",
       "        vertical-align: middle;\n",
       "    }\n",
       "\n",
       "    .dataframe tbody tr th {\n",
       "        vertical-align: top;\n",
       "    }\n",
       "\n",
       "    .dataframe thead th {\n",
       "        text-align: right;\n",
       "    }\n",
       "</style>\n",
       "<table border=\"1\" class=\"dataframe\">\n",
       "  <thead>\n",
       "    <tr style=\"text-align: right;\">\n",
       "      <th></th>\n",
       "      <th>title</th>\n",
       "      <th>score</th>\n",
       "      <th>score_phrase</th>\n",
       "      <th>platform</th>\n",
       "      <th>genre</th>\n",
       "      <th>release_year</th>\n",
       "      <th>release_month</th>\n",
       "      <th>release_day</th>\n",
       "    </tr>\n",
       "  </thead>\n",
       "  <tbody>\n",
       "  </tbody>\n",
       "</table>\n",
       "</div>"
      ],
      "text/plain": [
       "Empty DataFrame\n",
       "Columns: [title, score, score_phrase, platform, genre, release_year, release_month, release_day]\n",
       "Index: []"
      ]
     },
     "execution_count": 110,
     "metadata": {},
     "output_type": "execute_result"
    }
   ],
   "source": [
    "df_2[~df_2['genre'].str.contains(r'[a-zA-Z0-9,.()\\s]')]"
   ]
  },
  {
   "cell_type": "code",
   "execution_count": 111,
   "id": "108049de-9091-4ba7-b948-52c7b3480411",
   "metadata": {},
   "outputs": [
    {
     "data": {
      "text/plain": [
       "title             object\n",
       "score            float64\n",
       "score_phrase      object\n",
       "platform          object\n",
       "genre             object\n",
       "release_year       int64\n",
       "release_month      int64\n",
       "release_day        int64\n",
       "dtype: object"
      ]
     },
     "execution_count": 111,
     "metadata": {},
     "output_type": "execute_result"
    }
   ],
   "source": [
    "df_2.dtypes"
   ]
  },
  {
   "cell_type": "code",
   "execution_count": 112,
   "id": "3cbcf14d-6434-41ff-bf0f-4565c5379e2e",
   "metadata": {},
   "outputs": [
    {
     "data": {
      "text/plain": [
       "Index(['title', 'score', 'score_phrase', 'platform', 'genre', 'release_year',\n",
       "       'release_month', 'release_day'],\n",
       "      dtype='object')"
      ]
     },
     "execution_count": 112,
     "metadata": {},
     "output_type": "execute_result"
    }
   ],
   "source": [
    "df_2.columns"
   ]
  },
  {
   "cell_type": "code",
   "execution_count": 113,
   "id": "254d72b0-226d-43cf-a0e9-b37c3d0972dd",
   "metadata": {},
   "outputs": [],
   "source": [
    "# Convert release_year, release_month, and release_day columns to integers\n",
    "df_2['release_year'] = df_2['release_year'].astype(int)\n",
    "df_2['release_month'] = df_2['release_month'].astype(int)\n",
    "df_2['release_day'] = df_2['release_day'].astype(int)"
   ]
  },
  {
   "cell_type": "code",
   "execution_count": 114,
   "id": "f743478a-dac6-4aad-8446-ed3a659f5405",
   "metadata": {},
   "outputs": [
    {
     "data": {
      "text/plain": [
       "title             object\n",
       "score            float64\n",
       "score_phrase      object\n",
       "platform          object\n",
       "genre             object\n",
       "release_year       int32\n",
       "release_month      int32\n",
       "release_day        int32\n",
       "dtype: object"
      ]
     },
     "execution_count": 114,
     "metadata": {},
     "output_type": "execute_result"
    }
   ],
   "source": [
    "df_2.dtypes"
   ]
  },
  {
   "cell_type": "code",
   "execution_count": 115,
   "id": "34faefdb-bc4f-4525-97cc-ead0f228d804",
   "metadata": {},
   "outputs": [
    {
     "data": {
      "text/html": [
       "<div>\n",
       "<style scoped>\n",
       "    .dataframe tbody tr th:only-of-type {\n",
       "        vertical-align: middle;\n",
       "    }\n",
       "\n",
       "    .dataframe tbody tr th {\n",
       "        vertical-align: top;\n",
       "    }\n",
       "\n",
       "    .dataframe thead th {\n",
       "        text-align: right;\n",
       "    }\n",
       "</style>\n",
       "<table border=\"1\" class=\"dataframe\">\n",
       "  <thead>\n",
       "    <tr style=\"text-align: right;\">\n",
       "      <th></th>\n",
       "      <th>title</th>\n",
       "      <th>score</th>\n",
       "      <th>score_phrase</th>\n",
       "      <th>platform</th>\n",
       "      <th>genre</th>\n",
       "      <th>release_year</th>\n",
       "      <th>release_month</th>\n",
       "      <th>release_day</th>\n",
       "    </tr>\n",
       "  </thead>\n",
       "  <tbody>\n",
       "    <tr>\n",
       "      <th>0</th>\n",
       "      <td>Checkered Flag</td>\n",
       "      <td>10.0</td>\n",
       "      <td>Masterpiece</td>\n",
       "      <td>Lynx</td>\n",
       "      <td>Racing</td>\n",
       "      <td>1999</td>\n",
       "      <td>7</td>\n",
       "      <td>6</td>\n",
       "    </tr>\n",
       "  </tbody>\n",
       "</table>\n",
       "</div>"
      ],
      "text/plain": [
       "            title  score score_phrase platform   genre  release_year  \\\n",
       "0  Checkered Flag   10.0  Masterpiece     Lynx  Racing          1999   \n",
       "\n",
       "   release_month  release_day  \n",
       "0              7            6  "
      ]
     },
     "execution_count": 115,
     "metadata": {},
     "output_type": "execute_result"
    }
   ],
   "source": [
    "df_2.head(1)"
   ]
  },
  {
   "cell_type": "code",
   "execution_count": 116,
   "id": "6e44c3ac-deed-4539-80a4-bddfb99949b9",
   "metadata": {},
   "outputs": [
    {
     "data": {
      "text/html": [
       "<div>\n",
       "<style scoped>\n",
       "    .dataframe tbody tr th:only-of-type {\n",
       "        vertical-align: middle;\n",
       "    }\n",
       "\n",
       "    .dataframe tbody tr th {\n",
       "        vertical-align: top;\n",
       "    }\n",
       "\n",
       "    .dataframe thead th {\n",
       "        text-align: right;\n",
       "    }\n",
       "</style>\n",
       "<table border=\"1\" class=\"dataframe\">\n",
       "  <thead>\n",
       "    <tr style=\"text-align: right;\">\n",
       "      <th></th>\n",
       "      <th>title</th>\n",
       "      <th>score</th>\n",
       "      <th>score_phrase</th>\n",
       "      <th>platform</th>\n",
       "      <th>genre</th>\n",
       "      <th>release_year</th>\n",
       "      <th>release_month</th>\n",
       "      <th>release_day</th>\n",
       "    </tr>\n",
       "  </thead>\n",
       "  <tbody>\n",
       "  </tbody>\n",
       "</table>\n",
       "</div>"
      ],
      "text/plain": [
       "Empty DataFrame\n",
       "Columns: [title, score, score_phrase, platform, genre, release_year, release_month, release_day]\n",
       "Index: []"
      ]
     },
     "execution_count": 116,
     "metadata": {},
     "output_type": "execute_result"
    }
   ],
   "source": [
    "# Display non-integer numbers\n",
    "df_2[~(df_2['release_year'].astype(int) == df_2['release_year'])]"
   ]
  },
  {
   "cell_type": "code",
   "execution_count": 117,
   "id": "623ed525-c612-436c-9c51-dcb7040c9155",
   "metadata": {},
   "outputs": [
    {
     "data": {
      "text/html": [
       "<div>\n",
       "<style scoped>\n",
       "    .dataframe tbody tr th:only-of-type {\n",
       "        vertical-align: middle;\n",
       "    }\n",
       "\n",
       "    .dataframe tbody tr th {\n",
       "        vertical-align: top;\n",
       "    }\n",
       "\n",
       "    .dataframe thead th {\n",
       "        text-align: right;\n",
       "    }\n",
       "</style>\n",
       "<table border=\"1\" class=\"dataframe\">\n",
       "  <thead>\n",
       "    <tr style=\"text-align: right;\">\n",
       "      <th></th>\n",
       "      <th>title</th>\n",
       "      <th>score</th>\n",
       "      <th>score_phrase</th>\n",
       "      <th>platform</th>\n",
       "      <th>genre</th>\n",
       "      <th>release_year</th>\n",
       "      <th>release_month</th>\n",
       "      <th>release_day</th>\n",
       "    </tr>\n",
       "  </thead>\n",
       "  <tbody>\n",
       "  </tbody>\n",
       "</table>\n",
       "</div>"
      ],
      "text/plain": [
       "Empty DataFrame\n",
       "Columns: [title, score, score_phrase, platform, genre, release_year, release_month, release_day]\n",
       "Index: []"
      ]
     },
     "execution_count": 117,
     "metadata": {},
     "output_type": "execute_result"
    }
   ],
   "source": [
    "df_2[~(df_2['release_month'].astype(int) == df_2['release_month'])]"
   ]
  },
  {
   "cell_type": "code",
   "execution_count": 118,
   "id": "0316f3f5-8671-486c-bb55-587bdd888597",
   "metadata": {},
   "outputs": [
    {
     "data": {
      "text/html": [
       "<div>\n",
       "<style scoped>\n",
       "    .dataframe tbody tr th:only-of-type {\n",
       "        vertical-align: middle;\n",
       "    }\n",
       "\n",
       "    .dataframe tbody tr th {\n",
       "        vertical-align: top;\n",
       "    }\n",
       "\n",
       "    .dataframe thead th {\n",
       "        text-align: right;\n",
       "    }\n",
       "</style>\n",
       "<table border=\"1\" class=\"dataframe\">\n",
       "  <thead>\n",
       "    <tr style=\"text-align: right;\">\n",
       "      <th></th>\n",
       "      <th>title</th>\n",
       "      <th>score</th>\n",
       "      <th>score_phrase</th>\n",
       "      <th>platform</th>\n",
       "      <th>genre</th>\n",
       "      <th>release_year</th>\n",
       "      <th>release_month</th>\n",
       "      <th>release_day</th>\n",
       "    </tr>\n",
       "  </thead>\n",
       "  <tbody>\n",
       "  </tbody>\n",
       "</table>\n",
       "</div>"
      ],
      "text/plain": [
       "Empty DataFrame\n",
       "Columns: [title, score, score_phrase, platform, genre, release_year, release_month, release_day]\n",
       "Index: []"
      ]
     },
     "execution_count": 118,
     "metadata": {},
     "output_type": "execute_result"
    }
   ],
   "source": [
    "df_2[~(df_2['release_day'].astype(int) == df_2['release_day'])]"
   ]
  },
  {
   "cell_type": "markdown",
   "id": "fa6c9b2e-8de6-41fd-8030-0131dae9c306",
   "metadata": {},
   "source": [
    "## Outliers"
   ]
  },
  {
   "cell_type": "code",
   "execution_count": 119,
   "id": "7f7c765a-d0cd-44a4-9385-cb4527b0c0a3",
   "metadata": {},
   "outputs": [
    {
     "data": {
      "text/html": [
       "<div>\n",
       "<style scoped>\n",
       "    .dataframe tbody tr th:only-of-type {\n",
       "        vertical-align: middle;\n",
       "    }\n",
       "\n",
       "    .dataframe tbody tr th {\n",
       "        vertical-align: top;\n",
       "    }\n",
       "\n",
       "    .dataframe thead th {\n",
       "        text-align: right;\n",
       "    }\n",
       "</style>\n",
       "<table border=\"1\" class=\"dataframe\">\n",
       "  <thead>\n",
       "    <tr style=\"text-align: right;\">\n",
       "      <th></th>\n",
       "      <th>score</th>\n",
       "      <th>release_year</th>\n",
       "      <th>release_month</th>\n",
       "      <th>release_day</th>\n",
       "    </tr>\n",
       "  </thead>\n",
       "  <tbody>\n",
       "    <tr>\n",
       "      <th>0</th>\n",
       "      <td>1.780872</td>\n",
       "      <td>1.640707</td>\n",
       "      <td>0.039794</td>\n",
       "      <td>1.103708</td>\n",
       "    </tr>\n",
       "    <tr>\n",
       "      <th>1</th>\n",
       "      <td>1.780872</td>\n",
       "      <td>0.978162</td>\n",
       "      <td>0.615098</td>\n",
       "      <td>1.082257</td>\n",
       "    </tr>\n",
       "    <tr>\n",
       "      <th>2</th>\n",
       "      <td>1.780872</td>\n",
       "      <td>1.204229</td>\n",
       "      <td>0.039794</td>\n",
       "      <td>0.507003</td>\n",
       "    </tr>\n",
       "    <tr>\n",
       "      <th>3</th>\n",
       "      <td>1.780872</td>\n",
       "      <td>0.323445</td>\n",
       "      <td>0.902749</td>\n",
       "      <td>1.082257</td>\n",
       "    </tr>\n",
       "    <tr>\n",
       "      <th>4</th>\n",
       "      <td>1.780872</td>\n",
       "      <td>0.323445</td>\n",
       "      <td>0.902749</td>\n",
       "      <td>1.082257</td>\n",
       "    </tr>\n",
       "    <tr>\n",
       "      <th>...</th>\n",
       "      <td>...</td>\n",
       "      <td>...</td>\n",
       "      <td>...</td>\n",
       "      <td>...</td>\n",
       "    </tr>\n",
       "    <tr>\n",
       "      <th>18620</th>\n",
       "      <td>3.476219</td>\n",
       "      <td>2.077185</td>\n",
       "      <td>1.190401</td>\n",
       "      <td>0.528454</td>\n",
       "    </tr>\n",
       "    <tr>\n",
       "      <th>18621</th>\n",
       "      <td>3.476219</td>\n",
       "      <td>1.204229</td>\n",
       "      <td>0.902749</td>\n",
       "      <td>1.103708</td>\n",
       "    </tr>\n",
       "    <tr>\n",
       "      <th>18622</th>\n",
       "      <td>3.593043</td>\n",
       "      <td>0.541684</td>\n",
       "      <td>1.478052</td>\n",
       "      <td>0.528454</td>\n",
       "    </tr>\n",
       "    <tr>\n",
       "      <th>18623</th>\n",
       "      <td>3.651455</td>\n",
       "      <td>1.858946</td>\n",
       "      <td>0.823161</td>\n",
       "      <td>1.542460</td>\n",
       "    </tr>\n",
       "    <tr>\n",
       "      <th>18624</th>\n",
       "      <td>3.768280</td>\n",
       "      <td>0.767751</td>\n",
       "      <td>0.823161</td>\n",
       "      <td>1.427409</td>\n",
       "    </tr>\n",
       "  </tbody>\n",
       "</table>\n",
       "<p>18541 rows × 4 columns</p>\n",
       "</div>"
      ],
      "text/plain": [
       "          score  release_year  release_month  release_day\n",
       "0      1.780872      1.640707       0.039794     1.103708\n",
       "1      1.780872      0.978162       0.615098     1.082257\n",
       "2      1.780872      1.204229       0.039794     0.507003\n",
       "3      1.780872      0.323445       0.902749     1.082257\n",
       "4      1.780872      0.323445       0.902749     1.082257\n",
       "...         ...           ...            ...          ...\n",
       "18620  3.476219      2.077185       1.190401     0.528454\n",
       "18621  3.476219      1.204229       0.902749     1.103708\n",
       "18622  3.593043      0.541684       1.478052     0.528454\n",
       "18623  3.651455      1.858946       0.823161     1.542460\n",
       "18624  3.768280      0.767751       0.823161     1.427409\n",
       "\n",
       "[18541 rows x 4 columns]"
      ]
     },
     "execution_count": 119,
     "metadata": {},
     "output_type": "execute_result"
    }
   ],
   "source": [
    "# Use z-score to check for outliers\n",
    "z_score = np.abs(stats.zscore(df_2.select_dtypes(include=np.number)))\n",
    "z_score"
   ]
  },
  {
   "cell_type": "markdown",
   "id": "5df9d3aa-1d38-4cc4-bd2b-d40a90ae30e2",
   "metadata": {},
   "source": [
    "Z-score\n",
    "- statistical measure that indicates how many standard deviations a data point is from the mean of the data set\n",
    "\n",
    "±1 Standard Deviation (z ≈ -1 to 1)\n",
    "-  68% of the data in a normal distribution falls within this range\n",
    "\n",
    "±2 Standard Deviations (z ≈ -2 to 2)\n",
    "- 95% of the data falls within this range\n",
    "\n",
    "±3 Standard Deviations (z ≈ -3 to 3)\n",
    "- 99.7% of the data falls within this range\n",
    "\n",
    "Beyond ±3 Standard Deviations (z < -3 or z > 3)\n",
    "- outliers"
   ]
  },
  {
   "cell_type": "code",
   "execution_count": 125,
   "id": "8da8582c-8122-4aa0-8ecc-869d867ba5e8",
   "metadata": {},
   "outputs": [
    {
     "name": "stdout",
     "output_type": "stream",
     "text": [
      "No outliers found.\n"
     ]
    }
   ],
   "source": [
    "# outliers = some_operations_to_detect_outliers(df_2)\n",
    "\n",
    "if 'outliers' in locals() and not outliers.empty:\n",
    "    # If outliers DataFrame is not empty\n",
    "    print(\"Outliers found:\")\n",
    "    # Concatenate outliers with corresponding z_scores and print the result\n",
    "    outliers_with_z = pd.concat([outliers, z_scores.loc[outliers.index]], axis=1, keys=['Data', 'Z-Scores'])\n",
    "    print(outliers_with_z)\n",
    "else:\n",
    "    # If outliers DataFrame is empty or not defined\n",
    "    print(\"No outliers found.\")"
   ]
  },
  {
   "cell_type": "code",
   "execution_count": 127,
   "id": "c95951ba-00cd-40fa-8502-c811f8942d24",
   "metadata": {},
   "outputs": [],
   "source": [
    "df_2.to_csv('df_2.csv', sep=',', index=False)"
   ]
  },
  {
   "cell_type": "code",
   "execution_count": 128,
   "id": "07303252-d3c5-494d-9fab-4813be41af7b",
   "metadata": {},
   "outputs": [
    {
     "data": {
      "text/plain": [
       "(18541, 8)"
      ]
     },
     "execution_count": 128,
     "metadata": {},
     "output_type": "execute_result"
    }
   ],
   "source": [
    "df_2.shape"
   ]
  },
  {
   "cell_type": "code",
   "execution_count": 129,
   "id": "99c891cf-d3eb-4550-a70e-79b2d798b4a4",
   "metadata": {},
   "outputs": [],
   "source": [
    "# Save df_2 to a CSV file\n",
    "df_2.to_csv('df_2.csv', sep=',', index=False)"
   ]
  }
 ],
 "metadata": {
  "kernelspec": {
   "display_name": "Python 3 (ipykernel)",
   "language": "python",
   "name": "python3"
  },
  "language_info": {
   "codemirror_mode": {
    "name": "ipython",
    "version": 3
   },
   "file_extension": ".py",
   "mimetype": "text/x-python",
   "name": "python",
   "nbconvert_exporter": "python",
   "pygments_lexer": "ipython3",
   "version": "3.11.7"
  }
 },
 "nbformat": 4,
 "nbformat_minor": 5
}
