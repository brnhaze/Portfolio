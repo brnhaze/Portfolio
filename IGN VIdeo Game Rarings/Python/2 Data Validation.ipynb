{
 "cells": [
  {
   "cell_type": "markdown",
   "id": "aee1c59b-d5b5-4443-914f-9a7d8fb83cd3",
   "metadata": {},
   "source": [
    "# Data Validation"
   ]
  },
  {
   "cell_type": "code",
   "execution_count": 1,
   "id": "0b3f3f2f-9f2c-4cd0-a8ae-854d55451e65",
   "metadata": {},
   "outputs": [],
   "source": [
    "# Import Libraries\n",
    "\n",
    "# data manipulation and analysis\n",
    "import pandas as pd\n",
    "\n",
    "# multi-dimensional arrays and matrices\n",
    "# mathematical functions\n",
    "import numpy as np\n",
    "\n",
    "# parsing & processing Python Source Code\n",
    "# convert strings of Python code into executable code\n",
    "import ast # Abstract Syntax Trees (AST) module\n",
    "\n",
    "# data visualization\n",
    "import matplotlib.pyplot as plt # creating static, animated, and interactive visualizations\n",
    "import seaborn as sns # interface for drawing & statistical graphics\n",
    "import mplcursors # interactive data cursors\n",
    "import plotly.express as px\n",
    "\n",
    "# database adapter for Python\n",
    "import psycopg2 # allows interaction with PostgreSQL\n",
    "import pandas as pd\n",
    "\n",
    "# probability distributions and statistical functions\n",
    "from scipy.stats import norm \n",
    "from scipy.stats import ttest_ind\n",
    "from scipy.stats import f_oneway\n",
    "from scipy import stats\n",
    "import statsmodels.api as sm\n",
    "import statsmodels.formula.api as smf\n",
    "\n",
    "from sklearn.model_selection import train_test_split\n",
    "from sklearn.linear_model import LinearRegression\n",
    "from sklearn.metrics import mean_squared_error"
   ]
  },
  {
   "cell_type": "code",
   "execution_count": 2,
   "id": "25608354-d036-486e-a1d8-97ac241e1318",
   "metadata": {},
   "outputs": [],
   "source": [
    "# Load Data\n",
    "df_1 = pd.read_csv(r'C:\\Users\\ashwi\\Documents\\Data Analytics\\Portfolio\\IGN VIdeo Game Rarings\\SQL\\sql_cleaned_games.csv', index_col=False, delimiter=',')"
   ]
  },
  {
   "cell_type": "markdown",
   "id": "7551fabb-60fa-40bc-90a9-39dbd2ca41a9",
   "metadata": {},
   "source": [
    "## Data Inspection"
   ]
  },
  {
   "cell_type": "markdown",
   "id": "e015e9f2-8fd5-4887-98d1-5c3d43a8a92f",
   "metadata": {},
   "source": [
    "### Score"
   ]
  },
  {
   "cell_type": "code",
   "execution_count": 16,
   "id": "ffbfaa09-664d-45cb-9053-59a8f1bcbb6f",
   "metadata": {},
   "outputs": [
    {
     "name": "stdout",
     "output_type": "stream",
     "text": [
      "minimum score: 0.5\n",
      "maximum score: 10.0\n"
     ]
    }
   ],
   "source": [
    "# find min score min and max\n",
    "min_score = df_1['score'].min()\n",
    "max_score = df_1['score'].max()\n",
    "\n",
    "print(f'minimum score: {min_score}')\n",
    "print(f'maximum score: {max_score}')"
   ]
  },
  {
   "cell_type": "code",
   "execution_count": 15,
   "id": "5e5bcb7f-4705-490d-a6c7-ba76e43cb223",
   "metadata": {},
   "outputs": [],
   "source": [
    "## Data Integrity\n",
    "\n",
    "invalid_score = df_1[df_1['score'] < 0]\n",
    "if not invalid_score.empty:\n",
    "    print(\"Invalid score values found:\")\n",
    "    print(invalid_score)"
   ]
  },
  {
   "cell_type": "markdown",
   "id": "9a4c98f3-4f45-4fc2-b084-e309d970425d",
   "metadata": {},
   "source": [
    "### Release Year"
   ]
  },
  {
   "cell_type": "code",
   "execution_count": 13,
   "id": "859b304f-e272-4bed-a866-bb2a33a90740",
   "metadata": {},
   "outputs": [
    {
     "name": "stdout",
     "output_type": "stream",
     "text": [
      "minimum release year: 1970\n",
      "maximum release year: 2016\n"
     ]
    }
   ],
   "source": [
    "# find min release year and max\n",
    "min_rel_yr = df_1['release_year'].min()\n",
    "max_rel_yr = df_1['release_year'].max()\n",
    "\n",
    "print(f'minimum release year: {min_rel_yr}')\n",
    "print(f'maximum release year: {max_rel_yr}')"
   ]
  },
  {
   "cell_type": "code",
   "execution_count": 17,
   "id": "e2d0c5aa-6e85-4fa6-8a80-dc3b1d286276",
   "metadata": {},
   "outputs": [],
   "source": [
    "invalid_release_year = df_1[df_1['release_year'] < 0]\n",
    "if not invalid_release_year.empty:\n",
    "    print(\"Invalid release_year values found:\")\n",
    "    print(invalid_release_year)"
   ]
  },
  {
   "cell_type": "markdown",
   "id": "60937a85-cbc5-4724-bd59-3d904e3fb690",
   "metadata": {},
   "source": [
    "### Release Month"
   ]
  },
  {
   "cell_type": "code",
   "execution_count": 19,
   "id": "55b37101-68b0-450e-b5ca-6352ecb482a2",
   "metadata": {},
   "outputs": [
    {
     "name": "stdout",
     "output_type": "stream",
     "text": [
      "minimum release month: 1\n",
      "maximum release month: 12\n"
     ]
    }
   ],
   "source": [
    "# find min release year and max\n",
    "min_rel_mon = df_1['release_month'].min()\n",
    "max_rel_mon = df_1['release_month'].max()\n",
    "\n",
    "print(f'minimum release month: {min_rel_mon}')\n",
    "print(f'maximum release month: {max_rel_mon}')"
   ]
  },
  {
   "cell_type": "code",
   "execution_count": 18,
   "id": "0898e12c-b224-4e93-adc1-c10ddef70efb",
   "metadata": {},
   "outputs": [],
   "source": [
    "invalid_release_month = df_1[df_1['release_month'] < 0]\n",
    "if not invalid_release_month.empty:\n",
    "    print(\"Invalid release_month values found:\")\n",
    "    print(invalid_release_month)"
   ]
  },
  {
   "cell_type": "markdown",
   "id": "ddda16b0-d571-4df0-87fb-39fb23618bf8",
   "metadata": {},
   "source": [
    "### Release Day"
   ]
  },
  {
   "cell_type": "code",
   "execution_count": 21,
   "id": "5f959716-555c-40e4-9227-8c1c0926113e",
   "metadata": {},
   "outputs": [
    {
     "name": "stdout",
     "output_type": "stream",
     "text": [
      "minimum release day: 1\n",
      "maximum release day: 31\n"
     ]
    }
   ],
   "source": [
    "# find min release year and max\n",
    "min_rel_day = df_1['release_day'].min()\n",
    "max_rel_day = df_1['release_day'].max()\n",
    "\n",
    "print(f'minimum release day: {min_rel_day}')\n",
    "print(f'maximum release day: {max_rel_day}')"
   ]
  },
  {
   "cell_type": "code",
   "execution_count": 20,
   "id": "c354afd9-08c6-4b39-bfaa-b987c09b6a35",
   "metadata": {},
   "outputs": [],
   "source": [
    "invalid_release_day = df_1[df_1['release_day'] < 0]\n",
    "if not invalid_release_day.empty:\n",
    "    print(\"Invalid release_day values found:\")\n",
    "    print(invalid_release_day)"
   ]
  },
  {
   "cell_type": "markdown",
   "id": "e3802030-bd4c-444a-8ba5-edf8a1bbf99a",
   "metadata": {},
   "source": [
    "## Duplicates"
   ]
  },
  {
   "cell_type": "code",
   "execution_count": 28,
   "id": "6c32afcc-cfda-40b9-857a-03eef1dac993",
   "metadata": {},
   "outputs": [
    {
     "data": {
      "text/html": [
       "<div>\n",
       "<style scoped>\n",
       "    .dataframe tbody tr th:only-of-type {\n",
       "        vertical-align: middle;\n",
       "    }\n",
       "\n",
       "    .dataframe tbody tr th {\n",
       "        vertical-align: top;\n",
       "    }\n",
       "\n",
       "    .dataframe thead th {\n",
       "        text-align: right;\n",
       "    }\n",
       "</style>\n",
       "<table border=\"1\" class=\"dataframe\">\n",
       "  <thead>\n",
       "    <tr style=\"text-align: right;\">\n",
       "      <th></th>\n",
       "      <th>title</th>\n",
       "      <th>score</th>\n",
       "      <th>score_phrase</th>\n",
       "      <th>platform</th>\n",
       "      <th>genre</th>\n",
       "      <th>release_year</th>\n",
       "      <th>release_month</th>\n",
       "      <th>release_day</th>\n",
       "    </tr>\n",
       "  </thead>\n",
       "  <tbody>\n",
       "    <tr>\n",
       "      <th>174</th>\n",
       "      <td>Call of Duty: Modern Warfare 2 (Hardened Edition)</td>\n",
       "      <td>9.5</td>\n",
       "      <td>Amazing</td>\n",
       "      <td>PlayStation 3</td>\n",
       "      <td>Shooter</td>\n",
       "      <td>2009</td>\n",
       "      <td>11</td>\n",
       "      <td>10</td>\n",
       "    </tr>\n",
       "  </tbody>\n",
       "</table>\n",
       "</div>"
      ],
      "text/plain": [
       "                                                 title  score score_phrase  \\\n",
       "174  Call of Duty: Modern Warfare 2 (Hardened Edition)    9.5      Amazing   \n",
       "\n",
       "          platform    genre  release_year  release_month  release_day  \n",
       "174  PlayStation 3  Shooter          2009             11           10  "
      ]
     },
     "execution_count": 28,
     "metadata": {},
     "output_type": "execute_result"
    }
   ],
   "source": [
    "df_1[df_1.duplicated()].head(1)"
   ]
  },
  {
   "cell_type": "code",
   "execution_count": 29,
   "id": "7515b240-dae9-40a7-9b7e-1ee67da9e1d7",
   "metadata": {},
   "outputs": [],
   "source": [
    "# SHow unique duplicates"
   ]
  },
  {
   "cell_type": "code",
   "execution_count": 30,
   "id": "bb999259-bfdf-45cc-a08d-848c05c4e890",
   "metadata": {},
   "outputs": [],
   "source": [
    "# count per column"
   ]
  },
  {
   "cell_type": "code",
   "execution_count": null,
   "id": "a934a9d5-449b-4392-9e54-3864f01b4e25",
   "metadata": {},
   "outputs": [],
   "source": []
  }
 ],
 "metadata": {
  "kernelspec": {
   "display_name": "Python 3 (ipykernel)",
   "language": "python",
   "name": "python3"
  },
  "language_info": {
   "codemirror_mode": {
    "name": "ipython",
    "version": 3
   },
   "file_extension": ".py",
   "mimetype": "text/x-python",
   "name": "python",
   "nbconvert_exporter": "python",
   "pygments_lexer": "ipython3",
   "version": "3.11.7"
  }
 },
 "nbformat": 4,
 "nbformat_minor": 5
}
