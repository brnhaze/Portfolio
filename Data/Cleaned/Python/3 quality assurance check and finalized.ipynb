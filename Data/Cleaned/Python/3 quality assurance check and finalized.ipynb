{
 "cells": [
  {
   "cell_type": "code",
   "execution_count": 178,
   "id": "a757e3b6-501e-4ac5-a1cc-194b22b17e3d",
   "metadata": {},
   "outputs": [],
   "source": [
    "# Import Libraries\n",
    "\n",
    "# data manipulation and analysis\n",
    "import pandas as pd\n",
    "\n",
    "# multi-dimensional arrays and matrices\n",
    "# mathematical functions\n",
    "import numpy as np\n",
    "\n",
    "# parsing & processing Python Source Code\n",
    "# convert strings of Python code into executable code\n",
    "import ast # Abstract Syntax Trees (AST) module\n",
    "\n",
    "# data visualization\n",
    "import matplotlib.pyplot as plt # creating static, animated, and interactive visualizations\n",
    "import seaborn as sns # interface for drawing & statistical graphics\n",
    "import mplcursors # interactive data cursors\n",
    "\n",
    "# database adapter for Python\n",
    "import psycopg2 # allows interaction with PostgreSQL\n",
    "import pandas as pd\n",
    "\n",
    "# probability distributions and statistical functions\n",
    "from scipy.stats import norm \n",
    "from scipy.stats import ttest_ind\n",
    "from scipy.stats import f_oneway"
   ]
  },
  {
   "cell_type": "code",
   "execution_count": 179,
   "id": "75981617-e713-4f8d-834b-506bc29029cf",
   "metadata": {},
   "outputs": [],
   "source": [
    "# Read uncleaned disney_movies.csv file\n",
    "df_2 = pd.read_csv(r'C:\\Users\\ashwi\\Documents\\Data Analytics\\QA\\Data\\Cleaned\\Python\\df_2.csv', index_col=False, sep=',')"
   ]
  },
  {
   "cell_type": "code",
   "execution_count": 180,
   "id": "d9a5e152-d48c-46ec-a7e7-4e685be300ea",
   "metadata": {},
   "outputs": [
    {
     "data": {
      "text/html": [
       "<div>\n",
       "<style scoped>\n",
       "    .dataframe tbody tr th:only-of-type {\n",
       "        vertical-align: middle;\n",
       "    }\n",
       "\n",
       "    .dataframe tbody tr th {\n",
       "        vertical-align: top;\n",
       "    }\n",
       "\n",
       "    .dataframe thead th {\n",
       "        text-align: right;\n",
       "    }\n",
       "</style>\n",
       "<table border=\"1\" class=\"dataframe\">\n",
       "  <thead>\n",
       "    <tr style=\"text-align: right;\">\n",
       "      <th></th>\n",
       "      <th>movie_name</th>\n",
       "      <th>Running time (min)</th>\n",
       "      <th>Release date</th>\n",
       "      <th>Box office</th>\n",
       "    </tr>\n",
       "  </thead>\n",
       "  <tbody>\n",
       "    <tr>\n",
       "      <th>0</th>\n",
       "      <td>Pinocchio (1940film)</td>\n",
       "      <td>01:28</td>\n",
       "      <td>1940-02-07</td>\n",
       "      <td>164000000</td>\n",
       "    </tr>\n",
       "    <tr>\n",
       "      <th>1</th>\n",
       "      <td>Fantasia (1940film)</td>\n",
       "      <td>02:06</td>\n",
       "      <td>1940-11-13</td>\n",
       "      <td>76400000</td>\n",
       "    </tr>\n",
       "    <tr>\n",
       "      <th>2</th>\n",
       "      <td>The Reluctant Dragon (1941film)</td>\n",
       "      <td>01:14</td>\n",
       "      <td>1941-06-27</td>\n",
       "      <td>960000</td>\n",
       "    </tr>\n",
       "    <tr>\n",
       "      <th>3</th>\n",
       "      <td>Dumbo</td>\n",
       "      <td>01:04</td>\n",
       "      <td>1941-10-23</td>\n",
       "      <td>1300000</td>\n",
       "    </tr>\n",
       "    <tr>\n",
       "      <th>4</th>\n",
       "      <td>Bambi</td>\n",
       "      <td>01:10</td>\n",
       "      <td>1942-08-09</td>\n",
       "      <td>267399999</td>\n",
       "    </tr>\n",
       "    <tr>\n",
       "      <th>...</th>\n",
       "      <td>...</td>\n",
       "      <td>...</td>\n",
       "      <td>...</td>\n",
       "      <td>...</td>\n",
       "    </tr>\n",
       "    <tr>\n",
       "      <th>366</th>\n",
       "      <td>Chang Can Dunk</td>\n",
       "      <td>01:49</td>\n",
       "      <td>2023-03-10</td>\n",
       "      <td>NaN</td>\n",
       "    </tr>\n",
       "    <tr>\n",
       "      <th>367</th>\n",
       "      <td>Peter Pan  Wendy</td>\n",
       "      <td>01:49</td>\n",
       "      <td>2023-04-28</td>\n",
       "      <td>NaN</td>\n",
       "    </tr>\n",
       "    <tr>\n",
       "      <th>368</th>\n",
       "      <td>Crater (film)</td>\n",
       "      <td>01:45</td>\n",
       "      <td>2023-05-12</td>\n",
       "      <td>NaN</td>\n",
       "    </tr>\n",
       "    <tr>\n",
       "      <th>369</th>\n",
       "      <td>Worlds Best (film)</td>\n",
       "      <td>01:41</td>\n",
       "      <td>2023-06-23</td>\n",
       "      <td>NaN</td>\n",
       "    </tr>\n",
       "    <tr>\n",
       "      <th>370</th>\n",
       "      <td>Dashing Through the Snow</td>\n",
       "      <td>01:30</td>\n",
       "      <td>2023-11-17</td>\n",
       "      <td>NaN</td>\n",
       "    </tr>\n",
       "  </tbody>\n",
       "</table>\n",
       "<p>371 rows × 4 columns</p>\n",
       "</div>"
      ],
      "text/plain": [
       "                          movie_name Running time (min) Release date  \\\n",
       "0               Pinocchio (1940film)              01:28   1940-02-07   \n",
       "1                Fantasia (1940film)              02:06   1940-11-13   \n",
       "2    The Reluctant Dragon (1941film)              01:14   1941-06-27   \n",
       "3                              Dumbo              01:04   1941-10-23   \n",
       "4                              Bambi              01:10   1942-08-09   \n",
       "..                               ...                ...          ...   \n",
       "366                   Chang Can Dunk              01:49   2023-03-10   \n",
       "367                 Peter Pan  Wendy              01:49   2023-04-28   \n",
       "368                    Crater (film)              01:45   2023-05-12   \n",
       "369               Worlds Best (film)              01:41   2023-06-23   \n",
       "370         Dashing Through the Snow              01:30   2023-11-17   \n",
       "\n",
       "     Box office  \n",
       "0     164000000  \n",
       "1      76400000  \n",
       "2        960000  \n",
       "3       1300000  \n",
       "4     267399999  \n",
       "..          ...  \n",
       "366         NaN  \n",
       "367         NaN  \n",
       "368         NaN  \n",
       "369         NaN  \n",
       "370         NaN  \n",
       "\n",
       "[371 rows x 4 columns]"
      ]
     },
     "execution_count": 180,
     "metadata": {},
     "output_type": "execute_result"
    }
   ],
   "source": [
    "df_2"
   ]
  },
  {
   "cell_type": "code",
   "execution_count": 181,
   "id": "d07788af-b879-488a-8107-71306c6775ca",
   "metadata": {},
   "outputs": [
    {
     "data": {
      "text/plain": [
       "Index(['movie_name', 'Running time (min)', 'Release date', 'Box office'], dtype='object')"
      ]
     },
     "execution_count": 181,
     "metadata": {},
     "output_type": "execute_result"
    }
   ],
   "source": [
    "df_2.columns"
   ]
  },
  {
   "cell_type": "code",
   "execution_count": 182,
   "id": "e532c565-2664-437c-91c8-845782df9ee3",
   "metadata": {},
   "outputs": [
    {
     "data": {
      "text/html": [
       "<div>\n",
       "<style scoped>\n",
       "    .dataframe tbody tr th:only-of-type {\n",
       "        vertical-align: middle;\n",
       "    }\n",
       "\n",
       "    .dataframe tbody tr th {\n",
       "        vertical-align: top;\n",
       "    }\n",
       "\n",
       "    .dataframe thead th {\n",
       "        text-align: right;\n",
       "    }\n",
       "</style>\n",
       "<table border=\"1\" class=\"dataframe\">\n",
       "  <thead>\n",
       "    <tr style=\"text-align: right;\">\n",
       "      <th></th>\n",
       "      <th>movie_name</th>\n",
       "      <th>Running time (min)</th>\n",
       "      <th>Release date</th>\n",
       "      <th>Box office</th>\n",
       "    </tr>\n",
       "  </thead>\n",
       "  <tbody>\n",
       "    <tr>\n",
       "      <th>0</th>\n",
       "      <td>Pinocchio (1940 film)</td>\n",
       "      <td>01:28</td>\n",
       "      <td>1940-02-07</td>\n",
       "      <td>164000000</td>\n",
       "    </tr>\n",
       "    <tr>\n",
       "      <th>1</th>\n",
       "      <td>Fantasia (1940 film)</td>\n",
       "      <td>02:06</td>\n",
       "      <td>1940-11-13</td>\n",
       "      <td>76400000</td>\n",
       "    </tr>\n",
       "    <tr>\n",
       "      <th>2</th>\n",
       "      <td>The Reluctant Dragon (1941 film)</td>\n",
       "      <td>01:14</td>\n",
       "      <td>1941-06-27</td>\n",
       "      <td>960000</td>\n",
       "    </tr>\n",
       "    <tr>\n",
       "      <th>3</th>\n",
       "      <td>Dumbo</td>\n",
       "      <td>01:04</td>\n",
       "      <td>1941-10-23</td>\n",
       "      <td>1300000</td>\n",
       "    </tr>\n",
       "    <tr>\n",
       "      <th>4</th>\n",
       "      <td>Bambi</td>\n",
       "      <td>01:10</td>\n",
       "      <td>1942-08-09</td>\n",
       "      <td>267399999</td>\n",
       "    </tr>\n",
       "    <tr>\n",
       "      <th>...</th>\n",
       "      <td>...</td>\n",
       "      <td>...</td>\n",
       "      <td>...</td>\n",
       "      <td>...</td>\n",
       "    </tr>\n",
       "    <tr>\n",
       "      <th>366</th>\n",
       "      <td>Chang Can Dunk</td>\n",
       "      <td>01:49</td>\n",
       "      <td>2023-03-10</td>\n",
       "      <td>NaN</td>\n",
       "    </tr>\n",
       "    <tr>\n",
       "      <th>367</th>\n",
       "      <td>Peter Pan  Wendy</td>\n",
       "      <td>01:49</td>\n",
       "      <td>2023-04-28</td>\n",
       "      <td>NaN</td>\n",
       "    </tr>\n",
       "    <tr>\n",
       "      <th>368</th>\n",
       "      <td>Crater (film)</td>\n",
       "      <td>01:45</td>\n",
       "      <td>2023-05-12</td>\n",
       "      <td>NaN</td>\n",
       "    </tr>\n",
       "    <tr>\n",
       "      <th>369</th>\n",
       "      <td>Worlds Best (film)</td>\n",
       "      <td>01:41</td>\n",
       "      <td>2023-06-23</td>\n",
       "      <td>NaN</td>\n",
       "    </tr>\n",
       "    <tr>\n",
       "      <th>370</th>\n",
       "      <td>Dashing Through the Snow</td>\n",
       "      <td>01:30</td>\n",
       "      <td>2023-11-17</td>\n",
       "      <td>NaN</td>\n",
       "    </tr>\n",
       "  </tbody>\n",
       "</table>\n",
       "<p>371 rows × 4 columns</p>\n",
       "</div>"
      ],
      "text/plain": [
       "                           movie_name Running time (min) Release date  \\\n",
       "0               Pinocchio (1940 film)              01:28   1940-02-07   \n",
       "1                Fantasia (1940 film)              02:06   1940-11-13   \n",
       "2    The Reluctant Dragon (1941 film)              01:14   1941-06-27   \n",
       "3                               Dumbo              01:04   1941-10-23   \n",
       "4                               Bambi              01:10   1942-08-09   \n",
       "..                                ...                ...          ...   \n",
       "366                    Chang Can Dunk              01:49   2023-03-10   \n",
       "367                  Peter Pan  Wendy              01:49   2023-04-28   \n",
       "368                     Crater (film)              01:45   2023-05-12   \n",
       "369                Worlds Best (film)              01:41   2023-06-23   \n",
       "370          Dashing Through the Snow              01:30   2023-11-17   \n",
       "\n",
       "     Box office  \n",
       "0     164000000  \n",
       "1      76400000  \n",
       "2        960000  \n",
       "3       1300000  \n",
       "4     267399999  \n",
       "..          ...  \n",
       "366         NaN  \n",
       "367         NaN  \n",
       "368         NaN  \n",
       "369         NaN  \n",
       "370         NaN  \n",
       "\n",
       "[371 rows x 4 columns]"
      ]
     },
     "execution_count": 182,
     "metadata": {},
     "output_type": "execute_result"
    }
   ],
   "source": [
    "# Define a function to process the movie names\n",
    "def process_movie_name(name):\n",
    "    import re\n",
    "    # Regular expression to match sequences of 4 numbers followed by alpha characters\n",
    "    pattern = r'(\\d{4})([a-zA-Z]+)'\n",
    "    # Check if the name contains parentheses\n",
    "    if '(' in name and ')' in name:\n",
    "        # If it does, apply the regular expression to the part inside the parentheses\n",
    "        name = re.sub(pattern, r'\\1 \\2', name)\n",
    "    return name\n",
    "\n",
    "# Apply the function to the movie_name column\n",
    "df_2['movie_name'] = df_2['movie_name'].apply(process_movie_name)\n",
    "\n",
    "# Display the updated DataFrame\n",
    "df_2"
   ]
  },
  {
   "cell_type": "code",
   "execution_count": 183,
   "id": "a5671cc4-a2e1-497d-8c9f-53f5c169d549",
   "metadata": {},
   "outputs": [],
   "source": [
    "df_2.to_csv('df_3.csv', index=False, sep=',', encoding='utf-8')"
   ]
  },
  {
   "cell_type": "code",
   "execution_count": 184,
   "id": "42f23813-486d-4282-b0d6-2af3cc34ed45",
   "metadata": {},
   "outputs": [],
   "source": [
    "# Read uncleaned disney_movies.csv file\n",
    "df_3 = pd.read_csv(r'C:\\Users\\ashwi\\Documents\\Data Analytics\\QA\\Data\\Cleaned\\Python\\df_3.csv', index_col=False, sep=',')"
   ]
  },
  {
   "cell_type": "markdown",
   "id": "d135918f-84be-4dd6-8eb4-c6401933e877",
   "metadata": {},
   "source": [
    "# df_3"
   ]
  },
  {
   "cell_type": "markdown",
   "id": "b3b2caca-d98c-4365-9183-1de3ae0b2f7b",
   "metadata": {},
   "source": [
    "## Data Exploration"
   ]
  },
  {
   "cell_type": "code",
   "execution_count": 185,
   "id": "b658ddd7-b9d5-48b2-8ac8-14867ccd425f",
   "metadata": {},
   "outputs": [
    {
     "name": "stdout",
     "output_type": "stream",
     "text": [
      "<class 'pandas.core.frame.DataFrame'>\n",
      "RangeIndex: 371 entries, 0 to 370\n",
      "Data columns (total 4 columns):\n",
      " #   Column              Non-Null Count  Dtype  \n",
      "---  ------              --------------  -----  \n",
      " 0   movie_name          371 non-null    object \n",
      " 1   Running time (min)  369 non-null    object \n",
      " 2   Release date        371 non-null    object \n",
      " 3   Box office          269 non-null    float64\n",
      "dtypes: float64(1), object(3)\n",
      "memory usage: 11.7+ KB\n"
     ]
    }
   ],
   "source": [
    "df_3.info()"
   ]
  },
  {
   "cell_type": "code",
   "execution_count": 186,
   "id": "17e52bf5-efe1-471d-8e40-1c55692d0627",
   "metadata": {},
   "outputs": [
    {
     "data": {
      "text/html": [
       "<div>\n",
       "<style scoped>\n",
       "    .dataframe tbody tr th:only-of-type {\n",
       "        vertical-align: middle;\n",
       "    }\n",
       "\n",
       "    .dataframe tbody tr th {\n",
       "        vertical-align: top;\n",
       "    }\n",
       "\n",
       "    .dataframe thead th {\n",
       "        text-align: right;\n",
       "    }\n",
       "</style>\n",
       "<table border=\"1\" class=\"dataframe\">\n",
       "  <thead>\n",
       "    <tr style=\"text-align: right;\">\n",
       "      <th></th>\n",
       "      <th>Box office</th>\n",
       "    </tr>\n",
       "  </thead>\n",
       "  <tbody>\n",
       "    <tr>\n",
       "      <th>count</th>\n",
       "      <td>269</td>\n",
       "    </tr>\n",
       "    <tr>\n",
       "      <th>mean</th>\n",
       "      <td>1935761693</td>\n",
       "    </tr>\n",
       "    <tr>\n",
       "      <th>std</th>\n",
       "      <td>30481216357</td>\n",
       "    </tr>\n",
       "    <tr>\n",
       "      <th>min</th>\n",
       "      <td>0</td>\n",
       "    </tr>\n",
       "    <tr>\n",
       "      <th>25%</th>\n",
       "      <td>5100000</td>\n",
       "    </tr>\n",
       "    <tr>\n",
       "      <th>50%</th>\n",
       "      <td>22900000</td>\n",
       "    </tr>\n",
       "    <tr>\n",
       "      <th>75%</th>\n",
       "      <td>72200000</td>\n",
       "    </tr>\n",
       "    <tr>\n",
       "      <th>max</th>\n",
       "      <td>500000302000</td>\n",
       "    </tr>\n",
       "  </tbody>\n",
       "</table>\n",
       "</div>"
      ],
      "text/plain": [
       "        Box office\n",
       "count          269\n",
       "mean    1935761693\n",
       "std    30481216357\n",
       "min              0\n",
       "25%        5100000\n",
       "50%       22900000\n",
       "75%       72200000\n",
       "max   500000302000"
      ]
     },
     "execution_count": 186,
     "metadata": {},
     "output_type": "execute_result"
    }
   ],
   "source": [
    "df_3.describe()"
   ]
  },
  {
   "cell_type": "code",
   "execution_count": 187,
   "id": "2f6eafad-cb51-4546-8777-5b2da7060ab4",
   "metadata": {},
   "outputs": [
    {
     "data": {
      "text/plain": [
       "0     164000000\n",
       "1      76400000\n",
       "2        960000\n",
       "3       1300000\n",
       "4     267399999\n",
       "         ...   \n",
       "366         NaN\n",
       "367         NaN\n",
       "368         NaN\n",
       "369         NaN\n",
       "370         NaN\n",
       "Name: Box office, Length: 371, dtype: float64"
      ]
     },
     "execution_count": 187,
     "metadata": {},
     "output_type": "execute_result"
    }
   ],
   "source": [
    "df_3['Box office']"
   ]
  },
  {
   "cell_type": "code",
   "execution_count": 188,
   "id": "cc43c928-0417-4745-a820-b826ca30ea26",
   "metadata": {},
   "outputs": [
    {
     "name": "stdout",
     "output_type": "stream",
     "text": [
      "           Box office\n",
      "count          269.00\n",
      "mean    1935761693.45\n",
      "std    30481216357.08\n",
      "min              0.16\n",
      "25%        5100000.00\n",
      "50%       22900000.00\n",
      "75%       72200000.00\n",
      "max   500000302000.00\n"
     ]
    }
   ],
   "source": [
    "# Describe the DataFrame with floating-point precision\n",
    "df_3_description = df_3.describe()\n",
    "\n",
    "# Display the summary statistics with float format\n",
    "with pd.option_context('display.float_format', '{:.2f}'.format):\n",
    "    print(df_3_description)"
   ]
  },
  {
   "cell_type": "code",
   "execution_count": 189,
   "id": "74c6283a-17e2-4ae9-9981-43c4c8760881",
   "metadata": {},
   "outputs": [
    {
     "data": {
      "text/plain": [
       "movie_name              0\n",
       "Running time (min)      2\n",
       "Release date            0\n",
       "Box office            102\n",
       "dtype: int64"
      ]
     },
     "execution_count": 189,
     "metadata": {},
     "output_type": "execute_result"
    }
   ],
   "source": [
    "df_3.isnull().sum()"
   ]
  },
  {
   "cell_type": "markdown",
   "id": "23f3e3f3-3fa3-4c08-84d7-832b8774cda1",
   "metadata": {},
   "source": [
    "Box office contains 102 null values"
   ]
  },
  {
   "cell_type": "markdown",
   "id": "f07cb4c8-c0da-4ee2-8b13-158f662875ce",
   "metadata": {},
   "source": [
    "## Data Cleaning"
   ]
  },
  {
   "cell_type": "markdown",
   "id": "e0266366-ae77-4cc3-b382-48d9771838ce",
   "metadata": {},
   "source": [
    "### Handling Missing Values"
   ]
  },
  {
   "cell_type": "code",
   "execution_count": 190,
   "id": "c22b1bc2-73f9-4fe0-9026-8b9d2af964d7",
   "metadata": {},
   "outputs": [
    {
     "name": "stdout",
     "output_type": "stream",
     "text": [
      "movie_name            0\n",
      "Running time (min)    0\n",
      "Release date          0\n",
      "Box office            0\n",
      "dtype: int64\n"
     ]
    }
   ],
   "source": [
    "# df_3.drop(na)\n",
    "\n",
    "# see: 1 import_and_duplicates_columns.ipynb\n",
    "# see: 2 quality assurance.ipynb\n",
    "\n",
    "# Drop rows with missing values\n",
    "df_3_cleaned = df_3.dropna()\n",
    "\n",
    "# Checking if there are still missing values after dropping\n",
    "print(df_3_cleaned.isnull().sum())"
   ]
  },
  {
   "cell_type": "code",
   "execution_count": 191,
   "id": "d8ac9dd9-8fa7-451a-8ddd-096d629be32d",
   "metadata": {},
   "outputs": [
    {
     "data": {
      "text/html": [
       "<div>\n",
       "<style scoped>\n",
       "    .dataframe tbody tr th:only-of-type {\n",
       "        vertical-align: middle;\n",
       "    }\n",
       "\n",
       "    .dataframe tbody tr th {\n",
       "        vertical-align: top;\n",
       "    }\n",
       "\n",
       "    .dataframe thead th {\n",
       "        text-align: right;\n",
       "    }\n",
       "</style>\n",
       "<table border=\"1\" class=\"dataframe\">\n",
       "  <thead>\n",
       "    <tr style=\"text-align: right;\">\n",
       "      <th></th>\n",
       "      <th>movie_name</th>\n",
       "      <th>Running time (min)</th>\n",
       "      <th>Release date</th>\n",
       "      <th>Box office</th>\n",
       "    </tr>\n",
       "  </thead>\n",
       "  <tbody>\n",
       "    <tr>\n",
       "      <th>0</th>\n",
       "      <td>Pinocchio (1940 film)</td>\n",
       "      <td>01:28</td>\n",
       "      <td>1940-02-07</td>\n",
       "      <td>164000000</td>\n",
       "    </tr>\n",
       "    <tr>\n",
       "      <th>1</th>\n",
       "      <td>Fantasia (1940 film)</td>\n",
       "      <td>02:06</td>\n",
       "      <td>1940-11-13</td>\n",
       "      <td>76400000</td>\n",
       "    </tr>\n",
       "    <tr>\n",
       "      <th>2</th>\n",
       "      <td>The Reluctant Dragon (1941 film)</td>\n",
       "      <td>01:14</td>\n",
       "      <td>1941-06-27</td>\n",
       "      <td>960000</td>\n",
       "    </tr>\n",
       "    <tr>\n",
       "      <th>3</th>\n",
       "      <td>Dumbo</td>\n",
       "      <td>01:04</td>\n",
       "      <td>1941-10-23</td>\n",
       "      <td>1300000</td>\n",
       "    </tr>\n",
       "    <tr>\n",
       "      <th>4</th>\n",
       "      <td>Bambi</td>\n",
       "      <td>01:10</td>\n",
       "      <td>1942-08-09</td>\n",
       "      <td>267399999</td>\n",
       "    </tr>\n",
       "    <tr>\n",
       "      <th>...</th>\n",
       "      <td>...</td>\n",
       "      <td>...</td>\n",
       "      <td>...</td>\n",
       "      <td>...</td>\n",
       "    </tr>\n",
       "    <tr>\n",
       "      <th>366</th>\n",
       "      <td>Chang Can Dunk</td>\n",
       "      <td>01:49</td>\n",
       "      <td>2023-03-10</td>\n",
       "      <td>NaN</td>\n",
       "    </tr>\n",
       "    <tr>\n",
       "      <th>367</th>\n",
       "      <td>Peter Pan  Wendy</td>\n",
       "      <td>01:49</td>\n",
       "      <td>2023-04-28</td>\n",
       "      <td>NaN</td>\n",
       "    </tr>\n",
       "    <tr>\n",
       "      <th>368</th>\n",
       "      <td>Crater (film)</td>\n",
       "      <td>01:45</td>\n",
       "      <td>2023-05-12</td>\n",
       "      <td>NaN</td>\n",
       "    </tr>\n",
       "    <tr>\n",
       "      <th>369</th>\n",
       "      <td>Worlds Best (film)</td>\n",
       "      <td>01:41</td>\n",
       "      <td>2023-06-23</td>\n",
       "      <td>NaN</td>\n",
       "    </tr>\n",
       "    <tr>\n",
       "      <th>370</th>\n",
       "      <td>Dashing Through the Snow</td>\n",
       "      <td>01:30</td>\n",
       "      <td>2023-11-17</td>\n",
       "      <td>NaN</td>\n",
       "    </tr>\n",
       "  </tbody>\n",
       "</table>\n",
       "<p>371 rows × 4 columns</p>\n",
       "</div>"
      ],
      "text/plain": [
       "                           movie_name Running time (min) Release date  \\\n",
       "0               Pinocchio (1940 film)              01:28   1940-02-07   \n",
       "1                Fantasia (1940 film)              02:06   1940-11-13   \n",
       "2    The Reluctant Dragon (1941 film)              01:14   1941-06-27   \n",
       "3                               Dumbo              01:04   1941-10-23   \n",
       "4                               Bambi              01:10   1942-08-09   \n",
       "..                                ...                ...          ...   \n",
       "366                    Chang Can Dunk              01:49   2023-03-10   \n",
       "367                  Peter Pan  Wendy              01:49   2023-04-28   \n",
       "368                     Crater (film)              01:45   2023-05-12   \n",
       "369                Worlds Best (film)              01:41   2023-06-23   \n",
       "370          Dashing Through the Snow              01:30   2023-11-17   \n",
       "\n",
       "     Box office  \n",
       "0     164000000  \n",
       "1      76400000  \n",
       "2        960000  \n",
       "3       1300000  \n",
       "4     267399999  \n",
       "..          ...  \n",
       "366         NaN  \n",
       "367         NaN  \n",
       "368         NaN  \n",
       "369         NaN  \n",
       "370         NaN  \n",
       "\n",
       "[371 rows x 4 columns]"
      ]
     },
     "execution_count": 191,
     "metadata": {},
     "output_type": "execute_result"
    }
   ],
   "source": [
    "df_3"
   ]
  },
  {
   "cell_type": "code",
   "execution_count": 192,
   "id": "bda204c7-3e6c-4a73-a3dc-59053ceb6b83",
   "metadata": {},
   "outputs": [],
   "source": [
    "# df_3.fillna()\n",
    "\n",
    "# see: 1 import_and_duplicates_columns.ipynb\n",
    "# see: 2 quality assurance.ipynb\n",
    "\n",
    "# Fill missing values in 'Running time (min)' with the mean value of the column\n",
    "df_3['Box office'].fillna(df_3['Box office'].mean(), inplace=True)\n",
    "\n",
    "# Fill missing values in 'Box office' with 0\n",
    "df_3['Box office'].fillna(0, inplace=True)"
   ]
  },
  {
   "cell_type": "code",
   "execution_count": 193,
   "id": "e2a8249a-7408-4539-bd58-d26e1e0e1f18",
   "metadata": {},
   "outputs": [
    {
     "data": {
      "text/html": [
       "<div>\n",
       "<style scoped>\n",
       "    .dataframe tbody tr th:only-of-type {\n",
       "        vertical-align: middle;\n",
       "    }\n",
       "\n",
       "    .dataframe tbody tr th {\n",
       "        vertical-align: top;\n",
       "    }\n",
       "\n",
       "    .dataframe thead th {\n",
       "        text-align: right;\n",
       "    }\n",
       "</style>\n",
       "<table border=\"1\" class=\"dataframe\">\n",
       "  <thead>\n",
       "    <tr style=\"text-align: right;\">\n",
       "      <th></th>\n",
       "      <th>movie_name</th>\n",
       "      <th>Running time (min)</th>\n",
       "      <th>Release date</th>\n",
       "      <th>Box office</th>\n",
       "    </tr>\n",
       "  </thead>\n",
       "  <tbody>\n",
       "    <tr>\n",
       "      <th>0</th>\n",
       "      <td>Pinocchio (1940 film)</td>\n",
       "      <td>01:28</td>\n",
       "      <td>1940-02-07</td>\n",
       "      <td>164000000</td>\n",
       "    </tr>\n",
       "    <tr>\n",
       "      <th>1</th>\n",
       "      <td>Fantasia (1940 film)</td>\n",
       "      <td>02:06</td>\n",
       "      <td>1940-11-13</td>\n",
       "      <td>76400000</td>\n",
       "    </tr>\n",
       "    <tr>\n",
       "      <th>2</th>\n",
       "      <td>The Reluctant Dragon (1941 film)</td>\n",
       "      <td>01:14</td>\n",
       "      <td>1941-06-27</td>\n",
       "      <td>960000</td>\n",
       "    </tr>\n",
       "    <tr>\n",
       "      <th>3</th>\n",
       "      <td>Dumbo</td>\n",
       "      <td>01:04</td>\n",
       "      <td>1941-10-23</td>\n",
       "      <td>1300000</td>\n",
       "    </tr>\n",
       "    <tr>\n",
       "      <th>4</th>\n",
       "      <td>Bambi</td>\n",
       "      <td>01:10</td>\n",
       "      <td>1942-08-09</td>\n",
       "      <td>267399999</td>\n",
       "    </tr>\n",
       "    <tr>\n",
       "      <th>...</th>\n",
       "      <td>...</td>\n",
       "      <td>...</td>\n",
       "      <td>...</td>\n",
       "      <td>...</td>\n",
       "    </tr>\n",
       "    <tr>\n",
       "      <th>366</th>\n",
       "      <td>Chang Can Dunk</td>\n",
       "      <td>01:49</td>\n",
       "      <td>2023-03-10</td>\n",
       "      <td>1935761693</td>\n",
       "    </tr>\n",
       "    <tr>\n",
       "      <th>367</th>\n",
       "      <td>Peter Pan  Wendy</td>\n",
       "      <td>01:49</td>\n",
       "      <td>2023-04-28</td>\n",
       "      <td>1935761693</td>\n",
       "    </tr>\n",
       "    <tr>\n",
       "      <th>368</th>\n",
       "      <td>Crater (film)</td>\n",
       "      <td>01:45</td>\n",
       "      <td>2023-05-12</td>\n",
       "      <td>1935761693</td>\n",
       "    </tr>\n",
       "    <tr>\n",
       "      <th>369</th>\n",
       "      <td>Worlds Best (film)</td>\n",
       "      <td>01:41</td>\n",
       "      <td>2023-06-23</td>\n",
       "      <td>1935761693</td>\n",
       "    </tr>\n",
       "    <tr>\n",
       "      <th>370</th>\n",
       "      <td>Dashing Through the Snow</td>\n",
       "      <td>01:30</td>\n",
       "      <td>2023-11-17</td>\n",
       "      <td>1935761693</td>\n",
       "    </tr>\n",
       "  </tbody>\n",
       "</table>\n",
       "<p>371 rows × 4 columns</p>\n",
       "</div>"
      ],
      "text/plain": [
       "                           movie_name Running time (min) Release date  \\\n",
       "0               Pinocchio (1940 film)              01:28   1940-02-07   \n",
       "1                Fantasia (1940 film)              02:06   1940-11-13   \n",
       "2    The Reluctant Dragon (1941 film)              01:14   1941-06-27   \n",
       "3                               Dumbo              01:04   1941-10-23   \n",
       "4                               Bambi              01:10   1942-08-09   \n",
       "..                                ...                ...          ...   \n",
       "366                    Chang Can Dunk              01:49   2023-03-10   \n",
       "367                  Peter Pan  Wendy              01:49   2023-04-28   \n",
       "368                     Crater (film)              01:45   2023-05-12   \n",
       "369                Worlds Best (film)              01:41   2023-06-23   \n",
       "370          Dashing Through the Snow              01:30   2023-11-17   \n",
       "\n",
       "     Box office  \n",
       "0     164000000  \n",
       "1      76400000  \n",
       "2        960000  \n",
       "3       1300000  \n",
       "4     267399999  \n",
       "..          ...  \n",
       "366  1935761693  \n",
       "367  1935761693  \n",
       "368  1935761693  \n",
       "369  1935761693  \n",
       "370  1935761693  \n",
       "\n",
       "[371 rows x 4 columns]"
      ]
     },
     "execution_count": 193,
     "metadata": {},
     "output_type": "execute_result"
    }
   ],
   "source": [
    "df_3"
   ]
  },
  {
   "cell_type": "markdown",
   "id": "52187899-01be-445a-9aad-faebdcb7fe63",
   "metadata": {},
   "source": [
    "### Remove Duplicates"
   ]
  },
  {
   "cell_type": "code",
   "execution_count": 194,
   "id": "f0643841-725b-44fc-8214-2779193f7388",
   "metadata": {},
   "outputs": [],
   "source": [
    "# see: 1 import_and_duplicates_columns.ipynb\n",
    "# see: 2 quality assurance.ipynb"
   ]
  },
  {
   "cell_type": "code",
   "execution_count": 195,
   "id": "8204746e-2650-45cd-a93f-389dbd150412",
   "metadata": {},
   "outputs": [
    {
     "data": {
      "text/html": [
       "<div>\n",
       "<style scoped>\n",
       "    .dataframe tbody tr th:only-of-type {\n",
       "        vertical-align: middle;\n",
       "    }\n",
       "\n",
       "    .dataframe tbody tr th {\n",
       "        vertical-align: top;\n",
       "    }\n",
       "\n",
       "    .dataframe thead th {\n",
       "        text-align: right;\n",
       "    }\n",
       "</style>\n",
       "<table border=\"1\" class=\"dataframe\">\n",
       "  <thead>\n",
       "    <tr style=\"text-align: right;\">\n",
       "      <th></th>\n",
       "      <th>movie_name</th>\n",
       "      <th>Running time (min)</th>\n",
       "      <th>Release date</th>\n",
       "      <th>Box office</th>\n",
       "    </tr>\n",
       "  </thead>\n",
       "  <tbody>\n",
       "    <tr>\n",
       "      <th>0</th>\n",
       "      <td>Pinocchio (1940 film)</td>\n",
       "      <td>01:28</td>\n",
       "      <td>1940-02-07</td>\n",
       "      <td>164000000</td>\n",
       "    </tr>\n",
       "    <tr>\n",
       "      <th>1</th>\n",
       "      <td>Fantasia (1940 film)</td>\n",
       "      <td>02:06</td>\n",
       "      <td>1940-11-13</td>\n",
       "      <td>76400000</td>\n",
       "    </tr>\n",
       "    <tr>\n",
       "      <th>2</th>\n",
       "      <td>The Reluctant Dragon (1941 film)</td>\n",
       "      <td>01:14</td>\n",
       "      <td>1941-06-27</td>\n",
       "      <td>960000</td>\n",
       "    </tr>\n",
       "    <tr>\n",
       "      <th>3</th>\n",
       "      <td>Dumbo</td>\n",
       "      <td>01:04</td>\n",
       "      <td>1941-10-23</td>\n",
       "      <td>1300000</td>\n",
       "    </tr>\n",
       "    <tr>\n",
       "      <th>4</th>\n",
       "      <td>Bambi</td>\n",
       "      <td>01:10</td>\n",
       "      <td>1942-08-09</td>\n",
       "      <td>267399999</td>\n",
       "    </tr>\n",
       "    <tr>\n",
       "      <th>...</th>\n",
       "      <td>...</td>\n",
       "      <td>...</td>\n",
       "      <td>...</td>\n",
       "      <td>...</td>\n",
       "    </tr>\n",
       "    <tr>\n",
       "      <th>366</th>\n",
       "      <td>Chang Can Dunk</td>\n",
       "      <td>01:49</td>\n",
       "      <td>2023-03-10</td>\n",
       "      <td>1935761693</td>\n",
       "    </tr>\n",
       "    <tr>\n",
       "      <th>367</th>\n",
       "      <td>Peter Pan  Wendy</td>\n",
       "      <td>01:49</td>\n",
       "      <td>2023-04-28</td>\n",
       "      <td>1935761693</td>\n",
       "    </tr>\n",
       "    <tr>\n",
       "      <th>368</th>\n",
       "      <td>Crater (film)</td>\n",
       "      <td>01:45</td>\n",
       "      <td>2023-05-12</td>\n",
       "      <td>1935761693</td>\n",
       "    </tr>\n",
       "    <tr>\n",
       "      <th>369</th>\n",
       "      <td>Worlds Best (film)</td>\n",
       "      <td>01:41</td>\n",
       "      <td>2023-06-23</td>\n",
       "      <td>1935761693</td>\n",
       "    </tr>\n",
       "    <tr>\n",
       "      <th>370</th>\n",
       "      <td>Dashing Through the Snow</td>\n",
       "      <td>01:30</td>\n",
       "      <td>2023-11-17</td>\n",
       "      <td>1935761693</td>\n",
       "    </tr>\n",
       "  </tbody>\n",
       "</table>\n",
       "<p>371 rows × 4 columns</p>\n",
       "</div>"
      ],
      "text/plain": [
       "                           movie_name Running time (min) Release date  \\\n",
       "0               Pinocchio (1940 film)              01:28   1940-02-07   \n",
       "1                Fantasia (1940 film)              02:06   1940-11-13   \n",
       "2    The Reluctant Dragon (1941 film)              01:14   1941-06-27   \n",
       "3                               Dumbo              01:04   1941-10-23   \n",
       "4                               Bambi              01:10   1942-08-09   \n",
       "..                                ...                ...          ...   \n",
       "366                    Chang Can Dunk              01:49   2023-03-10   \n",
       "367                  Peter Pan  Wendy              01:49   2023-04-28   \n",
       "368                     Crater (film)              01:45   2023-05-12   \n",
       "369                Worlds Best (film)              01:41   2023-06-23   \n",
       "370          Dashing Through the Snow              01:30   2023-11-17   \n",
       "\n",
       "     Box office  \n",
       "0     164000000  \n",
       "1      76400000  \n",
       "2        960000  \n",
       "3       1300000  \n",
       "4     267399999  \n",
       "..          ...  \n",
       "366  1935761693  \n",
       "367  1935761693  \n",
       "368  1935761693  \n",
       "369  1935761693  \n",
       "370  1935761693  \n",
       "\n",
       "[371 rows x 4 columns]"
      ]
     },
     "execution_count": 195,
     "metadata": {},
     "output_type": "execute_result"
    }
   ],
   "source": [
    "df_3"
   ]
  },
  {
   "cell_type": "code",
   "execution_count": 196,
   "id": "196c518d-6524-4e72-8793-aa70091fc413",
   "metadata": {},
   "outputs": [
    {
     "data": {
      "text/html": [
       "<div>\n",
       "<style scoped>\n",
       "    .dataframe tbody tr th:only-of-type {\n",
       "        vertical-align: middle;\n",
       "    }\n",
       "\n",
       "    .dataframe tbody tr th {\n",
       "        vertical-align: top;\n",
       "    }\n",
       "\n",
       "    .dataframe thead th {\n",
       "        text-align: right;\n",
       "    }\n",
       "</style>\n",
       "<table border=\"1\" class=\"dataframe\">\n",
       "  <thead>\n",
       "    <tr style=\"text-align: right;\">\n",
       "      <th></th>\n",
       "      <th>movie_name</th>\n",
       "      <th>Running time (min)</th>\n",
       "      <th>Release date</th>\n",
       "      <th>Box office</th>\n",
       "    </tr>\n",
       "  </thead>\n",
       "  <tbody>\n",
       "    <tr>\n",
       "      <th>0</th>\n",
       "      <td>Pinocchio (1940 film)</td>\n",
       "      <td>01:28</td>\n",
       "      <td>1940-02-07</td>\n",
       "      <td>164000000</td>\n",
       "    </tr>\n",
       "    <tr>\n",
       "      <th>1</th>\n",
       "      <td>Fantasia (1940 film)</td>\n",
       "      <td>02:06</td>\n",
       "      <td>1940-11-13</td>\n",
       "      <td>76400000</td>\n",
       "    </tr>\n",
       "    <tr>\n",
       "      <th>2</th>\n",
       "      <td>The Reluctant Dragon (1941 film)</td>\n",
       "      <td>01:14</td>\n",
       "      <td>1941-06-27</td>\n",
       "      <td>960000</td>\n",
       "    </tr>\n",
       "    <tr>\n",
       "      <th>3</th>\n",
       "      <td>Dumbo</td>\n",
       "      <td>01:04</td>\n",
       "      <td>1941-10-23</td>\n",
       "      <td>1300000</td>\n",
       "    </tr>\n",
       "    <tr>\n",
       "      <th>4</th>\n",
       "      <td>Bambi</td>\n",
       "      <td>01:10</td>\n",
       "      <td>1942-08-09</td>\n",
       "      <td>267399999</td>\n",
       "    </tr>\n",
       "    <tr>\n",
       "      <th>...</th>\n",
       "      <td>...</td>\n",
       "      <td>...</td>\n",
       "      <td>...</td>\n",
       "      <td>...</td>\n",
       "    </tr>\n",
       "    <tr>\n",
       "      <th>366</th>\n",
       "      <td>Chang Can Dunk</td>\n",
       "      <td>01:49</td>\n",
       "      <td>2023-03-10</td>\n",
       "      <td>1935761693</td>\n",
       "    </tr>\n",
       "    <tr>\n",
       "      <th>367</th>\n",
       "      <td>Peter Pan  Wendy</td>\n",
       "      <td>01:49</td>\n",
       "      <td>2023-04-28</td>\n",
       "      <td>1935761693</td>\n",
       "    </tr>\n",
       "    <tr>\n",
       "      <th>368</th>\n",
       "      <td>Crater (film)</td>\n",
       "      <td>01:45</td>\n",
       "      <td>2023-05-12</td>\n",
       "      <td>1935761693</td>\n",
       "    </tr>\n",
       "    <tr>\n",
       "      <th>369</th>\n",
       "      <td>Worlds Best (film)</td>\n",
       "      <td>01:41</td>\n",
       "      <td>2023-06-23</td>\n",
       "      <td>1935761693</td>\n",
       "    </tr>\n",
       "    <tr>\n",
       "      <th>370</th>\n",
       "      <td>Dashing Through the Snow</td>\n",
       "      <td>01:30</td>\n",
       "      <td>2023-11-17</td>\n",
       "      <td>1935761693</td>\n",
       "    </tr>\n",
       "  </tbody>\n",
       "</table>\n",
       "<p>371 rows × 4 columns</p>\n",
       "</div>"
      ],
      "text/plain": [
       "                           movie_name Running time (min) Release date  \\\n",
       "0               Pinocchio (1940 film)              01:28   1940-02-07   \n",
       "1                Fantasia (1940 film)              02:06   1940-11-13   \n",
       "2    The Reluctant Dragon (1941 film)              01:14   1941-06-27   \n",
       "3                               Dumbo              01:04   1941-10-23   \n",
       "4                               Bambi              01:10   1942-08-09   \n",
       "..                                ...                ...          ...   \n",
       "366                    Chang Can Dunk              01:49   2023-03-10   \n",
       "367                  Peter Pan  Wendy              01:49   2023-04-28   \n",
       "368                     Crater (film)              01:45   2023-05-12   \n",
       "369                Worlds Best (film)              01:41   2023-06-23   \n",
       "370          Dashing Through the Snow              01:30   2023-11-17   \n",
       "\n",
       "     Box office  \n",
       "0     164000000  \n",
       "1      76400000  \n",
       "2        960000  \n",
       "3       1300000  \n",
       "4     267399999  \n",
       "..          ...  \n",
       "366  1935761693  \n",
       "367  1935761693  \n",
       "368  1935761693  \n",
       "369  1935761693  \n",
       "370  1935761693  \n",
       "\n",
       "[371 rows x 4 columns]"
      ]
     },
     "execution_count": 196,
     "metadata": {},
     "output_type": "execute_result"
    }
   ],
   "source": [
    "# Convert 'Box office' column to float data type\n",
    "df_3['Box office'] = df_3['Box office'].astype(float)\n",
    "\n",
    "# Round the values to remove decimal places\n",
    "df_3['Box office'] = df_3['Box office'].round(0)\n",
    "\n",
    "# Display the DataFrame to verify changes\n",
    "df_3"
   ]
  },
  {
   "cell_type": "code",
   "execution_count": 197,
   "id": "dc85c546-60fa-46ed-95fa-5cccc24f2115",
   "metadata": {},
   "outputs": [
    {
     "data": {
      "text/html": [
       "<div>\n",
       "<style scoped>\n",
       "    .dataframe tbody tr th:only-of-type {\n",
       "        vertical-align: middle;\n",
       "    }\n",
       "\n",
       "    .dataframe tbody tr th {\n",
       "        vertical-align: top;\n",
       "    }\n",
       "\n",
       "    .dataframe thead th {\n",
       "        text-align: right;\n",
       "    }\n",
       "</style>\n",
       "<table border=\"1\" class=\"dataframe\">\n",
       "  <thead>\n",
       "    <tr style=\"text-align: right;\">\n",
       "      <th></th>\n",
       "      <th>movie_name</th>\n",
       "      <th>Running time (min)</th>\n",
       "      <th>Release date</th>\n",
       "      <th>Box office</th>\n",
       "    </tr>\n",
       "  </thead>\n",
       "  <tbody>\n",
       "    <tr>\n",
       "      <th>0</th>\n",
       "      <td>Pinocchio (1940 film)</td>\n",
       "      <td>01:28</td>\n",
       "      <td>1940-02-07</td>\n",
       "      <td>164000000</td>\n",
       "    </tr>\n",
       "    <tr>\n",
       "      <th>1</th>\n",
       "      <td>Fantasia (1940 film)</td>\n",
       "      <td>02:06</td>\n",
       "      <td>1940-11-13</td>\n",
       "      <td>76400000</td>\n",
       "    </tr>\n",
       "    <tr>\n",
       "      <th>2</th>\n",
       "      <td>The Reluctant Dragon (1941 film)</td>\n",
       "      <td>01:14</td>\n",
       "      <td>1941-06-27</td>\n",
       "      <td>960000</td>\n",
       "    </tr>\n",
       "    <tr>\n",
       "      <th>3</th>\n",
       "      <td>Dumbo</td>\n",
       "      <td>01:04</td>\n",
       "      <td>1941-10-23</td>\n",
       "      <td>1300000</td>\n",
       "    </tr>\n",
       "    <tr>\n",
       "      <th>4</th>\n",
       "      <td>Bambi</td>\n",
       "      <td>01:10</td>\n",
       "      <td>1942-08-09</td>\n",
       "      <td>267399999</td>\n",
       "    </tr>\n",
       "    <tr>\n",
       "      <th>...</th>\n",
       "      <td>...</td>\n",
       "      <td>...</td>\n",
       "      <td>...</td>\n",
       "      <td>...</td>\n",
       "    </tr>\n",
       "    <tr>\n",
       "      <th>366</th>\n",
       "      <td>Chang Can Dunk</td>\n",
       "      <td>01:49</td>\n",
       "      <td>2023-03-10</td>\n",
       "      <td>1935761693</td>\n",
       "    </tr>\n",
       "    <tr>\n",
       "      <th>367</th>\n",
       "      <td>Peter Pan  Wendy</td>\n",
       "      <td>01:49</td>\n",
       "      <td>2023-04-28</td>\n",
       "      <td>1935761693</td>\n",
       "    </tr>\n",
       "    <tr>\n",
       "      <th>368</th>\n",
       "      <td>Crater (film)</td>\n",
       "      <td>01:45</td>\n",
       "      <td>2023-05-12</td>\n",
       "      <td>1935761693</td>\n",
       "    </tr>\n",
       "    <tr>\n",
       "      <th>369</th>\n",
       "      <td>Worlds Best (film)</td>\n",
       "      <td>01:41</td>\n",
       "      <td>2023-06-23</td>\n",
       "      <td>1935761693</td>\n",
       "    </tr>\n",
       "    <tr>\n",
       "      <th>370</th>\n",
       "      <td>Dashing Through the Snow</td>\n",
       "      <td>01:30</td>\n",
       "      <td>2023-11-17</td>\n",
       "      <td>1935761693</td>\n",
       "    </tr>\n",
       "  </tbody>\n",
       "</table>\n",
       "<p>371 rows × 4 columns</p>\n",
       "</div>"
      ],
      "text/plain": [
       "                           movie_name Running time (min) Release date  \\\n",
       "0               Pinocchio (1940 film)              01:28   1940-02-07   \n",
       "1                Fantasia (1940 film)              02:06   1940-11-13   \n",
       "2    The Reluctant Dragon (1941 film)              01:14   1941-06-27   \n",
       "3                               Dumbo              01:04   1941-10-23   \n",
       "4                               Bambi              01:10   1942-08-09   \n",
       "..                                ...                ...          ...   \n",
       "366                    Chang Can Dunk              01:49   2023-03-10   \n",
       "367                  Peter Pan  Wendy              01:49   2023-04-28   \n",
       "368                     Crater (film)              01:45   2023-05-12   \n",
       "369                Worlds Best (film)              01:41   2023-06-23   \n",
       "370          Dashing Through the Snow              01:30   2023-11-17   \n",
       "\n",
       "     Box office  \n",
       "0     164000000  \n",
       "1      76400000  \n",
       "2        960000  \n",
       "3       1300000  \n",
       "4     267399999  \n",
       "..          ...  \n",
       "366  1935761693  \n",
       "367  1935761693  \n",
       "368  1935761693  \n",
       "369  1935761693  \n",
       "370  1935761693  \n",
       "\n",
       "[371 rows x 4 columns]"
      ]
     },
     "execution_count": 197,
     "metadata": {},
     "output_type": "execute_result"
    }
   ],
   "source": [
    "# Set display options to show full float values without scientific notation\n",
    "pd.set_option('display.float_format', lambda x: '{:.0f}'.format(x))\n",
    "\n",
    "# Display the DataFrame to see the updated representation\n",
    "df_3"
   ]
  },
  {
   "cell_type": "code",
   "execution_count": 198,
   "id": "23f547c2-5106-488b-80b3-2c77dc56dd96",
   "metadata": {},
   "outputs": [
    {
     "name": "stdout",
     "output_type": "stream",
     "text": [
      "                 movie_name Running time (min) Release date  Box office\n",
      "310    Anaganaga O Dheerudu                NaN   2011-01-14  1935761693\n",
      "340  Ghost of the Mountains                NaN   2017-06-30  1935761693\n"
     ]
    }
   ],
   "source": [
    "# Find rows with empty values\n",
    "empty_rows = df_3[df_3.isnull().any(axis=1)]\n",
    "\n",
    "# Display the rows with empty values\n",
    "print(empty_rows)"
   ]
  },
  {
   "cell_type": "code",
   "execution_count": 199,
   "id": "287df0f7-2c97-414a-bf65-9814fe866373",
   "metadata": {},
   "outputs": [],
   "source": [
    "df_3.to_csv('df_3.csv', index=False, sep=',', encoding='utf-8')"
   ]
  },
  {
   "cell_type": "code",
   "execution_count": 200,
   "id": "83579e5e-3fe4-4ea8-9012-a0957bb96517",
   "metadata": {},
   "outputs": [],
   "source": [
    "# Read uncleaned disney_movies.csv file\n",
    "df_3 = pd.read_csv(r'C:\\Users\\ashwi\\Documents\\Data Analytics\\QA\\Data\\Cleaned\\Python\\df_3.csv', index_col=False, sep=',')"
   ]
  },
  {
   "cell_type": "code",
   "execution_count": 201,
   "id": "33f9592c-79f2-4e44-bdcd-7185f89e9e74",
   "metadata": {},
   "outputs": [
    {
     "data": {
      "text/html": [
       "<div>\n",
       "<style scoped>\n",
       "    .dataframe tbody tr th:only-of-type {\n",
       "        vertical-align: middle;\n",
       "    }\n",
       "\n",
       "    .dataframe tbody tr th {\n",
       "        vertical-align: top;\n",
       "    }\n",
       "\n",
       "    .dataframe thead th {\n",
       "        text-align: right;\n",
       "    }\n",
       "</style>\n",
       "<table border=\"1\" class=\"dataframe\">\n",
       "  <thead>\n",
       "    <tr style=\"text-align: right;\">\n",
       "      <th></th>\n",
       "      <th>movie_name</th>\n",
       "      <th>Running time (min)</th>\n",
       "      <th>Release date</th>\n",
       "      <th>Box office</th>\n",
       "    </tr>\n",
       "  </thead>\n",
       "  <tbody>\n",
       "    <tr>\n",
       "      <th>0</th>\n",
       "      <td>Pinocchio (1940 film)</td>\n",
       "      <td>01:28</td>\n",
       "      <td>1940-02-07</td>\n",
       "      <td>164000000</td>\n",
       "    </tr>\n",
       "  </tbody>\n",
       "</table>\n",
       "</div>"
      ],
      "text/plain": [
       "              movie_name Running time (min) Release date  Box office\n",
       "0  Pinocchio (1940 film)              01:28   1940-02-07   164000000"
      ]
     },
     "execution_count": 201,
     "metadata": {},
     "output_type": "execute_result"
    }
   ],
   "source": [
    "df_3.head(1)"
   ]
  },
  {
   "cell_type": "markdown",
   "id": "af95552a-a96b-45bb-8bff-e1ef16093cf7",
   "metadata": {},
   "source": [
    "## Visualization libraries"
   ]
  },
  {
   "cell_type": "markdown",
   "id": "3059c2b4-40f8-496a-8b3a-4b7da3ab5374",
   "metadata": {},
   "source": [
    "### Matplotlib"
   ]
  },
  {
   "cell_type": "code",
   "execution_count": 202,
   "id": "7488b76b-3367-4f84-af53-2626e22fbcd5",
   "metadata": {},
   "outputs": [
    {
     "data": {
      "text/plain": [
       "Index(['movie_name', 'Running time (min)', 'Release date', 'Box office'], dtype='object')"
      ]
     },
     "execution_count": 202,
     "metadata": {},
     "output_type": "execute_result"
    }
   ],
   "source": [
    "df_3.columns"
   ]
  },
  {
   "cell_type": "code",
   "execution_count": 204,
   "id": "5655cddb-9ad8-4a83-8e9a-b2e164844322",
   "metadata": {},
   "outputs": [
    {
     "data": {
      "text/plain": [
       "movie_name                    object\n",
       "Running time (min)           float64\n",
       "Release date          datetime64[ns]\n",
       "Box office                   float64\n",
       "dtype: object"
      ]
     },
     "execution_count": 204,
     "metadata": {},
     "output_type": "execute_result"
    }
   ],
   "source": [
    "df_3.dtypes"
   ]
  },
  {
   "cell_type": "markdown",
   "id": "faf450f1-c3c8-4676-b621-7793dd94e8c8",
   "metadata": {},
   "source": [
    "#### Line Plot of Running Time Over Time"
   ]
  },
  {
   "cell_type": "code",
   "execution_count": null,
   "id": "a34643f9-6613-4036-9a1b-37e2c780bc51",
   "metadata": {},
   "outputs": [],
   "source": []
  },
  {
   "cell_type": "markdown",
   "id": "37d7307f-05b3-4ac9-886e-8b56c7e1a7b0",
   "metadata": {},
   "source": [
    "#### Box Plot of Box Office Earnings by Movie"
   ]
  },
  {
   "cell_type": "code",
   "execution_count": null,
   "id": "0ea27236-b9ab-4c9f-8cbd-5b5ac31d7652",
   "metadata": {},
   "outputs": [],
   "source": []
  },
  {
   "cell_type": "markdown",
   "id": "0e9138c2-4044-4468-88ab-b5d81a05cd10",
   "metadata": {},
   "source": [
    "#### Scatter Plot of Running Time vs. Box Office Earnings"
   ]
  },
  {
   "cell_type": "code",
   "execution_count": null,
   "id": "482f536e-4c0e-4b55-9aa7-8f757915a8e7",
   "metadata": {},
   "outputs": [],
   "source": []
  },
  {
   "cell_type": "markdown",
   "id": "55622327-404d-4e9a-8810-e2533a9f9b7c",
   "metadata": {},
   "source": [
    "#### Histogram of Running Times"
   ]
  },
  {
   "cell_type": "code",
   "execution_count": null,
   "id": "c6c77e5d-565b-4079-967b-7acc815d7d9b",
   "metadata": {},
   "outputs": [],
   "source": []
  },
  {
   "cell_type": "markdown",
   "id": "463d6bda-d212-4060-9183-c08055f44165",
   "metadata": {},
   "source": [
    "#### Pie Chart of Box Office Earnings"
   ]
  },
  {
   "cell_type": "code",
   "execution_count": null,
   "id": "d468f244-d1f0-42eb-b4da-194dd715f26a",
   "metadata": {},
   "outputs": [],
   "source": []
  },
  {
   "cell_type": "markdown",
   "id": "2d5b2e8f-aafd-48ee-8e37-a8de5d9b6269",
   "metadata": {},
   "source": [
    "#### Seaborn"
   ]
  },
  {
   "cell_type": "code",
   "execution_count": null,
   "id": "10df450e-10f2-4785-b6bf-7fd01fc64807",
   "metadata": {},
   "outputs": [],
   "source": []
  },
  {
   "cell_type": "markdown",
   "id": "21b01356-8e35-42af-8d9b-a654b1d628d1",
   "metadata": {},
   "source": [
    "#### Plotly"
   ]
  },
  {
   "cell_type": "code",
   "execution_count": null,
   "id": "915c2bb6-9253-4d7c-a420-07f17ef333f4",
   "metadata": {},
   "outputs": [],
   "source": []
  },
  {
   "cell_type": "markdown",
   "id": "5eb15296-adf9-49e9-8dd1-81f888f7cc9f",
   "metadata": {},
   "source": [
    "#### Z-Score"
   ]
  },
  {
   "cell_type": "code",
   "execution_count": null,
   "id": "fe1f63f6-de27-47b2-980a-2b16d1864903",
   "metadata": {},
   "outputs": [],
   "source": []
  },
  {
   "cell_type": "markdown",
   "id": "2a206fe0-0162-46c8-b251-20798e54b327",
   "metadata": {},
   "source": [
    "#### IQR"
   ]
  },
  {
   "cell_type": "code",
   "execution_count": null,
   "id": "85f0dd54-0d4b-4444-9a6f-e789e326f7f3",
   "metadata": {},
   "outputs": [],
   "source": []
  },
  {
   "cell_type": "markdown",
   "id": "c2153530-19c9-4935-883d-487c61661f65",
   "metadata": {},
   "source": [
    "## Statistical Analysis"
   ]
  },
  {
   "cell_type": "markdown",
   "id": "7998e398-45c7-44a1-b062-aabbd900f262",
   "metadata": {},
   "source": [
    "### Descriptive Statistics"
   ]
  },
  {
   "cell_type": "code",
   "execution_count": 58,
   "id": "65b6eff6-f8c7-49e2-b413-28ef510152da",
   "metadata": {},
   "outputs": [
    {
     "data": {
      "text/html": [
       "<div>\n",
       "<style scoped>\n",
       "    .dataframe tbody tr th:only-of-type {\n",
       "        vertical-align: middle;\n",
       "    }\n",
       "\n",
       "    .dataframe tbody tr th {\n",
       "        vertical-align: top;\n",
       "    }\n",
       "\n",
       "    .dataframe thead th {\n",
       "        text-align: right;\n",
       "    }\n",
       "</style>\n",
       "<table border=\"1\" class=\"dataframe\">\n",
       "  <thead>\n",
       "    <tr style=\"text-align: right;\">\n",
       "      <th></th>\n",
       "      <th>Box office</th>\n",
       "    </tr>\n",
       "  </thead>\n",
       "  <tbody>\n",
       "    <tr>\n",
       "      <th>count</th>\n",
       "      <td>2.690000e+02</td>\n",
       "    </tr>\n",
       "    <tr>\n",
       "      <th>mean</th>\n",
       "      <td>1.935762e+09</td>\n",
       "    </tr>\n",
       "    <tr>\n",
       "      <th>std</th>\n",
       "      <td>3.048122e+10</td>\n",
       "    </tr>\n",
       "    <tr>\n",
       "      <th>min</th>\n",
       "      <td>1.600000e-01</td>\n",
       "    </tr>\n",
       "    <tr>\n",
       "      <th>25%</th>\n",
       "      <td>5.100000e+06</td>\n",
       "    </tr>\n",
       "    <tr>\n",
       "      <th>50%</th>\n",
       "      <td>2.290000e+07</td>\n",
       "    </tr>\n",
       "    <tr>\n",
       "      <th>75%</th>\n",
       "      <td>7.220000e+07</td>\n",
       "    </tr>\n",
       "    <tr>\n",
       "      <th>max</th>\n",
       "      <td>5.000003e+11</td>\n",
       "    </tr>\n",
       "  </tbody>\n",
       "</table>\n",
       "</div>"
      ],
      "text/plain": [
       "         Box office\n",
       "count  2.690000e+02\n",
       "mean   1.935762e+09\n",
       "std    3.048122e+10\n",
       "min    1.600000e-01\n",
       "25%    5.100000e+06\n",
       "50%    2.290000e+07\n",
       "75%    7.220000e+07\n",
       "max    5.000003e+11"
      ]
     },
     "execution_count": 58,
     "metadata": {},
     "output_type": "execute_result"
    }
   ],
   "source": [
    "df_3.describe()"
   ]
  },
  {
   "cell_type": "markdown",
   "id": "bba51d08-4965-49a0-86c2-3dd78b223269",
   "metadata": {},
   "source": [
    "#### Correlation analysis"
   ]
  },
  {
   "cell_type": "code",
   "execution_count": null,
   "id": "a6a31b0d-95dd-48dd-959c-77c4ab935505",
   "metadata": {},
   "outputs": [],
   "source": [
    "df_3.corr()"
   ]
  },
  {
   "cell_type": "markdown",
   "id": "830e2e97-e930-49c3-b946-b855eaebe9ab",
   "metadata": {},
   "source": [
    "#### Hypothesis testing"
   ]
  },
  {
   "cell_type": "code",
   "execution_count": null,
   "id": "d46a4b9f-afeb-4403-b432-076545d50532",
   "metadata": {},
   "outputs": [],
   "source": [
    "scipy.stats"
   ]
  },
  {
   "cell_type": "code",
   "execution_count": null,
   "id": "4859fcd3-dd1e-4551-817e-125060cb276d",
   "metadata": {},
   "outputs": [],
   "source": []
  },
  {
   "cell_type": "code",
   "execution_count": null,
   "id": "349c3822-6db4-4f17-8dfe-18897837002c",
   "metadata": {},
   "outputs": [],
   "source": [
    "t-tests"
   ]
  },
  {
   "cell_type": "code",
   "execution_count": null,
   "id": "41b0a2f9-d96e-4678-aa4d-baa9a039b89b",
   "metadata": {},
   "outputs": [],
   "source": []
  },
  {
   "cell_type": "code",
   "execution_count": null,
   "id": "4eeb8d62-35d9-4b3c-9c6a-c80ceeca6a05",
   "metadata": {},
   "outputs": [],
   "source": [
    "ANOVA"
   ]
  },
  {
   "cell_type": "code",
   "execution_count": null,
   "id": "da68aaf1-60ea-42a7-8297-950f87c2ee54",
   "metadata": {},
   "outputs": [],
   "source": []
  },
  {
   "cell_type": "markdown",
   "id": "8273eb20-7e6e-47b6-bbee-8e49b27991c6",
   "metadata": {},
   "source": [
    "#### Regression analysis"
   ]
  },
  {
   "cell_type": "code",
   "execution_count": null,
   "id": "4dc2cd28-b136-466f-888f-6fa9b00c3b1e",
   "metadata": {},
   "outputs": [],
   "source": [
    "statsmodels"
   ]
  },
  {
   "cell_type": "code",
   "execution_count": null,
   "id": "150be701-9245-4c6a-8ec3-382753a27725",
   "metadata": {},
   "outputs": [],
   "source": [
    "scikit-learn"
   ]
  }
 ],
 "metadata": {
  "kernelspec": {
   "display_name": "Python 3 (ipykernel)",
   "language": "python",
   "name": "python3"
  },
  "language_info": {
   "codemirror_mode": {
    "name": "ipython",
    "version": 3
   },
   "file_extension": ".py",
   "mimetype": "text/x-python",
   "name": "python",
   "nbconvert_exporter": "python",
   "pygments_lexer": "ipython3",
   "version": "3.11.7"
  }
 },
 "nbformat": 4,
 "nbformat_minor": 5
}
