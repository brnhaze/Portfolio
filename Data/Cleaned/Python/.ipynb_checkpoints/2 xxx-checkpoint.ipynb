{
 "cells": [
  {
   "cell_type": "code",
   "execution_count": 1,
   "id": "7af6185d-b4a9-4c7a-9535-2e1f03b21a00",
   "metadata": {},
   "outputs": [],
   "source": [
    "import pandas as pd"
   ]
  },
  {
   "cell_type": "code",
   "execution_count": 5,
   "id": "07a0f930-79ff-433b-a0b6-f1de54d93edd",
   "metadata": {},
   "outputs": [],
   "source": [
    "# Read uncleaned disney_movies.csv file\n",
    "df_1 = pd.read_csv(r'C:\\Users\\ashwi\\Documents\\Data Analytics\\QA\\Data\\Cleaned\\Python\\df_1.csv')"
   ]
  },
  {
   "cell_type": "code",
   "execution_count": 8,
   "id": "e98d2150-a535-4f39-a9dd-921a756c7fc3",
   "metadata": {},
   "outputs": [
    {
     "data": {
      "text/plain": [
       "(525, 22)"
      ]
     },
     "execution_count": 8,
     "metadata": {},
     "output_type": "execute_result"
    }
   ],
   "source": [
    "df_1.shape"
   ]
  },
  {
   "cell_type": "code",
   "execution_count": 10,
   "id": "e166b02b-aa21-4bd9-a22c-33a2468f614b",
   "metadata": {},
   "outputs": [
    {
     "data": {
      "text/plain": [
       "Unnamed: 0            int64\n",
       "movie_name           object\n",
       "Directed by          object\n",
       "Story by             object\n",
       "Based on             object\n",
       "Produced by          object\n",
       "Starring             object\n",
       "Music by             object\n",
       "Productioncompany    object\n",
       "Distributed by       object\n",
       "Running time         object\n",
       "Country              object\n",
       "Language             object\n",
       "Budget               object\n",
       "Box office           object\n",
       "Narrated by          object\n",
       "Cinematography       object\n",
       "Release date         object\n",
       "Written by           object\n",
       "Edited by            object\n",
       "Screenplay by        object\n",
       "Countries            object\n",
       "dtype: object"
      ]
     },
     "execution_count": 10,
     "metadata": {},
     "output_type": "execute_result"
    }
   ],
   "source": [
    "df_1.dtypes"
   ]
  },
  {
   "cell_type": "code",
   "execution_count": 14,
   "id": "a1c298b0-ef78-4ca2-9d88-5ae71c5908ab",
   "metadata": {},
   "outputs": [
    {
     "data": {
      "text/plain": [
       "['Based on',\n",
       " 'Box office',\n",
       " 'Budget',\n",
       " 'Cinematography',\n",
       " 'Countries',\n",
       " 'Country',\n",
       " 'Directed by',\n",
       " 'Distributed by',\n",
       " 'Edited by',\n",
       " 'Language',\n",
       " 'Music by',\n",
       " 'Narrated by',\n",
       " 'Produced by',\n",
       " 'Productioncompany',\n",
       " 'Release date',\n",
       " 'Running time',\n",
       " 'Screenplay by',\n",
       " 'Starring',\n",
       " 'Story by',\n",
       " 'Unnamed: 0',\n",
       " 'Written by',\n",
       " 'movie_name']"
      ]
     },
     "execution_count": 14,
     "metadata": {},
     "output_type": "execute_result"
    }
   ],
   "source": [
    "list = df_1.columns.tolist()\n",
    "sorted_list = sorted(list)\n",
    "sorted_list"
   ]
  },
  {
   "cell_type": "code",
   "execution_count": null,
   "id": "f6506c1a-de60-43b8-843a-b59f7ac95dd7",
   "metadata": {},
   "outputs": [],
   "source": []
  }
 ],
 "metadata": {
  "kernelspec": {
   "display_name": "Python 3 (ipykernel)",
   "language": "python",
   "name": "python3"
  },
  "language_info": {
   "codemirror_mode": {
    "name": "ipython",
    "version": 3
   },
   "file_extension": ".py",
   "mimetype": "text/x-python",
   "name": "python",
   "nbconvert_exporter": "python",
   "pygments_lexer": "ipython3",
   "version": "3.11.7"
  }
 },
 "nbformat": 4,
 "nbformat_minor": 5
}
