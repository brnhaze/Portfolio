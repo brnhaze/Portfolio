{
 "cells": [
  {
   "cell_type": "code",
   "execution_count": 994,
   "id": "7af6185d-b4a9-4c7a-9535-2e1f03b21a00",
   "metadata": {},
   "outputs": [],
   "source": [
    "import pandas as pd"
   ]
  },
  {
   "cell_type": "code",
   "execution_count": 995,
   "id": "07a0f930-79ff-433b-a0b6-f1de54d93edd",
   "metadata": {},
   "outputs": [],
   "source": [
    "# Read uncleaned disney_movies.csv file\n",
    "df_1 = pd.read_csv(r'C:\\Users\\ashwi\\Documents\\Data Analytics\\QA\\Data\\Cleaned\\Python\\df_1.csv', index_col=False)"
   ]
  },
  {
   "cell_type": "code",
   "execution_count": 996,
   "id": "e98d2150-a535-4f39-a9dd-921a756c7fc3",
   "metadata": {},
   "outputs": [
    {
     "data": {
      "text/plain": [
       "(525, 21)"
      ]
     },
     "execution_count": 996,
     "metadata": {},
     "output_type": "execute_result"
    }
   ],
   "source": [
    "df_1.shape"
   ]
  },
  {
   "cell_type": "code",
   "execution_count": 997,
   "id": "e166b02b-aa21-4bd9-a22c-33a2468f614b",
   "metadata": {},
   "outputs": [
    {
     "data": {
      "text/plain": [
       "Unnamed: 0            int64\n",
       "movie_name           object\n",
       "Directed by          object\n",
       "Story by             object\n",
       "Based on             object\n",
       "Produced by          object\n",
       "Starring             object\n",
       "Music by             object\n",
       "Productioncompany    object\n",
       "Distributed by       object\n",
       "Running time         object\n",
       "Country              object\n",
       "Language             object\n",
       "Budget               object\n",
       "Box office           object\n",
       "Narrated by          object\n",
       "Cinematography       object\n",
       "Release date         object\n",
       "Written by           object\n",
       "Edited by            object\n",
       "Screenplay by        object\n",
       "dtype: object"
      ]
     },
     "execution_count": 997,
     "metadata": {},
     "output_type": "execute_result"
    }
   ],
   "source": [
    "df_1.dtypes"
   ]
  },
  {
   "cell_type": "code",
   "execution_count": 998,
   "id": "a1c298b0-ef78-4ca2-9d88-5ae71c5908ab",
   "metadata": {},
   "outputs": [
    {
     "data": {
      "text/plain": [
       "['Based on',\n",
       " 'Box office',\n",
       " 'Budget',\n",
       " 'Cinematography',\n",
       " 'Country',\n",
       " 'Directed by',\n",
       " 'Distributed by',\n",
       " 'Edited by',\n",
       " 'Language',\n",
       " 'Music by',\n",
       " 'Narrated by',\n",
       " 'Produced by',\n",
       " 'Productioncompany',\n",
       " 'Release date',\n",
       " 'Running time',\n",
       " 'Screenplay by',\n",
       " 'Starring',\n",
       " 'Story by',\n",
       " 'Unnamed: 0',\n",
       " 'Written by',\n",
       " 'movie_name']"
      ]
     },
     "execution_count": 998,
     "metadata": {},
     "output_type": "execute_result"
    }
   ],
   "source": [
    "list = df_1.columns.tolist()\n",
    "sorted_list = sorted(list)\n",
    "sorted_list"
   ]
  },
  {
   "cell_type": "code",
   "execution_count": 999,
   "id": "f6506c1a-de60-43b8-843a-b59f7ac95dd7",
   "metadata": {},
   "outputs": [
    {
     "data": {
      "text/html": [
       "<div>\n",
       "<style scoped>\n",
       "    .dataframe tbody tr th:only-of-type {\n",
       "        vertical-align: middle;\n",
       "    }\n",
       "\n",
       "    .dataframe tbody tr th {\n",
       "        vertical-align: top;\n",
       "    }\n",
       "\n",
       "    .dataframe thead th {\n",
       "        text-align: right;\n",
       "    }\n",
       "</style>\n",
       "<table border=\"1\" class=\"dataframe\">\n",
       "  <thead>\n",
       "    <tr style=\"text-align: right;\">\n",
       "      <th></th>\n",
       "      <th>Unnamed: 0</th>\n",
       "      <th>movie_name</th>\n",
       "      <th>Directed by</th>\n",
       "      <th>Story by</th>\n",
       "      <th>Based on</th>\n",
       "      <th>Produced by</th>\n",
       "      <th>Starring</th>\n",
       "      <th>Music by</th>\n",
       "      <th>Productioncompany</th>\n",
       "      <th>Distributed by</th>\n",
       "      <th>...</th>\n",
       "      <th>Country</th>\n",
       "      <th>Language</th>\n",
       "      <th>Budget</th>\n",
       "      <th>Box office</th>\n",
       "      <th>Narrated by</th>\n",
       "      <th>Cinematography</th>\n",
       "      <th>Release date</th>\n",
       "      <th>Written by</th>\n",
       "      <th>Edited by</th>\n",
       "      <th>Screenplay by</th>\n",
       "    </tr>\n",
       "  </thead>\n",
       "  <tbody>\n",
       "    <tr>\n",
       "      <th>0</th>\n",
       "      <td>0</td>\n",
       "      <td>Snow White and the Seven Dwarfs (1937 film)</td>\n",
       "      <td>['David Hand', 'Perce Pearce', 'Larry Morey', 'Wilfred Jackson', 'Ben Sharpsteen']</td>\n",
       "      <td>['Ted Sears', 'Earl Hurd', 'Merrill De Maris']</td>\n",
       "      <td>['Snow White', 'Brothers Grimm']</td>\n",
       "      <td>['Walt Disney']</td>\n",
       "      <td>['Adriana Caselotti', 'Roy Atwell', 'Pinto Colvig', 'Otis Harlan', 'Scotty Mattraw', 'Billy Gilbert', 'Eddie Collins']</td>\n",
       "      <td>['Frank Churchill', 'Leigh Harline', 'Paul Smith']</td>\n",
       "      <td>['Walt Disney Productions']</td>\n",
       "      <td>['RKO Radio Pictures']</td>\n",
       "      <td>...</td>\n",
       "      <td>['United States']</td>\n",
       "      <td>['English']</td>\n",
       "      <td>['$1.5 million[1]']</td>\n",
       "      <td>['$418 million[2]']</td>\n",
       "      <td>NaN</td>\n",
       "      <td>NaN</td>\n",
       "      <td>['Carthay Circle Theatre']</td>\n",
       "      <td>NaN</td>\n",
       "      <td>NaN</td>\n",
       "      <td>NaN</td>\n",
       "    </tr>\n",
       "  </tbody>\n",
       "</table>\n",
       "<p>1 rows × 21 columns</p>\n",
       "</div>"
      ],
      "text/plain": [
       "   Unnamed: 0                                   movie_name  \\\n",
       "0           0  Snow White and the Seven Dwarfs (1937 film)   \n",
       "\n",
       "                                                                          Directed by  \\\n",
       "0  ['David Hand', 'Perce Pearce', 'Larry Morey', 'Wilfred Jackson', 'Ben Sharpsteen']   \n",
       "\n",
       "                                         Story by  \\\n",
       "0  ['Ted Sears', 'Earl Hurd', 'Merrill De Maris']   \n",
       "\n",
       "                           Based on      Produced by  \\\n",
       "0  ['Snow White', 'Brothers Grimm']  ['Walt Disney']   \n",
       "\n",
       "                                                                                                                 Starring  \\\n",
       "0  ['Adriana Caselotti', 'Roy Atwell', 'Pinto Colvig', 'Otis Harlan', 'Scotty Mattraw', 'Billy Gilbert', 'Eddie Collins']   \n",
       "\n",
       "                                             Music by  \\\n",
       "0  ['Frank Churchill', 'Leigh Harline', 'Paul Smith']   \n",
       "\n",
       "             Productioncompany          Distributed by  ...  \\\n",
       "0  ['Walt Disney Productions']  ['RKO Radio Pictures']  ...   \n",
       "\n",
       "             Country     Language               Budget           Box office  \\\n",
       "0  ['United States']  ['English']  ['$1.5 million[1]']  ['$418 million[2]']   \n",
       "\n",
       "  Narrated by Cinematography                Release date Written by Edited by  \\\n",
       "0         NaN            NaN  ['Carthay Circle Theatre']        NaN       NaN   \n",
       "\n",
       "  Screenplay by  \n",
       "0           NaN  \n",
       "\n",
       "[1 rows x 21 columns]"
      ]
     },
     "execution_count": 999,
     "metadata": {},
     "output_type": "execute_result"
    }
   ],
   "source": [
    "df_1.head(1)"
   ]
  },
  {
   "cell_type": "markdown",
   "id": "aedfc640-0cf8-442a-b2ef-a830f06f416e",
   "metadata": {},
   "source": [
    "## Remove leading [' and '] from columns"
   ]
  },
  {
   "cell_type": "code",
   "execution_count": 1000,
   "id": "ba094be4-53a3-401d-b5bd-2525b2af550c",
   "metadata": {},
   "outputs": [
    {
     "data": {
      "text/html": [
       "<div>\n",
       "<style scoped>\n",
       "    .dataframe tbody tr th:only-of-type {\n",
       "        vertical-align: middle;\n",
       "    }\n",
       "\n",
       "    .dataframe tbody tr th {\n",
       "        vertical-align: top;\n",
       "    }\n",
       "\n",
       "    .dataframe thead th {\n",
       "        text-align: right;\n",
       "    }\n",
       "</style>\n",
       "<table border=\"1\" class=\"dataframe\">\n",
       "  <thead>\n",
       "    <tr style=\"text-align: right;\">\n",
       "      <th></th>\n",
       "      <th>Unnamed: 0</th>\n",
       "      <th>movie_name</th>\n",
       "      <th>Directed by</th>\n",
       "      <th>Story by</th>\n",
       "      <th>Based on</th>\n",
       "      <th>Produced by</th>\n",
       "      <th>Starring</th>\n",
       "      <th>Music by</th>\n",
       "      <th>Productioncompany</th>\n",
       "      <th>Distributed by</th>\n",
       "      <th>...</th>\n",
       "      <th>Country</th>\n",
       "      <th>Language</th>\n",
       "      <th>Budget</th>\n",
       "      <th>Box office</th>\n",
       "      <th>Narrated by</th>\n",
       "      <th>Cinematography</th>\n",
       "      <th>Release date</th>\n",
       "      <th>Written by</th>\n",
       "      <th>Edited by</th>\n",
       "      <th>Screenplay by</th>\n",
       "    </tr>\n",
       "  </thead>\n",
       "  <tbody>\n",
       "    <tr>\n",
       "      <th>0</th>\n",
       "      <td>0</td>\n",
       "      <td>Snow White and the Seven Dwarfs (1937 film)</td>\n",
       "      <td>David Hand', 'Perce Pearce', 'Larry Morey', 'Wilfred Jackson', 'Ben Sharpsteen</td>\n",
       "      <td>Ted Sears', 'Earl Hurd', 'Merrill De Maris</td>\n",
       "      <td>Snow White', 'Brothers Grimm</td>\n",
       "      <td>Walt Disney</td>\n",
       "      <td>Adriana Caselotti', 'Roy Atwell', 'Pinto Colvig', 'Otis Harlan', 'Scotty Mattraw', 'Billy Gilbert', 'Eddie Collins</td>\n",
       "      <td>Frank Churchill', 'Leigh Harline', 'Paul Smith</td>\n",
       "      <td>Walt Disney Productions</td>\n",
       "      <td>RKO Radio Pictures</td>\n",
       "      <td>...</td>\n",
       "      <td>United States</td>\n",
       "      <td>English</td>\n",
       "      <td>$1.5 million[1]</td>\n",
       "      <td>$418 million[2]</td>\n",
       "      <td>NaN</td>\n",
       "      <td>NaN</td>\n",
       "      <td>Carthay Circle Theatre</td>\n",
       "      <td>NaN</td>\n",
       "      <td>NaN</td>\n",
       "      <td>NaN</td>\n",
       "    </tr>\n",
       "  </tbody>\n",
       "</table>\n",
       "<p>1 rows × 21 columns</p>\n",
       "</div>"
      ],
      "text/plain": [
       "   Unnamed: 0                                   movie_name  \\\n",
       "0           0  Snow White and the Seven Dwarfs (1937 film)   \n",
       "\n",
       "                                                                      Directed by  \\\n",
       "0  David Hand', 'Perce Pearce', 'Larry Morey', 'Wilfred Jackson', 'Ben Sharpsteen   \n",
       "\n",
       "                                     Story by                      Based on  \\\n",
       "0  Ted Sears', 'Earl Hurd', 'Merrill De Maris  Snow White', 'Brothers Grimm   \n",
       "\n",
       "   Produced by  \\\n",
       "0  Walt Disney   \n",
       "\n",
       "                                                                                                             Starring  \\\n",
       "0  Adriana Caselotti', 'Roy Atwell', 'Pinto Colvig', 'Otis Harlan', 'Scotty Mattraw', 'Billy Gilbert', 'Eddie Collins   \n",
       "\n",
       "                                         Music by        Productioncompany  \\\n",
       "0  Frank Churchill', 'Leigh Harline', 'Paul Smith  Walt Disney Productions   \n",
       "\n",
       "       Distributed by  ...        Country Language           Budget  \\\n",
       "0  RKO Radio Pictures  ...  United States  English  $1.5 million[1]   \n",
       "\n",
       "        Box office Narrated by Cinematography            Release date  \\\n",
       "0  $418 million[2]         NaN            NaN  Carthay Circle Theatre   \n",
       "\n",
       "  Written by Edited by Screenplay by  \n",
       "0        NaN       NaN           NaN  \n",
       "\n",
       "[1 rows x 21 columns]"
      ]
     },
     "execution_count": 1000,
     "metadata": {},
     "output_type": "execute_result"
    }
   ],
   "source": [
    "columns_to_rm_brack = ['Based on', 'Box office', 'Budget', 'Cinematography', 'Country', 'Directed by', 'Distributed by', 'Edited by', 'Language', 'Music by', 'Narrated by', 'Produced by', 'Productioncompany', 'Release date', 'Running time', 'Screenplay by', 'Starring', 'Story by', 'Unnamed: 0', 'Written by', 'movie_name']\n",
    "\n",
    "# function\n",
    "def clean_column(value):\n",
    "    if isinstance(value, str) and value.startswith(\"['\") and value.endswith(\"']\"):\n",
    "        return value[2:-2]\n",
    "    return value\n",
    "\n",
    "# apply fuctnion to the specified columns\n",
    "for column in columns_to_rm_brack:\n",
    "    df_1[column] = df_1[column].apply(clean_column)\n",
    "\n",
    "#display cleaned df\n",
    "df_1.head(1)"
   ]
  },
  {
   "cell_type": "markdown",
   "id": "a768dfc0-db96-41b8-b571-ecc4e865a56f",
   "metadata": {},
   "source": [
    "## Remove single and double quotes except apostrphes"
   ]
  },
  {
   "cell_type": "code",
   "execution_count": 1001,
   "id": "cbf56d30-fe7c-44ee-a81e-c27866bcb078",
   "metadata": {},
   "outputs": [
    {
     "data": {
      "text/plain": [
       "0                                                                                                                                                                                                                                                  Carthay Circle Theatre\n",
       "1      Center Theatre', 'February\\xa07,\\xa01940\\xa0(1940-02-07) (Center Theatre)[2]\\nFebruary\\xa023,\\xa01940\\xa0(1940-02-23) (United States)[3]', 'February\\xa07,\\xa01940\\xa0(1940-02-07) (Center Theatre)[2]\\nFebruary\\xa023,\\xa01940\\xa0(1940-02-23) (United States)[3]\n",
       "2                                                                                                                                                                                                                             \\nNovember\\xa013,\\xa01940\\xa0(1940-11-13)\\n\n",
       "3                                                                                                                                                                                                                                  June\\xa027,\\xa01941\\xa0(1941-06-27)[1]\n",
       "4                                                                                                                                                                October\\xa023,\\xa01941\\xa0(1941-10-23) (New York City)[1]\\nOctober\\xa031,\\xa01941\\xa0(1941-10-31) (U.S.)\n",
       "                                                                                                                                      ...                                                                                                                                \n",
       "520                                                                                                                                                                                                                               \\nJune\\xa013,\\xa02025\\xa0(2025-06-13)\\n\n",
       "521                                                                                                                                                                                                                                                              Sundance\n",
       "522                                                                                                                                                                                                                                                                   NaN\n",
       "523                                                                                                                                                                                                                                                                   NaN\n",
       "524                                                                                                                                                                                                                                                                   NaN\n",
       "Name: Release date, Length: 525, dtype: object"
      ]
     },
     "execution_count": 1001,
     "metadata": {},
     "output_type": "execute_result"
    }
   ],
   "source": [
    "pd.set_option('display.max_colwidth', None)  # Remove the column width limit\n",
    "\n",
    "df_1['Release date']"
   ]
  },
  {
   "cell_type": "code",
   "execution_count": 1002,
   "id": "8c527e17-7947-4b7f-a355-995de8298746",
   "metadata": {},
   "outputs": [
    {
     "data": {
      "text/html": [
       "<div>\n",
       "<style scoped>\n",
       "    .dataframe tbody tr th:only-of-type {\n",
       "        vertical-align: middle;\n",
       "    }\n",
       "\n",
       "    .dataframe tbody tr th {\n",
       "        vertical-align: top;\n",
       "    }\n",
       "\n",
       "    .dataframe thead th {\n",
       "        text-align: right;\n",
       "    }\n",
       "</style>\n",
       "<table border=\"1\" class=\"dataframe\">\n",
       "  <thead>\n",
       "    <tr style=\"text-align: right;\">\n",
       "      <th></th>\n",
       "      <th>Unnamed: 0</th>\n",
       "      <th>movie_name</th>\n",
       "      <th>Directed by</th>\n",
       "      <th>Story by</th>\n",
       "      <th>Based on</th>\n",
       "      <th>Produced by</th>\n",
       "      <th>Starring</th>\n",
       "      <th>Music by</th>\n",
       "      <th>Productioncompany</th>\n",
       "      <th>Distributed by</th>\n",
       "      <th>...</th>\n",
       "      <th>Country</th>\n",
       "      <th>Language</th>\n",
       "      <th>Budget</th>\n",
       "      <th>Box office</th>\n",
       "      <th>Narrated by</th>\n",
       "      <th>Cinematography</th>\n",
       "      <th>Release date</th>\n",
       "      <th>Written by</th>\n",
       "      <th>Edited by</th>\n",
       "      <th>Screenplay by</th>\n",
       "    </tr>\n",
       "  </thead>\n",
       "  <tbody>\n",
       "    <tr>\n",
       "      <th>0</th>\n",
       "      <td>0</td>\n",
       "      <td>Snow White and the Seven Dwarfs (1937 film)</td>\n",
       "      <td>David Hand, Perce Pearce, Larry Morey, Wilfred Jackson, Ben Sharpsteen</td>\n",
       "      <td>Ted Sears, Earl Hurd, Merrill De Maris</td>\n",
       "      <td>Snow White, Brothers Grimm</td>\n",
       "      <td>Walt Disney</td>\n",
       "      <td>Adriana Caselotti, Roy Atwell, Pinto Colvig, Otis Harlan, Scotty Mattraw, Billy Gilbert, Eddie Collins</td>\n",
       "      <td>Frank Churchill, Leigh Harline, Paul Smith</td>\n",
       "      <td>Walt Disney Productions</td>\n",
       "      <td>RKO Radio Pictures</td>\n",
       "      <td>...</td>\n",
       "      <td>United States</td>\n",
       "      <td>English</td>\n",
       "      <td>$1.5 million[1]</td>\n",
       "      <td>$418 million[2]</td>\n",
       "      <td>NaN</td>\n",
       "      <td>NaN</td>\n",
       "      <td>Carthay Circle Theatre</td>\n",
       "      <td>NaN</td>\n",
       "      <td>NaN</td>\n",
       "      <td>NaN</td>\n",
       "    </tr>\n",
       "  </tbody>\n",
       "</table>\n",
       "<p>1 rows × 21 columns</p>\n",
       "</div>"
      ],
      "text/plain": [
       "   Unnamed: 0                                   movie_name  \\\n",
       "0           0  Snow White and the Seven Dwarfs (1937 film)   \n",
       "\n",
       "                                                              Directed by  \\\n",
       "0  David Hand, Perce Pearce, Larry Morey, Wilfred Jackson, Ben Sharpsteen   \n",
       "\n",
       "                                 Story by                    Based on  \\\n",
       "0  Ted Sears, Earl Hurd, Merrill De Maris  Snow White, Brothers Grimm   \n",
       "\n",
       "   Produced by  \\\n",
       "0  Walt Disney   \n",
       "\n",
       "                                                                                                 Starring  \\\n",
       "0  Adriana Caselotti, Roy Atwell, Pinto Colvig, Otis Harlan, Scotty Mattraw, Billy Gilbert, Eddie Collins   \n",
       "\n",
       "                                     Music by        Productioncompany  \\\n",
       "0  Frank Churchill, Leigh Harline, Paul Smith  Walt Disney Productions   \n",
       "\n",
       "       Distributed by  ...        Country Language           Budget  \\\n",
       "0  RKO Radio Pictures  ...  United States  English  $1.5 million[1]   \n",
       "\n",
       "        Box office Narrated by Cinematography            Release date  \\\n",
       "0  $418 million[2]         NaN            NaN  Carthay Circle Theatre   \n",
       "\n",
       "  Written by Edited by Screenplay by  \n",
       "0        NaN       NaN           NaN  \n",
       "\n",
       "[1 rows x 21 columns]"
      ]
     },
     "execution_count": 1002,
     "metadata": {},
     "output_type": "execute_result"
    }
   ],
   "source": [
    "# List of columns to process\n",
    "columns_to_process = ['Based on', 'Box office', 'Budget', 'Cinematography', 'Country', \n",
    "                      'Directed by', 'Distributed by', 'Edited by', 'Language', 'Music by', \n",
    "                      'Narrated by', 'Produced by', 'Productioncompany', 'Release date', \n",
    "                      'Running time', 'Screenplay by', 'Starring', 'Story by', \n",
    "                      'Written by', 'movie_name']\n",
    "\n",
    "# Removing single and double quotes from the specified columns\n",
    "for column in columns_to_process:\n",
    "    df_1[column] = df_1[column].str.replace(r\"[\\\"']\", \"\", regex=True)\n",
    "\n",
    "df_1.head(1)"
   ]
  },
  {
   "cell_type": "markdown",
   "id": "f9bbcfa6-6712-4f6b-a12f-458bebe52eed",
   "metadata": {},
   "source": [
    "## Remove [#]"
   ]
  },
  {
   "cell_type": "code",
   "execution_count": 1003,
   "id": "dbf48ce2-003c-4ae5-ac11-1a8eb1b93cf2",
   "metadata": {},
   "outputs": [
    {
     "data": {
      "text/plain": [
       "Index(['Unnamed: 0', 'movie_name', 'Directed by', 'Story by', 'Based on',\n",
       "       'Produced by', 'Starring', 'Music by', 'Productioncompany',\n",
       "       'Distributed by', 'Running time', 'Country', 'Language', 'Budget',\n",
       "       'Box office', 'Narrated by', 'Cinematography', 'Release date',\n",
       "       'Written by', 'Edited by', 'Screenplay by'],\n",
       "      dtype='object')"
      ]
     },
     "execution_count": 1003,
     "metadata": {},
     "output_type": "execute_result"
    }
   ],
   "source": [
    "df_1.columns"
   ]
  },
  {
   "cell_type": "code",
   "execution_count": 1004,
   "id": "a2e6ccbf-6add-43c8-ac6c-81be1f009926",
   "metadata": {},
   "outputs": [
    {
     "data": {
      "text/html": [
       "<div>\n",
       "<style scoped>\n",
       "    .dataframe tbody tr th:only-of-type {\n",
       "        vertical-align: middle;\n",
       "    }\n",
       "\n",
       "    .dataframe tbody tr th {\n",
       "        vertical-align: top;\n",
       "    }\n",
       "\n",
       "    .dataframe thead th {\n",
       "        text-align: right;\n",
       "    }\n",
       "</style>\n",
       "<table border=\"1\" class=\"dataframe\">\n",
       "  <thead>\n",
       "    <tr style=\"text-align: right;\">\n",
       "      <th></th>\n",
       "      <th>Unnamed: 0</th>\n",
       "      <th>movie_name</th>\n",
       "      <th>Directed by</th>\n",
       "      <th>Story by</th>\n",
       "      <th>Based on</th>\n",
       "      <th>Produced by</th>\n",
       "      <th>Starring</th>\n",
       "      <th>Music by</th>\n",
       "      <th>Productioncompany</th>\n",
       "      <th>Distributed by</th>\n",
       "      <th>...</th>\n",
       "      <th>Country</th>\n",
       "      <th>Language</th>\n",
       "      <th>Budget</th>\n",
       "      <th>Box office</th>\n",
       "      <th>Narrated by</th>\n",
       "      <th>Cinematography</th>\n",
       "      <th>Release date</th>\n",
       "      <th>Written by</th>\n",
       "      <th>Edited by</th>\n",
       "      <th>Screenplay by</th>\n",
       "    </tr>\n",
       "  </thead>\n",
       "  <tbody>\n",
       "    <tr>\n",
       "      <th>0</th>\n",
       "      <td>0</td>\n",
       "      <td>Snow White and the Seven Dwarfs (1937 film)</td>\n",
       "      <td>David Hand, Perce Pearce, Larry Morey, Wilfred Jackson, Ben Sharpsteen</td>\n",
       "      <td>Ted Sears, Earl Hurd, Merrill De Maris</td>\n",
       "      <td>Snow White, Brothers Grimm</td>\n",
       "      <td>Walt Disney</td>\n",
       "      <td>Adriana Caselotti, Roy Atwell, Pinto Colvig, Otis Harlan, Scotty Mattraw, Billy Gilbert, Eddie Collins</td>\n",
       "      <td>Frank Churchill, Leigh Harline, Paul Smith</td>\n",
       "      <td>Walt Disney Productions</td>\n",
       "      <td>RKO Radio Pictures</td>\n",
       "      <td>...</td>\n",
       "      <td>United States</td>\n",
       "      <td>English</td>\n",
       "      <td>$1.5 million</td>\n",
       "      <td>$418 million</td>\n",
       "      <td>NaN</td>\n",
       "      <td>NaN</td>\n",
       "      <td>Carthay Circle Theatre</td>\n",
       "      <td>NaN</td>\n",
       "      <td>NaN</td>\n",
       "      <td>NaN</td>\n",
       "    </tr>\n",
       "  </tbody>\n",
       "</table>\n",
       "<p>1 rows × 21 columns</p>\n",
       "</div>"
      ],
      "text/plain": [
       "   Unnamed: 0                                   movie_name  \\\n",
       "0           0  Snow White and the Seven Dwarfs (1937 film)   \n",
       "\n",
       "                                                              Directed by  \\\n",
       "0  David Hand, Perce Pearce, Larry Morey, Wilfred Jackson, Ben Sharpsteen   \n",
       "\n",
       "                                 Story by                    Based on  \\\n",
       "0  Ted Sears, Earl Hurd, Merrill De Maris  Snow White, Brothers Grimm   \n",
       "\n",
       "   Produced by  \\\n",
       "0  Walt Disney   \n",
       "\n",
       "                                                                                                 Starring  \\\n",
       "0  Adriana Caselotti, Roy Atwell, Pinto Colvig, Otis Harlan, Scotty Mattraw, Billy Gilbert, Eddie Collins   \n",
       "\n",
       "                                     Music by        Productioncompany  \\\n",
       "0  Frank Churchill, Leigh Harline, Paul Smith  Walt Disney Productions   \n",
       "\n",
       "       Distributed by  ...        Country Language        Budget  \\\n",
       "0  RKO Radio Pictures  ...  United States  English  $1.5 million   \n",
       "\n",
       "     Box office Narrated by Cinematography            Release date Written by  \\\n",
       "0  $418 million         NaN            NaN  Carthay Circle Theatre        NaN   \n",
       "\n",
       "  Edited by Screenplay by  \n",
       "0       NaN           NaN  \n",
       "\n",
       "[1 rows x 21 columns]"
      ]
     },
     "execution_count": 1004,
     "metadata": {},
     "output_type": "execute_result"
    }
   ],
   "source": [
    "# function\n",
    "def remove_square_brackets(value):\n",
    "    import re\n",
    "    return re.sub(r'\\[\\d+\\]$', '', str(value))\n",
    "\n",
    "# apply fuction to columns\n",
    "df_1['Box office'] = df_1['Box office'].apply(remove_square_brackets)\n",
    "df_1['Budget'] = df_1['Budget'].apply(remove_square_brackets)\n",
    "df_1['Release date'] = df_1['Release date'].apply(remove_square_brackets)\n",
    "\n",
    "df_1.head(1)"
   ]
  },
  {
   "cell_type": "markdown",
   "id": "39e7b4fb-7613-41a3-9c47-7c1ee385dfe7",
   "metadata": {},
   "source": [
    "## Null, Missing values, duplicates, datatypes"
   ]
  },
  {
   "cell_type": "markdown",
   "id": "955fcfd6-ce31-4af9-93cc-4faf5094484c",
   "metadata": {},
   "source": [
    "### Inspect the Data"
   ]
  },
  {
   "cell_type": "code",
   "execution_count": 1005,
   "id": "d06c480f-5bb1-429f-8329-88c2ae4e1c05",
   "metadata": {},
   "outputs": [
    {
     "data": {
      "text/html": [
       "<div>\n",
       "<style scoped>\n",
       "    .dataframe tbody tr th:only-of-type {\n",
       "        vertical-align: middle;\n",
       "    }\n",
       "\n",
       "    .dataframe tbody tr th {\n",
       "        vertical-align: top;\n",
       "    }\n",
       "\n",
       "    .dataframe thead th {\n",
       "        text-align: right;\n",
       "    }\n",
       "</style>\n",
       "<table border=\"1\" class=\"dataframe\">\n",
       "  <thead>\n",
       "    <tr style=\"text-align: right;\">\n",
       "      <th></th>\n",
       "      <th>Unnamed: 0</th>\n",
       "      <th>movie_name</th>\n",
       "      <th>Directed by</th>\n",
       "      <th>Story by</th>\n",
       "      <th>Based on</th>\n",
       "      <th>Produced by</th>\n",
       "      <th>Starring</th>\n",
       "      <th>Music by</th>\n",
       "      <th>Productioncompany</th>\n",
       "      <th>Distributed by</th>\n",
       "      <th>...</th>\n",
       "      <th>Country</th>\n",
       "      <th>Language</th>\n",
       "      <th>Budget</th>\n",
       "      <th>Box office</th>\n",
       "      <th>Narrated by</th>\n",
       "      <th>Cinematography</th>\n",
       "      <th>Release date</th>\n",
       "      <th>Written by</th>\n",
       "      <th>Edited by</th>\n",
       "      <th>Screenplay by</th>\n",
       "    </tr>\n",
       "  </thead>\n",
       "  <tbody>\n",
       "    <tr>\n",
       "      <th>0</th>\n",
       "      <td>0</td>\n",
       "      <td>Snow White and the Seven Dwarfs (1937 film)</td>\n",
       "      <td>David Hand, Perce Pearce, Larry Morey, Wilfred Jackson, Ben Sharpsteen</td>\n",
       "      <td>Ted Sears, Earl Hurd, Merrill De Maris</td>\n",
       "      <td>Snow White, Brothers Grimm</td>\n",
       "      <td>Walt Disney</td>\n",
       "      <td>Adriana Caselotti, Roy Atwell, Pinto Colvig, Otis Harlan, Scotty Mattraw, Billy Gilbert, Eddie Collins</td>\n",
       "      <td>Frank Churchill, Leigh Harline, Paul Smith</td>\n",
       "      <td>Walt Disney Productions</td>\n",
       "      <td>RKO Radio Pictures</td>\n",
       "      <td>...</td>\n",
       "      <td>United States</td>\n",
       "      <td>English</td>\n",
       "      <td>$1.5 million</td>\n",
       "      <td>$418 million</td>\n",
       "      <td>NaN</td>\n",
       "      <td>NaN</td>\n",
       "      <td>Carthay Circle Theatre</td>\n",
       "      <td>NaN</td>\n",
       "      <td>NaN</td>\n",
       "      <td>NaN</td>\n",
       "    </tr>\n",
       "  </tbody>\n",
       "</table>\n",
       "<p>1 rows × 21 columns</p>\n",
       "</div>"
      ],
      "text/plain": [
       "   Unnamed: 0                                   movie_name  \\\n",
       "0           0  Snow White and the Seven Dwarfs (1937 film)   \n",
       "\n",
       "                                                              Directed by  \\\n",
       "0  David Hand, Perce Pearce, Larry Morey, Wilfred Jackson, Ben Sharpsteen   \n",
       "\n",
       "                                 Story by                    Based on  \\\n",
       "0  Ted Sears, Earl Hurd, Merrill De Maris  Snow White, Brothers Grimm   \n",
       "\n",
       "   Produced by  \\\n",
       "0  Walt Disney   \n",
       "\n",
       "                                                                                                 Starring  \\\n",
       "0  Adriana Caselotti, Roy Atwell, Pinto Colvig, Otis Harlan, Scotty Mattraw, Billy Gilbert, Eddie Collins   \n",
       "\n",
       "                                     Music by        Productioncompany  \\\n",
       "0  Frank Churchill, Leigh Harline, Paul Smith  Walt Disney Productions   \n",
       "\n",
       "       Distributed by  ...        Country Language        Budget  \\\n",
       "0  RKO Radio Pictures  ...  United States  English  $1.5 million   \n",
       "\n",
       "     Box office Narrated by Cinematography            Release date Written by  \\\n",
       "0  $418 million         NaN            NaN  Carthay Circle Theatre        NaN   \n",
       "\n",
       "  Edited by Screenplay by  \n",
       "0       NaN           NaN  \n",
       "\n",
       "[1 rows x 21 columns]"
      ]
     },
     "execution_count": 1005,
     "metadata": {},
     "output_type": "execute_result"
    }
   ],
   "source": [
    "# Display first few rows\n",
    "df_1.head(1)"
   ]
  },
  {
   "cell_type": "code",
   "execution_count": 1006,
   "id": "ec2e278d-8763-4546-887d-a6534fb8f348",
   "metadata": {},
   "outputs": [],
   "source": [
    "# Attain summary of DataFrame (dF)"
   ]
  },
  {
   "cell_type": "code",
   "execution_count": 1007,
   "id": "53e64c77-2d5b-4c4c-a5b8-7debf6d4a852",
   "metadata": {},
   "outputs": [
    {
     "name": "stdout",
     "output_type": "stream",
     "text": [
      "<class 'pandas.core.frame.DataFrame'>\n",
      "RangeIndex: 525 entries, 0 to 524\n",
      "Data columns (total 21 columns):\n",
      " #   Column             Non-Null Count  Dtype \n",
      "---  ------             --------------  ----- \n",
      " 0   Unnamed: 0         525 non-null    int64 \n",
      " 1   movie_name         525 non-null    object\n",
      " 2   Directed by        525 non-null    object\n",
      " 3   Story by           169 non-null    object\n",
      " 4   Based on           290 non-null    object\n",
      " 5   Produced by        517 non-null    object\n",
      " 6   Starring           493 non-null    object\n",
      " 7   Music by           518 non-null    object\n",
      " 8   Productioncompany  525 non-null    object\n",
      " 9   Distributed by     525 non-null    object\n",
      " 10  Running time       516 non-null    object\n",
      " 11  Country            521 non-null    object\n",
      " 12  Language           502 non-null    object\n",
      " 13  Budget             525 non-null    object\n",
      " 14  Box office         525 non-null    object\n",
      " 15  Narrated by        59 non-null     object\n",
      " 16  Cinematography     399 non-null    object\n",
      " 17  Release date       525 non-null    object\n",
      " 18  Written by         224 non-null    object\n",
      " 19  Edited by          483 non-null    object\n",
      " 20  Screenplay by      262 non-null    object\n",
      "dtypes: int64(1), object(20)\n",
      "memory usage: 86.3+ KB\n"
     ]
    }
   ],
   "source": [
    "df_1.info()"
   ]
  },
  {
   "cell_type": "code",
   "execution_count": 1008,
   "id": "d5b6abf6-9a4b-4aa4-b0e9-4ed5bdb06816",
   "metadata": {},
   "outputs": [
    {
     "data": {
      "text/html": [
       "<div>\n",
       "<style scoped>\n",
       "    .dataframe tbody tr th:only-of-type {\n",
       "        vertical-align: middle;\n",
       "    }\n",
       "\n",
       "    .dataframe tbody tr th {\n",
       "        vertical-align: top;\n",
       "    }\n",
       "\n",
       "    .dataframe thead th {\n",
       "        text-align: right;\n",
       "    }\n",
       "</style>\n",
       "<table border=\"1\" class=\"dataframe\">\n",
       "  <thead>\n",
       "    <tr style=\"text-align: right;\">\n",
       "      <th></th>\n",
       "      <th>Unnamed: 0</th>\n",
       "    </tr>\n",
       "  </thead>\n",
       "  <tbody>\n",
       "    <tr>\n",
       "      <th>count</th>\n",
       "      <td>525.000000</td>\n",
       "    </tr>\n",
       "    <tr>\n",
       "      <th>mean</th>\n",
       "      <td>262.000000</td>\n",
       "    </tr>\n",
       "    <tr>\n",
       "      <th>std</th>\n",
       "      <td>151.698715</td>\n",
       "    </tr>\n",
       "    <tr>\n",
       "      <th>min</th>\n",
       "      <td>0.000000</td>\n",
       "    </tr>\n",
       "    <tr>\n",
       "      <th>25%</th>\n",
       "      <td>131.000000</td>\n",
       "    </tr>\n",
       "    <tr>\n",
       "      <th>50%</th>\n",
       "      <td>262.000000</td>\n",
       "    </tr>\n",
       "    <tr>\n",
       "      <th>75%</th>\n",
       "      <td>393.000000</td>\n",
       "    </tr>\n",
       "    <tr>\n",
       "      <th>max</th>\n",
       "      <td>524.000000</td>\n",
       "    </tr>\n",
       "  </tbody>\n",
       "</table>\n",
       "</div>"
      ],
      "text/plain": [
       "       Unnamed: 0\n",
       "count  525.000000\n",
       "mean   262.000000\n",
       "std    151.698715\n",
       "min      0.000000\n",
       "25%    131.000000\n",
       "50%    262.000000\n",
       "75%    393.000000\n",
       "max    524.000000"
      ]
     },
     "execution_count": 1008,
     "metadata": {},
     "output_type": "execute_result"
    }
   ],
   "source": [
    "# attain summary statistics for numeric columns\n",
    "df_1.describe()"
   ]
  },
  {
   "cell_type": "markdown",
   "id": "9e95adf9-71f4-4a6c-ac34-b6fae9cd356d",
   "metadata": {},
   "source": [
    "### Missing Values"
   ]
  },
  {
   "cell_type": "code",
   "execution_count": 1009,
   "id": "be9a38bd-ed64-4958-a12d-f37ecbc5d0bf",
   "metadata": {},
   "outputs": [
    {
     "name": "stdout",
     "output_type": "stream",
     "text": [
      "Missing values:\n",
      " Unnamed: 0             0\n",
      "movie_name             0\n",
      "Directed by            0\n",
      "Story by             356\n",
      "Based on             235\n",
      "Produced by            8\n",
      "Starring              32\n",
      "Music by               7\n",
      "Productioncompany      0\n",
      "Distributed by         0\n",
      "Running time           9\n",
      "Country                4\n",
      "Language              23\n",
      "Budget                 0\n",
      "Box office             0\n",
      "Narrated by          466\n",
      "Cinematography       126\n",
      "Release date           0\n",
      "Written by           301\n",
      "Edited by             42\n",
      "Screenplay by        263\n",
      "dtype: int64\n"
     ]
    }
   ],
   "source": [
    "missing_values = df_1.isnull().sum()\n",
    "print(\"Missing values:\\n\", missing_values)"
   ]
  },
  {
   "cell_type": "markdown",
   "id": "af15bc22-e3be-42a5-96b2-c12dcd640f7f",
   "metadata": {},
   "source": [
    "Can fill in missing values with mean, median, or drop rows; if cannot find suitable data from other columns\n",
    "\n",
    "E.g., df_1.fillna(df_1.mean(), inplace=TRUE)"
   ]
  },
  {
   "cell_type": "markdown",
   "id": "c696d315-d06a-400f-ae3d-818672e484b0",
   "metadata": {},
   "source": [
    "### Check for Duplicates"
   ]
  },
  {
   "cell_type": "code",
   "execution_count": 1010,
   "id": "03af94ac-6e37-4468-8bae-597a4a877d3c",
   "metadata": {},
   "outputs": [],
   "source": [
    "# Working columns movie_name, running time, release date, box office\n",
    "\n",
    "df_2 = df_1.loc[:, ['movie_name', 'Running time', 'Release date', 'Box office']]"
   ]
  },
  {
   "cell_type": "code",
   "execution_count": 1011,
   "id": "9c6c3174-cac9-47cd-b9f8-cdd3c511ca54",
   "metadata": {},
   "outputs": [
    {
     "name": "stdout",
     "output_type": "stream",
     "text": [
      "Number of duplicate rows: 0\n"
     ]
    }
   ],
   "source": [
    "duplicates = df_2.duplicated().sum()\n",
    "print('Number of duplicate rows:', duplicates)"
   ]
  },
  {
   "cell_type": "markdown",
   "id": "e4ca67ca-0fbf-4968-83d9-23082a0d22a2",
   "metadata": {},
   "source": [
    "If duplicate rows found, removable:\n",
    "\n",
    "df_1.drop_duplicates(inplace=True)"
   ]
  },
  {
   "cell_type": "code",
   "execution_count": 1012,
   "id": "889861aa-0f54-4299-86c6-8ffbff88cb49",
   "metadata": {},
   "outputs": [
    {
     "data": {
      "text/plain": [
       "movie_name      object\n",
       "Running time    object\n",
       "Release date    object\n",
       "Box office      object\n",
       "dtype: object"
      ]
     },
     "execution_count": 1012,
     "metadata": {},
     "output_type": "execute_result"
    }
   ],
   "source": [
    "df_2.dtypes"
   ]
  },
  {
   "cell_type": "markdown",
   "id": "3ad21789-ca84-4261-b963-7edf3910d072",
   "metadata": {},
   "source": [
    "### Validate Data Types"
   ]
  },
  {
   "cell_type": "markdown",
   "id": "819cb5d8-5c9d-4b13-abd5-12c6df51050f",
   "metadata": {},
   "source": [
    "#### movie_name"
   ]
  },
  {
   "cell_type": "code",
   "execution_count": 1013,
   "id": "b5aac58e-9049-4fc2-bc60-07c416a93752",
   "metadata": {},
   "outputs": [
    {
     "data": {
      "text/plain": [
       "0      Snow White and the Seven Dwarfs (1937 film)\n",
       "1                            Pinocchio (1940 film)\n",
       "2                             Fantasia (1940 film)\n",
       "3                 The Reluctant Dragon (1941 film)\n",
       "4                                            Dumbo\n",
       "                          ...                     \n",
       "520                                    Elio (film)\n",
       "521                          Out of My Mind (film)\n",
       "522                        Young Woman and the Sea\n",
       "523                  Lilo & Stitch (upcoming film)\n",
       "524                                     Tron: Ares\n",
       "Name: movie_name, Length: 525, dtype: object"
      ]
     },
     "execution_count": 1013,
     "metadata": {},
     "output_type": "execute_result"
    }
   ],
   "source": [
    "df_2['movie_name']"
   ]
  },
  {
   "cell_type": "code",
   "execution_count": 1014,
   "id": "4fea4bba-499d-42ed-b876-8bba9b2c3003",
   "metadata": {},
   "outputs": [
    {
     "name": "stdout",
     "output_type": "stream",
     "text": [
      "Non-string characters found in movie names:\n",
      "0            (1937 )\n",
      "1            (1940 )\n",
      "2            (1940 )\n",
      "3            (1941 )\n",
      "6                   \n",
      "           ...      \n",
      "520               ()\n",
      "521               ()\n",
      "522                 \n",
      "523           &  ( )\n",
      "524               : \n",
      "Name: movie_name, Length: 512, dtype: object\n"
     ]
    }
   ],
   "source": [
    "# function\n",
    "def find_non_string_characters(s):\n",
    "    non_string_characters = ''.join([char for char in s if not char.isalpha()])\n",
    "    return non_string_characters\n",
    "\n",
    "# apply fuction to column\n",
    "non_string_characters_in_movie_names = df_2['movie_name'].apply(find_non_string_characters)\n",
    "\n",
    "# print non-string characters\n",
    "print(\"Non-string characters found in movie names:\")\n",
    "print(non_string_characters_in_movie_names[non_string_characters_in_movie_names != \"\"])"
   ]
  },
  {
   "cell_type": "code",
   "execution_count": 1015,
   "id": "d78f5712-21ee-4171-aed4-f5af6dcf46b6",
   "metadata": {},
   "outputs": [
    {
     "data": {
      "text/plain": [
       "Index(['movie_name', 'Running time', 'Release date', 'Box office'], dtype='object')"
      ]
     },
     "execution_count": 1015,
     "metadata": {},
     "output_type": "execute_result"
    }
   ],
   "source": [
    "df_2.columns"
   ]
  },
  {
   "cell_type": "code",
   "execution_count": 1016,
   "id": "0b6e0c52-7249-4064-93f9-27975eecf94b",
   "metadata": {},
   "outputs": [],
   "source": [
    "# remove non-string characters and empty spaces\n",
    "\n",
    "# remove & and :\n",
    "df_2['movie_name'] = df_2['movie_name'].str.replace(r'[&:]', '', regex=True)\n",
    "\n",
    "# remove empty spaces after four numericl characters\n",
    "df_2['movie_name'] = df_2['movie_name'].str.replace(r'(\\d{4})\\s', r'\\1', regex=True)\n",
    "\n",
    "# remove () when othing inside\n",
    "df_2['movie_name'] = df_2['movie_name'].str.replace(r'\\(\\s*\\)', '', regex=True)"
   ]
  },
  {
   "cell_type": "code",
   "execution_count": 1017,
   "id": "43d95f9a-7727-490e-bb83-8891fa4c7c51",
   "metadata": {},
   "outputs": [
    {
     "data": {
      "text/plain": [
       "Index(['movie_name', 'Running time', 'Release date', 'Box office'], dtype='object')"
      ]
     },
     "execution_count": 1017,
     "metadata": {},
     "output_type": "execute_result"
    }
   ],
   "source": [
    "df_2.columns"
   ]
  },
  {
   "cell_type": "code",
   "execution_count": 1018,
   "id": "64f27f3a-79f8-49a6-acc8-b55862107286",
   "metadata": {},
   "outputs": [
    {
     "name": "stdout",
     "output_type": "stream",
     "text": [
      "Non-string characters found in movie names:\n",
      "0            (1937)\n",
      "1            (1940)\n",
      "2            (1940)\n",
      "3            (1941)\n",
      "6                  \n",
      "           ...     \n",
      "520              ()\n",
      "521              ()\n",
      "522                \n",
      "523             ( )\n",
      "524                \n",
      "Name: movie_name, Length: 512, dtype: object\n"
     ]
    }
   ],
   "source": [
    "# function\n",
    "def find_non_string_characters(s):\n",
    "    non_string_characters = ''.join([char for char in s if not char.isalpha()])\n",
    "    return non_string_characters\n",
    "\n",
    "# apply fuction to column\n",
    "non_string_characters_in_movie_names = df_2['movie_name'].apply(find_non_string_characters)\n",
    "\n",
    "# print non-string characters\n",
    "print(\"Non-string characters found in movie names:\")\n",
    "print(non_string_characters_in_movie_names[non_string_characters_in_movie_names != \"\"])"
   ]
  },
  {
   "cell_type": "code",
   "execution_count": 1019,
   "id": "ed35da46-f245-412f-a7a1-a3894f8080fd",
   "metadata": {},
   "outputs": [
    {
     "data": {
      "text/plain": [
       "Index(['movie_name', 'Running time', 'Release date', 'Box office'], dtype='object')"
      ]
     },
     "execution_count": 1019,
     "metadata": {},
     "output_type": "execute_result"
    }
   ],
   "source": [
    "df_2.columns"
   ]
  },
  {
   "cell_type": "code",
   "execution_count": 1020,
   "id": "a711cbda-afc1-49e0-b605-a8bbbde61557",
   "metadata": {},
   "outputs": [
    {
     "data": {
      "text/html": [
       "<div>\n",
       "<style scoped>\n",
       "    .dataframe tbody tr th:only-of-type {\n",
       "        vertical-align: middle;\n",
       "    }\n",
       "\n",
       "    .dataframe tbody tr th {\n",
       "        vertical-align: top;\n",
       "    }\n",
       "\n",
       "    .dataframe thead th {\n",
       "        text-align: right;\n",
       "    }\n",
       "</style>\n",
       "<table border=\"1\" class=\"dataframe\">\n",
       "  <thead>\n",
       "    <tr style=\"text-align: right;\">\n",
       "      <th></th>\n",
       "      <th>movie_name</th>\n",
       "      <th>Running time</th>\n",
       "      <th>Release date</th>\n",
       "      <th>Box office</th>\n",
       "    </tr>\n",
       "  </thead>\n",
       "  <tbody>\n",
       "    <tr>\n",
       "      <th>0</th>\n",
       "      <td>Snow White and the Seven Dwarfs (1937film)</td>\n",
       "      <td>83 minutes</td>\n",
       "      <td>Carthay Circle Theatre</td>\n",
       "      <td>$418 million</td>\n",
       "    </tr>\n",
       "  </tbody>\n",
       "</table>\n",
       "</div>"
      ],
      "text/plain": [
       "                                   movie_name Running time  \\\n",
       "0  Snow White and the Seven Dwarfs (1937film)   83 minutes   \n",
       "\n",
       "             Release date    Box office  \n",
       "0  Carthay Circle Theatre  $418 million  "
      ]
     },
     "execution_count": 1020,
     "metadata": {},
     "output_type": "execute_result"
    }
   ],
   "source": [
    "# Remove parentheses with no characters inside from 'movie_name' column\n",
    "df_2['movie_name'] = df_2['movie_name'].str.replace(r'\\s*\\(\\s*\\)', '', regex=True)\n",
    "\n",
    "# Display the updated DataFrame\n",
    "df_2.head(1)"
   ]
  },
  {
   "cell_type": "code",
   "execution_count": 1021,
   "id": "200aba15-ed43-4ff7-95d1-e65c37979f2b",
   "metadata": {},
   "outputs": [
    {
     "name": "stdout",
     "output_type": "stream",
     "text": [
      "                                   movie_name Running time  \\\n",
      "0  Snow White and the Seven Dwarfs (1937film)   83 minutes   \n",
      "\n",
      "             Release date    Box office  \n",
      "0  Carthay Circle Theatre  $418 million  \n"
     ]
    }
   ],
   "source": [
    "# Remove parentheses with no characters inside from 'movie_name' column\n",
    "df_2['movie_name'] = df_2['movie_name'].str.replace(r'\\s*\\(\\s*\\)', '', regex=True)\n",
    "\n",
    "# Display the updated DataFrame\n",
    "print(df_2.head(1))"
   ]
  },
  {
   "cell_type": "code",
   "execution_count": 1022,
   "id": "af6a3b52-5064-49e5-8e3a-3430fb0a4e18",
   "metadata": {},
   "outputs": [],
   "source": [
    "# Remove parentheses with no characters inside and any spaces\n",
    "df_2['movie_name'] = df_2['movie_name'].str.replace(r'\\s*\\(\\s*\\)', '', regex=True)"
   ]
  },
  {
   "cell_type": "code",
   "execution_count": 1023,
   "id": "a40b1b3a-e51b-4c42-a936-25e7a71f0286",
   "metadata": {},
   "outputs": [
    {
     "data": {
      "text/html": [
       "<div>\n",
       "<style scoped>\n",
       "    .dataframe tbody tr th:only-of-type {\n",
       "        vertical-align: middle;\n",
       "    }\n",
       "\n",
       "    .dataframe tbody tr th {\n",
       "        vertical-align: top;\n",
       "    }\n",
       "\n",
       "    .dataframe thead th {\n",
       "        text-align: right;\n",
       "    }\n",
       "</style>\n",
       "<table border=\"1\" class=\"dataframe\">\n",
       "  <thead>\n",
       "    <tr style=\"text-align: right;\">\n",
       "      <th></th>\n",
       "      <th>movie_name</th>\n",
       "      <th>Running time</th>\n",
       "      <th>Release date</th>\n",
       "      <th>Box office</th>\n",
       "    </tr>\n",
       "  </thead>\n",
       "  <tbody>\n",
       "    <tr>\n",
       "      <th>0</th>\n",
       "      <td>Snow White and the Seven Dwarfs (1937film)</td>\n",
       "      <td>83 minutes</td>\n",
       "      <td>Carthay Circle Theatre</td>\n",
       "      <td>$418 million</td>\n",
       "    </tr>\n",
       "  </tbody>\n",
       "</table>\n",
       "</div>"
      ],
      "text/plain": [
       "                                   movie_name Running time  \\\n",
       "0  Snow White and the Seven Dwarfs (1937film)   83 minutes   \n",
       "\n",
       "             Release date    Box office  \n",
       "0  Carthay Circle Theatre  $418 million  "
      ]
     },
     "execution_count": 1023,
     "metadata": {},
     "output_type": "execute_result"
    }
   ],
   "source": [
    "df_2.head(1)"
   ]
  },
  {
   "cell_type": "code",
   "execution_count": 1024,
   "id": "e2dce676-c009-4a50-9c0d-6972c4eb1d50",
   "metadata": {},
   "outputs": [],
   "source": [
    "df_2['movie_name'] = df_2['movie_name'].astype(str)"
   ]
  },
  {
   "cell_type": "code",
   "execution_count": 1025,
   "id": "ace00984-bbe9-4f2b-9dcf-fbb7062f7c3d",
   "metadata": {},
   "outputs": [
    {
     "data": {
      "text/plain": [
       "movie_name      object\n",
       "Running time    object\n",
       "Release date    object\n",
       "Box office      object\n",
       "dtype: object"
      ]
     },
     "execution_count": 1025,
     "metadata": {},
     "output_type": "execute_result"
    }
   ],
   "source": [
    "df_2.dtypes"
   ]
  },
  {
   "cell_type": "code",
   "execution_count": 1026,
   "id": "4e7f6f38-207c-4bf9-ade0-6a9470d924d9",
   "metadata": {},
   "outputs": [
    {
     "data": {
      "text/plain": [
       "Index(['movie_name', 'Running time', 'Release date', 'Box office'], dtype='object')"
      ]
     },
     "execution_count": 1026,
     "metadata": {},
     "output_type": "execute_result"
    }
   ],
   "source": [
    "df_2.columns"
   ]
  },
  {
   "cell_type": "markdown",
   "id": "0279fa5a-426a-403b-a957-00541bafd395",
   "metadata": {},
   "source": [
    "#### Running time"
   ]
  },
  {
   "cell_type": "code",
   "execution_count": 1027,
   "id": "2d9689b9-f2b7-4397-b280-5a74a3a57cfb",
   "metadata": {},
   "outputs": [
    {
     "data": {
      "text/plain": [
       "0          83 minutes\n",
       "1          88 minutes\n",
       "2      126 minutes[1]\n",
       "3          74 minutes\n",
       "4          64 minutes\n",
       "            ...      \n",
       "520               NaN\n",
       "521    102 minutes[1]\n",
       "522               NaN\n",
       "523               NaN\n",
       "524               NaN\n",
       "Name: Running time, Length: 525, dtype: object"
      ]
     },
     "execution_count": 1027,
     "metadata": {},
     "output_type": "execute_result"
    }
   ],
   "source": [
    "df_2['Running time']"
   ]
  },
  {
   "cell_type": "code",
   "execution_count": 1028,
   "id": "d11b5377-9148-496a-bf0b-8602f0544c06",
   "metadata": {},
   "outputs": [],
   "source": [
    "# change column name\n",
    "df_2 = df_2.rename(columns = {'Running time': 'Running time (min)'})"
   ]
  },
  {
   "cell_type": "code",
   "execution_count": 1029,
   "id": "73894f65-dda6-480f-b763-5729d5b7cf74",
   "metadata": {},
   "outputs": [
    {
     "data": {
      "text/plain": [
       "Index(['movie_name', 'Running time (min)', 'Release date', 'Box office'], dtype='object')"
      ]
     },
     "execution_count": 1029,
     "metadata": {},
     "output_type": "execute_result"
    }
   ],
   "source": [
    "df_2.columns"
   ]
  },
  {
   "cell_type": "code",
   "execution_count": 1030,
   "id": "a45edf31-ac02-4d03-8620-961fe5f5fe48",
   "metadata": {},
   "outputs": [],
   "source": [
    "import re"
   ]
  },
  {
   "cell_type": "code",
   "execution_count": 1031,
   "id": "3048f6fe-704f-4fc5-9244-8506849061b5",
   "metadata": {},
   "outputs": [
    {
     "name": "stdout",
     "output_type": "stream",
     "text": [
      "2                                                        126 minutes[1]\n",
      "10                                                        94 minutes[1]\n",
      "23     60 minutes (VHS and Wild Discovery version)71 minutes (original)\n",
      "54                                                       105 minutes[1]\n",
      "65                                                              80 min.\n",
      "                                     ...                               \n",
      "510                                                      101 minutes[1]\n",
      "512                                                      154 minutes[3]\n",
      "513                                                      123 minutes[1]\n",
      "515                                                       95 minutes[1]\n",
      "521                                                      102 minutes[1]\n",
      "Name: Running time (min), Length: 162, dtype: object\n"
     ]
    }
   ],
   "source": [
    "non_alphanumeric_values = df_2['Running time (min)'][df_2['Running time (min)'].str.contains(r'[^a-zA-Z0-9\\s]', na=False)]\n",
    "\n",
    "print(non_alphanumeric_values)"
   ]
  },
  {
   "cell_type": "code",
   "execution_count": 1032,
   "id": "7b170c05-d2f3-473f-bfca-9d79bea28fb6",
   "metadata": {},
   "outputs": [
    {
     "data": {
      "text/plain": [
       "Index(['movie_name', 'Running time (min)', 'Release date', 'Box office'], dtype='object')"
      ]
     },
     "execution_count": 1032,
     "metadata": {},
     "output_type": "execute_result"
    }
   ],
   "source": [
    "df_2.columns"
   ]
  },
  {
   "cell_type": "code",
   "execution_count": 1033,
   "id": "132fd09f-814e-4502-b04a-f2a945d235fe",
   "metadata": {},
   "outputs": [
    {
     "data": {
      "text/plain": [
       "0       83 minutes\n",
       "1       88 minutes\n",
       "2      126 minutes\n",
       "3       74 minutes\n",
       "4       64 minutes\n",
       "          ...     \n",
       "520            NaN\n",
       "521    102 minutes\n",
       "522            NaN\n",
       "523            NaN\n",
       "524            NaN\n",
       "Name: Running time (min), Length: 525, dtype: object"
      ]
     },
     "execution_count": 1033,
     "metadata": {},
     "output_type": "execute_result"
    }
   ],
   "source": [
    "# function\n",
    "def remove_square_brackets(value):\n",
    "    if isinstance(value, str):\n",
    "        return re.sub(r'\\[\\d+\\]', '', value)\n",
    "    else:\n",
    "        return value\n",
    "\n",
    "# apply fucntion to column\n",
    "df_2['Running time (min)'] = df_2['Running time (min)'].apply(remove_square_brackets)\n",
    "\n",
    "# display modified dataFrame\n",
    "df_2['Running time (min)']"
   ]
  },
  {
   "cell_type": "code",
   "execution_count": 1034,
   "id": "f556ad75-bfd8-485b-8ed2-e022312d7e1c",
   "metadata": {},
   "outputs": [
    {
     "data": {
      "text/html": [
       "<div>\n",
       "<style scoped>\n",
       "    .dataframe tbody tr th:only-of-type {\n",
       "        vertical-align: middle;\n",
       "    }\n",
       "\n",
       "    .dataframe tbody tr th {\n",
       "        vertical-align: top;\n",
       "    }\n",
       "\n",
       "    .dataframe thead th {\n",
       "        text-align: right;\n",
       "    }\n",
       "</style>\n",
       "<table border=\"1\" class=\"dataframe\">\n",
       "  <thead>\n",
       "    <tr style=\"text-align: right;\">\n",
       "      <th></th>\n",
       "      <th>movie_name</th>\n",
       "      <th>Running time (min)</th>\n",
       "      <th>Release date</th>\n",
       "      <th>Box office</th>\n",
       "    </tr>\n",
       "  </thead>\n",
       "  <tbody>\n",
       "    <tr>\n",
       "      <th>23</th>\n",
       "      <td>The Vanishing Prairie</td>\n",
       "      <td>60 minutes (VHS and Wild Discovery version)71 minutes (original)</td>\n",
       "      <td>\\nAugust\\xa017,\\xa01954\\xa0(1954-08-17)\\n</td>\n",
       "      <td>$1.75 million (US and Canadian rentals)</td>\n",
       "    </tr>\n",
       "  </tbody>\n",
       "</table>\n",
       "</div>"
      ],
      "text/plain": [
       "               movie_name  \\\n",
       "23  The Vanishing Prairie   \n",
       "\n",
       "                                                  Running time (min)  \\\n",
       "23  60 minutes (VHS and Wild Discovery version)71 minutes (original)   \n",
       "\n",
       "                                 Release date  \\\n",
       "23  \\nAugust\\xa017,\\xa01954\\xa0(1954-08-17)\\n   \n",
       "\n",
       "                                 Box office  \n",
       "23  $1.75 million (US and Canadian rentals)  "
      ]
     },
     "execution_count": 1034,
     "metadata": {},
     "output_type": "execute_result"
    }
   ],
   "source": [
    "# Display values from 'Running time (min)' that do not match the pattern\n",
    "pattern = r'^\\d+\\s*(min|minutes)$'\n",
    "non_matching_values = df_2[~df_2['Running time (min)'].str.match(pattern, na=False)]\n",
    "non_matching_values.head(1)"
   ]
  },
  {
   "cell_type": "code",
   "execution_count": 1035,
   "id": "44e30496-6c62-4a18-97ae-5cc50e30ce2a",
   "metadata": {},
   "outputs": [
    {
     "name": "stdout",
     "output_type": "stream",
     "text": [
      "    Running time (min)\n",
      "0           83 minutes\n",
      "1           88 minutes\n",
      "2          126 minutes\n",
      "3           74 minutes\n",
      "4           64 minutes\n",
      "..                 ...\n",
      "513        123 minutes\n",
      "514         90 minutes\n",
      "515         95 minutes\n",
      "516         62 minutes\n",
      "521        102 minutes\n",
      "\n",
      "[515 rows x 1 columns]\n"
     ]
    },
    {
     "name": "stderr",
     "output_type": "stream",
     "text": [
      "C:\\Users\\ashwi\\AppData\\Local\\Temp\\ipykernel_4744\\3848823176.py:5: UserWarning: This pattern is interpreted as a regular expression, and has match groups. To actually get the groups, use str.extract.\n",
      "  matching_values = df_2[df_2['Running time (min)'].str.contains(pattern, case=False, na=False)]\n"
     ]
    }
   ],
   "source": [
    "# Regular expression pattern to match values with numbers followed by 'min', 'minutes', or 'hours'\n",
    "pattern = r'\\d+\\s*(min|minutes|hours)'\n",
    "\n",
    "# Filter the DataFrame to keep only the values that match the pattern\n",
    "matching_values = df_2[df_2['Running time (min)'].str.contains(pattern, case=False, na=False)]\n",
    "\n",
    "# Display the filtered DataFrame\n",
    "print(matching_values[['Running time (min)']])"
   ]
  },
  {
   "cell_type": "code",
   "execution_count": 1036,
   "id": "9e71dfa8-3b67-4266-a6c0-ecb6bd2738f5",
   "metadata": {},
   "outputs": [
    {
     "data": {
      "text/html": [
       "<div>\n",
       "<style scoped>\n",
       "    .dataframe tbody tr th:only-of-type {\n",
       "        vertical-align: middle;\n",
       "    }\n",
       "\n",
       "    .dataframe tbody tr th {\n",
       "        vertical-align: top;\n",
       "    }\n",
       "\n",
       "    .dataframe thead th {\n",
       "        text-align: right;\n",
       "    }\n",
       "</style>\n",
       "<table border=\"1\" class=\"dataframe\">\n",
       "  <thead>\n",
       "    <tr style=\"text-align: right;\">\n",
       "      <th></th>\n",
       "      <th>movie_name</th>\n",
       "      <th>Running time (min)</th>\n",
       "      <th>Release date</th>\n",
       "      <th>Box office</th>\n",
       "    </tr>\n",
       "  </thead>\n",
       "  <tbody>\n",
       "    <tr>\n",
       "      <th>23</th>\n",
       "      <td>The Vanishing Prairie</td>\n",
       "      <td>60 minutes (VHS and Wild Discovery version)71 minutes (original)</td>\n",
       "      <td>\\nAugust\\xa017,\\xa01954\\xa0(1954-08-17)\\n</td>\n",
       "      <td>$1.75 million (US and Canadian rentals)</td>\n",
       "    </tr>\n",
       "    <tr>\n",
       "      <th>65</th>\n",
       "      <td>The Incredible Journey (film)</td>\n",
       "      <td>80 min.</td>\n",
       "      <td>November\\xa020,\\xa01963\\xa0(1963-11-20)</td>\n",
       "      <td>$4.2 million (US/Canada) (rentals)</td>\n",
       "    </tr>\n",
       "    <tr>\n",
       "      <th>72</th>\n",
       "      <td>Those Calloways</td>\n",
       "      <td>131 mins.</td>\n",
       "      <td>November 10, 1964</td>\n",
       "      <td>$3,500,000 (US/ Canada rentals)</td>\n",
       "    </tr>\n",
       "    <tr>\n",
       "      <th>85</th>\n",
       "      <td>The Happiest Millionaire</td>\n",
       "      <td>[Los Angeles, New York City, Directors cut]</td>\n",
       "      <td>Radio City Music Hall</td>\n",
       "      <td>$5 million (U.S./Canada rentals)</td>\n",
       "    </tr>\n",
       "    <tr>\n",
       "      <th>89</th>\n",
       "      <td>The Horse in the Gray Flannel Suit</td>\n",
       "      <td>113 mins.</td>\n",
       "      <td>\\nDecember\\xa020,\\xa01968\\xa0(1968-12-20)\\n</td>\n",
       "      <td>$3.3 million  (US/ Canada rentals)</td>\n",
       "    </tr>\n",
       "  </tbody>\n",
       "</table>\n",
       "</div>"
      ],
      "text/plain": [
       "                            movie_name  \\\n",
       "23               The Vanishing Prairie   \n",
       "65       The Incredible Journey (film)   \n",
       "72                     Those Calloways   \n",
       "85            The Happiest Millionaire   \n",
       "89  The Horse in the Gray Flannel Suit   \n",
       "\n",
       "                                                  Running time (min)  \\\n",
       "23  60 minutes (VHS and Wild Discovery version)71 minutes (original)   \n",
       "65                                                           80 min.   \n",
       "72                                                         131 mins.   \n",
       "85                       [Los Angeles, New York City, Directors cut]   \n",
       "89                                                         113 mins.   \n",
       "\n",
       "                                   Release date  \\\n",
       "23    \\nAugust\\xa017,\\xa01954\\xa0(1954-08-17)\\n   \n",
       "65      November\\xa020,\\xa01963\\xa0(1963-11-20)   \n",
       "72                            November 10, 1964   \n",
       "85                        Radio City Music Hall   \n",
       "89  \\nDecember\\xa020,\\xa01968\\xa0(1968-12-20)\\n   \n",
       "\n",
       "                                 Box office  \n",
       "23  $1.75 million (US and Canadian rentals)  \n",
       "65       $4.2 million (US/Canada) (rentals)  \n",
       "72          $3,500,000 (US/ Canada rentals)  \n",
       "85         $5 million (U.S./Canada rentals)  \n",
       "89       $3.3 million  (US/ Canada rentals)  "
      ]
     },
     "execution_count": 1036,
     "metadata": {},
     "output_type": "execute_result"
    }
   ],
   "source": [
    "# Display values from 'Running time (min)' that do not match the pattern\n",
    "pattern = r'^\\d+\\s*(min|minutes)$'\n",
    "non_matching_values = df_2[~df_2['Running time (min)'].str.match(pattern, na=False)]\n",
    "non_matching_values.head()"
   ]
  },
  {
   "cell_type": "code",
   "execution_count": 1037,
   "id": "b87a1e2d-dae6-4b5e-a874-e9dc94ba3b46",
   "metadata": {},
   "outputs": [
    {
     "name": "stdout",
     "output_type": "stream",
     "text": [
      "    Running time (min)\n",
      "0           83 minutes\n",
      "1           88 minutes\n",
      "2          126 minutes\n",
      "3           74 minutes\n",
      "4           64 minutes\n",
      "..                 ...\n",
      "520                NaN\n",
      "521        102 minutes\n",
      "522                NaN\n",
      "523                NaN\n",
      "524                NaN\n",
      "\n",
      "[525 rows x 1 columns]\n"
     ]
    }
   ],
   "source": [
    "# Update value in row 23 to '60 min'\n",
    "df_2.iloc[23, df_2.columns.get_loc('Running time (min)')] = '60 min'\n",
    "\n",
    "# Update value in row 85 to empty string\n",
    "df_2.iloc[85, df_2.columns.get_loc('Running time (min)')] = ''\n",
    "\n",
    "# Display the updated DataFrame\n",
    "print(df_2[['Running time (min)']])"
   ]
  },
  {
   "cell_type": "code",
   "execution_count": 1038,
   "id": "6bc574f7-7da6-4f63-9c4f-21b7859b6f13",
   "metadata": {},
   "outputs": [
    {
     "data": {
      "text/html": [
       "<div>\n",
       "<style scoped>\n",
       "    .dataframe tbody tr th:only-of-type {\n",
       "        vertical-align: middle;\n",
       "    }\n",
       "\n",
       "    .dataframe tbody tr th {\n",
       "        vertical-align: top;\n",
       "    }\n",
       "\n",
       "    .dataframe thead th {\n",
       "        text-align: right;\n",
       "    }\n",
       "</style>\n",
       "<table border=\"1\" class=\"dataframe\">\n",
       "  <thead>\n",
       "    <tr style=\"text-align: right;\">\n",
       "      <th></th>\n",
       "      <th>movie_name</th>\n",
       "      <th>Running time (min)</th>\n",
       "      <th>Release date</th>\n",
       "      <th>Box office</th>\n",
       "    </tr>\n",
       "  </thead>\n",
       "  <tbody>\n",
       "    <tr>\n",
       "      <th>65</th>\n",
       "      <td>The Incredible Journey (film)</td>\n",
       "      <td>80 min.</td>\n",
       "      <td>November\\xa020,\\xa01963\\xa0(1963-11-20)</td>\n",
       "      <td>$4.2 million (US/Canada) (rentals)</td>\n",
       "    </tr>\n",
       "    <tr>\n",
       "      <th>72</th>\n",
       "      <td>Those Calloways</td>\n",
       "      <td>131 mins.</td>\n",
       "      <td>November 10, 1964</td>\n",
       "      <td>$3,500,000 (US/ Canada rentals)</td>\n",
       "    </tr>\n",
       "    <tr>\n",
       "      <th>85</th>\n",
       "      <td>The Happiest Millionaire</td>\n",
       "      <td></td>\n",
       "      <td>Radio City Music Hall</td>\n",
       "      <td>$5 million (U.S./Canada rentals)</td>\n",
       "    </tr>\n",
       "    <tr>\n",
       "      <th>89</th>\n",
       "      <td>The Horse in the Gray Flannel Suit</td>\n",
       "      <td>113 mins.</td>\n",
       "      <td>\\nDecember\\xa020,\\xa01968\\xa0(1968-12-20)\\n</td>\n",
       "      <td>$3.3 million  (US/ Canada rentals)</td>\n",
       "    </tr>\n",
       "    <tr>\n",
       "      <th>101</th>\n",
       "      <td>Bedknobs and Broomsticks</td>\n",
       "      <td>118 minutes (1971 original version)139 minutes (1996 reconstruction version)</td>\n",
       "      <td>\\nOctober\\xa07,\\xa01971\\xa0(1971-10-07) (United Kingdom)\\nDecember\\xa013,\\xa01971\\xa0(1971-12-13) (United States)\\n</td>\n",
       "      <td>$17.9\\xa0million</td>\n",
       "    </tr>\n",
       "  </tbody>\n",
       "</table>\n",
       "</div>"
      ],
      "text/plain": [
       "                             movie_name  \\\n",
       "65        The Incredible Journey (film)   \n",
       "72                      Those Calloways   \n",
       "85             The Happiest Millionaire   \n",
       "89   The Horse in the Gray Flannel Suit   \n",
       "101            Bedknobs and Broomsticks   \n",
       "\n",
       "                                                               Running time (min)  \\\n",
       "65                                                                        80 min.   \n",
       "72                                                                      131 mins.   \n",
       "85                                                                                  \n",
       "89                                                                      113 mins.   \n",
       "101  118 minutes (1971 original version)139 minutes (1996 reconstruction version)   \n",
       "\n",
       "                                                                                                            Release date  \\\n",
       "65                                                                               November\\xa020,\\xa01963\\xa0(1963-11-20)   \n",
       "72                                                                                                     November 10, 1964   \n",
       "85                                                                                                 Radio City Music Hall   \n",
       "89                                                                           \\nDecember\\xa020,\\xa01968\\xa0(1968-12-20)\\n   \n",
       "101  \\nOctober\\xa07,\\xa01971\\xa0(1971-10-07) (United Kingdom)\\nDecember\\xa013,\\xa01971\\xa0(1971-12-13) (United States)\\n   \n",
       "\n",
       "                             Box office  \n",
       "65   $4.2 million (US/Canada) (rentals)  \n",
       "72      $3,500,000 (US/ Canada rentals)  \n",
       "85     $5 million (U.S./Canada rentals)  \n",
       "89   $3.3 million  (US/ Canada rentals)  \n",
       "101                    $17.9\\xa0million  "
      ]
     },
     "execution_count": 1038,
     "metadata": {},
     "output_type": "execute_result"
    }
   ],
   "source": [
    "# Display values from 'Running time (min)' that do not match the pattern\n",
    "pattern = r'^\\d+\\s*(min|minutes)$'\n",
    "non_matching_values = df_2[~df_2['Running time (min)'].str.match(pattern, na=False)]\n",
    "non_matching_values.head()"
   ]
  },
  {
   "cell_type": "markdown",
   "id": "f9ca4c05-af57-405d-9cb7-4493ab890fb7",
   "metadata": {},
   "source": [
    "Row 101 shows 118 min for 1971 film and 139 min for 1996 film\n",
    "Release date shows 1971 film."
   ]
  },
  {
   "cell_type": "code",
   "execution_count": 1039,
   "id": "376256bb-d7a8-401c-b6cf-284cd67d4193",
   "metadata": {},
   "outputs": [
    {
     "name": "stdout",
     "output_type": "stream",
     "text": [
      "    Running time (min)\n",
      "0           83 minutes\n",
      "1           88 minutes\n",
      "2          126 minutes\n",
      "3           74 minutes\n",
      "4           64 minutes\n",
      "..                 ...\n",
      "520                NaN\n",
      "521        102 minutes\n",
      "522                NaN\n",
      "523                NaN\n",
      "524                NaN\n",
      "\n",
      "[525 rows x 1 columns]\n"
     ]
    }
   ],
   "source": [
    "# Update value in row 101 to '118 min'\n",
    "df_2.iloc[101, df_2.columns.get_loc('Running time (min)')] = '118 min'\n",
    "\n",
    "# Display the updated DataFrame\n",
    "print(df_2[['Running time (min)']])"
   ]
  },
  {
   "cell_type": "code",
   "execution_count": 1040,
   "id": "2b4a9174-99c0-446e-be81-d3017c985feb",
   "metadata": {},
   "outputs": [
    {
     "data": {
      "text/html": [
       "<div>\n",
       "<style scoped>\n",
       "    .dataframe tbody tr th:only-of-type {\n",
       "        vertical-align: middle;\n",
       "    }\n",
       "\n",
       "    .dataframe tbody tr th {\n",
       "        vertical-align: top;\n",
       "    }\n",
       "\n",
       "    .dataframe thead th {\n",
       "        text-align: right;\n",
       "    }\n",
       "</style>\n",
       "<table border=\"1\" class=\"dataframe\">\n",
       "  <thead>\n",
       "    <tr style=\"text-align: right;\">\n",
       "      <th></th>\n",
       "      <th>movie_name</th>\n",
       "      <th>Running time (min)</th>\n",
       "      <th>Release date</th>\n",
       "      <th>Box office</th>\n",
       "    </tr>\n",
       "  </thead>\n",
       "  <tbody>\n",
       "    <tr>\n",
       "      <th>65</th>\n",
       "      <td>The Incredible Journey (film)</td>\n",
       "      <td>80 min.</td>\n",
       "      <td>November\\xa020,\\xa01963\\xa0(1963-11-20)</td>\n",
       "      <td>$4.2 million (US/Canada) (rentals)</td>\n",
       "    </tr>\n",
       "    <tr>\n",
       "      <th>72</th>\n",
       "      <td>Those Calloways</td>\n",
       "      <td>131 mins.</td>\n",
       "      <td>November 10, 1964</td>\n",
       "      <td>$3,500,000 (US/ Canada rentals)</td>\n",
       "    </tr>\n",
       "    <tr>\n",
       "      <th>85</th>\n",
       "      <td>The Happiest Millionaire</td>\n",
       "      <td></td>\n",
       "      <td>Radio City Music Hall</td>\n",
       "      <td>$5 million (U.S./Canada rentals)</td>\n",
       "    </tr>\n",
       "    <tr>\n",
       "      <th>89</th>\n",
       "      <td>The Horse in the Gray Flannel Suit</td>\n",
       "      <td>113 mins.</td>\n",
       "      <td>\\nDecember\\xa020,\\xa01968\\xa0(1968-12-20)\\n</td>\n",
       "      <td>$3.3 million  (US/ Canada rentals)</td>\n",
       "    </tr>\n",
       "    <tr>\n",
       "      <th>109</th>\n",
       "      <td>One Little Indian (film)</td>\n",
       "      <td>90 Minutes</td>\n",
       "      <td>\\nJune\\xa020,\\xa01973\\xa0(1973-06-20)\\n</td>\n",
       "      <td>$2 million</td>\n",
       "    </tr>\n",
       "  </tbody>\n",
       "</table>\n",
       "</div>"
      ],
      "text/plain": [
       "                             movie_name Running time (min)  \\\n",
       "65        The Incredible Journey (film)            80 min.   \n",
       "72                      Those Calloways          131 mins.   \n",
       "85             The Happiest Millionaire                      \n",
       "89   The Horse in the Gray Flannel Suit          113 mins.   \n",
       "109            One Little Indian (film)         90 Minutes   \n",
       "\n",
       "                                    Release date  \\\n",
       "65       November\\xa020,\\xa01963\\xa0(1963-11-20)   \n",
       "72                             November 10, 1964   \n",
       "85                         Radio City Music Hall   \n",
       "89   \\nDecember\\xa020,\\xa01968\\xa0(1968-12-20)\\n   \n",
       "109      \\nJune\\xa020,\\xa01973\\xa0(1973-06-20)\\n   \n",
       "\n",
       "                             Box office  \n",
       "65   $4.2 million (US/Canada) (rentals)  \n",
       "72      $3,500,000 (US/ Canada rentals)  \n",
       "85     $5 million (U.S./Canada rentals)  \n",
       "89   $3.3 million  (US/ Canada rentals)  \n",
       "109                          $2 million  "
      ]
     },
     "execution_count": 1040,
     "metadata": {},
     "output_type": "execute_result"
    }
   ],
   "source": [
    "# Display values from 'Running time (min)' that do not match the pattern\n",
    "pattern = r'^\\d+\\s*(min|minutes)$'\n",
    "non_matching_values = df_2[~df_2['Running time (min)'].str.match(pattern, na=False)]\n",
    "non_matching_values.head()"
   ]
  },
  {
   "cell_type": "code",
   "execution_count": 1041,
   "id": "252cce65-e7b0-4355-b2d0-817ea9f79dbb",
   "metadata": {},
   "outputs": [
    {
     "name": "stdout",
     "output_type": "stream",
     "text": [
      "    Running time (min)\n",
      "0                   83\n",
      "1                   88\n",
      "2                  126\n",
      "3                   74\n",
      "4                   64\n",
      "..                 ...\n",
      "520                NaN\n",
      "521                102\n",
      "522                NaN\n",
      "523                NaN\n",
      "524                NaN\n",
      "\n",
      "[525 rows x 1 columns]\n"
     ]
    }
   ],
   "source": [
    "# Extract numbers from the 'Running time (min)' column\n",
    "df_2['Running time (min)'] = df_2['Running time (min)'].str.extract(r'(\\d+)')\n",
    "\n",
    "# Display the updated DataFrame\n",
    "print(df_2[['Running time (min)']])"
   ]
  },
  {
   "cell_type": "code",
   "execution_count": 1042,
   "id": "4d146198-9497-4887-a020-05d1cba8efdc",
   "metadata": {},
   "outputs": [
    {
     "data": {
      "text/html": [
       "<div>\n",
       "<style scoped>\n",
       "    .dataframe tbody tr th:only-of-type {\n",
       "        vertical-align: middle;\n",
       "    }\n",
       "\n",
       "    .dataframe tbody tr th {\n",
       "        vertical-align: top;\n",
       "    }\n",
       "\n",
       "    .dataframe thead th {\n",
       "        text-align: right;\n",
       "    }\n",
       "</style>\n",
       "<table border=\"1\" class=\"dataframe\">\n",
       "  <thead>\n",
       "    <tr style=\"text-align: right;\">\n",
       "      <th></th>\n",
       "      <th>movie_name</th>\n",
       "      <th>Running time (min)</th>\n",
       "      <th>Release date</th>\n",
       "      <th>Box office</th>\n",
       "    </tr>\n",
       "  </thead>\n",
       "  <tbody>\n",
       "    <tr>\n",
       "      <th>0</th>\n",
       "      <td>Snow White and the Seven Dwarfs (1937film)</td>\n",
       "      <td>83</td>\n",
       "      <td>Carthay Circle Theatre</td>\n",
       "      <td>$418 million</td>\n",
       "    </tr>\n",
       "  </tbody>\n",
       "</table>\n",
       "</div>"
      ],
      "text/plain": [
       "                                   movie_name Running time (min)  \\\n",
       "0  Snow White and the Seven Dwarfs (1937film)                 83   \n",
       "\n",
       "             Release date    Box office  \n",
       "0  Carthay Circle Theatre  $418 million  "
      ]
     },
     "execution_count": 1042,
     "metadata": {},
     "output_type": "execute_result"
    }
   ],
   "source": [
    "df_2.head(1)"
   ]
  },
  {
   "cell_type": "code",
   "execution_count": 1043,
   "id": "e637d5a3-22dc-40bb-88b9-630658ae6e75",
   "metadata": {},
   "outputs": [
    {
     "data": {
      "text/plain": [
       "movie_name            object\n",
       "Running time (min)    object\n",
       "Release date          object\n",
       "Box office            object\n",
       "dtype: object"
      ]
     },
     "execution_count": 1043,
     "metadata": {},
     "output_type": "execute_result"
    }
   ],
   "source": [
    "df_2.dtypes"
   ]
  },
  {
   "cell_type": "code",
   "execution_count": 1044,
   "id": "2b5b3115-9a9d-447b-838b-8ff2b0dae3aa",
   "metadata": {},
   "outputs": [
    {
     "name": "stdout",
     "output_type": "stream",
     "text": [
      "    Running time (min)\n",
      "0      0 days 01:23:00\n",
      "1      0 days 01:28:00\n",
      "2      0 days 02:06:00\n",
      "3      0 days 01:14:00\n",
      "4      0 days 01:04:00\n",
      "..                 ...\n",
      "520                NaT\n",
      "521    0 days 01:42:00\n",
      "522                NaT\n",
      "523                NaT\n",
      "524                NaT\n",
      "\n",
      "[525 rows x 1 columns]\n"
     ]
    }
   ],
   "source": [
    "\n",
    "\n",
    "# Assuming df_2 is your DataFrame with the 'Running time (min)' column\n",
    "\n",
    "# Convert the 'Running time (min)' column to timedelta format\n",
    "df_2['Running time (min)'] = pd.to_timedelta(df_2['Running time (min)'] + ' minutes')\n",
    "\n",
    "# Display the updated DataFrame\n",
    "print(df_2[['Running time (min)']])"
   ]
  },
  {
   "cell_type": "code",
   "execution_count": 1045,
   "id": "1da7d245-cb2a-4132-8f9b-63dd184aba71",
   "metadata": {},
   "outputs": [
    {
     "data": {
      "text/plain": [
       "movie_name                     object\n",
       "Running time (min)    timedelta64[ns]\n",
       "Release date                   object\n",
       "Box office                     object\n",
       "dtype: object"
      ]
     },
     "execution_count": 1045,
     "metadata": {},
     "output_type": "execute_result"
    }
   ],
   "source": [
    "df_2.dtypes"
   ]
  },
  {
   "cell_type": "code",
   "execution_count": 1046,
   "id": "6ee7ed0a-98a9-40c6-97b5-6bd482503467",
   "metadata": {},
   "outputs": [
    {
     "data": {
      "text/html": [
       "<div>\n",
       "<style scoped>\n",
       "    .dataframe tbody tr th:only-of-type {\n",
       "        vertical-align: middle;\n",
       "    }\n",
       "\n",
       "    .dataframe tbody tr th {\n",
       "        vertical-align: top;\n",
       "    }\n",
       "\n",
       "    .dataframe thead th {\n",
       "        text-align: right;\n",
       "    }\n",
       "</style>\n",
       "<table border=\"1\" class=\"dataframe\">\n",
       "  <thead>\n",
       "    <tr style=\"text-align: right;\">\n",
       "      <th></th>\n",
       "      <th>movie_name</th>\n",
       "      <th>Running time (min)</th>\n",
       "      <th>Release date</th>\n",
       "      <th>Box office</th>\n",
       "    </tr>\n",
       "  </thead>\n",
       "  <tbody>\n",
       "    <tr>\n",
       "      <th>0</th>\n",
       "      <td>Snow White and the Seven Dwarfs (1937film)</td>\n",
       "      <td>01:23</td>\n",
       "      <td>Carthay Circle Theatre</td>\n",
       "      <td>$418 million</td>\n",
       "    </tr>\n",
       "  </tbody>\n",
       "</table>\n",
       "</div>"
      ],
      "text/plain": [
       "                                   movie_name Running time (min)  \\\n",
       "0  Snow White and the Seven Dwarfs (1937film)              01:23   \n",
       "\n",
       "             Release date    Box office  \n",
       "0  Carthay Circle Theatre  $418 million  "
      ]
     },
     "execution_count": 1046,
     "metadata": {},
     "output_type": "execute_result"
    }
   ],
   "source": [
    "# Convert timedelta values to string representation\n",
    "df_2['Running time (min)'] = df_2['Running time (min)'].astype(str)\n",
    "\n",
    "# Remove days and milliseconds from the string representation\n",
    "df_2['Running time (min)'] = df_2['Running time (min)'].str.extract(r'(\\d+:\\d+)')\n",
    "\n",
    "# Display the updated DataFrame\n",
    "df_2.head(1)"
   ]
  },
  {
   "cell_type": "markdown",
   "id": "b6758f12-e985-49b3-b82e-b8ba785e614f",
   "metadata": {},
   "source": [
    "#### Release date"
   ]
  },
  {
   "cell_type": "code",
   "execution_count": 1047,
   "id": "a8d7e112-335f-47f4-817b-4f313a12ffc5",
   "metadata": {},
   "outputs": [
    {
     "data": {
      "text/plain": [
       "Index(['movie_name', 'Running time (min)', 'Release date', 'Box office'], dtype='object')"
      ]
     },
     "execution_count": 1047,
     "metadata": {},
     "output_type": "execute_result"
    }
   ],
   "source": [
    "df_2.columns"
   ]
  },
  {
   "cell_type": "code",
   "execution_count": 1048,
   "id": "bce36337-d35f-438b-b175-64d06fe1ba00",
   "metadata": {},
   "outputs": [
    {
     "data": {
      "text/html": [
       "<div>\n",
       "<style scoped>\n",
       "    .dataframe tbody tr th:only-of-type {\n",
       "        vertical-align: middle;\n",
       "    }\n",
       "\n",
       "    .dataframe tbody tr th {\n",
       "        vertical-align: top;\n",
       "    }\n",
       "\n",
       "    .dataframe thead th {\n",
       "        text-align: right;\n",
       "    }\n",
       "</style>\n",
       "<table border=\"1\" class=\"dataframe\">\n",
       "  <thead>\n",
       "    <tr style=\"text-align: right;\">\n",
       "      <th></th>\n",
       "      <th>movie_name</th>\n",
       "      <th>Running time (min)</th>\n",
       "      <th>Release date</th>\n",
       "      <th>Box office</th>\n",
       "    </tr>\n",
       "  </thead>\n",
       "  <tbody>\n",
       "    <tr>\n",
       "      <th>0</th>\n",
       "      <td>Snow White and the Seven Dwarfs (1937film)</td>\n",
       "      <td>01:23</td>\n",
       "      <td>Carthay Circle Theatre</td>\n",
       "      <td>$418 million</td>\n",
       "    </tr>\n",
       "    <tr>\n",
       "      <th>1</th>\n",
       "      <td>Pinocchio (1940film)</td>\n",
       "      <td>01:28</td>\n",
       "      <td>Center Theatre, February\\xa07,\\xa01940\\xa0(1940-02-07) (Center Theatre)[2]\\nFebruary\\xa023,\\xa01940\\xa0(1940-02-23) (United States)[3], February\\xa07,\\xa01940\\xa0(1940-02-07) (Center Theatre)[2]\\nFebruary\\xa023,\\xa01940\\xa0(1940-02-23) (United States)</td>\n",
       "      <td>$164\\xa0million</td>\n",
       "    </tr>\n",
       "  </tbody>\n",
       "</table>\n",
       "</div>"
      ],
      "text/plain": [
       "                                   movie_name Running time (min)  \\\n",
       "0  Snow White and the Seven Dwarfs (1937film)              01:23   \n",
       "1                        Pinocchio (1940film)              01:28   \n",
       "\n",
       "                                                                                                                                                                                                                                                  Release date  \\\n",
       "0                                                                                                                                                                                                                                       Carthay Circle Theatre   \n",
       "1  Center Theatre, February\\xa07,\\xa01940\\xa0(1940-02-07) (Center Theatre)[2]\\nFebruary\\xa023,\\xa01940\\xa0(1940-02-23) (United States)[3], February\\xa07,\\xa01940\\xa0(1940-02-07) (Center Theatre)[2]\\nFebruary\\xa023,\\xa01940\\xa0(1940-02-23) (United States)   \n",
       "\n",
       "        Box office  \n",
       "0     $418 million  \n",
       "1  $164\\xa0million  "
      ]
     },
     "execution_count": 1048,
     "metadata": {},
     "output_type": "execute_result"
    }
   ],
   "source": [
    "df_2.head(2)"
   ]
  },
  {
   "cell_type": "code",
   "execution_count": 1049,
   "id": "a1a178bd-e20c-446f-881b-0c9921a17e84",
   "metadata": {},
   "outputs": [
    {
     "data": {
      "text/html": [
       "<div>\n",
       "<style scoped>\n",
       "    .dataframe tbody tr th:only-of-type {\n",
       "        vertical-align: middle;\n",
       "    }\n",
       "\n",
       "    .dataframe tbody tr th {\n",
       "        vertical-align: top;\n",
       "    }\n",
       "\n",
       "    .dataframe thead th {\n",
       "        text-align: right;\n",
       "    }\n",
       "</style>\n",
       "<table border=\"1\" class=\"dataframe\">\n",
       "  <thead>\n",
       "    <tr style=\"text-align: right;\">\n",
       "      <th></th>\n",
       "      <th>movie_name</th>\n",
       "      <th>Running time (min)</th>\n",
       "      <th>Release date</th>\n",
       "      <th>Box office</th>\n",
       "    </tr>\n",
       "  </thead>\n",
       "  <tbody>\n",
       "    <tr>\n",
       "      <th>0</th>\n",
       "      <td>Snow White and the Seven Dwarfs (1937film)</td>\n",
       "      <td>01:23</td>\n",
       "      <td>Carthay Circle Theatre</td>\n",
       "      <td>$418 million</td>\n",
       "    </tr>\n",
       "    <tr>\n",
       "      <th>1</th>\n",
       "      <td>Pinocchio (1940film)</td>\n",
       "      <td>01:28</td>\n",
       "      <td>Center Theatre, February\\xa07,\\xa01940\\xa0(1940-02-07) (Center Theatre)[2]\\nFebruary\\xa023,\\xa01940\\xa0(1940-02-23) (United States)[3], February\\xa07,\\xa01940\\xa0(1940-02-07) (Center Theatre)[2]\\nFebruary\\xa023,\\xa01940\\xa0(1940-02-23) (United States)</td>\n",
       "      <td>$164\\xa0million</td>\n",
       "    </tr>\n",
       "    <tr>\n",
       "      <th>2</th>\n",
       "      <td>Fantasia (1940film)</td>\n",
       "      <td>02:06</td>\n",
       "      <td>\\nNovember\\xa013,\\xa01940\\xa0(1940-11-13)\\n</td>\n",
       "      <td>$76.4–$83.3 million (United States and Canada)[4][5], $76.4–$83.3 million (United States and Canada)[4]</td>\n",
       "    </tr>\n",
       "    <tr>\n",
       "      <th>3</th>\n",
       "      <td>The Reluctant Dragon (1941film)</td>\n",
       "      <td>01:14</td>\n",
       "      <td>June\\xa027,\\xa01941\\xa0(1941-06-27)</td>\n",
       "      <td>$960,000 (worldwide rentals)</td>\n",
       "    </tr>\n",
       "    <tr>\n",
       "      <th>4</th>\n",
       "      <td>Dumbo</td>\n",
       "      <td>01:04</td>\n",
       "      <td>October\\xa023,\\xa01941\\xa0(1941-10-23) (New York City)[1]\\nOctober\\xa031,\\xa01941\\xa0(1941-10-31) (U.S.)</td>\n",
       "      <td>&gt;$1.3 million (est. United States/Canada rentals, 1941)</td>\n",
       "    </tr>\n",
       "    <tr>\n",
       "      <th>...</th>\n",
       "      <td>...</td>\n",
       "      <td>...</td>\n",
       "      <td>...</td>\n",
       "      <td>...</td>\n",
       "    </tr>\n",
       "    <tr>\n",
       "      <th>520</th>\n",
       "      <td>Elio (film)</td>\n",
       "      <td>NaN</td>\n",
       "      <td>\\nJune\\xa013,\\xa02025\\xa0(2025-06-13)\\n</td>\n",
       "      <td>nan</td>\n",
       "    </tr>\n",
       "    <tr>\n",
       "      <th>521</th>\n",
       "      <td>Out of My Mind (film)</td>\n",
       "      <td>01:42</td>\n",
       "      <td>Sundance</td>\n",
       "      <td>nan</td>\n",
       "    </tr>\n",
       "    <tr>\n",
       "      <th>522</th>\n",
       "      <td>Young Woman and the Sea</td>\n",
       "      <td>NaN</td>\n",
       "      <td>nan</td>\n",
       "      <td>nan</td>\n",
       "    </tr>\n",
       "    <tr>\n",
       "      <th>523</th>\n",
       "      <td>Lilo  Stitch (upcoming film)</td>\n",
       "      <td>NaN</td>\n",
       "      <td>nan</td>\n",
       "      <td>nan</td>\n",
       "    </tr>\n",
       "    <tr>\n",
       "      <th>524</th>\n",
       "      <td>Tron Ares</td>\n",
       "      <td>NaN</td>\n",
       "      <td>nan</td>\n",
       "      <td>nan</td>\n",
       "    </tr>\n",
       "  </tbody>\n",
       "</table>\n",
       "<p>525 rows × 4 columns</p>\n",
       "</div>"
      ],
      "text/plain": [
       "                                     movie_name Running time (min)  \\\n",
       "0    Snow White and the Seven Dwarfs (1937film)              01:23   \n",
       "1                          Pinocchio (1940film)              01:28   \n",
       "2                           Fantasia (1940film)              02:06   \n",
       "3               The Reluctant Dragon (1941film)              01:14   \n",
       "4                                         Dumbo              01:04   \n",
       "..                                          ...                ...   \n",
       "520                                 Elio (film)                NaN   \n",
       "521                       Out of My Mind (film)              01:42   \n",
       "522                     Young Woman and the Sea                NaN   \n",
       "523                Lilo  Stitch (upcoming film)                NaN   \n",
       "524                                   Tron Ares                NaN   \n",
       "\n",
       "                                                                                                                                                                                                                                                    Release date  \\\n",
       "0                                                                                                                                                                                                                                         Carthay Circle Theatre   \n",
       "1    Center Theatre, February\\xa07,\\xa01940\\xa0(1940-02-07) (Center Theatre)[2]\\nFebruary\\xa023,\\xa01940\\xa0(1940-02-23) (United States)[3], February\\xa07,\\xa01940\\xa0(1940-02-07) (Center Theatre)[2]\\nFebruary\\xa023,\\xa01940\\xa0(1940-02-23) (United States)   \n",
       "2                                                                                                                                                                                                                    \\nNovember\\xa013,\\xa01940\\xa0(1940-11-13)\\n   \n",
       "3                                                                                                                                                                                                                            June\\xa027,\\xa01941\\xa0(1941-06-27)   \n",
       "4                                                                                                                                                       October\\xa023,\\xa01941\\xa0(1941-10-23) (New York City)[1]\\nOctober\\xa031,\\xa01941\\xa0(1941-10-31) (U.S.)   \n",
       "..                                                                                                                                                                                                                                                           ...   \n",
       "520                                                                                                                                                                                                                      \\nJune\\xa013,\\xa02025\\xa0(2025-06-13)\\n   \n",
       "521                                                                                                                                                                                                                                                     Sundance   \n",
       "522                                                                                                                                                                                                                                                          nan   \n",
       "523                                                                                                                                                                                                                                                          nan   \n",
       "524                                                                                                                                                                                                                                                          nan   \n",
       "\n",
       "                                                                                                  Box office  \n",
       "0                                                                                               $418 million  \n",
       "1                                                                                            $164\\xa0million  \n",
       "2    $76.4–$83.3 million (United States and Canada)[4][5], $76.4–$83.3 million (United States and Canada)[4]  \n",
       "3                                                                              $960,000 (worldwide rentals)   \n",
       "4                                                    >$1.3 million (est. United States/Canada rentals, 1941)  \n",
       "..                                                                                                       ...  \n",
       "520                                                                                                      nan  \n",
       "521                                                                                                      nan  \n",
       "522                                                                                                      nan  \n",
       "523                                                                                                      nan  \n",
       "524                                                                                                      nan  \n",
       "\n",
       "[525 rows x 4 columns]"
      ]
     },
     "execution_count": 1049,
     "metadata": {},
     "output_type": "execute_result"
    }
   ],
   "source": [
    "# Assuming df_2 is your DataFrame with the specified columns\n",
    "\n",
    "# Filter rows where 'Release date' does not match the specified patterns\n",
    "pattern = r'(\\d{2}-\\d{2}-\\d{4})|(\\d{4}-\\d{2}-\\d{2})|(\\d{8})'\n",
    "non_matching_dates = df_2[~df_2['Release date'].str.match(pattern, na=False)]\n",
    "\n",
    "# Display the filtered DataFrame\n",
    "non_matching_dates"
   ]
  },
  {
   "cell_type": "code",
   "execution_count": 1050,
   "id": "691ba274-ba4f-4e70-90c7-298d8374964c",
   "metadata": {},
   "outputs": [],
   "source": [
    "# Update release date in row 1\n",
    "df_2.at[1, 'Release date'] = '1940-02-07'"
   ]
  },
  {
   "cell_type": "code",
   "execution_count": 1051,
   "id": "6caa9eac-4b41-4f6e-aa1a-8f8116598ac1",
   "metadata": {},
   "outputs": [
    {
     "data": {
      "text/html": [
       "<div>\n",
       "<style scoped>\n",
       "    .dataframe tbody tr th:only-of-type {\n",
       "        vertical-align: middle;\n",
       "    }\n",
       "\n",
       "    .dataframe tbody tr th {\n",
       "        vertical-align: top;\n",
       "    }\n",
       "\n",
       "    .dataframe thead th {\n",
       "        text-align: right;\n",
       "    }\n",
       "</style>\n",
       "<table border=\"1\" class=\"dataframe\">\n",
       "  <thead>\n",
       "    <tr style=\"text-align: right;\">\n",
       "      <th></th>\n",
       "      <th>movie_name</th>\n",
       "      <th>Running time (min)</th>\n",
       "      <th>Release date</th>\n",
       "      <th>Box office</th>\n",
       "    </tr>\n",
       "  </thead>\n",
       "  <tbody>\n",
       "    <tr>\n",
       "      <th>0</th>\n",
       "      <td>Snow White and the Seven Dwarfs (1937film)</td>\n",
       "      <td>01:23</td>\n",
       "      <td>Carthay Circle Theatre</td>\n",
       "      <td>$418 million</td>\n",
       "    </tr>\n",
       "    <tr>\n",
       "      <th>2</th>\n",
       "      <td>Fantasia (1940film)</td>\n",
       "      <td>02:06</td>\n",
       "      <td>\\nNovember\\xa013,\\xa01940\\xa0(1940-11-13)\\n</td>\n",
       "      <td>$76.4–$83.3 million (United States and Canada)[4][5], $76.4–$83.3 million (United States and Canada)[4]</td>\n",
       "    </tr>\n",
       "    <tr>\n",
       "      <th>3</th>\n",
       "      <td>The Reluctant Dragon (1941film)</td>\n",
       "      <td>01:14</td>\n",
       "      <td>June\\xa027,\\xa01941\\xa0(1941-06-27)</td>\n",
       "      <td>$960,000 (worldwide rentals)</td>\n",
       "    </tr>\n",
       "    <tr>\n",
       "      <th>4</th>\n",
       "      <td>Dumbo</td>\n",
       "      <td>01:04</td>\n",
       "      <td>October\\xa023,\\xa01941\\xa0(1941-10-23) (New York City)[1]\\nOctober\\xa031,\\xa01941\\xa0(1941-10-31) (U.S.)</td>\n",
       "      <td>&gt;$1.3 million (est. United States/Canada rentals, 1941)</td>\n",
       "    </tr>\n",
       "    <tr>\n",
       "      <th>5</th>\n",
       "      <td>Bambi</td>\n",
       "      <td>01:10</td>\n",
       "      <td>London, August\\xa09,\\xa01942\\xa0(1942-08-09) (London)\\nAugust\\xa021,\\xa01942\\xa0(1942-08-21) (United States)</td>\n",
       "      <td>$267.4 million</td>\n",
       "    </tr>\n",
       "    <tr>\n",
       "      <th>...</th>\n",
       "      <td>...</td>\n",
       "      <td>...</td>\n",
       "      <td>...</td>\n",
       "      <td>...</td>\n",
       "    </tr>\n",
       "    <tr>\n",
       "      <th>520</th>\n",
       "      <td>Elio (film)</td>\n",
       "      <td>NaN</td>\n",
       "      <td>\\nJune\\xa013,\\xa02025\\xa0(2025-06-13)\\n</td>\n",
       "      <td>nan</td>\n",
       "    </tr>\n",
       "    <tr>\n",
       "      <th>521</th>\n",
       "      <td>Out of My Mind (film)</td>\n",
       "      <td>01:42</td>\n",
       "      <td>Sundance</td>\n",
       "      <td>nan</td>\n",
       "    </tr>\n",
       "    <tr>\n",
       "      <th>522</th>\n",
       "      <td>Young Woman and the Sea</td>\n",
       "      <td>NaN</td>\n",
       "      <td>nan</td>\n",
       "      <td>nan</td>\n",
       "    </tr>\n",
       "    <tr>\n",
       "      <th>523</th>\n",
       "      <td>Lilo  Stitch (upcoming film)</td>\n",
       "      <td>NaN</td>\n",
       "      <td>nan</td>\n",
       "      <td>nan</td>\n",
       "    </tr>\n",
       "    <tr>\n",
       "      <th>524</th>\n",
       "      <td>Tron Ares</td>\n",
       "      <td>NaN</td>\n",
       "      <td>nan</td>\n",
       "      <td>nan</td>\n",
       "    </tr>\n",
       "  </tbody>\n",
       "</table>\n",
       "<p>524 rows × 4 columns</p>\n",
       "</div>"
      ],
      "text/plain": [
       "                                     movie_name Running time (min)  \\\n",
       "0    Snow White and the Seven Dwarfs (1937film)              01:23   \n",
       "2                           Fantasia (1940film)              02:06   \n",
       "3               The Reluctant Dragon (1941film)              01:14   \n",
       "4                                         Dumbo              01:04   \n",
       "5                                         Bambi              01:10   \n",
       "..                                          ...                ...   \n",
       "520                                 Elio (film)                NaN   \n",
       "521                       Out of My Mind (film)              01:42   \n",
       "522                     Young Woman and the Sea                NaN   \n",
       "523                Lilo  Stitch (upcoming film)                NaN   \n",
       "524                                   Tron Ares                NaN   \n",
       "\n",
       "                                                                                                     Release date  \\\n",
       "0                                                                                          Carthay Circle Theatre   \n",
       "2                                                                     \\nNovember\\xa013,\\xa01940\\xa0(1940-11-13)\\n   \n",
       "3                                                                             June\\xa027,\\xa01941\\xa0(1941-06-27)   \n",
       "4        October\\xa023,\\xa01941\\xa0(1941-10-23) (New York City)[1]\\nOctober\\xa031,\\xa01941\\xa0(1941-10-31) (U.S.)   \n",
       "5    London, August\\xa09,\\xa01942\\xa0(1942-08-09) (London)\\nAugust\\xa021,\\xa01942\\xa0(1942-08-21) (United States)   \n",
       "..                                                                                                            ...   \n",
       "520                                                                       \\nJune\\xa013,\\xa02025\\xa0(2025-06-13)\\n   \n",
       "521                                                                                                      Sundance   \n",
       "522                                                                                                           nan   \n",
       "523                                                                                                           nan   \n",
       "524                                                                                                           nan   \n",
       "\n",
       "                                                                                                  Box office  \n",
       "0                                                                                               $418 million  \n",
       "2    $76.4–$83.3 million (United States and Canada)[4][5], $76.4–$83.3 million (United States and Canada)[4]  \n",
       "3                                                                              $960,000 (worldwide rentals)   \n",
       "4                                                    >$1.3 million (est. United States/Canada rentals, 1941)  \n",
       "5                                                                                             $267.4 million  \n",
       "..                                                                                                       ...  \n",
       "520                                                                                                      nan  \n",
       "521                                                                                                      nan  \n",
       "522                                                                                                      nan  \n",
       "523                                                                                                      nan  \n",
       "524                                                                                                      nan  \n",
       "\n",
       "[524 rows x 4 columns]"
      ]
     },
     "execution_count": 1051,
     "metadata": {},
     "output_type": "execute_result"
    }
   ],
   "source": [
    "# Assuming df_2 is your DataFrame with the specified columns\n",
    "\n",
    "# Filter rows where 'Release date' does not match the specified patterns\n",
    "pattern = r'(\\d{2}-\\d{2}-\\d{4})|(\\d{4}-\\d{2}-\\d{2})|(\\d{8})'\n",
    "non_matching_dates = df_2[~df_2['Release date'].str.match(pattern, na=False)]\n",
    "\n",
    "# Display the filtered DataFrame\n",
    "non_matching_dates"
   ]
  },
  {
   "cell_type": "code",
   "execution_count": 1052,
   "id": "a996073d-6b0c-4e74-906a-f463655cc6a9",
   "metadata": {},
   "outputs": [
    {
     "data": {
      "text/html": [
       "<div>\n",
       "<style scoped>\n",
       "    .dataframe tbody tr th:only-of-type {\n",
       "        vertical-align: middle;\n",
       "    }\n",
       "\n",
       "    .dataframe tbody tr th {\n",
       "        vertical-align: top;\n",
       "    }\n",
       "\n",
       "    .dataframe thead th {\n",
       "        text-align: right;\n",
       "    }\n",
       "</style>\n",
       "<table border=\"1\" class=\"dataframe\">\n",
       "  <thead>\n",
       "    <tr style=\"text-align: right;\">\n",
       "      <th></th>\n",
       "      <th>movie_name</th>\n",
       "      <th>Running time (min)</th>\n",
       "      <th>Release date</th>\n",
       "      <th>Box office</th>\n",
       "    </tr>\n",
       "  </thead>\n",
       "  <tbody>\n",
       "    <tr>\n",
       "      <th>0</th>\n",
       "      <td>Snow White and the Seven Dwarfs (1937film)</td>\n",
       "      <td>01:23</td>\n",
       "      <td>NaN</td>\n",
       "      <td>$418 million</td>\n",
       "    </tr>\n",
       "    <tr>\n",
       "      <th>1</th>\n",
       "      <td>Pinocchio (1940film)</td>\n",
       "      <td>01:28</td>\n",
       "      <td>1940-02-07</td>\n",
       "      <td>$164\\xa0million</td>\n",
       "    </tr>\n",
       "    <tr>\n",
       "      <th>2</th>\n",
       "      <td>Fantasia (1940film)</td>\n",
       "      <td>02:06</td>\n",
       "      <td>1940-11-13</td>\n",
       "      <td>$76.4–$83.3 million (United States and Canada)[4][5], $76.4–$83.3 million (United States and Canada)[4]</td>\n",
       "    </tr>\n",
       "    <tr>\n",
       "      <th>3</th>\n",
       "      <td>The Reluctant Dragon (1941film)</td>\n",
       "      <td>01:14</td>\n",
       "      <td>1941-06-27</td>\n",
       "      <td>$960,000 (worldwide rentals)</td>\n",
       "    </tr>\n",
       "    <tr>\n",
       "      <th>4</th>\n",
       "      <td>Dumbo</td>\n",
       "      <td>01:04</td>\n",
       "      <td>1941-10-23</td>\n",
       "      <td>&gt;$1.3 million (est. United States/Canada rentals, 1941)</td>\n",
       "    </tr>\n",
       "    <tr>\n",
       "      <th>...</th>\n",
       "      <td>...</td>\n",
       "      <td>...</td>\n",
       "      <td>...</td>\n",
       "      <td>...</td>\n",
       "    </tr>\n",
       "    <tr>\n",
       "      <th>520</th>\n",
       "      <td>Elio (film)</td>\n",
       "      <td>NaN</td>\n",
       "      <td>2025-06-13</td>\n",
       "      <td>nan</td>\n",
       "    </tr>\n",
       "    <tr>\n",
       "      <th>521</th>\n",
       "      <td>Out of My Mind (film)</td>\n",
       "      <td>01:42</td>\n",
       "      <td>NaN</td>\n",
       "      <td>nan</td>\n",
       "    </tr>\n",
       "    <tr>\n",
       "      <th>522</th>\n",
       "      <td>Young Woman and the Sea</td>\n",
       "      <td>NaN</td>\n",
       "      <td>NaN</td>\n",
       "      <td>nan</td>\n",
       "    </tr>\n",
       "    <tr>\n",
       "      <th>523</th>\n",
       "      <td>Lilo  Stitch (upcoming film)</td>\n",
       "      <td>NaN</td>\n",
       "      <td>NaN</td>\n",
       "      <td>nan</td>\n",
       "    </tr>\n",
       "    <tr>\n",
       "      <th>524</th>\n",
       "      <td>Tron Ares</td>\n",
       "      <td>NaN</td>\n",
       "      <td>NaN</td>\n",
       "      <td>nan</td>\n",
       "    </tr>\n",
       "  </tbody>\n",
       "</table>\n",
       "<p>525 rows × 4 columns</p>\n",
       "</div>"
      ],
      "text/plain": [
       "                                     movie_name Running time (min)  \\\n",
       "0    Snow White and the Seven Dwarfs (1937film)              01:23   \n",
       "1                          Pinocchio (1940film)              01:28   \n",
       "2                           Fantasia (1940film)              02:06   \n",
       "3               The Reluctant Dragon (1941film)              01:14   \n",
       "4                                         Dumbo              01:04   \n",
       "..                                          ...                ...   \n",
       "520                                 Elio (film)                NaN   \n",
       "521                       Out of My Mind (film)              01:42   \n",
       "522                     Young Woman and the Sea                NaN   \n",
       "523                Lilo  Stitch (upcoming film)                NaN   \n",
       "524                                   Tron Ares                NaN   \n",
       "\n",
       "    Release date  \\\n",
       "0            NaN   \n",
       "1     1940-02-07   \n",
       "2     1940-11-13   \n",
       "3     1941-06-27   \n",
       "4     1941-10-23   \n",
       "..           ...   \n",
       "520   2025-06-13   \n",
       "521          NaN   \n",
       "522          NaN   \n",
       "523          NaN   \n",
       "524          NaN   \n",
       "\n",
       "                                                                                                  Box office  \n",
       "0                                                                                               $418 million  \n",
       "1                                                                                            $164\\xa0million  \n",
       "2    $76.4–$83.3 million (United States and Canada)[4][5], $76.4–$83.3 million (United States and Canada)[4]  \n",
       "3                                                                              $960,000 (worldwide rentals)   \n",
       "4                                                    >$1.3 million (est. United States/Canada rentals, 1941)  \n",
       "..                                                                                                       ...  \n",
       "520                                                                                                      nan  \n",
       "521                                                                                                      nan  \n",
       "522                                                                                                      nan  \n",
       "523                                                                                                      nan  \n",
       "524                                                                                                      nan  \n",
       "\n",
       "[525 rows x 4 columns]"
      ]
     },
     "execution_count": 1052,
     "metadata": {},
     "output_type": "execute_result"
    }
   ],
   "source": [
    "# Extract the first date formatted as ####-##-## from 'Release date' column for each row\n",
    "df_2['Release date'] = df_2['Release date'].str.extract(r'(\\d{4}-\\d{2}-\\d{2})')\n",
    "\n",
    "# Display the updated DataFrame\n",
    "df_2"
   ]
  },
  {
   "cell_type": "code",
   "execution_count": 1053,
   "id": "23c5ed2f-e31c-4926-a3ae-cf2723417877",
   "metadata": {},
   "outputs": [
    {
     "name": "stdout",
     "output_type": "stream",
     "text": [
      "0            NaT\n",
      "1     1940-02-07\n",
      "2     1940-11-13\n",
      "3     1941-06-27\n",
      "4     1941-10-23\n",
      "         ...    \n",
      "520   2025-06-13\n",
      "521          NaT\n",
      "522          NaT\n",
      "523          NaT\n",
      "524          NaT\n",
      "Name: Release date, Length: 525, dtype: datetime64[ns]\n"
     ]
    }
   ],
   "source": [
    "# Convert 'Release date' column to date datatype in YYYY-MM-DD format\n",
    "df_2['Release date'] = pd.to_datetime(df_2['Release date'], format='%Y-%m-%d')\n",
    "\n",
    "# Display the updated DataFrame\n",
    "print(df_2['Release date'])"
   ]
  },
  {
   "cell_type": "code",
   "execution_count": 1054,
   "id": "26828f3d-52f9-4794-b0b3-1d15a5ddc8a0",
   "metadata": {},
   "outputs": [
    {
     "data": {
      "text/html": [
       "<div>\n",
       "<style scoped>\n",
       "    .dataframe tbody tr th:only-of-type {\n",
       "        vertical-align: middle;\n",
       "    }\n",
       "\n",
       "    .dataframe tbody tr th {\n",
       "        vertical-align: top;\n",
       "    }\n",
       "\n",
       "    .dataframe thead th {\n",
       "        text-align: right;\n",
       "    }\n",
       "</style>\n",
       "<table border=\"1\" class=\"dataframe\">\n",
       "  <thead>\n",
       "    <tr style=\"text-align: right;\">\n",
       "      <th></th>\n",
       "      <th>movie_name</th>\n",
       "      <th>Running time (min)</th>\n",
       "      <th>Release date</th>\n",
       "      <th>Box office</th>\n",
       "    </tr>\n",
       "  </thead>\n",
       "  <tbody>\n",
       "    <tr>\n",
       "      <th>0</th>\n",
       "      <td>Snow White and the Seven Dwarfs (1937film)</td>\n",
       "      <td>01:23</td>\n",
       "      <td>NaT</td>\n",
       "      <td>$418 million</td>\n",
       "    </tr>\n",
       "    <tr>\n",
       "      <th>1</th>\n",
       "      <td>Pinocchio (1940film)</td>\n",
       "      <td>01:28</td>\n",
       "      <td>1940-02-07</td>\n",
       "      <td>$164\\xa0million</td>\n",
       "    </tr>\n",
       "    <tr>\n",
       "      <th>2</th>\n",
       "      <td>Fantasia (1940film)</td>\n",
       "      <td>02:06</td>\n",
       "      <td>1940-11-13</td>\n",
       "      <td>$76.4–$83.3 million (United States and Canada)[4][5], $76.4–$83.3 million (United States and Canada)[4]</td>\n",
       "    </tr>\n",
       "    <tr>\n",
       "      <th>3</th>\n",
       "      <td>The Reluctant Dragon (1941film)</td>\n",
       "      <td>01:14</td>\n",
       "      <td>1941-06-27</td>\n",
       "      <td>$960,000 (worldwide rentals)</td>\n",
       "    </tr>\n",
       "    <tr>\n",
       "      <th>4</th>\n",
       "      <td>Dumbo</td>\n",
       "      <td>01:04</td>\n",
       "      <td>1941-10-23</td>\n",
       "      <td>&gt;$1.3 million (est. United States/Canada rentals, 1941)</td>\n",
       "    </tr>\n",
       "    <tr>\n",
       "      <th>...</th>\n",
       "      <td>...</td>\n",
       "      <td>...</td>\n",
       "      <td>...</td>\n",
       "      <td>...</td>\n",
       "    </tr>\n",
       "    <tr>\n",
       "      <th>520</th>\n",
       "      <td>Elio (film)</td>\n",
       "      <td>NaN</td>\n",
       "      <td>2025-06-13</td>\n",
       "      <td>nan</td>\n",
       "    </tr>\n",
       "    <tr>\n",
       "      <th>521</th>\n",
       "      <td>Out of My Mind (film)</td>\n",
       "      <td>01:42</td>\n",
       "      <td>NaT</td>\n",
       "      <td>nan</td>\n",
       "    </tr>\n",
       "    <tr>\n",
       "      <th>522</th>\n",
       "      <td>Young Woman and the Sea</td>\n",
       "      <td>NaN</td>\n",
       "      <td>NaT</td>\n",
       "      <td>nan</td>\n",
       "    </tr>\n",
       "    <tr>\n",
       "      <th>523</th>\n",
       "      <td>Lilo  Stitch (upcoming film)</td>\n",
       "      <td>NaN</td>\n",
       "      <td>NaT</td>\n",
       "      <td>nan</td>\n",
       "    </tr>\n",
       "    <tr>\n",
       "      <th>524</th>\n",
       "      <td>Tron Ares</td>\n",
       "      <td>NaN</td>\n",
       "      <td>NaT</td>\n",
       "      <td>nan</td>\n",
       "    </tr>\n",
       "  </tbody>\n",
       "</table>\n",
       "<p>525 rows × 4 columns</p>\n",
       "</div>"
      ],
      "text/plain": [
       "                                     movie_name Running time (min)  \\\n",
       "0    Snow White and the Seven Dwarfs (1937film)              01:23   \n",
       "1                          Pinocchio (1940film)              01:28   \n",
       "2                           Fantasia (1940film)              02:06   \n",
       "3               The Reluctant Dragon (1941film)              01:14   \n",
       "4                                         Dumbo              01:04   \n",
       "..                                          ...                ...   \n",
       "520                                 Elio (film)                NaN   \n",
       "521                       Out of My Mind (film)              01:42   \n",
       "522                     Young Woman and the Sea                NaN   \n",
       "523                Lilo  Stitch (upcoming film)                NaN   \n",
       "524                                   Tron Ares                NaN   \n",
       "\n",
       "    Release date  \\\n",
       "0            NaT   \n",
       "1     1940-02-07   \n",
       "2     1940-11-13   \n",
       "3     1941-06-27   \n",
       "4     1941-10-23   \n",
       "..           ...   \n",
       "520   2025-06-13   \n",
       "521          NaT   \n",
       "522          NaT   \n",
       "523          NaT   \n",
       "524          NaT   \n",
       "\n",
       "                                                                                                  Box office  \n",
       "0                                                                                               $418 million  \n",
       "1                                                                                            $164\\xa0million  \n",
       "2    $76.4–$83.3 million (United States and Canada)[4][5], $76.4–$83.3 million (United States and Canada)[4]  \n",
       "3                                                                              $960,000 (worldwide rentals)   \n",
       "4                                                    >$1.3 million (est. United States/Canada rentals, 1941)  \n",
       "..                                                                                                       ...  \n",
       "520                                                                                                      nan  \n",
       "521                                                                                                      nan  \n",
       "522                                                                                                      nan  \n",
       "523                                                                                                      nan  \n",
       "524                                                                                                      nan  \n",
       "\n",
       "[525 rows x 4 columns]"
      ]
     },
     "execution_count": 1054,
     "metadata": {},
     "output_type": "execute_result"
    }
   ],
   "source": [
    "df_2"
   ]
  },
  {
   "cell_type": "code",
   "execution_count": 1055,
   "id": "db8fc8d3-ead8-4a64-932a-310b699f1036",
   "metadata": {},
   "outputs": [
    {
     "data": {
      "text/plain": [
       "Timestamp('2025-06-13 00:00:00')"
      ]
     },
     "execution_count": 1055,
     "metadata": {},
     "output_type": "execute_result"
    }
   ],
   "source": [
    "df_2['Release date'].max()"
   ]
  },
  {
   "cell_type": "markdown",
   "id": "6a7e65c9-bfc4-40e7-a1ef-d6636380fe4c",
   "metadata": {},
   "source": [
    "Outlier Detected"
   ]
  },
  {
   "cell_type": "code",
   "execution_count": 1056,
   "id": "a6f91b98-3791-437b-ba15-2b19a16e1a61",
   "metadata": {},
   "outputs": [],
   "source": [
    "## Limited max date to 2024-05-31\n",
    "\n",
    "# Convert 'Release date' column to datetime datatype if it's not already in that format\n",
    "df_2['Release date'] = pd.to_datetime(df_2['Release date'])\n",
    "\n",
    "# Filter rows where 'Release date' > '2024-02-31'\n",
    "filtered_df = df_2[df_2['Release date'] <= '2024-05-31']\n",
    "\n",
    "# Display the filtered DataFrame\n",
    "df_2_dated = filtered_df\n"
   ]
  },
  {
   "cell_type": "code",
   "execution_count": 1057,
   "id": "f1b8486b-236b-410b-b769-856000622679",
   "metadata": {},
   "outputs": [
    {
     "data": {
      "text/html": [
       "<div>\n",
       "<style scoped>\n",
       "    .dataframe tbody tr th:only-of-type {\n",
       "        vertical-align: middle;\n",
       "    }\n",
       "\n",
       "    .dataframe tbody tr th {\n",
       "        vertical-align: top;\n",
       "    }\n",
       "\n",
       "    .dataframe thead th {\n",
       "        text-align: right;\n",
       "    }\n",
       "</style>\n",
       "<table border=\"1\" class=\"dataframe\">\n",
       "  <thead>\n",
       "    <tr style=\"text-align: right;\">\n",
       "      <th></th>\n",
       "      <th>movie_name</th>\n",
       "      <th>Running time (min)</th>\n",
       "      <th>Release date</th>\n",
       "      <th>Box office</th>\n",
       "    </tr>\n",
       "  </thead>\n",
       "  <tbody>\n",
       "    <tr>\n",
       "      <th>1</th>\n",
       "      <td>Pinocchio (1940film)</td>\n",
       "      <td>01:28</td>\n",
       "      <td>1940-02-07</td>\n",
       "      <td>$164\\xa0million</td>\n",
       "    </tr>\n",
       "  </tbody>\n",
       "</table>\n",
       "</div>"
      ],
      "text/plain": [
       "             movie_name Running time (min) Release date       Box office\n",
       "1  Pinocchio (1940film)              01:28   1940-02-07  $164\\xa0million"
      ]
     },
     "execution_count": 1057,
     "metadata": {},
     "output_type": "execute_result"
    }
   ],
   "source": [
    "df_2_dated.head(1)"
   ]
  },
  {
   "cell_type": "code",
   "execution_count": 1058,
   "id": "220675bc-bf7b-435f-b238-c054f7f4d5b0",
   "metadata": {},
   "outputs": [
    {
     "data": {
      "text/html": [
       "<div>\n",
       "<style scoped>\n",
       "    .dataframe tbody tr th:only-of-type {\n",
       "        vertical-align: middle;\n",
       "    }\n",
       "\n",
       "    .dataframe tbody tr th {\n",
       "        vertical-align: top;\n",
       "    }\n",
       "\n",
       "    .dataframe thead th {\n",
       "        text-align: right;\n",
       "    }\n",
       "</style>\n",
       "<table border=\"1\" class=\"dataframe\">\n",
       "  <thead>\n",
       "    <tr style=\"text-align: right;\">\n",
       "      <th></th>\n",
       "      <th>movie_name</th>\n",
       "      <th>Running time (min)</th>\n",
       "      <th>Release date</th>\n",
       "      <th>Box office</th>\n",
       "    </tr>\n",
       "  </thead>\n",
       "  <tbody>\n",
       "    <tr>\n",
       "      <th>1</th>\n",
       "      <td>Pinocchio (1940film)</td>\n",
       "      <td>01:28</td>\n",
       "      <td>1940-02-07</td>\n",
       "      <td>$164\\xa0million</td>\n",
       "    </tr>\n",
       "    <tr>\n",
       "      <th>2</th>\n",
       "      <td>Fantasia (1940film)</td>\n",
       "      <td>02:06</td>\n",
       "      <td>1940-11-13</td>\n",
       "      <td>$76.4–$83.3 million (United States and Canada)[4][5], $76.4–$83.3 million (United States and Canada)[4]</td>\n",
       "    </tr>\n",
       "    <tr>\n",
       "      <th>3</th>\n",
       "      <td>The Reluctant Dragon (1941film)</td>\n",
       "      <td>01:14</td>\n",
       "      <td>1941-06-27</td>\n",
       "      <td>$960,000 (worldwide rentals)</td>\n",
       "    </tr>\n",
       "    <tr>\n",
       "      <th>4</th>\n",
       "      <td>Dumbo</td>\n",
       "      <td>01:04</td>\n",
       "      <td>1941-10-23</td>\n",
       "      <td>&gt;$1.3 million (est. United States/Canada rentals, 1941)</td>\n",
       "    </tr>\n",
       "    <tr>\n",
       "      <th>5</th>\n",
       "      <td>Bambi</td>\n",
       "      <td>01:10</td>\n",
       "      <td>1942-08-09</td>\n",
       "      <td>$267.4 million</td>\n",
       "    </tr>\n",
       "    <tr>\n",
       "      <th>...</th>\n",
       "      <td>...</td>\n",
       "      <td>...</td>\n",
       "      <td>...</td>\n",
       "      <td>...</td>\n",
       "    </tr>\n",
       "    <tr>\n",
       "      <th>240</th>\n",
       "      <td>Tarzan (1999film)</td>\n",
       "      <td>01:28</td>\n",
       "      <td>1999-06-12</td>\n",
       "      <td>$448.2 million</td>\n",
       "    </tr>\n",
       "    <tr>\n",
       "      <th>241</th>\n",
       "      <td>Inspector Gadget (film)</td>\n",
       "      <td>01:18</td>\n",
       "      <td>1999-07-23</td>\n",
       "      <td>$134.4 million</td>\n",
       "    </tr>\n",
       "    <tr>\n",
       "      <th>242</th>\n",
       "      <td>Hercules Zero to Hero</td>\n",
       "      <td>01:10</td>\n",
       "      <td>1999-08-17</td>\n",
       "      <td>nan</td>\n",
       "    </tr>\n",
       "    <tr>\n",
       "      <th>244</th>\n",
       "      <td>Mickeys Once Upon a Christmas</td>\n",
       "      <td>01:06</td>\n",
       "      <td>1999-11-09</td>\n",
       "      <td>nan</td>\n",
       "    </tr>\n",
       "    <tr>\n",
       "      <th>245</th>\n",
       "      <td>Toy Story 2</td>\n",
       "      <td>01:32</td>\n",
       "      <td>1999-11-13</td>\n",
       "      <td>$511.4\\xa0million[4][3], $511.4\\xa0million[4]</td>\n",
       "    </tr>\n",
       "  </tbody>\n",
       "</table>\n",
       "<p>216 rows × 4 columns</p>\n",
       "</div>"
      ],
      "text/plain": [
       "                          movie_name Running time (min) Release date  \\\n",
       "1               Pinocchio (1940film)              01:28   1940-02-07   \n",
       "2                Fantasia (1940film)              02:06   1940-11-13   \n",
       "3    The Reluctant Dragon (1941film)              01:14   1941-06-27   \n",
       "4                              Dumbo              01:04   1941-10-23   \n",
       "5                              Bambi              01:10   1942-08-09   \n",
       "..                               ...                ...          ...   \n",
       "240                Tarzan (1999film)              01:28   1999-06-12   \n",
       "241          Inspector Gadget (film)              01:18   1999-07-23   \n",
       "242            Hercules Zero to Hero              01:10   1999-08-17   \n",
       "244    Mickeys Once Upon a Christmas              01:06   1999-11-09   \n",
       "245                      Toy Story 2              01:32   1999-11-13   \n",
       "\n",
       "                                                                                                  Box office  \n",
       "1                                                                                            $164\\xa0million  \n",
       "2    $76.4–$83.3 million (United States and Canada)[4][5], $76.4–$83.3 million (United States and Canada)[4]  \n",
       "3                                                                              $960,000 (worldwide rentals)   \n",
       "4                                                    >$1.3 million (est. United States/Canada rentals, 1941)  \n",
       "5                                                                                             $267.4 million  \n",
       "..                                                                                                       ...  \n",
       "240                                                                                           $448.2 million  \n",
       "241                                                                                           $134.4 million  \n",
       "242                                                                                                      nan  \n",
       "244                                                                                                      nan  \n",
       "245                                                            $511.4\\xa0million[4][3], $511.4\\xa0million[4]  \n",
       "\n",
       "[216 rows x 4 columns]"
      ]
     },
     "execution_count": 1058,
     "metadata": {},
     "output_type": "execute_result"
    }
   ],
   "source": [
    "# Filter rows where 'Release date' is not in the YYYY-MM-DD format with numeric characters\n",
    "pattern = r'^(?!20\\d{2}-\\d{2}-\\d{2}$).*$'\n",
    "non_numeric_dates = df_2_dated[df_2_dated['Release date'].astype(str).str.match(pattern)]\n",
    "\n",
    "# Display the filtered DataFrame\n",
    "non_numeric_dates"
   ]
  },
  {
   "cell_type": "code",
   "execution_count": 1059,
   "id": "a826374d-55f3-439d-8e21-d5386b3bf9d1",
   "metadata": {},
   "outputs": [
    {
     "data": {
      "text/html": [
       "<div>\n",
       "<style scoped>\n",
       "    .dataframe tbody tr th:only-of-type {\n",
       "        vertical-align: middle;\n",
       "    }\n",
       "\n",
       "    .dataframe tbody tr th {\n",
       "        vertical-align: top;\n",
       "    }\n",
       "\n",
       "    .dataframe thead th {\n",
       "        text-align: right;\n",
       "    }\n",
       "</style>\n",
       "<table border=\"1\" class=\"dataframe\">\n",
       "  <thead>\n",
       "    <tr style=\"text-align: right;\">\n",
       "      <th></th>\n",
       "      <th>movie_name</th>\n",
       "      <th>Running time (min)</th>\n",
       "      <th>Release date</th>\n",
       "      <th>Box office</th>\n",
       "    </tr>\n",
       "  </thead>\n",
       "  <tbody>\n",
       "  </tbody>\n",
       "</table>\n",
       "</div>"
      ],
      "text/plain": [
       "Empty DataFrame\n",
       "Columns: [movie_name, Running time (min), Release date, Box office]\n",
       "Index: []"
      ]
     },
     "execution_count": 1059,
     "metadata": {},
     "output_type": "execute_result"
    }
   ],
   "source": [
    "# Filter rows where the month is smaller than 01 or larger than 12\n",
    "invalid_month_rows = df_2_dated[(df_2_dated['Release date'].dt.month < 1) | (df_2_dated['Release date'].dt.month > 12)]\n",
    "\n",
    "# Display the filtered DataFrame\n",
    "invalid_month_rows"
   ]
  },
  {
   "cell_type": "code",
   "execution_count": 1061,
   "id": "efd9072e-da89-44f2-bda1-dfe2fa6527d6",
   "metadata": {},
   "outputs": [
    {
     "data": {
      "text/html": [
       "<div>\n",
       "<style scoped>\n",
       "    .dataframe tbody tr th:only-of-type {\n",
       "        vertical-align: middle;\n",
       "    }\n",
       "\n",
       "    .dataframe tbody tr th {\n",
       "        vertical-align: top;\n",
       "    }\n",
       "\n",
       "    .dataframe thead th {\n",
       "        text-align: right;\n",
       "    }\n",
       "</style>\n",
       "<table border=\"1\" class=\"dataframe\">\n",
       "  <thead>\n",
       "    <tr style=\"text-align: right;\">\n",
       "      <th></th>\n",
       "      <th>movie_name</th>\n",
       "      <th>Running time (min)</th>\n",
       "      <th>Release date</th>\n",
       "      <th>Box office</th>\n",
       "    </tr>\n",
       "  </thead>\n",
       "  <tbody>\n",
       "  </tbody>\n",
       "</table>\n",
       "</div>"
      ],
      "text/plain": [
       "Empty DataFrame\n",
       "Columns: [movie_name, Running time (min), Release date, Box office]\n",
       "Index: []"
      ]
     },
     "execution_count": 1061,
     "metadata": {},
     "output_type": "execute_result"
    }
   ],
   "source": [
    "# Filter rows where day is smaller than 01 or larger than 31\n",
    "invalid_dates = df_2_dated[(df_2_dated['Release date'].dt.day < 1) | (df_2_dated['Release date'].dt.day > 31)]\n",
    "\n",
    "# Display the filtered DataFrame\n",
    "invalid_dates"
   ]
  },
  {
   "cell_type": "code",
   "execution_count": 1065,
   "id": "745ae48b-1b3d-4a80-99fc-3e2401b9e492",
   "metadata": {},
   "outputs": [
    {
     "data": {
      "text/html": [
       "<div>\n",
       "<style scoped>\n",
       "    .dataframe tbody tr th:only-of-type {\n",
       "        vertical-align: middle;\n",
       "    }\n",
       "\n",
       "    .dataframe tbody tr th {\n",
       "        vertical-align: top;\n",
       "    }\n",
       "\n",
       "    .dataframe thead th {\n",
       "        text-align: right;\n",
       "    }\n",
       "</style>\n",
       "<table border=\"1\" class=\"dataframe\">\n",
       "  <thead>\n",
       "    <tr style=\"text-align: right;\">\n",
       "      <th></th>\n",
       "      <th>movie_name</th>\n",
       "      <th>Running time (min)</th>\n",
       "      <th>Release date</th>\n",
       "      <th>Box office</th>\n",
       "    </tr>\n",
       "  </thead>\n",
       "  <tbody>\n",
       "    <tr>\n",
       "      <th>1</th>\n",
       "      <td>Pinocchio (1940film)</td>\n",
       "      <td>01:28</td>\n",
       "      <td>1940-02-07</td>\n",
       "      <td>$164\\xa0million</td>\n",
       "    </tr>\n",
       "    <tr>\n",
       "      <th>2</th>\n",
       "      <td>Fantasia (1940film)</td>\n",
       "      <td>02:06</td>\n",
       "      <td>1940-11-13</td>\n",
       "      <td>$76.4–$83.3 million (United States and Canada)[4][5], $76.4–$83.3 million (United States and Canada)[4]</td>\n",
       "    </tr>\n",
       "    <tr>\n",
       "      <th>3</th>\n",
       "      <td>The Reluctant Dragon (1941film)</td>\n",
       "      <td>01:14</td>\n",
       "      <td>1941-06-27</td>\n",
       "      <td>$960,000 (worldwide rentals)</td>\n",
       "    </tr>\n",
       "    <tr>\n",
       "      <th>4</th>\n",
       "      <td>Dumbo</td>\n",
       "      <td>01:04</td>\n",
       "      <td>1941-10-23</td>\n",
       "      <td>&gt;$1.3 million (est. United States/Canada rentals, 1941)</td>\n",
       "    </tr>\n",
       "    <tr>\n",
       "      <th>5</th>\n",
       "      <td>Bambi</td>\n",
       "      <td>01:10</td>\n",
       "      <td>1942-08-09</td>\n",
       "      <td>$267.4 million</td>\n",
       "    </tr>\n",
       "    <tr>\n",
       "      <th>...</th>\n",
       "      <td>...</td>\n",
       "      <td>...</td>\n",
       "      <td>...</td>\n",
       "      <td>...</td>\n",
       "    </tr>\n",
       "    <tr>\n",
       "      <th>506</th>\n",
       "      <td>Chang Can Dunk</td>\n",
       "      <td>01:49</td>\n",
       "      <td>2023-03-10</td>\n",
       "      <td>nan</td>\n",
       "    </tr>\n",
       "    <tr>\n",
       "      <th>507</th>\n",
       "      <td>Peter Pan  Wendy</td>\n",
       "      <td>01:49</td>\n",
       "      <td>2023-04-28</td>\n",
       "      <td>nan</td>\n",
       "    </tr>\n",
       "    <tr>\n",
       "      <th>508</th>\n",
       "      <td>Crater (film)</td>\n",
       "      <td>01:45</td>\n",
       "      <td>2023-05-12</td>\n",
       "      <td>nan</td>\n",
       "    </tr>\n",
       "    <tr>\n",
       "      <th>511</th>\n",
       "      <td>Worlds Best (film)</td>\n",
       "      <td>01:41</td>\n",
       "      <td>2023-06-23</td>\n",
       "      <td>nan</td>\n",
       "    </tr>\n",
       "    <tr>\n",
       "      <th>514</th>\n",
       "      <td>Dashing Through the Snow</td>\n",
       "      <td>01:30</td>\n",
       "      <td>2023-11-17</td>\n",
       "      <td>nan</td>\n",
       "    </tr>\n",
       "  </tbody>\n",
       "</table>\n",
       "<p>371 rows × 4 columns</p>\n",
       "</div>"
      ],
      "text/plain": [
       "                          movie_name Running time (min) Release date  \\\n",
       "1               Pinocchio (1940film)              01:28   1940-02-07   \n",
       "2                Fantasia (1940film)              02:06   1940-11-13   \n",
       "3    The Reluctant Dragon (1941film)              01:14   1941-06-27   \n",
       "4                              Dumbo              01:04   1941-10-23   \n",
       "5                              Bambi              01:10   1942-08-09   \n",
       "..                               ...                ...          ...   \n",
       "506                   Chang Can Dunk              01:49   2023-03-10   \n",
       "507                 Peter Pan  Wendy              01:49   2023-04-28   \n",
       "508                    Crater (film)              01:45   2023-05-12   \n",
       "511               Worlds Best (film)              01:41   2023-06-23   \n",
       "514         Dashing Through the Snow              01:30   2023-11-17   \n",
       "\n",
       "                                                                                                  Box office  \n",
       "1                                                                                            $164\\xa0million  \n",
       "2    $76.4–$83.3 million (United States and Canada)[4][5], $76.4–$83.3 million (United States and Canada)[4]  \n",
       "3                                                                              $960,000 (worldwide rentals)   \n",
       "4                                                    >$1.3 million (est. United States/Canada rentals, 1941)  \n",
       "5                                                                                             $267.4 million  \n",
       "..                                                                                                       ...  \n",
       "506                                                                                                      nan  \n",
       "507                                                                                                      nan  \n",
       "508                                                                                                      nan  \n",
       "511                                                                                                      nan  \n",
       "514                                                                                                      nan  \n",
       "\n",
       "[371 rows x 4 columns]"
      ]
     },
     "execution_count": 1065,
     "metadata": {},
     "output_type": "execute_result"
    }
   ],
   "source": [
    "df_2_dated"
   ]
  },
  {
   "cell_type": "markdown",
   "id": "334b2927-ff61-4e47-a8dd-585f9658f9fa",
   "metadata": {},
   "source": [
    "#### Box office"
   ]
  },
  {
   "cell_type": "code",
   "execution_count": null,
   "id": "a9dbb652-506f-4bbb-9386-063186af5627",
   "metadata": {},
   "outputs": [],
   "source": []
  }
 ],
 "metadata": {
  "kernelspec": {
   "display_name": "Python 3 (ipykernel)",
   "language": "python",
   "name": "python3"
  },
  "language_info": {
   "codemirror_mode": {
    "name": "ipython",
    "version": 3
   },
   "file_extension": ".py",
   "mimetype": "text/x-python",
   "name": "python",
   "nbconvert_exporter": "python",
   "pygments_lexer": "ipython3",
   "version": "3.11.7"
  }
 },
 "nbformat": 4,
 "nbformat_minor": 5
}
