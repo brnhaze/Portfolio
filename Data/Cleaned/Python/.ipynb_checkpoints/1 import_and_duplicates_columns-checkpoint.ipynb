{
 "cells": [
  {
   "cell_type": "code",
   "execution_count": 131,
   "id": "f33d995f-df08-4ad4-a1b2-50f2170b0345",
   "metadata": {},
   "outputs": [],
   "source": [
    "# Import pandas library\n",
    "import pandas as pd"
   ]
  },
  {
   "cell_type": "code",
   "execution_count": 132,
   "id": "163af583-f0f6-4b2f-a2a7-9dae6df2e06c",
   "metadata": {},
   "outputs": [],
   "source": [
    "# Read uncleaned disney_movies.csv file\n",
    "df_0 = pd.read_csv(r'C:\\Users\\ashwi\\Documents\\Data Analytics\\QA\\Data\\Uncleaned\\Disney_movies.csv', index_col=False)"
   ]
  },
  {
   "cell_type": "code",
   "execution_count": 133,
   "id": "8731d503-c03c-4f6f-8514-b6e31c15e9f3",
   "metadata": {},
   "outputs": [
    {
     "data": {
      "text/plain": [
       "(525, 24)"
      ]
     },
     "execution_count": 133,
     "metadata": {},
     "output_type": "execute_result"
    }
   ],
   "source": [
    "# Attain dimensions\n",
    "df_0.shape"
   ]
  },
  {
   "cell_type": "code",
   "execution_count": 134,
   "id": "8ebfca83-2361-42a3-b44f-5afa990470b3",
   "metadata": {},
   "outputs": [
    {
     "data": {
      "text/plain": [
       "Unnamed: 0              int64\n",
       "movie_name             object\n",
       "Directed by            object\n",
       "Story by               object\n",
       "Based on               object\n",
       "Produced by            object\n",
       "Starring               object\n",
       "Music by               object\n",
       "Productioncompany      object\n",
       "Distributed by         object\n",
       "Release dates          object\n",
       "Running time           object\n",
       "Country                object\n",
       "Language               object\n",
       "Budget                 object\n",
       "Box office             object\n",
       "Narrated by            object\n",
       "Cinematography         object\n",
       "Release date           object\n",
       "Written by             object\n",
       "Edited by              object\n",
       "Screenplay by          object\n",
       "Countries              object\n",
       "Productioncompanies    object\n",
       "dtype: object"
      ]
     },
     "execution_count": 134,
     "metadata": {},
     "output_type": "execute_result"
    }
   ],
   "source": [
    "# Attain datatypes\n",
    "df_0.dtypes"
   ]
  },
  {
   "cell_type": "code",
   "execution_count": 135,
   "id": "fd939e7c-b439-464f-ba6f-036fcc1da2d9",
   "metadata": {},
   "outputs": [],
   "source": [
    "# Display columns as a List\n",
    "list = df_0.columns.tolist()"
   ]
  },
  {
   "cell_type": "code",
   "execution_count": 136,
   "id": "e3f149f3-2d02-4711-964f-cc313312a7f6",
   "metadata": {},
   "outputs": [],
   "source": [
    "# sort\n",
    "sorted_list = sorted(list)"
   ]
  },
  {
   "cell_type": "code",
   "execution_count": 137,
   "id": "16fbd66b-91ee-49e2-a186-555583ca5ef9",
   "metadata": {},
   "outputs": [
    {
     "data": {
      "text/plain": [
       "['Based on',\n",
       " 'Box office',\n",
       " 'Budget',\n",
       " 'Cinematography',\n",
       " 'Countries',\n",
       " 'Country',\n",
       " 'Directed by',\n",
       " 'Distributed by',\n",
       " 'Edited by',\n",
       " 'Language',\n",
       " 'Music by',\n",
       " 'Narrated by',\n",
       " 'Produced by',\n",
       " 'Productioncompanies',\n",
       " 'Productioncompany',\n",
       " 'Release date',\n",
       " 'Release dates',\n",
       " 'Running time',\n",
       " 'Screenplay by',\n",
       " 'Starring',\n",
       " 'Story by',\n",
       " 'Unnamed: 0',\n",
       " 'Written by',\n",
       " 'movie_name']"
      ]
     },
     "execution_count": 137,
     "metadata": {},
     "output_type": "execute_result"
    }
   ],
   "source": [
    "sorted_list"
   ]
  },
  {
   "cell_type": "markdown",
   "id": "9c45fd65-e83d-43d2-94f0-6f10eec15864",
   "metadata": {},
   "source": [
    "## compare and delete duplicate columns"
   ]
  },
  {
   "cell_type": "markdown",
   "id": "ea2a2724-b1f3-413b-8ad0-e0cb77dafd55",
   "metadata": {},
   "source": [
    "### productioncompanies & productioncompany"
   ]
  },
  {
   "cell_type": "markdown",
   "id": "d0466a7e-d01e-4e04-8309-0e08c0f253f5",
   "metadata": {},
   "source": [
    "#### Length"
   ]
  },
  {
   "cell_type": "code",
   "execution_count": 138,
   "id": "7f6625e2-3e28-431d-b461-1412927179bb",
   "metadata": {},
   "outputs": [
    {
     "data": {
      "text/plain": [
       "525"
      ]
     },
     "execution_count": 138,
     "metadata": {},
     "output_type": "execute_result"
    }
   ],
   "source": [
    "prod_com = df_0['Productioncompanies']\n",
    "len(prod_com)"
   ]
  },
  {
   "cell_type": "code",
   "execution_count": 139,
   "id": "e77b3b27-0c3a-44b1-8753-3f31a8ba51e3",
   "metadata": {
    "jupyter": {
     "source_hidden": true
    }
   },
   "outputs": [
    {
     "data": {
      "text/plain": [
       "525"
      ]
     },
     "execution_count": 139,
     "metadata": {},
     "output_type": "execute_result"
    }
   ],
   "source": [
    "prod_coms = df_0['Productioncompany']\n",
    "len(prod_coms)"
   ]
  },
  {
   "cell_type": "code",
   "execution_count": 140,
   "id": "e5f033f9-9b30-4146-85b2-4d89e24fd445",
   "metadata": {},
   "outputs": [
    {
     "name": "stdout",
     "output_type": "stream",
     "text": [
      "Length of productioncompanies: 525\n",
      "Length of productioncompany: 525\n"
     ]
    }
   ],
   "source": [
    "print(f'Length of productioncompanies: {len(prod_com)}')\n",
    "print(f'Length of productioncompany: {len(prod_coms)}')"
   ]
  },
  {
   "cell_type": "markdown",
   "id": "ad73a16b-eff4-4a51-9b7b-ba6874b3b31a",
   "metadata": {},
   "source": [
    "#### Differences"
   ]
  },
  {
   "cell_type": "code",
   "execution_count": 141,
   "id": "e8258e1c-afd3-4100-86b4-e1df877544b8",
   "metadata": {},
   "outputs": [],
   "source": [
    "diff_prod_com = prod_com[~prod_com.isin(prod_coms)]\n",
    "diff_prod_coms = prod_coms[~prod_coms.isin(prod_com)]"
   ]
  },
  {
   "cell_type": "code",
   "execution_count": 142,
   "id": "11a44150-ef89-4fa3-916a-7b1d40df22ad",
   "metadata": {},
   "outputs": [
    {
     "name": "stdout",
     "output_type": "stream",
     "text": [
      "\n",
      "Values in 'Productioncompanies' not in 'Productioncompany':\n",
      "144    ['Paramount Pictures', 'Walt Disney Production...\n",
      "147    ['Paramount Pictures', 'Walt Disney Productions']\n",
      "154     ['Walt Disney Productions', 'The Bryna Company']\n",
      "156    ['Walt Disney Pictures', 'Silver Screen Partne...\n",
      "157    ['Walt Disney Pictures', 'Walt Disney Pictures...\n",
      "                             ...                        \n",
      "519    ['Walt Disney Pictures', 'Marc Platt Productio...\n",
      "520    ['Walt Disney Pictures', 'Pixar Animation Stud...\n",
      "521    ['Walt Disney Pictures', ' Big Beach Films', '...\n",
      "522    ['Walt Disney Pictures', 'Jerry Bruckheimer Fi...\n",
      "523                 ['Walt Disney Pictures', 'Rideback']\n",
      "Name: Productioncompanies, Length: 285, dtype: object\n",
      "\n",
      "Values in 'Productioncompany' not in 'Productioncompanies':\n",
      "16     ['RKO-Walt Disney British Productions Limited'...\n",
      "18     ['RKO-Walt Disney British Productions Limited'...\n",
      "20     ['RKO-Walt Disney British Productions Limited'...\n",
      "22     ['RKO-Walt Disney British Productions', 'RKO-W...\n",
      "48     ['Walt Disney Productions', 'Walt Disney Produ...\n",
      "94     ['Walt Disney Productions', 'Robert Lawrence P...\n",
      "196    ['Walt Disney Television Animation', 'Walt Dis...\n",
      "220    ['Walt Disney Pictures', 'Walt Disney Pictures...\n",
      "225    ['Walt Disney Pictures', 'Walt Disney Pictures...\n",
      "242    ['Walt Disney Television Animation', 'Walt Dis...\n",
      "244    ['Walt Disney Television Animation', 'Walt Dis...\n",
      "270    ['Walt Disney Television Animation', 'Walt Dis...\n",
      "272    ['Walt Disney Television Animation', 'Walt Dis...\n",
      "290    ['Walt Disney Pictures', 'Walt Disney Pictures...\n",
      "294      ['DisneyToon Studios', 'DisneyToon Studios[1]']\n",
      "304      ['Disneytoon Studios', 'Disneytoon Studios[1]']\n",
      "331      ['DisneyToon Studios', 'DisneyToon Studios[1]']\n",
      "336                  ['Walden Media', 'Walden Media[1]']\n",
      "367      ['Disneytoon Studios', 'Disneytoon Studios[1]']\n",
      "373                            ['Stone Circle Pictures']\n",
      "394                              ['Key Pix Productions']\n",
      "396                              ['Key Pix Productions']\n",
      "397    ['Walt Disney Pictures', 'Walt Disney Pictures...\n",
      "404      ['DisneyToon Studios', 'DisneyToon Studios[1]']\n",
      "425                               ['Disneytoon Studios']\n",
      "Name: Productioncompany, dtype: object\n"
     ]
    }
   ],
   "source": [
    "print(\"\\nValues in 'Productioncompanies' not in 'Productioncompany':\")\n",
    "print(diff_prod_com)\n",
    "\n",
    "print(\"\\nValues in 'Productioncompany' not in 'Productioncompanies':\")\n",
    "print(diff_prod_coms)"
   ]
  },
  {
   "cell_type": "code",
   "execution_count": 143,
   "id": "cefa1a92-56ce-4a57-af7a-4a433739d08a",
   "metadata": {},
   "outputs": [
    {
     "name": "stdout",
     "output_type": "stream",
     "text": [
      "Unnamed: 0                                                           144\n",
      "movie_name                                                 Popeye (film)\n",
      "Directed by                                            ['Robert Altman']\n",
      "Story by                                                             NaN\n",
      "Based on                                       ['Popeye', 'E. C. Segar']\n",
      "Produced by                                             ['Robert Evans']\n",
      "Starring                            ['Robin Williams', 'Shelley Duvall']\n",
      "Music by                                               ['Harry Nilsson']\n",
      "Productioncompany                                                    NaN\n",
      "Distributed by                             ['Buena Vista International']\n",
      "Release dates          ['\\nDecember\\xa06,\\xa01980\\xa0(1980-12-06) (Lo...\n",
      "Running time                                             ['114 minutes']\n",
      "Country                                                ['United States']\n",
      "Language                                                     ['English']\n",
      "Budget                                                ['$20 million[1]']\n",
      "Box office                                            ['$60 million[2]']\n",
      "Narrated by                                                          NaN\n",
      "Cinematography                                      ['Giuseppe Rotunno']\n",
      "Release date                                                         NaN\n",
      "Written by                                                           NaN\n",
      "Edited by                                             ['John W. Holmes']\n",
      "Screenplay by                                          ['Jules Feiffer']\n",
      "Countries                                                            NaN\n",
      "Productioncompanies    ['Paramount Pictures', 'Walt Disney Production...\n",
      "Name: 144, dtype: object\n"
     ]
    }
   ],
   "source": [
    "specific_row_144 = df_0.iloc[144]\n",
    "print(specific_row_144)"
   ]
  },
  {
   "cell_type": "markdown",
   "id": "fc743749-3689-47bb-a928-a8b836da6957",
   "metadata": {},
   "source": [
    "#### Merging"
   ]
  },
  {
   "cell_type": "code",
   "execution_count": 144,
   "id": "a3e7ff9e-3a41-4e86-ba6f-46533798b579",
   "metadata": {},
   "outputs": [
    {
     "name": "stdout",
     "output_type": "stream",
     "text": [
      "Differences between 'Productioncompany' and 'Productioncompanies':\n",
      "               Productioncompany  \\\n",
      "0    ['Walt Disney Productions']   \n",
      "1    ['Walt Disney Productions']   \n",
      "2    ['Walt Disney Productions']   \n",
      "3    ['Walt Disney Productions']   \n",
      "4    ['Walt Disney Productions']   \n",
      "..                           ...   \n",
      "520                          NaN   \n",
      "521                          NaN   \n",
      "522                          NaN   \n",
      "523                          NaN   \n",
      "524                          NaN   \n",
      "\n",
      "                                   Productioncompanies  \n",
      "0                                                  NaN  \n",
      "1                                                  NaN  \n",
      "2                                                  NaN  \n",
      "3                                                  NaN  \n",
      "4                                                  NaN  \n",
      "..                                                 ...  \n",
      "520  ['Walt Disney Pictures', 'Pixar Animation Stud...  \n",
      "521  ['Walt Disney Pictures', ' Big Beach Films', '...  \n",
      "522  ['Walt Disney Pictures', 'Jerry Bruckheimer Fi...  \n",
      "523               ['Walt Disney Pictures', 'Rideback']  \n",
      "524                           ['Walt Disney Pictures']  \n",
      "\n",
      "[525 rows x 2 columns]\n"
     ]
    }
   ],
   "source": [
    "# Compare values in 'Productioncompany' and 'Productioncompanies' columns\n",
    "diff_mask = df_0['Productioncompany'] != df_0['Productioncompanies']\n",
    "diff_df = df_0[diff_mask]\n",
    "\n",
    "print(\"Differences between 'Productioncompany' and 'Productioncompanies':\")\n",
    "print(diff_df[['Productioncompany', 'Productioncompanies']])"
   ]
  },
  {
   "cell_type": "code",
   "execution_count": 145,
   "id": "3d0b344b-d6b4-465a-825c-95be98b3f43f",
   "metadata": {},
   "outputs": [],
   "source": [
    "# Merge 'Productioncompany' and 'Productioncompanies' where 'Productioncompany' is NaN\n",
    "\n",
    "df_0['Productioncompany'].fillna(df_0['Productioncompanies'], inplace=True)"
   ]
  },
  {
   "cell_type": "code",
   "execution_count": 146,
   "id": "10b8486a-dea9-4b51-89fb-b6f99fe6d7a0",
   "metadata": {},
   "outputs": [],
   "source": [
    "# Drop the 'Productioncompanies' column\n",
    "\n",
    "df_0.drop(columns=['Productioncompanies'], inplace=True)"
   ]
  },
  {
   "cell_type": "code",
   "execution_count": 147,
   "id": "93520114-965f-4ddb-af6e-0e2105e80b97",
   "metadata": {},
   "outputs": [
    {
     "name": "stdout",
     "output_type": "stream",
     "text": [
      "\n",
      "Updated Dataframe:\n"
     ]
    }
   ],
   "source": [
    "# Print the updated DataFrame\n",
    "print(\"\\nUpdated Dataframe:\")\n",
    "#print(df_0)"
   ]
  },
  {
   "cell_type": "code",
   "execution_count": 148,
   "id": "a7a40e0a-dfbf-4583-a85a-b5733d0f5f7a",
   "metadata": {},
   "outputs": [
    {
     "data": {
      "text/plain": [
       "['Based on',\n",
       " 'Box office',\n",
       " 'Budget',\n",
       " 'Cinematography',\n",
       " 'Countries',\n",
       " 'Country',\n",
       " 'Directed by',\n",
       " 'Distributed by',\n",
       " 'Edited by',\n",
       " 'Language',\n",
       " 'Music by',\n",
       " 'Narrated by',\n",
       " 'Produced by',\n",
       " 'Productioncompany',\n",
       " 'Release date',\n",
       " 'Release dates',\n",
       " 'Running time',\n",
       " 'Screenplay by',\n",
       " 'Starring',\n",
       " 'Story by',\n",
       " 'Unnamed: 0',\n",
       " 'Written by',\n",
       " 'movie_name']"
      ]
     },
     "execution_count": 148,
     "metadata": {},
     "output_type": "execute_result"
    }
   ],
   "source": [
    "list = df_0.columns.tolist()\n",
    "sorted_list = sorted(list)\n",
    "sorted_list"
   ]
  },
  {
   "cell_type": "code",
   "execution_count": null,
   "id": "8b9cc0c1-5405-4578-ab5a-b741724219f6",
   "metadata": {},
   "outputs": [],
   "source": []
  },
  {
   "cell_type": "markdown",
   "id": "4b29067a-f52d-4ae9-9772-e8daa4b6c7c7",
   "metadata": {},
   "source": [
    "### Release date & Release dates"
   ]
  },
  {
   "cell_type": "markdown",
   "id": "30a72d5f-65f8-45b3-8ee5-df4661240484",
   "metadata": {},
   "source": [
    "#### Length"
   ]
  },
  {
   "cell_type": "code",
   "execution_count": 149,
   "id": "bb9e406b-25f7-4140-a073-4e8ef9384ebd",
   "metadata": {},
   "outputs": [
    {
     "data": {
      "text/plain": [
       "525"
      ]
     },
     "execution_count": 149,
     "metadata": {},
     "output_type": "execute_result"
    }
   ],
   "source": [
    "rel_dat = df_0['Release date']\n",
    "len(rel_dat)"
   ]
  },
  {
   "cell_type": "code",
   "execution_count": 150,
   "id": "7c5609f5-d16a-41a1-a7f7-95ba9499b4fd",
   "metadata": {},
   "outputs": [
    {
     "data": {
      "text/plain": [
       "525"
      ]
     },
     "execution_count": 150,
     "metadata": {},
     "output_type": "execute_result"
    }
   ],
   "source": [
    "rel_dats = df_0['Release dates']\n",
    "len(prod_coms)"
   ]
  },
  {
   "cell_type": "code",
   "execution_count": 151,
   "id": "50466d23-b1c4-49ff-bd78-0c8cf10893f7",
   "metadata": {},
   "outputs": [
    {
     "name": "stdout",
     "output_type": "stream",
     "text": [
      "Length of release date: 525\n",
      "Length of release dates: 525\n"
     ]
    }
   ],
   "source": [
    "print(f'Length of release date: {len(rel_dat)}')\n",
    "print(f'Length of release dates: {len(rel_dats)}')"
   ]
  },
  {
   "cell_type": "markdown",
   "id": "90583d2b-9595-4ab8-a61c-806d3472d9fb",
   "metadata": {},
   "source": [
    "#### Differences"
   ]
  },
  {
   "cell_type": "code",
   "execution_count": 152,
   "id": "5eb1ece8-8c15-4cbb-9098-cca5a143c6ff",
   "metadata": {},
   "outputs": [],
   "source": [
    "diff_rel_dat = rel_dat[~rel_dat.isin(rel_dats)]\n",
    "diff_rel_dats = rel_dats[~rel_dats.isin(rel_dat)]"
   ]
  },
  {
   "cell_type": "code",
   "execution_count": 153,
   "id": "50cf863a-8667-48bf-a638-e60d038cdbad",
   "metadata": {},
   "outputs": [
    {
     "name": "stdout",
     "output_type": "stream",
     "text": [
      "\n",
      "Values in 'rel_dat' not in 'rel_dats':\n",
      "2       ['\\nNovember\\xa013,\\xa01940\\xa0(1940-11-13)\\n']\n",
      "3            ['June\\xa027,\\xa01941\\xa0(1941-06-27)[1]']\n",
      "7           ['\\nJuly\\xa017,\\xa01943\\xa0(1943-07-17)\\n']\n",
      "11     ['\\nSeptember\\xa027,\\xa01947\\xa0(1947-09-27)\\n']\n",
      "12               ['May\\xa027,\\xa01948\\xa0(1948-05-27)']\n",
      "                             ...                       \n",
      "517         ['\\nJune\\xa014,\\xa02024\\xa0(2024-06-14)\\n']\n",
      "518     ['\\nDecember\\xa020,\\xa02024\\xa0(2024-12-20)\\n']\n",
      "519        ['\\nMarch\\xa021,\\xa02025\\xa0(2025-03-21)\\n']\n",
      "520         ['\\nJune\\xa013,\\xa02025\\xa0(2025-06-13)\\n']\n",
      "521                                        ['Sundance']\n",
      "Name: Release date, Length: 323, dtype: object\n",
      "\n",
      "Values in 'rel_dats' not in 'rel_dat':\n",
      "0                             ['Carthay Circle Theatre']\n",
      "1      ['Center Theatre', 'February\\xa07,\\xa01940\\xa0...\n",
      "4      ['October\\xa023,\\xa01941\\xa0(1941-10-23) (New ...\n",
      "5      ['London', 'August\\xa09,\\xa01942\\xa0(1942-08-0...\n",
      "6      ['August\\xa024,\\xa01942\\xa0(1942-08-24) (Rio d...\n",
      "                             ...                        \n",
      "509                                    ['Dolby Theatre']\n",
      "510                                           ['Cannes']\n",
      "512                                           ['Cannes']\n",
      "513                                       ['Disneyland']\n",
      "515                               ['El Capitan Theatre']\n",
      "Name: Release dates, Length: 195, dtype: object\n"
     ]
    }
   ],
   "source": [
    "print(\"\\nValues in 'rel_dat' not in 'rel_dats':\")\n",
    "print(diff_rel_dat)\n",
    "\n",
    "print(\"\\nValues in 'rel_dats' not in 'rel_dat':\")\n",
    "print(diff_rel_dats)"
   ]
  },
  {
   "cell_type": "code",
   "execution_count": 154,
   "id": "a6ecea46-f136-4dbd-9b27-44178931a736",
   "metadata": {},
   "outputs": [
    {
     "name": "stdout",
     "output_type": "stream",
     "text": [
      "Unnamed: 0                                                           2\n",
      "movie_name                                        Fantasia (1940 film)\n",
      "Directed by          ['James Algar', 'Ben Sharpsteen', 'David D. Ha...\n",
      "Story by                                  ['Joe Grant', 'Dick Huemer']\n",
      "Based on                                                           NaN\n",
      "Produced by                                            ['Walt Disney']\n",
      "Starring                         ['Leopold Stokowski', 'Deems Taylor']\n",
      "Music by                                                  ['See plot']\n",
      "Productioncompany                          ['Walt Disney Productions']\n",
      "Distributed by                                  ['RKO Radio Pictures']\n",
      "Release dates                                                      NaN\n",
      "Running time                                        ['126 minutes[1]']\n",
      "Country                                              ['United States']\n",
      "Language                                                   ['English']\n",
      "Budget                  ['$2.28 million[2][3]', '$2.28 million[2][3]']\n",
      "Box office           ['$76.4–$83.3 million (United States and Canad...\n",
      "Narrated by                                           ['Deems Taylor']\n",
      "Cinematography                                     ['James Wong Howe']\n",
      "Release date           ['\\nNovember\\xa013,\\xa01940\\xa0(1940-11-13)\\n']\n",
      "Written by                                                         NaN\n",
      "Edited by                                                          NaN\n",
      "Screenplay by                                                      NaN\n",
      "Countries                                                          NaN\n",
      "Name: 2, dtype: object\n"
     ]
    }
   ],
   "source": [
    "specific_row_2 = df_0.iloc[2]\n",
    "print(specific_row_2)"
   ]
  },
  {
   "cell_type": "markdown",
   "id": "523cb2bd-079c-468f-8f7f-018e7d586956",
   "metadata": {},
   "source": [
    "#### Merging"
   ]
  },
  {
   "cell_type": "code",
   "execution_count": 155,
   "id": "4f415108-bd34-4d5e-967a-7362d594860f",
   "metadata": {},
   "outputs": [
    {
     "name": "stdout",
     "output_type": "stream",
     "text": [
      "Differences between 'Release date' and 'Release dates':\n",
      "                                        Release date  \\\n",
      "0                                                NaN   \n",
      "1                                                NaN   \n",
      "2    ['\\nNovember\\xa013,\\xa01940\\xa0(1940-11-13)\\n']   \n",
      "3         ['June\\xa027,\\xa01941\\xa0(1941-06-27)[1]']   \n",
      "4                                                NaN   \n",
      "..                                               ...   \n",
      "520      ['\\nJune\\xa013,\\xa02025\\xa0(2025-06-13)\\n']   \n",
      "521                                     ['Sundance']   \n",
      "522                                              NaN   \n",
      "523                                              NaN   \n",
      "524                                              NaN   \n",
      "\n",
      "                                         Release dates  \n",
      "0                           ['Carthay Circle Theatre']  \n",
      "1    ['Center Theatre', 'February\\xa07,\\xa01940\\xa0...  \n",
      "2                                                  NaN  \n",
      "3                                                  NaN  \n",
      "4    ['October\\xa023,\\xa01941\\xa0(1941-10-23) (New ...  \n",
      "..                                                 ...  \n",
      "520                                                NaN  \n",
      "521                                                NaN  \n",
      "522                                                NaN  \n",
      "523                                                NaN  \n",
      "524                                                NaN  \n",
      "\n",
      "[525 rows x 2 columns]\n"
     ]
    }
   ],
   "source": [
    "# Compare values in 'Release date' and 'Release dates' columns\n",
    "diff_mask = df_0['Release date'] != df_0['Release dates']\n",
    "diff_df = df_0[diff_mask]\n",
    "\n",
    "print(\"Differences between 'Release date' and 'Release dates':\")\n",
    "print(diff_df[['Release date', 'Release dates']])"
   ]
  },
  {
   "cell_type": "code",
   "execution_count": 156,
   "id": "a4e1d9dd-16d3-4f0b-8a5d-b7204c29a5e1",
   "metadata": {},
   "outputs": [],
   "source": [
    "# Merge 'Release date' and 'Release dates' where 'Release date' is NaN\n",
    "\n",
    "df_0['Release date'].fillna(df_0['Release dates'], inplace=True)"
   ]
  },
  {
   "cell_type": "code",
   "execution_count": 157,
   "id": "f4b6fe25-c38b-4263-81fa-c131b9544e75",
   "metadata": {},
   "outputs": [],
   "source": [
    "# Drop the 'Release dates' column\n",
    "\n",
    "df_0.drop(columns=['Release dates'], inplace=True)"
   ]
  },
  {
   "cell_type": "code",
   "execution_count": 158,
   "id": "a6768b08-7ec7-4084-ad20-7be3323fb965",
   "metadata": {},
   "outputs": [
    {
     "name": "stdout",
     "output_type": "stream",
     "text": [
      "\n",
      "Updated Dataframe:\n"
     ]
    }
   ],
   "source": [
    "# Print the updated DataFrame\n",
    "print(\"\\nUpdated Dataframe:\")\n",
    "#print(df_0)"
   ]
  },
  {
   "cell_type": "code",
   "execution_count": 159,
   "id": "d8d68327-38f1-4f9f-af3b-ff703f64f488",
   "metadata": {},
   "outputs": [
    {
     "data": {
      "text/plain": [
       "['Based on',\n",
       " 'Box office',\n",
       " 'Budget',\n",
       " 'Cinematography',\n",
       " 'Countries',\n",
       " 'Country',\n",
       " 'Directed by',\n",
       " 'Distributed by',\n",
       " 'Edited by',\n",
       " 'Language',\n",
       " 'Music by',\n",
       " 'Narrated by',\n",
       " 'Produced by',\n",
       " 'Productioncompany',\n",
       " 'Release date',\n",
       " 'Running time',\n",
       " 'Screenplay by',\n",
       " 'Starring',\n",
       " 'Story by',\n",
       " 'Unnamed: 0',\n",
       " 'Written by',\n",
       " 'movie_name']"
      ]
     },
     "execution_count": 159,
     "metadata": {},
     "output_type": "execute_result"
    }
   ],
   "source": [
    "list = df_0.columns.tolist()\n",
    "sorted_list = sorted(list)\n",
    "sorted_list"
   ]
  },
  {
   "cell_type": "markdown",
   "id": "736565de-c027-4697-a4df-363bc485d7bb",
   "metadata": {},
   "source": [
    "### countries & country"
   ]
  },
  {
   "cell_type": "markdown",
   "id": "38b81dfc-7845-49de-9f61-e48f475dbb84",
   "metadata": {},
   "source": [
    "#### Length"
   ]
  },
  {
   "cell_type": "code",
   "execution_count": 160,
   "id": "0567b731-c461-42ff-948b-16c3e1ea5b70",
   "metadata": {},
   "outputs": [
    {
     "data": {
      "text/plain": [
       "525"
      ]
     },
     "execution_count": 160,
     "metadata": {},
     "output_type": "execute_result"
    }
   ],
   "source": [
    "ctry = df_0['Country']\n",
    "len(ctry)"
   ]
  },
  {
   "cell_type": "code",
   "execution_count": 161,
   "id": "2db7df92-2d45-47b8-9651-369001305b01",
   "metadata": {},
   "outputs": [
    {
     "data": {
      "text/plain": [
       "525"
      ]
     },
     "execution_count": 161,
     "metadata": {},
     "output_type": "execute_result"
    }
   ],
   "source": [
    "ctries = df_0['Countries']\n",
    "len(ctries)"
   ]
  },
  {
   "cell_type": "code",
   "execution_count": 162,
   "id": "1246f64c-f52e-4cc1-a8bf-d23013e934e5",
   "metadata": {},
   "outputs": [
    {
     "name": "stdout",
     "output_type": "stream",
     "text": [
      "Length of country: 525\n",
      "Length of countries: 525\n"
     ]
    }
   ],
   "source": [
    "print(f'Length of country: {len(ctry)}')\n",
    "print(f'Length of countries: {len(ctries)}')"
   ]
  },
  {
   "cell_type": "markdown",
   "id": "82b7c8b0-4f96-464e-8812-e418302286c8",
   "metadata": {},
   "source": [
    "#### Differences"
   ]
  },
  {
   "cell_type": "code",
   "execution_count": 163,
   "id": "9f420e83-1933-40ab-a610-0572355e15b8",
   "metadata": {},
   "outputs": [],
   "source": [
    "diff_ctry = ctry[~ctry.isin(ctries)]\n",
    "diff_ctries = ctries[~ctries.isin(ctry)]"
   ]
  },
  {
   "cell_type": "code",
   "execution_count": 164,
   "id": "8dff36d4-18cc-472d-af73-521dc5a00b33",
   "metadata": {},
   "outputs": [
    {
     "name": "stdout",
     "output_type": "stream",
     "text": [
      "\n",
      "Values in 'rel_dat' not in 'rel_dats':\n",
      "2       ['\\nNovember\\xa013,\\xa01940\\xa0(1940-11-13)\\n']\n",
      "3            ['June\\xa027,\\xa01941\\xa0(1941-06-27)[1]']\n",
      "7           ['\\nJuly\\xa017,\\xa01943\\xa0(1943-07-17)\\n']\n",
      "11     ['\\nSeptember\\xa027,\\xa01947\\xa0(1947-09-27)\\n']\n",
      "12               ['May\\xa027,\\xa01948\\xa0(1948-05-27)']\n",
      "                             ...                       \n",
      "517         ['\\nJune\\xa014,\\xa02024\\xa0(2024-06-14)\\n']\n",
      "518     ['\\nDecember\\xa020,\\xa02024\\xa0(2024-12-20)\\n']\n",
      "519        ['\\nMarch\\xa021,\\xa02025\\xa0(2025-03-21)\\n']\n",
      "520         ['\\nJune\\xa013,\\xa02025\\xa0(2025-06-13)\\n']\n",
      "521                                        ['Sundance']\n",
      "Name: Release date, Length: 323, dtype: object\n",
      "\n",
      "Values in 'rel_dats' not in 'rel_dat':\n",
      "0                             ['Carthay Circle Theatre']\n",
      "1      ['Center Theatre', 'February\\xa07,\\xa01940\\xa0...\n",
      "4      ['October\\xa023,\\xa01941\\xa0(1941-10-23) (New ...\n",
      "5      ['London', 'August\\xa09,\\xa01942\\xa0(1942-08-0...\n",
      "6      ['August\\xa024,\\xa01942\\xa0(1942-08-24) (Rio d...\n",
      "                             ...                        \n",
      "509                                    ['Dolby Theatre']\n",
      "510                                           ['Cannes']\n",
      "512                                           ['Cannes']\n",
      "513                                       ['Disneyland']\n",
      "515                               ['El Capitan Theatre']\n",
      "Name: Release dates, Length: 195, dtype: object\n"
     ]
    }
   ],
   "source": [
    "print(\"\\nValues in 'rel_dat' not in 'rel_dats':\")\n",
    "print(diff_rel_dat)\n",
    "\n",
    "print(\"\\nValues in 'rel_dats' not in 'rel_dat':\")\n",
    "print(diff_rel_dats)"
   ]
  },
  {
   "cell_type": "code",
   "execution_count": 165,
   "id": "f1fa4c8d-5cd6-4f66-960f-9d796f27129f",
   "metadata": {},
   "outputs": [
    {
     "name": "stdout",
     "output_type": "stream",
     "text": [
      "Unnamed: 0                                                           2\n",
      "movie_name                                        Fantasia (1940 film)\n",
      "Directed by          ['James Algar', 'Ben Sharpsteen', 'David D. Ha...\n",
      "Story by                                  ['Joe Grant', 'Dick Huemer']\n",
      "Based on                                                           NaN\n",
      "Produced by                                            ['Walt Disney']\n",
      "Starring                         ['Leopold Stokowski', 'Deems Taylor']\n",
      "Music by                                                  ['See plot']\n",
      "Productioncompany                          ['Walt Disney Productions']\n",
      "Distributed by                                  ['RKO Radio Pictures']\n",
      "Running time                                        ['126 minutes[1]']\n",
      "Country                                              ['United States']\n",
      "Language                                                   ['English']\n",
      "Budget                  ['$2.28 million[2][3]', '$2.28 million[2][3]']\n",
      "Box office           ['$76.4–$83.3 million (United States and Canad...\n",
      "Narrated by                                           ['Deems Taylor']\n",
      "Cinematography                                     ['James Wong Howe']\n",
      "Release date           ['\\nNovember\\xa013,\\xa01940\\xa0(1940-11-13)\\n']\n",
      "Written by                                                         NaN\n",
      "Edited by                                                          NaN\n",
      "Screenplay by                                                      NaN\n",
      "Countries                                                          NaN\n",
      "Name: 2, dtype: object\n"
     ]
    }
   ],
   "source": [
    "specific_row_2 = df_0.iloc[2]\n",
    "print(specific_row_2)"
   ]
  },
  {
   "cell_type": "markdown",
   "id": "2fca0065-6ceb-49c1-aaaa-26282802847a",
   "metadata": {},
   "source": [
    "#### Merging"
   ]
  },
  {
   "cell_type": "code",
   "execution_count": 166,
   "id": "fe5c26ba-dc52-4cb9-923b-7d9c106f9b84",
   "metadata": {},
   "outputs": [
    {
     "name": "stdout",
     "output_type": "stream",
     "text": [
      "Differences between 'Country' and 'Countries':\n",
      "               Country Countries\n",
      "0    ['United States']       NaN\n",
      "1    ['United States']       NaN\n",
      "2    ['United States']       NaN\n",
      "3    ['United States']       NaN\n",
      "4    ['United States']       NaN\n",
      "..                 ...       ...\n",
      "520  ['United States']       NaN\n",
      "521  ['United States']       NaN\n",
      "522  ['United States']       NaN\n",
      "523  ['United States']       NaN\n",
      "524  ['United States']       NaN\n",
      "\n",
      "[525 rows x 2 columns]\n"
     ]
    }
   ],
   "source": [
    "# Compare values in 'Release date' and 'Release dates' columns\n",
    "diff_mask = df_0['Country'] != df_0['Countries']\n",
    "diff_df = df_0[diff_mask]\n",
    "\n",
    "print(\"Differences between 'Country' and 'Countries':\")\n",
    "print(diff_df[['Country', 'Countries']])"
   ]
  },
  {
   "cell_type": "code",
   "execution_count": 167,
   "id": "f60e97f9-6814-4a38-a094-1c859f4f4cea",
   "metadata": {},
   "outputs": [],
   "source": [
    "# Merge 'Country' and 'Countries' where 'Country' is NaN\n",
    "\n",
    "df_0['Country'].fillna(df_0['Countries'], inplace=True)"
   ]
  },
  {
   "cell_type": "code",
   "execution_count": 168,
   "id": "8e391df1-efd5-4a7a-9f31-49080231e6da",
   "metadata": {},
   "outputs": [],
   "source": [
    "# Drop the 'Countries' column\n",
    "\n",
    "df_0.drop(columns=['Countries'], inplace=True)"
   ]
  },
  {
   "cell_type": "code",
   "execution_count": 169,
   "id": "eedbd1cc-37ab-422d-8eb3-153f4b5d3053",
   "metadata": {},
   "outputs": [
    {
     "name": "stdout",
     "output_type": "stream",
     "text": [
      "\n",
      "Updated Dataframe:\n"
     ]
    }
   ],
   "source": [
    "# Print the updated DataFrame\n",
    "print(\"\\nUpdated Dataframe:\")\n",
    "#print(df_0)"
   ]
  },
  {
   "cell_type": "code",
   "execution_count": 170,
   "id": "d117d379-d05d-4c51-9f97-a1ae699a649b",
   "metadata": {},
   "outputs": [
    {
     "data": {
      "text/plain": [
       "['Based on',\n",
       " 'Box office',\n",
       " 'Budget',\n",
       " 'Cinematography',\n",
       " 'Country',\n",
       " 'Directed by',\n",
       " 'Distributed by',\n",
       " 'Edited by',\n",
       " 'Language',\n",
       " 'Music by',\n",
       " 'Narrated by',\n",
       " 'Produced by',\n",
       " 'Productioncompany',\n",
       " 'Release date',\n",
       " 'Running time',\n",
       " 'Screenplay by',\n",
       " 'Starring',\n",
       " 'Story by',\n",
       " 'Unnamed: 0',\n",
       " 'Written by',\n",
       " 'movie_name']"
      ]
     },
     "execution_count": 170,
     "metadata": {},
     "output_type": "execute_result"
    }
   ],
   "source": [
    "list = df_0.columns.tolist()\n",
    "sorted_list = sorted(list)\n",
    "sorted_list"
   ]
  },
  {
   "cell_type": "code",
   "execution_count": 171,
   "id": "9a1e6c2c-a6a3-490f-acdc-202150eb987e",
   "metadata": {},
   "outputs": [],
   "source": [
    "# Save the DataFrame to a CSV file\n",
    "df_0.to_csv('df_1.csv', index=False)"
   ]
  }
 ],
 "metadata": {
  "kernelspec": {
   "display_name": "Python 3 (ipykernel)",
   "language": "python",
   "name": "python3"
  },
  "language_info": {
   "codemirror_mode": {
    "name": "ipython",
    "version": 3
   },
   "file_extension": ".py",
   "mimetype": "text/x-python",
   "name": "python",
   "nbconvert_exporter": "python",
   "pygments_lexer": "ipython3",
   "version": "3.11.7"
  }
 },
 "nbformat": 4,
 "nbformat_minor": 5
}
