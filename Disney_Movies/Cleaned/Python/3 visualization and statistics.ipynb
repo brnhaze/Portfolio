{
 "cells": [
  {
   "cell_type": "markdown",
   "id": "1c59024f-ed85-4704-864a-f3e956a18471",
   "metadata": {},
   "source": [
    "# Analysis and Statistics"
   ]
  },
  {
   "cell_type": "code",
   "execution_count": 70,
   "id": "a757e3b6-501e-4ac5-a1cc-194b22b17e3d",
   "metadata": {},
   "outputs": [],
   "source": [
    "# Import Libraries\n",
    "\n",
    "# data manipulation and analysis\n",
    "import pandas as pd\n",
    "\n",
    "# multi-dimensional arrays and matrices\n",
    "# mathematical functions\n",
    "import numpy as np\n",
    "\n",
    "# parsing & processing Python Source Code\n",
    "# convert strings of Python code into executable code\n",
    "import ast # Abstract Syntax Trees (AST) module\n",
    "\n",
    "# data visualization\n",
    "import matplotlib.pyplot as plt # creating static, animated, and interactive visualizations\n",
    "import seaborn as sns # interface for drawing & statistical graphics\n",
    "import mplcursors # interactive data cursors\n",
    "import plotly.express as px\n",
    "\n",
    "# database adapter for Python\n",
    "import psycopg2 # allows interaction with PostgreSQL\n",
    "import pandas as pd\n",
    "\n",
    "# probability distributions and statistical functions\n",
    "from scipy.stats import norm \n",
    "from scipy.stats import ttest_ind\n",
    "from scipy.stats import f_oneway\n",
    "from scipy import stats\n",
    "import statsmodels.api as sm\n",
    "import statsmodels.formula.api as smf\n",
    "\n",
    "from sklearn.model_selection import train_test_split\n",
    "from sklearn.linear_model import LinearRegression\n",
    "from sklearn.metrics import mean_squared_error"
   ]
  },
  {
   "cell_type": "code",
   "execution_count": 71,
   "id": "75981617-e713-4f8d-834b-506bc29029cf",
   "metadata": {},
   "outputs": [],
   "source": [
    "# Read uncleaned disney_movies.csv file\n",
    "df_2 = pd.read_csv(r'C:\\Users\\ashwi\\Documents\\Data Analytics\\Portfolio\\Disney_Movies\\Cleaned\\Python\\df_2.csv', index_col=False, sep=',')"
   ]
  },
  {
   "cell_type": "code",
   "execution_count": 72,
   "id": "d9a5e152-d48c-46ec-a7e7-4e685be300ea",
   "metadata": {},
   "outputs": [
    {
     "data": {
      "text/html": [
       "<div>\n",
       "<style scoped>\n",
       "    .dataframe tbody tr th:only-of-type {\n",
       "        vertical-align: middle;\n",
       "    }\n",
       "\n",
       "    .dataframe tbody tr th {\n",
       "        vertical-align: top;\n",
       "    }\n",
       "\n",
       "    .dataframe thead th {\n",
       "        text-align: right;\n",
       "    }\n",
       "</style>\n",
       "<table border=\"1\" class=\"dataframe\">\n",
       "  <thead>\n",
       "    <tr style=\"text-align: right;\">\n",
       "      <th></th>\n",
       "      <th>movie_name</th>\n",
       "      <th>Running time (min)</th>\n",
       "      <th>Release date</th>\n",
       "      <th>Box office</th>\n",
       "    </tr>\n",
       "  </thead>\n",
       "  <tbody>\n",
       "    <tr>\n",
       "      <th>0</th>\n",
       "      <td>Pinocchio (1940film)</td>\n",
       "      <td>01:28</td>\n",
       "      <td>1940-02-07</td>\n",
       "      <td>164000000</td>\n",
       "    </tr>\n",
       "    <tr>\n",
       "      <th>1</th>\n",
       "      <td>Fantasia (1940film)</td>\n",
       "      <td>02:06</td>\n",
       "      <td>1940-11-13</td>\n",
       "      <td>76400000</td>\n",
       "    </tr>\n",
       "    <tr>\n",
       "      <th>2</th>\n",
       "      <td>The Reluctant Dragon (1941film)</td>\n",
       "      <td>01:14</td>\n",
       "      <td>1941-06-27</td>\n",
       "      <td>960000</td>\n",
       "    </tr>\n",
       "    <tr>\n",
       "      <th>3</th>\n",
       "      <td>Dumbo</td>\n",
       "      <td>01:04</td>\n",
       "      <td>1941-10-23</td>\n",
       "      <td>1300000</td>\n",
       "    </tr>\n",
       "    <tr>\n",
       "      <th>4</th>\n",
       "      <td>Bambi</td>\n",
       "      <td>01:10</td>\n",
       "      <td>1942-08-09</td>\n",
       "      <td>267399999</td>\n",
       "    </tr>\n",
       "    <tr>\n",
       "      <th>...</th>\n",
       "      <td>...</td>\n",
       "      <td>...</td>\n",
       "      <td>...</td>\n",
       "      <td>...</td>\n",
       "    </tr>\n",
       "    <tr>\n",
       "      <th>366</th>\n",
       "      <td>Chang Can Dunk</td>\n",
       "      <td>01:49</td>\n",
       "      <td>2023-03-10</td>\n",
       "      <td>NaN</td>\n",
       "    </tr>\n",
       "    <tr>\n",
       "      <th>367</th>\n",
       "      <td>Peter Pan  Wendy</td>\n",
       "      <td>01:49</td>\n",
       "      <td>2023-04-28</td>\n",
       "      <td>NaN</td>\n",
       "    </tr>\n",
       "    <tr>\n",
       "      <th>368</th>\n",
       "      <td>Crater (film)</td>\n",
       "      <td>01:45</td>\n",
       "      <td>2023-05-12</td>\n",
       "      <td>NaN</td>\n",
       "    </tr>\n",
       "    <tr>\n",
       "      <th>369</th>\n",
       "      <td>Worlds Best (film)</td>\n",
       "      <td>01:41</td>\n",
       "      <td>2023-06-23</td>\n",
       "      <td>NaN</td>\n",
       "    </tr>\n",
       "    <tr>\n",
       "      <th>370</th>\n",
       "      <td>Dashing Through the Snow</td>\n",
       "      <td>01:30</td>\n",
       "      <td>2023-11-17</td>\n",
       "      <td>NaN</td>\n",
       "    </tr>\n",
       "  </tbody>\n",
       "</table>\n",
       "<p>371 rows × 4 columns</p>\n",
       "</div>"
      ],
      "text/plain": [
       "                          movie_name Running time (min) Release date  \\\n",
       "0               Pinocchio (1940film)              01:28   1940-02-07   \n",
       "1                Fantasia (1940film)              02:06   1940-11-13   \n",
       "2    The Reluctant Dragon (1941film)              01:14   1941-06-27   \n",
       "3                              Dumbo              01:04   1941-10-23   \n",
       "4                              Bambi              01:10   1942-08-09   \n",
       "..                               ...                ...          ...   \n",
       "366                   Chang Can Dunk              01:49   2023-03-10   \n",
       "367                 Peter Pan  Wendy              01:49   2023-04-28   \n",
       "368                    Crater (film)              01:45   2023-05-12   \n",
       "369               Worlds Best (film)              01:41   2023-06-23   \n",
       "370         Dashing Through the Snow              01:30   2023-11-17   \n",
       "\n",
       "     Box office  \n",
       "0     164000000  \n",
       "1      76400000  \n",
       "2        960000  \n",
       "3       1300000  \n",
       "4     267399999  \n",
       "..          ...  \n",
       "366         NaN  \n",
       "367         NaN  \n",
       "368         NaN  \n",
       "369         NaN  \n",
       "370         NaN  \n",
       "\n",
       "[371 rows x 4 columns]"
      ]
     },
     "execution_count": 72,
     "metadata": {},
     "output_type": "execute_result"
    }
   ],
   "source": [
    "df_2"
   ]
  },
  {
   "cell_type": "code",
   "execution_count": 73,
   "id": "d07788af-b879-488a-8107-71306c6775ca",
   "metadata": {},
   "outputs": [
    {
     "data": {
      "text/plain": [
       "Index(['movie_name', 'Running time (min)', 'Release date', 'Box office'], dtype='object')"
      ]
     },
     "execution_count": 73,
     "metadata": {},
     "output_type": "execute_result"
    }
   ],
   "source": [
    "df_2.columns"
   ]
  },
  {
   "cell_type": "code",
   "execution_count": 74,
   "id": "e532c565-2664-437c-91c8-845782df9ee3",
   "metadata": {},
   "outputs": [
    {
     "data": {
      "text/html": [
       "<div>\n",
       "<style scoped>\n",
       "    .dataframe tbody tr th:only-of-type {\n",
       "        vertical-align: middle;\n",
       "    }\n",
       "\n",
       "    .dataframe tbody tr th {\n",
       "        vertical-align: top;\n",
       "    }\n",
       "\n",
       "    .dataframe thead th {\n",
       "        text-align: right;\n",
       "    }\n",
       "</style>\n",
       "<table border=\"1\" class=\"dataframe\">\n",
       "  <thead>\n",
       "    <tr style=\"text-align: right;\">\n",
       "      <th></th>\n",
       "      <th>movie_name</th>\n",
       "      <th>Running time (min)</th>\n",
       "      <th>Release date</th>\n",
       "      <th>Box office</th>\n",
       "    </tr>\n",
       "  </thead>\n",
       "  <tbody>\n",
       "    <tr>\n",
       "      <th>0</th>\n",
       "      <td>Pinocchio (1940 film)</td>\n",
       "      <td>01:28</td>\n",
       "      <td>1940-02-07</td>\n",
       "      <td>164000000</td>\n",
       "    </tr>\n",
       "    <tr>\n",
       "      <th>1</th>\n",
       "      <td>Fantasia (1940 film)</td>\n",
       "      <td>02:06</td>\n",
       "      <td>1940-11-13</td>\n",
       "      <td>76400000</td>\n",
       "    </tr>\n",
       "    <tr>\n",
       "      <th>2</th>\n",
       "      <td>The Reluctant Dragon (1941 film)</td>\n",
       "      <td>01:14</td>\n",
       "      <td>1941-06-27</td>\n",
       "      <td>960000</td>\n",
       "    </tr>\n",
       "    <tr>\n",
       "      <th>3</th>\n",
       "      <td>Dumbo</td>\n",
       "      <td>01:04</td>\n",
       "      <td>1941-10-23</td>\n",
       "      <td>1300000</td>\n",
       "    </tr>\n",
       "    <tr>\n",
       "      <th>4</th>\n",
       "      <td>Bambi</td>\n",
       "      <td>01:10</td>\n",
       "      <td>1942-08-09</td>\n",
       "      <td>267399999</td>\n",
       "    </tr>\n",
       "    <tr>\n",
       "      <th>...</th>\n",
       "      <td>...</td>\n",
       "      <td>...</td>\n",
       "      <td>...</td>\n",
       "      <td>...</td>\n",
       "    </tr>\n",
       "    <tr>\n",
       "      <th>366</th>\n",
       "      <td>Chang Can Dunk</td>\n",
       "      <td>01:49</td>\n",
       "      <td>2023-03-10</td>\n",
       "      <td>NaN</td>\n",
       "    </tr>\n",
       "    <tr>\n",
       "      <th>367</th>\n",
       "      <td>Peter Pan  Wendy</td>\n",
       "      <td>01:49</td>\n",
       "      <td>2023-04-28</td>\n",
       "      <td>NaN</td>\n",
       "    </tr>\n",
       "    <tr>\n",
       "      <th>368</th>\n",
       "      <td>Crater (film)</td>\n",
       "      <td>01:45</td>\n",
       "      <td>2023-05-12</td>\n",
       "      <td>NaN</td>\n",
       "    </tr>\n",
       "    <tr>\n",
       "      <th>369</th>\n",
       "      <td>Worlds Best (film)</td>\n",
       "      <td>01:41</td>\n",
       "      <td>2023-06-23</td>\n",
       "      <td>NaN</td>\n",
       "    </tr>\n",
       "    <tr>\n",
       "      <th>370</th>\n",
       "      <td>Dashing Through the Snow</td>\n",
       "      <td>01:30</td>\n",
       "      <td>2023-11-17</td>\n",
       "      <td>NaN</td>\n",
       "    </tr>\n",
       "  </tbody>\n",
       "</table>\n",
       "<p>371 rows × 4 columns</p>\n",
       "</div>"
      ],
      "text/plain": [
       "                           movie_name Running time (min) Release date  \\\n",
       "0               Pinocchio (1940 film)              01:28   1940-02-07   \n",
       "1                Fantasia (1940 film)              02:06   1940-11-13   \n",
       "2    The Reluctant Dragon (1941 film)              01:14   1941-06-27   \n",
       "3                               Dumbo              01:04   1941-10-23   \n",
       "4                               Bambi              01:10   1942-08-09   \n",
       "..                                ...                ...          ...   \n",
       "366                    Chang Can Dunk              01:49   2023-03-10   \n",
       "367                  Peter Pan  Wendy              01:49   2023-04-28   \n",
       "368                     Crater (film)              01:45   2023-05-12   \n",
       "369                Worlds Best (film)              01:41   2023-06-23   \n",
       "370          Dashing Through the Snow              01:30   2023-11-17   \n",
       "\n",
       "     Box office  \n",
       "0     164000000  \n",
       "1      76400000  \n",
       "2        960000  \n",
       "3       1300000  \n",
       "4     267399999  \n",
       "..          ...  \n",
       "366         NaN  \n",
       "367         NaN  \n",
       "368         NaN  \n",
       "369         NaN  \n",
       "370         NaN  \n",
       "\n",
       "[371 rows x 4 columns]"
      ]
     },
     "execution_count": 74,
     "metadata": {},
     "output_type": "execute_result"
    }
   ],
   "source": [
    "# Define a function to process the movie names\n",
    "def process_movie_name(name):\n",
    "    import re\n",
    "    # Regular expression to match sequences of 4 numbers followed by alpha characters\n",
    "    pattern = r'(\\d{4})([a-zA-Z]+)'\n",
    "    # Check if the name contains parentheses\n",
    "    if '(' in name and ')' in name:\n",
    "        # If it does, apply the regular expression to the part inside the parentheses\n",
    "        name = re.sub(pattern, r'\\1 \\2', name)\n",
    "    return name\n",
    "\n",
    "# Apply the function to the movie_name column\n",
    "df_2['movie_name'] = df_2['movie_name'].apply(process_movie_name)\n",
    "\n",
    "# Display the updated DataFrame\n",
    "df_2"
   ]
  },
  {
   "cell_type": "code",
   "execution_count": 75,
   "id": "a5671cc4-a2e1-497d-8c9f-53f5c169d549",
   "metadata": {},
   "outputs": [],
   "source": [
    "df_2.to_csv('df_3.csv', index=False, sep=',', encoding='utf-8')"
   ]
  },
  {
   "cell_type": "code",
   "execution_count": 76,
   "id": "42f23813-486d-4282-b0d6-2af3cc34ed45",
   "metadata": {},
   "outputs": [],
   "source": [
    "# Read uncleaned disney_movies.csv file\n",
    "df_3 = pd.read_csv(r'C:\\Users\\ashwi\\Documents\\Data Analytics\\Portfolio\\Disney_Movies\\Cleaned\\Python\\df_3.csv', index_col=False, sep=',')"
   ]
  },
  {
   "cell_type": "markdown",
   "id": "d135918f-84be-4dd6-8eb4-c6401933e877",
   "metadata": {},
   "source": [
    "# df_3"
   ]
  },
  {
   "cell_type": "markdown",
   "id": "b3b2caca-d98c-4365-9183-1de3ae0b2f7b",
   "metadata": {},
   "source": [
    "## Data Exploration"
   ]
  },
  {
   "cell_type": "code",
   "execution_count": 77,
   "id": "b658ddd7-b9d5-48b2-8ac8-14867ccd425f",
   "metadata": {},
   "outputs": [
    {
     "name": "stdout",
     "output_type": "stream",
     "text": [
      "<class 'pandas.core.frame.DataFrame'>\n",
      "RangeIndex: 371 entries, 0 to 370\n",
      "Data columns (total 4 columns):\n",
      " #   Column              Non-Null Count  Dtype  \n",
      "---  ------              --------------  -----  \n",
      " 0   movie_name          371 non-null    object \n",
      " 1   Running time (min)  369 non-null    object \n",
      " 2   Release date        371 non-null    object \n",
      " 3   Box office          269 non-null    float64\n",
      "dtypes: float64(1), object(3)\n",
      "memory usage: 11.7+ KB\n"
     ]
    }
   ],
   "source": [
    "df_3.info()"
   ]
  },
  {
   "cell_type": "code",
   "execution_count": 78,
   "id": "82d9ca9f-28f4-4d4b-8f79-ec3ca9081275",
   "metadata": {},
   "outputs": [
    {
     "data": {
      "text/plain": [
       "(371, 4)"
      ]
     },
     "execution_count": 78,
     "metadata": {},
     "output_type": "execute_result"
    }
   ],
   "source": [
    "df_3.shape"
   ]
  },
  {
   "cell_type": "code",
   "execution_count": 79,
   "id": "17e52bf5-efe1-471d-8e40-1c55692d0627",
   "metadata": {},
   "outputs": [
    {
     "data": {
      "text/html": [
       "<div>\n",
       "<style scoped>\n",
       "    .dataframe tbody tr th:only-of-type {\n",
       "        vertical-align: middle;\n",
       "    }\n",
       "\n",
       "    .dataframe tbody tr th {\n",
       "        vertical-align: top;\n",
       "    }\n",
       "\n",
       "    .dataframe thead th {\n",
       "        text-align: right;\n",
       "    }\n",
       "</style>\n",
       "<table border=\"1\" class=\"dataframe\">\n",
       "  <thead>\n",
       "    <tr style=\"text-align: right;\">\n",
       "      <th></th>\n",
       "      <th>Box office</th>\n",
       "    </tr>\n",
       "  </thead>\n",
       "  <tbody>\n",
       "    <tr>\n",
       "      <th>count</th>\n",
       "      <td>269</td>\n",
       "    </tr>\n",
       "    <tr>\n",
       "      <th>mean</th>\n",
       "      <td>1935761693</td>\n",
       "    </tr>\n",
       "    <tr>\n",
       "      <th>std</th>\n",
       "      <td>30481216357</td>\n",
       "    </tr>\n",
       "    <tr>\n",
       "      <th>min</th>\n",
       "      <td>0</td>\n",
       "    </tr>\n",
       "    <tr>\n",
       "      <th>25%</th>\n",
       "      <td>5100000</td>\n",
       "    </tr>\n",
       "    <tr>\n",
       "      <th>50%</th>\n",
       "      <td>22900000</td>\n",
       "    </tr>\n",
       "    <tr>\n",
       "      <th>75%</th>\n",
       "      <td>72200000</td>\n",
       "    </tr>\n",
       "    <tr>\n",
       "      <th>max</th>\n",
       "      <td>500000302000</td>\n",
       "    </tr>\n",
       "  </tbody>\n",
       "</table>\n",
       "</div>"
      ],
      "text/plain": [
       "        Box office\n",
       "count          269\n",
       "mean    1935761693\n",
       "std    30481216357\n",
       "min              0\n",
       "25%        5100000\n",
       "50%       22900000\n",
       "75%       72200000\n",
       "max   500000302000"
      ]
     },
     "execution_count": 79,
     "metadata": {},
     "output_type": "execute_result"
    }
   ],
   "source": [
    "df_3.describe()"
   ]
  },
  {
   "cell_type": "code",
   "execution_count": 80,
   "id": "2f6eafad-cb51-4546-8777-5b2da7060ab4",
   "metadata": {},
   "outputs": [
    {
     "data": {
      "text/plain": [
       "0     164000000\n",
       "1      76400000\n",
       "2        960000\n",
       "3       1300000\n",
       "4     267399999\n",
       "         ...   \n",
       "366         NaN\n",
       "367         NaN\n",
       "368         NaN\n",
       "369         NaN\n",
       "370         NaN\n",
       "Name: Box office, Length: 371, dtype: float64"
      ]
     },
     "execution_count": 80,
     "metadata": {},
     "output_type": "execute_result"
    }
   ],
   "source": [
    "df_3['Box office']"
   ]
  },
  {
   "cell_type": "code",
   "execution_count": 81,
   "id": "cc43c928-0417-4745-a820-b826ca30ea26",
   "metadata": {},
   "outputs": [
    {
     "name": "stdout",
     "output_type": "stream",
     "text": [
      "           Box office\n",
      "count          269.00\n",
      "mean    1935761693.45\n",
      "std    30481216357.08\n",
      "min              0.16\n",
      "25%        5100000.00\n",
      "50%       22900000.00\n",
      "75%       72200000.00\n",
      "max   500000302000.00\n"
     ]
    }
   ],
   "source": [
    "# Describe the DataFrame with floating-point precision\n",
    "df_3_description = df_3.describe()\n",
    "\n",
    "# Display the summary statistics with float format\n",
    "with pd.option_context('display.float_format', '{:.2f}'.format):\n",
    "    print(df_3_description)"
   ]
  },
  {
   "cell_type": "code",
   "execution_count": 82,
   "id": "74c6283a-17e2-4ae9-9981-43c4c8760881",
   "metadata": {},
   "outputs": [
    {
     "data": {
      "text/plain": [
       "movie_name              0\n",
       "Running time (min)      2\n",
       "Release date            0\n",
       "Box office            102\n",
       "dtype: int64"
      ]
     },
     "execution_count": 82,
     "metadata": {},
     "output_type": "execute_result"
    }
   ],
   "source": [
    "df_3.isnull().sum()"
   ]
  },
  {
   "cell_type": "markdown",
   "id": "23f3e3f3-3fa3-4c08-84d7-832b8774cda1",
   "metadata": {},
   "source": [
    "Box office contains 102 null values"
   ]
  },
  {
   "cell_type": "markdown",
   "id": "f07cb4c8-c0da-4ee2-8b13-158f662875ce",
   "metadata": {},
   "source": [
    "## Data Cleaning"
   ]
  },
  {
   "cell_type": "markdown",
   "id": "e0266366-ae77-4cc3-b382-48d9771838ce",
   "metadata": {},
   "source": [
    "### Handling Missing Values"
   ]
  },
  {
   "cell_type": "code",
   "execution_count": 83,
   "id": "c22b1bc2-73f9-4fe0-9026-8b9d2af964d7",
   "metadata": {},
   "outputs": [
    {
     "name": "stdout",
     "output_type": "stream",
     "text": [
      "movie_name            0\n",
      "Running time (min)    0\n",
      "Release date          0\n",
      "Box office            0\n",
      "dtype: int64\n"
     ]
    }
   ],
   "source": [
    "# df_3.drop(na)\n",
    "\n",
    "# see: 1 import_and_duplicates_columns.ipynb\n",
    "# see: 2 quality assurance.ipynb\n",
    "\n",
    "# Drop rows with missing values\n",
    "df_3_cleaned = df_3.dropna()\n",
    "\n",
    "# Checking if there are still missing values after dropping\n",
    "print(df_3_cleaned.isnull().sum())"
   ]
  },
  {
   "cell_type": "code",
   "execution_count": 84,
   "id": "d8ac9dd9-8fa7-451a-8ddd-096d629be32d",
   "metadata": {},
   "outputs": [
    {
     "data": {
      "text/html": [
       "<div>\n",
       "<style scoped>\n",
       "    .dataframe tbody tr th:only-of-type {\n",
       "        vertical-align: middle;\n",
       "    }\n",
       "\n",
       "    .dataframe tbody tr th {\n",
       "        vertical-align: top;\n",
       "    }\n",
       "\n",
       "    .dataframe thead th {\n",
       "        text-align: right;\n",
       "    }\n",
       "</style>\n",
       "<table border=\"1\" class=\"dataframe\">\n",
       "  <thead>\n",
       "    <tr style=\"text-align: right;\">\n",
       "      <th></th>\n",
       "      <th>movie_name</th>\n",
       "      <th>Running time (min)</th>\n",
       "      <th>Release date</th>\n",
       "      <th>Box office</th>\n",
       "    </tr>\n",
       "  </thead>\n",
       "  <tbody>\n",
       "    <tr>\n",
       "      <th>0</th>\n",
       "      <td>Pinocchio (1940 film)</td>\n",
       "      <td>01:28</td>\n",
       "      <td>1940-02-07</td>\n",
       "      <td>164000000</td>\n",
       "    </tr>\n",
       "    <tr>\n",
       "      <th>1</th>\n",
       "      <td>Fantasia (1940 film)</td>\n",
       "      <td>02:06</td>\n",
       "      <td>1940-11-13</td>\n",
       "      <td>76400000</td>\n",
       "    </tr>\n",
       "    <tr>\n",
       "      <th>2</th>\n",
       "      <td>The Reluctant Dragon (1941 film)</td>\n",
       "      <td>01:14</td>\n",
       "      <td>1941-06-27</td>\n",
       "      <td>960000</td>\n",
       "    </tr>\n",
       "    <tr>\n",
       "      <th>3</th>\n",
       "      <td>Dumbo</td>\n",
       "      <td>01:04</td>\n",
       "      <td>1941-10-23</td>\n",
       "      <td>1300000</td>\n",
       "    </tr>\n",
       "    <tr>\n",
       "      <th>4</th>\n",
       "      <td>Bambi</td>\n",
       "      <td>01:10</td>\n",
       "      <td>1942-08-09</td>\n",
       "      <td>267399999</td>\n",
       "    </tr>\n",
       "    <tr>\n",
       "      <th>...</th>\n",
       "      <td>...</td>\n",
       "      <td>...</td>\n",
       "      <td>...</td>\n",
       "      <td>...</td>\n",
       "    </tr>\n",
       "    <tr>\n",
       "      <th>366</th>\n",
       "      <td>Chang Can Dunk</td>\n",
       "      <td>01:49</td>\n",
       "      <td>2023-03-10</td>\n",
       "      <td>NaN</td>\n",
       "    </tr>\n",
       "    <tr>\n",
       "      <th>367</th>\n",
       "      <td>Peter Pan  Wendy</td>\n",
       "      <td>01:49</td>\n",
       "      <td>2023-04-28</td>\n",
       "      <td>NaN</td>\n",
       "    </tr>\n",
       "    <tr>\n",
       "      <th>368</th>\n",
       "      <td>Crater (film)</td>\n",
       "      <td>01:45</td>\n",
       "      <td>2023-05-12</td>\n",
       "      <td>NaN</td>\n",
       "    </tr>\n",
       "    <tr>\n",
       "      <th>369</th>\n",
       "      <td>Worlds Best (film)</td>\n",
       "      <td>01:41</td>\n",
       "      <td>2023-06-23</td>\n",
       "      <td>NaN</td>\n",
       "    </tr>\n",
       "    <tr>\n",
       "      <th>370</th>\n",
       "      <td>Dashing Through the Snow</td>\n",
       "      <td>01:30</td>\n",
       "      <td>2023-11-17</td>\n",
       "      <td>NaN</td>\n",
       "    </tr>\n",
       "  </tbody>\n",
       "</table>\n",
       "<p>371 rows × 4 columns</p>\n",
       "</div>"
      ],
      "text/plain": [
       "                           movie_name Running time (min) Release date  \\\n",
       "0               Pinocchio (1940 film)              01:28   1940-02-07   \n",
       "1                Fantasia (1940 film)              02:06   1940-11-13   \n",
       "2    The Reluctant Dragon (1941 film)              01:14   1941-06-27   \n",
       "3                               Dumbo              01:04   1941-10-23   \n",
       "4                               Bambi              01:10   1942-08-09   \n",
       "..                                ...                ...          ...   \n",
       "366                    Chang Can Dunk              01:49   2023-03-10   \n",
       "367                  Peter Pan  Wendy              01:49   2023-04-28   \n",
       "368                     Crater (film)              01:45   2023-05-12   \n",
       "369                Worlds Best (film)              01:41   2023-06-23   \n",
       "370          Dashing Through the Snow              01:30   2023-11-17   \n",
       "\n",
       "     Box office  \n",
       "0     164000000  \n",
       "1      76400000  \n",
       "2        960000  \n",
       "3       1300000  \n",
       "4     267399999  \n",
       "..          ...  \n",
       "366         NaN  \n",
       "367         NaN  \n",
       "368         NaN  \n",
       "369         NaN  \n",
       "370         NaN  \n",
       "\n",
       "[371 rows x 4 columns]"
      ]
     },
     "execution_count": 84,
     "metadata": {},
     "output_type": "execute_result"
    }
   ],
   "source": [
    "df_3"
   ]
  },
  {
   "cell_type": "code",
   "execution_count": 85,
   "id": "bda204c7-3e6c-4a73-a3dc-59053ceb6b83",
   "metadata": {},
   "outputs": [],
   "source": [
    "# df_3.fillna()\n",
    "\n",
    "# see: 1 import_and_duplicates_columns.ipynb\n",
    "# see: 2 quality assurance.ipynb\n",
    "\n",
    "# Fill missing values in 'Running time (min)' with the mean value of the column\n",
    "df_3['Box office'].fillna(df_3['Box office'].mean(), inplace=True)\n",
    "\n",
    "# Fill missing values in 'Box office' with 0\n",
    "df_3['Box office'].fillna(0, inplace=True)"
   ]
  },
  {
   "cell_type": "code",
   "execution_count": 86,
   "id": "e2a8249a-7408-4539-bd58-d26e1e0e1f18",
   "metadata": {},
   "outputs": [
    {
     "data": {
      "text/html": [
       "<div>\n",
       "<style scoped>\n",
       "    .dataframe tbody tr th:only-of-type {\n",
       "        vertical-align: middle;\n",
       "    }\n",
       "\n",
       "    .dataframe tbody tr th {\n",
       "        vertical-align: top;\n",
       "    }\n",
       "\n",
       "    .dataframe thead th {\n",
       "        text-align: right;\n",
       "    }\n",
       "</style>\n",
       "<table border=\"1\" class=\"dataframe\">\n",
       "  <thead>\n",
       "    <tr style=\"text-align: right;\">\n",
       "      <th></th>\n",
       "      <th>movie_name</th>\n",
       "      <th>Running time (min)</th>\n",
       "      <th>Release date</th>\n",
       "      <th>Box office</th>\n",
       "    </tr>\n",
       "  </thead>\n",
       "  <tbody>\n",
       "    <tr>\n",
       "      <th>0</th>\n",
       "      <td>Pinocchio (1940 film)</td>\n",
       "      <td>01:28</td>\n",
       "      <td>1940-02-07</td>\n",
       "      <td>164000000</td>\n",
       "    </tr>\n",
       "    <tr>\n",
       "      <th>1</th>\n",
       "      <td>Fantasia (1940 film)</td>\n",
       "      <td>02:06</td>\n",
       "      <td>1940-11-13</td>\n",
       "      <td>76400000</td>\n",
       "    </tr>\n",
       "    <tr>\n",
       "      <th>2</th>\n",
       "      <td>The Reluctant Dragon (1941 film)</td>\n",
       "      <td>01:14</td>\n",
       "      <td>1941-06-27</td>\n",
       "      <td>960000</td>\n",
       "    </tr>\n",
       "    <tr>\n",
       "      <th>3</th>\n",
       "      <td>Dumbo</td>\n",
       "      <td>01:04</td>\n",
       "      <td>1941-10-23</td>\n",
       "      <td>1300000</td>\n",
       "    </tr>\n",
       "    <tr>\n",
       "      <th>4</th>\n",
       "      <td>Bambi</td>\n",
       "      <td>01:10</td>\n",
       "      <td>1942-08-09</td>\n",
       "      <td>267399999</td>\n",
       "    </tr>\n",
       "    <tr>\n",
       "      <th>...</th>\n",
       "      <td>...</td>\n",
       "      <td>...</td>\n",
       "      <td>...</td>\n",
       "      <td>...</td>\n",
       "    </tr>\n",
       "    <tr>\n",
       "      <th>366</th>\n",
       "      <td>Chang Can Dunk</td>\n",
       "      <td>01:49</td>\n",
       "      <td>2023-03-10</td>\n",
       "      <td>1935761693</td>\n",
       "    </tr>\n",
       "    <tr>\n",
       "      <th>367</th>\n",
       "      <td>Peter Pan  Wendy</td>\n",
       "      <td>01:49</td>\n",
       "      <td>2023-04-28</td>\n",
       "      <td>1935761693</td>\n",
       "    </tr>\n",
       "    <tr>\n",
       "      <th>368</th>\n",
       "      <td>Crater (film)</td>\n",
       "      <td>01:45</td>\n",
       "      <td>2023-05-12</td>\n",
       "      <td>1935761693</td>\n",
       "    </tr>\n",
       "    <tr>\n",
       "      <th>369</th>\n",
       "      <td>Worlds Best (film)</td>\n",
       "      <td>01:41</td>\n",
       "      <td>2023-06-23</td>\n",
       "      <td>1935761693</td>\n",
       "    </tr>\n",
       "    <tr>\n",
       "      <th>370</th>\n",
       "      <td>Dashing Through the Snow</td>\n",
       "      <td>01:30</td>\n",
       "      <td>2023-11-17</td>\n",
       "      <td>1935761693</td>\n",
       "    </tr>\n",
       "  </tbody>\n",
       "</table>\n",
       "<p>371 rows × 4 columns</p>\n",
       "</div>"
      ],
      "text/plain": [
       "                           movie_name Running time (min) Release date  \\\n",
       "0               Pinocchio (1940 film)              01:28   1940-02-07   \n",
       "1                Fantasia (1940 film)              02:06   1940-11-13   \n",
       "2    The Reluctant Dragon (1941 film)              01:14   1941-06-27   \n",
       "3                               Dumbo              01:04   1941-10-23   \n",
       "4                               Bambi              01:10   1942-08-09   \n",
       "..                                ...                ...          ...   \n",
       "366                    Chang Can Dunk              01:49   2023-03-10   \n",
       "367                  Peter Pan  Wendy              01:49   2023-04-28   \n",
       "368                     Crater (film)              01:45   2023-05-12   \n",
       "369                Worlds Best (film)              01:41   2023-06-23   \n",
       "370          Dashing Through the Snow              01:30   2023-11-17   \n",
       "\n",
       "     Box office  \n",
       "0     164000000  \n",
       "1      76400000  \n",
       "2        960000  \n",
       "3       1300000  \n",
       "4     267399999  \n",
       "..          ...  \n",
       "366  1935761693  \n",
       "367  1935761693  \n",
       "368  1935761693  \n",
       "369  1935761693  \n",
       "370  1935761693  \n",
       "\n",
       "[371 rows x 4 columns]"
      ]
     },
     "execution_count": 86,
     "metadata": {},
     "output_type": "execute_result"
    }
   ],
   "source": [
    "df_3"
   ]
  },
  {
   "cell_type": "markdown",
   "id": "52187899-01be-445a-9aad-faebdcb7fe63",
   "metadata": {},
   "source": [
    "### Remove Duplicates"
   ]
  },
  {
   "cell_type": "code",
   "execution_count": 87,
   "id": "f0643841-725b-44fc-8214-2779193f7388",
   "metadata": {},
   "outputs": [],
   "source": [
    "# see: 1 import_and_duplicates_columns.ipynb\n",
    "# see: 2 quality assurance.ipynb"
   ]
  },
  {
   "cell_type": "code",
   "execution_count": 88,
   "id": "8204746e-2650-45cd-a93f-389dbd150412",
   "metadata": {},
   "outputs": [
    {
     "data": {
      "text/html": [
       "<div>\n",
       "<style scoped>\n",
       "    .dataframe tbody tr th:only-of-type {\n",
       "        vertical-align: middle;\n",
       "    }\n",
       "\n",
       "    .dataframe tbody tr th {\n",
       "        vertical-align: top;\n",
       "    }\n",
       "\n",
       "    .dataframe thead th {\n",
       "        text-align: right;\n",
       "    }\n",
       "</style>\n",
       "<table border=\"1\" class=\"dataframe\">\n",
       "  <thead>\n",
       "    <tr style=\"text-align: right;\">\n",
       "      <th></th>\n",
       "      <th>movie_name</th>\n",
       "      <th>Running time (min)</th>\n",
       "      <th>Release date</th>\n",
       "      <th>Box office</th>\n",
       "    </tr>\n",
       "  </thead>\n",
       "  <tbody>\n",
       "    <tr>\n",
       "      <th>0</th>\n",
       "      <td>Pinocchio (1940 film)</td>\n",
       "      <td>01:28</td>\n",
       "      <td>1940-02-07</td>\n",
       "      <td>164000000</td>\n",
       "    </tr>\n",
       "    <tr>\n",
       "      <th>1</th>\n",
       "      <td>Fantasia (1940 film)</td>\n",
       "      <td>02:06</td>\n",
       "      <td>1940-11-13</td>\n",
       "      <td>76400000</td>\n",
       "    </tr>\n",
       "    <tr>\n",
       "      <th>2</th>\n",
       "      <td>The Reluctant Dragon (1941 film)</td>\n",
       "      <td>01:14</td>\n",
       "      <td>1941-06-27</td>\n",
       "      <td>960000</td>\n",
       "    </tr>\n",
       "    <tr>\n",
       "      <th>3</th>\n",
       "      <td>Dumbo</td>\n",
       "      <td>01:04</td>\n",
       "      <td>1941-10-23</td>\n",
       "      <td>1300000</td>\n",
       "    </tr>\n",
       "    <tr>\n",
       "      <th>4</th>\n",
       "      <td>Bambi</td>\n",
       "      <td>01:10</td>\n",
       "      <td>1942-08-09</td>\n",
       "      <td>267399999</td>\n",
       "    </tr>\n",
       "    <tr>\n",
       "      <th>...</th>\n",
       "      <td>...</td>\n",
       "      <td>...</td>\n",
       "      <td>...</td>\n",
       "      <td>...</td>\n",
       "    </tr>\n",
       "    <tr>\n",
       "      <th>366</th>\n",
       "      <td>Chang Can Dunk</td>\n",
       "      <td>01:49</td>\n",
       "      <td>2023-03-10</td>\n",
       "      <td>1935761693</td>\n",
       "    </tr>\n",
       "    <tr>\n",
       "      <th>367</th>\n",
       "      <td>Peter Pan  Wendy</td>\n",
       "      <td>01:49</td>\n",
       "      <td>2023-04-28</td>\n",
       "      <td>1935761693</td>\n",
       "    </tr>\n",
       "    <tr>\n",
       "      <th>368</th>\n",
       "      <td>Crater (film)</td>\n",
       "      <td>01:45</td>\n",
       "      <td>2023-05-12</td>\n",
       "      <td>1935761693</td>\n",
       "    </tr>\n",
       "    <tr>\n",
       "      <th>369</th>\n",
       "      <td>Worlds Best (film)</td>\n",
       "      <td>01:41</td>\n",
       "      <td>2023-06-23</td>\n",
       "      <td>1935761693</td>\n",
       "    </tr>\n",
       "    <tr>\n",
       "      <th>370</th>\n",
       "      <td>Dashing Through the Snow</td>\n",
       "      <td>01:30</td>\n",
       "      <td>2023-11-17</td>\n",
       "      <td>1935761693</td>\n",
       "    </tr>\n",
       "  </tbody>\n",
       "</table>\n",
       "<p>371 rows × 4 columns</p>\n",
       "</div>"
      ],
      "text/plain": [
       "                           movie_name Running time (min) Release date  \\\n",
       "0               Pinocchio (1940 film)              01:28   1940-02-07   \n",
       "1                Fantasia (1940 film)              02:06   1940-11-13   \n",
       "2    The Reluctant Dragon (1941 film)              01:14   1941-06-27   \n",
       "3                               Dumbo              01:04   1941-10-23   \n",
       "4                               Bambi              01:10   1942-08-09   \n",
       "..                                ...                ...          ...   \n",
       "366                    Chang Can Dunk              01:49   2023-03-10   \n",
       "367                  Peter Pan  Wendy              01:49   2023-04-28   \n",
       "368                     Crater (film)              01:45   2023-05-12   \n",
       "369                Worlds Best (film)              01:41   2023-06-23   \n",
       "370          Dashing Through the Snow              01:30   2023-11-17   \n",
       "\n",
       "     Box office  \n",
       "0     164000000  \n",
       "1      76400000  \n",
       "2        960000  \n",
       "3       1300000  \n",
       "4     267399999  \n",
       "..          ...  \n",
       "366  1935761693  \n",
       "367  1935761693  \n",
       "368  1935761693  \n",
       "369  1935761693  \n",
       "370  1935761693  \n",
       "\n",
       "[371 rows x 4 columns]"
      ]
     },
     "execution_count": 88,
     "metadata": {},
     "output_type": "execute_result"
    }
   ],
   "source": [
    "df_3"
   ]
  },
  {
   "cell_type": "code",
   "execution_count": 89,
   "id": "196c518d-6524-4e72-8793-aa70091fc413",
   "metadata": {},
   "outputs": [
    {
     "data": {
      "text/html": [
       "<div>\n",
       "<style scoped>\n",
       "    .dataframe tbody tr th:only-of-type {\n",
       "        vertical-align: middle;\n",
       "    }\n",
       "\n",
       "    .dataframe tbody tr th {\n",
       "        vertical-align: top;\n",
       "    }\n",
       "\n",
       "    .dataframe thead th {\n",
       "        text-align: right;\n",
       "    }\n",
       "</style>\n",
       "<table border=\"1\" class=\"dataframe\">\n",
       "  <thead>\n",
       "    <tr style=\"text-align: right;\">\n",
       "      <th></th>\n",
       "      <th>movie_name</th>\n",
       "      <th>Running time (min)</th>\n",
       "      <th>Release date</th>\n",
       "      <th>Box office</th>\n",
       "    </tr>\n",
       "  </thead>\n",
       "  <tbody>\n",
       "    <tr>\n",
       "      <th>0</th>\n",
       "      <td>Pinocchio (1940 film)</td>\n",
       "      <td>01:28</td>\n",
       "      <td>1940-02-07</td>\n",
       "      <td>164000000</td>\n",
       "    </tr>\n",
       "    <tr>\n",
       "      <th>1</th>\n",
       "      <td>Fantasia (1940 film)</td>\n",
       "      <td>02:06</td>\n",
       "      <td>1940-11-13</td>\n",
       "      <td>76400000</td>\n",
       "    </tr>\n",
       "    <tr>\n",
       "      <th>2</th>\n",
       "      <td>The Reluctant Dragon (1941 film)</td>\n",
       "      <td>01:14</td>\n",
       "      <td>1941-06-27</td>\n",
       "      <td>960000</td>\n",
       "    </tr>\n",
       "    <tr>\n",
       "      <th>3</th>\n",
       "      <td>Dumbo</td>\n",
       "      <td>01:04</td>\n",
       "      <td>1941-10-23</td>\n",
       "      <td>1300000</td>\n",
       "    </tr>\n",
       "    <tr>\n",
       "      <th>4</th>\n",
       "      <td>Bambi</td>\n",
       "      <td>01:10</td>\n",
       "      <td>1942-08-09</td>\n",
       "      <td>267399999</td>\n",
       "    </tr>\n",
       "    <tr>\n",
       "      <th>...</th>\n",
       "      <td>...</td>\n",
       "      <td>...</td>\n",
       "      <td>...</td>\n",
       "      <td>...</td>\n",
       "    </tr>\n",
       "    <tr>\n",
       "      <th>366</th>\n",
       "      <td>Chang Can Dunk</td>\n",
       "      <td>01:49</td>\n",
       "      <td>2023-03-10</td>\n",
       "      <td>1935761693</td>\n",
       "    </tr>\n",
       "    <tr>\n",
       "      <th>367</th>\n",
       "      <td>Peter Pan  Wendy</td>\n",
       "      <td>01:49</td>\n",
       "      <td>2023-04-28</td>\n",
       "      <td>1935761693</td>\n",
       "    </tr>\n",
       "    <tr>\n",
       "      <th>368</th>\n",
       "      <td>Crater (film)</td>\n",
       "      <td>01:45</td>\n",
       "      <td>2023-05-12</td>\n",
       "      <td>1935761693</td>\n",
       "    </tr>\n",
       "    <tr>\n",
       "      <th>369</th>\n",
       "      <td>Worlds Best (film)</td>\n",
       "      <td>01:41</td>\n",
       "      <td>2023-06-23</td>\n",
       "      <td>1935761693</td>\n",
       "    </tr>\n",
       "    <tr>\n",
       "      <th>370</th>\n",
       "      <td>Dashing Through the Snow</td>\n",
       "      <td>01:30</td>\n",
       "      <td>2023-11-17</td>\n",
       "      <td>1935761693</td>\n",
       "    </tr>\n",
       "  </tbody>\n",
       "</table>\n",
       "<p>371 rows × 4 columns</p>\n",
       "</div>"
      ],
      "text/plain": [
       "                           movie_name Running time (min) Release date  \\\n",
       "0               Pinocchio (1940 film)              01:28   1940-02-07   \n",
       "1                Fantasia (1940 film)              02:06   1940-11-13   \n",
       "2    The Reluctant Dragon (1941 film)              01:14   1941-06-27   \n",
       "3                               Dumbo              01:04   1941-10-23   \n",
       "4                               Bambi              01:10   1942-08-09   \n",
       "..                                ...                ...          ...   \n",
       "366                    Chang Can Dunk              01:49   2023-03-10   \n",
       "367                  Peter Pan  Wendy              01:49   2023-04-28   \n",
       "368                     Crater (film)              01:45   2023-05-12   \n",
       "369                Worlds Best (film)              01:41   2023-06-23   \n",
       "370          Dashing Through the Snow              01:30   2023-11-17   \n",
       "\n",
       "     Box office  \n",
       "0     164000000  \n",
       "1      76400000  \n",
       "2        960000  \n",
       "3       1300000  \n",
       "4     267399999  \n",
       "..          ...  \n",
       "366  1935761693  \n",
       "367  1935761693  \n",
       "368  1935761693  \n",
       "369  1935761693  \n",
       "370  1935761693  \n",
       "\n",
       "[371 rows x 4 columns]"
      ]
     },
     "execution_count": 89,
     "metadata": {},
     "output_type": "execute_result"
    }
   ],
   "source": [
    "# Convert 'Box office' column to float data type\n",
    "df_3['Box office'] = df_3['Box office'].astype(float)\n",
    "\n",
    "# Round the values to remove decimal places\n",
    "df_3['Box office'] = df_3['Box office'].round(0)\n",
    "\n",
    "# Display the DataFrame to verify changes\n",
    "df_3"
   ]
  },
  {
   "cell_type": "code",
   "execution_count": 90,
   "id": "dc85c546-60fa-46ed-95fa-5cccc24f2115",
   "metadata": {},
   "outputs": [
    {
     "data": {
      "text/html": [
       "<div>\n",
       "<style scoped>\n",
       "    .dataframe tbody tr th:only-of-type {\n",
       "        vertical-align: middle;\n",
       "    }\n",
       "\n",
       "    .dataframe tbody tr th {\n",
       "        vertical-align: top;\n",
       "    }\n",
       "\n",
       "    .dataframe thead th {\n",
       "        text-align: right;\n",
       "    }\n",
       "</style>\n",
       "<table border=\"1\" class=\"dataframe\">\n",
       "  <thead>\n",
       "    <tr style=\"text-align: right;\">\n",
       "      <th></th>\n",
       "      <th>movie_name</th>\n",
       "      <th>Running time (min)</th>\n",
       "      <th>Release date</th>\n",
       "      <th>Box office</th>\n",
       "    </tr>\n",
       "  </thead>\n",
       "  <tbody>\n",
       "    <tr>\n",
       "      <th>0</th>\n",
       "      <td>Pinocchio (1940 film)</td>\n",
       "      <td>01:28</td>\n",
       "      <td>1940-02-07</td>\n",
       "      <td>164000000</td>\n",
       "    </tr>\n",
       "    <tr>\n",
       "      <th>1</th>\n",
       "      <td>Fantasia (1940 film)</td>\n",
       "      <td>02:06</td>\n",
       "      <td>1940-11-13</td>\n",
       "      <td>76400000</td>\n",
       "    </tr>\n",
       "    <tr>\n",
       "      <th>2</th>\n",
       "      <td>The Reluctant Dragon (1941 film)</td>\n",
       "      <td>01:14</td>\n",
       "      <td>1941-06-27</td>\n",
       "      <td>960000</td>\n",
       "    </tr>\n",
       "    <tr>\n",
       "      <th>3</th>\n",
       "      <td>Dumbo</td>\n",
       "      <td>01:04</td>\n",
       "      <td>1941-10-23</td>\n",
       "      <td>1300000</td>\n",
       "    </tr>\n",
       "    <tr>\n",
       "      <th>4</th>\n",
       "      <td>Bambi</td>\n",
       "      <td>01:10</td>\n",
       "      <td>1942-08-09</td>\n",
       "      <td>267399999</td>\n",
       "    </tr>\n",
       "    <tr>\n",
       "      <th>...</th>\n",
       "      <td>...</td>\n",
       "      <td>...</td>\n",
       "      <td>...</td>\n",
       "      <td>...</td>\n",
       "    </tr>\n",
       "    <tr>\n",
       "      <th>366</th>\n",
       "      <td>Chang Can Dunk</td>\n",
       "      <td>01:49</td>\n",
       "      <td>2023-03-10</td>\n",
       "      <td>1935761693</td>\n",
       "    </tr>\n",
       "    <tr>\n",
       "      <th>367</th>\n",
       "      <td>Peter Pan  Wendy</td>\n",
       "      <td>01:49</td>\n",
       "      <td>2023-04-28</td>\n",
       "      <td>1935761693</td>\n",
       "    </tr>\n",
       "    <tr>\n",
       "      <th>368</th>\n",
       "      <td>Crater (film)</td>\n",
       "      <td>01:45</td>\n",
       "      <td>2023-05-12</td>\n",
       "      <td>1935761693</td>\n",
       "    </tr>\n",
       "    <tr>\n",
       "      <th>369</th>\n",
       "      <td>Worlds Best (film)</td>\n",
       "      <td>01:41</td>\n",
       "      <td>2023-06-23</td>\n",
       "      <td>1935761693</td>\n",
       "    </tr>\n",
       "    <tr>\n",
       "      <th>370</th>\n",
       "      <td>Dashing Through the Snow</td>\n",
       "      <td>01:30</td>\n",
       "      <td>2023-11-17</td>\n",
       "      <td>1935761693</td>\n",
       "    </tr>\n",
       "  </tbody>\n",
       "</table>\n",
       "<p>371 rows × 4 columns</p>\n",
       "</div>"
      ],
      "text/plain": [
       "                           movie_name Running time (min) Release date  \\\n",
       "0               Pinocchio (1940 film)              01:28   1940-02-07   \n",
       "1                Fantasia (1940 film)              02:06   1940-11-13   \n",
       "2    The Reluctant Dragon (1941 film)              01:14   1941-06-27   \n",
       "3                               Dumbo              01:04   1941-10-23   \n",
       "4                               Bambi              01:10   1942-08-09   \n",
       "..                                ...                ...          ...   \n",
       "366                    Chang Can Dunk              01:49   2023-03-10   \n",
       "367                  Peter Pan  Wendy              01:49   2023-04-28   \n",
       "368                     Crater (film)              01:45   2023-05-12   \n",
       "369                Worlds Best (film)              01:41   2023-06-23   \n",
       "370          Dashing Through the Snow              01:30   2023-11-17   \n",
       "\n",
       "     Box office  \n",
       "0     164000000  \n",
       "1      76400000  \n",
       "2        960000  \n",
       "3       1300000  \n",
       "4     267399999  \n",
       "..          ...  \n",
       "366  1935761693  \n",
       "367  1935761693  \n",
       "368  1935761693  \n",
       "369  1935761693  \n",
       "370  1935761693  \n",
       "\n",
       "[371 rows x 4 columns]"
      ]
     },
     "execution_count": 90,
     "metadata": {},
     "output_type": "execute_result"
    }
   ],
   "source": [
    "# Set display options to show full float values without scientific notation\n",
    "pd.set_option('display.float_format', lambda x: '{:.0f}'.format(x))\n",
    "\n",
    "# Display the DataFrame to see the updated representation\n",
    "df_3"
   ]
  },
  {
   "cell_type": "code",
   "execution_count": 91,
   "id": "23f547c2-5106-488b-80b3-2c77dc56dd96",
   "metadata": {},
   "outputs": [
    {
     "name": "stdout",
     "output_type": "stream",
     "text": [
      "                 movie_name Running time (min) Release date  Box office\n",
      "310    Anaganaga O Dheerudu                NaN   2011-01-14  1935761693\n",
      "340  Ghost of the Mountains                NaN   2017-06-30  1935761693\n"
     ]
    }
   ],
   "source": [
    "# Find rows with empty values\n",
    "empty_rows = df_3[df_3.isnull().any(axis=1)]\n",
    "\n",
    "# Display the rows with empty values\n",
    "print(empty_rows)"
   ]
  },
  {
   "cell_type": "code",
   "execution_count": 92,
   "id": "287df0f7-2c97-414a-bf65-9814fe866373",
   "metadata": {},
   "outputs": [],
   "source": [
    "df_3.to_csv('df_3.csv', index=False, sep=',', encoding='utf-8')"
   ]
  },
  {
   "cell_type": "code",
   "execution_count": 93,
   "id": "83579e5e-3fe4-4ea8-9012-a0957bb96517",
   "metadata": {},
   "outputs": [],
   "source": [
    "# Read uncleaned disney_movies.csv file\n",
    "df_3 = pd.read_csv(r'C:\\Users\\ashwi\\Documents\\Data Analytics\\Portfolio\\Disney_Movies\\Cleaned\\Python\\df_3.csv', index_col=False, sep=',')"
   ]
  },
  {
   "cell_type": "code",
   "execution_count": 94,
   "id": "33f9592c-79f2-4e44-bdcd-7185f89e9e74",
   "metadata": {},
   "outputs": [
    {
     "data": {
      "text/html": [
       "<div>\n",
       "<style scoped>\n",
       "    .dataframe tbody tr th:only-of-type {\n",
       "        vertical-align: middle;\n",
       "    }\n",
       "\n",
       "    .dataframe tbody tr th {\n",
       "        vertical-align: top;\n",
       "    }\n",
       "\n",
       "    .dataframe thead th {\n",
       "        text-align: right;\n",
       "    }\n",
       "</style>\n",
       "<table border=\"1\" class=\"dataframe\">\n",
       "  <thead>\n",
       "    <tr style=\"text-align: right;\">\n",
       "      <th></th>\n",
       "      <th>movie_name</th>\n",
       "      <th>Running time (min)</th>\n",
       "      <th>Release date</th>\n",
       "      <th>Box office</th>\n",
       "    </tr>\n",
       "  </thead>\n",
       "  <tbody>\n",
       "    <tr>\n",
       "      <th>0</th>\n",
       "      <td>Pinocchio (1940 film)</td>\n",
       "      <td>01:28</td>\n",
       "      <td>1940-02-07</td>\n",
       "      <td>164000000</td>\n",
       "    </tr>\n",
       "    <tr>\n",
       "      <th>1</th>\n",
       "      <td>Fantasia (1940 film)</td>\n",
       "      <td>02:06</td>\n",
       "      <td>1940-11-13</td>\n",
       "      <td>76400000</td>\n",
       "    </tr>\n",
       "    <tr>\n",
       "      <th>2</th>\n",
       "      <td>The Reluctant Dragon (1941 film)</td>\n",
       "      <td>01:14</td>\n",
       "      <td>1941-06-27</td>\n",
       "      <td>960000</td>\n",
       "    </tr>\n",
       "    <tr>\n",
       "      <th>3</th>\n",
       "      <td>Dumbo</td>\n",
       "      <td>01:04</td>\n",
       "      <td>1941-10-23</td>\n",
       "      <td>1300000</td>\n",
       "    </tr>\n",
       "    <tr>\n",
       "      <th>4</th>\n",
       "      <td>Bambi</td>\n",
       "      <td>01:10</td>\n",
       "      <td>1942-08-09</td>\n",
       "      <td>267399999</td>\n",
       "    </tr>\n",
       "    <tr>\n",
       "      <th>...</th>\n",
       "      <td>...</td>\n",
       "      <td>...</td>\n",
       "      <td>...</td>\n",
       "      <td>...</td>\n",
       "    </tr>\n",
       "    <tr>\n",
       "      <th>366</th>\n",
       "      <td>Chang Can Dunk</td>\n",
       "      <td>01:49</td>\n",
       "      <td>2023-03-10</td>\n",
       "      <td>1935761693</td>\n",
       "    </tr>\n",
       "    <tr>\n",
       "      <th>367</th>\n",
       "      <td>Peter Pan  Wendy</td>\n",
       "      <td>01:49</td>\n",
       "      <td>2023-04-28</td>\n",
       "      <td>1935761693</td>\n",
       "    </tr>\n",
       "    <tr>\n",
       "      <th>368</th>\n",
       "      <td>Crater (film)</td>\n",
       "      <td>01:45</td>\n",
       "      <td>2023-05-12</td>\n",
       "      <td>1935761693</td>\n",
       "    </tr>\n",
       "    <tr>\n",
       "      <th>369</th>\n",
       "      <td>Worlds Best (film)</td>\n",
       "      <td>01:41</td>\n",
       "      <td>2023-06-23</td>\n",
       "      <td>1935761693</td>\n",
       "    </tr>\n",
       "    <tr>\n",
       "      <th>370</th>\n",
       "      <td>Dashing Through the Snow</td>\n",
       "      <td>01:30</td>\n",
       "      <td>2023-11-17</td>\n",
       "      <td>1935761693</td>\n",
       "    </tr>\n",
       "  </tbody>\n",
       "</table>\n",
       "<p>371 rows × 4 columns</p>\n",
       "</div>"
      ],
      "text/plain": [
       "                           movie_name Running time (min) Release date  \\\n",
       "0               Pinocchio (1940 film)              01:28   1940-02-07   \n",
       "1                Fantasia (1940 film)              02:06   1940-11-13   \n",
       "2    The Reluctant Dragon (1941 film)              01:14   1941-06-27   \n",
       "3                               Dumbo              01:04   1941-10-23   \n",
       "4                               Bambi              01:10   1942-08-09   \n",
       "..                                ...                ...          ...   \n",
       "366                    Chang Can Dunk              01:49   2023-03-10   \n",
       "367                  Peter Pan  Wendy              01:49   2023-04-28   \n",
       "368                     Crater (film)              01:45   2023-05-12   \n",
       "369                Worlds Best (film)              01:41   2023-06-23   \n",
       "370          Dashing Through the Snow              01:30   2023-11-17   \n",
       "\n",
       "     Box office  \n",
       "0     164000000  \n",
       "1      76400000  \n",
       "2        960000  \n",
       "3       1300000  \n",
       "4     267399999  \n",
       "..          ...  \n",
       "366  1935761693  \n",
       "367  1935761693  \n",
       "368  1935761693  \n",
       "369  1935761693  \n",
       "370  1935761693  \n",
       "\n",
       "[371 rows x 4 columns]"
      ]
     },
     "execution_count": 94,
     "metadata": {},
     "output_type": "execute_result"
    }
   ],
   "source": [
    "df_3"
   ]
  },
  {
   "cell_type": "markdown",
   "id": "af95552a-a96b-45bb-8bff-e1ef16093cf7",
   "metadata": {},
   "source": [
    "## Visualization libraries"
   ]
  },
  {
   "cell_type": "markdown",
   "id": "3059c2b4-40f8-496a-8b3a-4b7da3ab5374",
   "metadata": {},
   "source": [
    "### Matplotlib"
   ]
  },
  {
   "cell_type": "code",
   "execution_count": 95,
   "id": "7488b76b-3367-4f84-af53-2626e22fbcd5",
   "metadata": {},
   "outputs": [
    {
     "data": {
      "text/plain": [
       "Index(['movie_name', 'Running time (min)', 'Release date', 'Box office'], dtype='object')"
      ]
     },
     "execution_count": 95,
     "metadata": {},
     "output_type": "execute_result"
    }
   ],
   "source": [
    "df_3.columns"
   ]
  },
  {
   "cell_type": "code",
   "execution_count": 96,
   "id": "5655cddb-9ad8-4a83-8e9a-b2e164844322",
   "metadata": {},
   "outputs": [
    {
     "data": {
      "text/plain": [
       "movie_name             object\n",
       "Running time (min)     object\n",
       "Release date           object\n",
       "Box office            float64\n",
       "dtype: object"
      ]
     },
     "execution_count": 96,
     "metadata": {},
     "output_type": "execute_result"
    }
   ],
   "source": [
    "df_3.dtypes"
   ]
  },
  {
   "cell_type": "markdown",
   "id": "faf450f1-c3c8-4676-b621-7793dd94e8c8",
   "metadata": {},
   "source": [
    "#### Line Plot of Total Box office Earnings per Decade"
   ]
  },
  {
   "cell_type": "code",
   "execution_count": 97,
   "id": "df9440d3-d320-421d-bf6c-a35acea23416",
   "metadata": {},
   "outputs": [
    {
     "data": {
      "image/png": "[encoded data removed]",
      "text/plain": [
       "<Figure size 1000x600 with 1 Axes>"
      ]
     },
     "metadata": {},
     "output_type": "display_data"
    }
   ],
   "source": [
    "df_3['Release date'] = pd.to_datetime(df_3['Release date'])\n",
    "\n",
    "# Round release date to decade\n",
    "df_3['Decade'] = (df_3['Release date'].dt.year // 10) * 10\n",
    "\n",
    "# Group by decade and sum box office revenues\n",
    "df_decade = df_3.groupby('Decade')['Box office'].sum().reset_index()\n",
    "\n",
    "# Plotting\n",
    "plt.figure(figsize=(10, 6))\n",
    "plt.plot(df_decade['Decade'], df_decade['Box office'], marker='o', linestyle='-')\n",
    "plt.title('Box Office Over Time by Decade')\n",
    "plt.xlabel('Decade')\n",
    "plt.ylabel('Total Box Office ($)')\n",
    "plt.grid(True)\n",
    "plt.tight_layout()\n",
    "plt.show()"
   ]
  },
  {
   "cell_type": "code",
   "execution_count": 98,
   "id": "aedba94c-02b1-4cf9-adfa-95b4faeb4049",
   "metadata": {},
   "outputs": [
    {
     "data": {
      "image/png": "[encoded data removed]",
      "text/plain": [
       "<Figure size 1000x600 with 1 Axes>"
      ]
     },
     "metadata": {},
     "output_type": "display_data"
    }
   ],
   "source": [
    "# Round release date to decade\n",
    "df_3['Decade'] = (df_3['Release date'].dt.year // 10) * 10\n",
    "\n",
    "# Group by decade and sum box office revenues\n",
    "df_decade = df_3.groupby('Decade')['Box office'].sum().reset_index()\n",
    "\n",
    "# Plotting\n",
    "plt.figure(figsize=(10, 6))\n",
    "plt.plot(df_decade['Decade'], df_decade['Box office'], marker='o', linestyle='-')\n",
    "plt.title('Box Office Over Time by Decade')\n",
    "plt.xlabel('Decade')\n",
    "plt.ylabel('Total Box Office ($)')\n",
    "plt.grid(True)\n",
    "\n",
    "# Annotate each point with its corresponding value\n",
    "for x, y in zip(df_decade['Decade'], df_decade['Box office']):\n",
    "    plt.text(x, y, f'{y:,.0f}', ha='center', va='bottom', fontsize=10)\n",
    "\n",
    "plt.tight_layout()\n",
    "plt.show()"
   ]
  },
  {
   "cell_type": "markdown",
   "id": "9bfc23c5-7685-4869-9499-d145471eb038",
   "metadata": {},
   "source": [
    "#### Outlier Detected"
   ]
  },
  {
   "cell_type": "code",
   "execution_count": 99,
   "id": "55636c66-a888-4a0f-98e8-19a8cae11854",
   "metadata": {},
   "outputs": [
    {
     "data": {
      "text/plain": [
       "0      164000000\n",
       "1       76400000\n",
       "2         960000\n",
       "3        1300000\n",
       "4      267399999\n",
       "         ...    \n",
       "366   1935761693\n",
       "367   1935761693\n",
       "368   1935761693\n",
       "369   1935761693\n",
       "370   1935761693\n",
       "Name: Box office, Length: 371, dtype: float64"
      ]
     },
     "execution_count": 99,
     "metadata": {},
     "output_type": "execute_result"
    }
   ],
   "source": [
    "df_3['Box office']"
   ]
  },
  {
   "cell_type": "code",
   "execution_count": 100,
   "id": "46f67e4e-2b1a-4885-bf6d-a5677e12972c",
   "metadata": {},
   "outputs": [
    {
     "name": "stdout",
     "output_type": "stream",
     "text": [
      "Minimum Box Office: 0.0\n",
      "Maximum Box Office: 500000302000.0\n"
     ]
    }
   ],
   "source": [
    "# Find minimum and maximum box office values\n",
    "min_box_office = df_3['Box office'].min()\n",
    "max_box_office = df_3['Box office'].max()\n",
    "\n",
    "print(\"Minimum Box Office:\", min_box_office)\n",
    "print(\"Maximum Box Office:\", max_box_office)"
   ]
  },
  {
   "cell_type": "code",
   "execution_count": 101,
   "id": "2fa3f439-749a-4aa7-bdad-d58b431bbfc8",
   "metadata": {},
   "outputs": [
    {
     "name": "stdout",
     "output_type": "stream",
     "text": [
      "The row with the maximum box office value is:\n",
      "movie_name            Whispers An Elephants Tale\n",
      "Running time (min)                         01:12\n",
      "Release date                 2000-03-10 00:00:00\n",
      "Box office                          500000302000\n",
      "Decade                                      2000\n",
      "Name: 218, dtype: object\n"
     ]
    }
   ],
   "source": [
    "# Find the row with the maximum box office value\n",
    "max_box_office_index = df_3['Box office'].idxmax()\n",
    "max_box_office_row = df_3.loc[max_box_office_index]\n",
    "\n",
    "print(f'The row with the maximum box office value is:\\n{max_box_office_row}')"
   ]
  },
  {
   "cell_type": "markdown",
   "id": "8e0832dc-3d2a-4737-baf0-83d4491ac068",
   "metadata": {},
   "source": [
    "Outlier detected, Whispers An Elephants Tale was in a different currency."
   ]
  },
  {
   "cell_type": "code",
   "execution_count": 102,
   "id": "f8de129d-afac-424e-b9e7-0c7013593902",
   "metadata": {},
   "outputs": [
    {
     "data": {
      "text/html": [
       "<div>\n",
       "<style scoped>\n",
       "    .dataframe tbody tr th:only-of-type {\n",
       "        vertical-align: middle;\n",
       "    }\n",
       "\n",
       "    .dataframe tbody tr th {\n",
       "        vertical-align: top;\n",
       "    }\n",
       "\n",
       "    .dataframe thead th {\n",
       "        text-align: right;\n",
       "    }\n",
       "</style>\n",
       "<table border=\"1\" class=\"dataframe\">\n",
       "  <thead>\n",
       "    <tr style=\"text-align: right;\">\n",
       "      <th></th>\n",
       "      <th>movie_name</th>\n",
       "      <th>Running time (min)</th>\n",
       "      <th>Release date</th>\n",
       "      <th>Box office</th>\n",
       "      <th>Decade</th>\n",
       "    </tr>\n",
       "  </thead>\n",
       "  <tbody>\n",
       "    <tr>\n",
       "      <th>218</th>\n",
       "      <td>Whispers An Elephants Tale</td>\n",
       "      <td>01:12</td>\n",
       "      <td>2000-03-10</td>\n",
       "      <td>500000302000</td>\n",
       "      <td>2000</td>\n",
       "    </tr>\n",
       "  </tbody>\n",
       "</table>\n",
       "</div>"
      ],
      "text/plain": [
       "                     movie_name Running time (min) Release date   Box office  \\\n",
       "218  Whispers An Elephants Tale              01:12   2000-03-10 500000302000   \n",
       "\n",
       "     Decade  \n",
       "218    2000  "
      ]
     },
     "execution_count": 102,
     "metadata": {},
     "output_type": "execute_result"
    }
   ],
   "source": [
    "outlier = df_3[df_3['movie_name'] == 'Whispers An Elephants Tale']\n",
    "outlier"
   ]
  },
  {
   "cell_type": "markdown",
   "id": "65ce5b1a-4d79-4a05-b4ee-1704d14a563c",
   "metadata": {},
   "source": [
    "The movie \"Whispers: An Elephant's Tale,\" released by Disney in 2000, did not have a wide theatrical release and therefore did not generate significant box office revenue. Instead, it was primarily distributed as a direct-to-video release in many regions. Consequently, specific box office earnings for this film are not available, as it did not perform as a conventional theatrical release would.\n",
    "\n",
    "Resolution: Deletion"
   ]
  },
  {
   "cell_type": "code",
   "execution_count": 103,
   "id": "7513cbd8-8f70-4a79-8054-93cc4f2ea0e9",
   "metadata": {},
   "outputs": [],
   "source": [
    "df_3 = df_3.drop(index=218)"
   ]
  },
  {
   "cell_type": "code",
   "execution_count": 104,
   "id": "5ef6755d-7422-4f79-9efb-f37e594ac19e",
   "metadata": {},
   "outputs": [
    {
     "data": {
      "text/html": [
       "<div>\n",
       "<style scoped>\n",
       "    .dataframe tbody tr th:only-of-type {\n",
       "        vertical-align: middle;\n",
       "    }\n",
       "\n",
       "    .dataframe tbody tr th {\n",
       "        vertical-align: top;\n",
       "    }\n",
       "\n",
       "    .dataframe thead th {\n",
       "        text-align: right;\n",
       "    }\n",
       "</style>\n",
       "<table border=\"1\" class=\"dataframe\">\n",
       "  <thead>\n",
       "    <tr style=\"text-align: right;\">\n",
       "      <th></th>\n",
       "      <th>movie_name</th>\n",
       "      <th>Running time (min)</th>\n",
       "      <th>Release date</th>\n",
       "      <th>Box office</th>\n",
       "      <th>Decade</th>\n",
       "    </tr>\n",
       "  </thead>\n",
       "  <tbody>\n",
       "  </tbody>\n",
       "</table>\n",
       "</div>"
      ],
      "text/plain": [
       "Empty DataFrame\n",
       "Columns: [movie_name, Running time (min), Release date, Box office, Decade]\n",
       "Index: []"
      ]
     },
     "execution_count": 104,
     "metadata": {},
     "output_type": "execute_result"
    }
   ],
   "source": [
    "outlier = df_3[df_3['movie_name'] == 'Whispers An Elephants Tale']\n",
    "outlier"
   ]
  },
  {
   "cell_type": "markdown",
   "id": "0e9138c2-4044-4468-88ab-b5d81a05cd10",
   "metadata": {},
   "source": [
    "#### Scatter Plot Relationship between total box office earnings and count of release dates by decade"
   ]
  },
  {
   "cell_type": "code",
   "execution_count": 105,
   "id": "482f536e-4c0e-4b55-9aa7-8f757915a8e7",
   "metadata": {},
   "outputs": [
    {
     "data": {
      "image/png": "[encoded data removed]",
      "text/plain": [
       "<Figure size 1000x600 with 2 Axes>"
      ]
     },
     "metadata": {},
     "output_type": "display_data"
    }
   ],
   "source": [
    "# Aggregate data to get total box office sum per decade and release date by decade\n",
    "df_agg = df_3.groupby(['Decade', 'Release date']).agg({'Box office': 'sum'}).reset_index()\n",
    "\n",
    "# Plotting\n",
    "plt.figure(figsize=(10, 6))\n",
    "\n",
    "# Scatter plot\n",
    "plt.scatter(df_agg['Release date'], df_agg['Box office'], s=100, c=df_agg['Decade'], cmap='viridis')\n",
    "\n",
    "# Colorbar to represent decades\n",
    "cbar = plt.colorbar()\n",
    "cbar.set_label('Decade')\n",
    "\n",
    "plt.title('Total Box Office vs Release Date by Decade')\n",
    "plt.xlabel('Release Date')\n",
    "plt.ylabel('Total Box Office ($)')\n",
    "plt.grid(True)\n",
    "plt.tight_layout()\n",
    "plt.show()"
   ]
  },
  {
   "cell_type": "code",
   "execution_count": 106,
   "id": "30ab08fd-b667-4a79-a1b6-1efb1fa6e941",
   "metadata": {},
   "outputs": [
    {
     "data": {
      "text/html": [
       "<div>\n",
       "<style scoped>\n",
       "    .dataframe tbody tr th:only-of-type {\n",
       "        vertical-align: middle;\n",
       "    }\n",
       "\n",
       "    .dataframe tbody tr th {\n",
       "        vertical-align: top;\n",
       "    }\n",
       "\n",
       "    .dataframe thead th {\n",
       "        text-align: right;\n",
       "    }\n",
       "</style>\n",
       "<table border=\"1\" class=\"dataframe\">\n",
       "  <thead>\n",
       "    <tr style=\"text-align: right;\">\n",
       "      <th></th>\n",
       "      <th>movie_name</th>\n",
       "      <th>Running time (min)</th>\n",
       "      <th>Release date</th>\n",
       "      <th>Box office</th>\n",
       "      <th>Decade</th>\n",
       "    </tr>\n",
       "  </thead>\n",
       "  <tbody>\n",
       "    <tr>\n",
       "      <th>0</th>\n",
       "      <td>Pinocchio (1940 film)</td>\n",
       "      <td>01:28</td>\n",
       "      <td>1940-02-07</td>\n",
       "      <td>164000000</td>\n",
       "      <td>1940</td>\n",
       "    </tr>\n",
       "  </tbody>\n",
       "</table>\n",
       "</div>"
      ],
      "text/plain": [
       "              movie_name Running time (min) Release date  Box office  Decade\n",
       "0  Pinocchio (1940 film)              01:28   1940-02-07   164000000    1940"
      ]
     },
     "execution_count": 106,
     "metadata": {},
     "output_type": "execute_result"
    }
   ],
   "source": [
    "df_3.head(1)"
   ]
  },
  {
   "cell_type": "code",
   "execution_count": null,
   "id": "61671d29-1985-47d5-9296-7e65a7136ab1",
   "metadata": {},
   "outputs": [],
   "source": []
  },
  {
   "cell_type": "markdown",
   "id": "55622327-404d-4e9a-8810-e2533a9f9b7c",
   "metadata": {},
   "source": [
    "#### Histogram of Total Box Office Earnings per Decade"
   ]
  },
  {
   "cell_type": "code",
   "execution_count": 107,
   "id": "c6c77e5d-565b-4079-967b-7acc815d7d9b",
   "metadata": {},
   "outputs": [
    {
     "data": {
      "image/png": "[encoded data removed]",
      "text/plain": [
       "<Figure size 1000x600 with 1 Axes>"
      ]
     },
     "metadata": {},
     "output_type": "display_data"
    }
   ],
   "source": [
    "# Grouping the DataFrame by decade and summing up the box office earnings for each decade\n",
    "total_box_office_per_decade = df_3.groupby('Decade')['Box office'].sum()\n",
    "\n",
    "# Plotting\n",
    "plt.figure(figsize=(10, 6))\n",
    "plt.bar(total_box_office_per_decade.index, total_box_office_per_decade, width=5)\n",
    "\n",
    "plt.title('Total Box Office Earnings per Decade')\n",
    "plt.xlabel('Decade')\n",
    "plt.ylabel('Total Box Office ($)')\n",
    "plt.grid(True)\n",
    "plt.tight_layout()\n",
    "plt.show()"
   ]
  },
  {
   "cell_type": "code",
   "execution_count": 108,
   "id": "ea296662-7f1c-4ecc-9582-4063b79f4c79",
   "metadata": {},
   "outputs": [
    {
     "data": {
      "text/html": [
       "<div>\n",
       "<style scoped>\n",
       "    .dataframe tbody tr th:only-of-type {\n",
       "        vertical-align: middle;\n",
       "    }\n",
       "\n",
       "    .dataframe tbody tr th {\n",
       "        vertical-align: top;\n",
       "    }\n",
       "\n",
       "    .dataframe thead th {\n",
       "        text-align: right;\n",
       "    }\n",
       "</style>\n",
       "<table border=\"1\" class=\"dataframe\">\n",
       "  <thead>\n",
       "    <tr style=\"text-align: right;\">\n",
       "      <th></th>\n",
       "      <th>movie_name</th>\n",
       "      <th>Running time (min)</th>\n",
       "      <th>Release date</th>\n",
       "      <th>Box office</th>\n",
       "      <th>Decade</th>\n",
       "    </tr>\n",
       "  </thead>\n",
       "  <tbody>\n",
       "    <tr>\n",
       "      <th>0</th>\n",
       "      <td>Pinocchio (1940 film)</td>\n",
       "      <td>01:28</td>\n",
       "      <td>1940-02-07</td>\n",
       "      <td>164000000</td>\n",
       "      <td>1940</td>\n",
       "    </tr>\n",
       "  </tbody>\n",
       "</table>\n",
       "</div>"
      ],
      "text/plain": [
       "              movie_name Running time (min) Release date  Box office  Decade\n",
       "0  Pinocchio (1940 film)              01:28   1940-02-07   164000000    1940"
      ]
     },
     "execution_count": 108,
     "metadata": {},
     "output_type": "execute_result"
    }
   ],
   "source": [
    "df_3.head(1)"
   ]
  },
  {
   "cell_type": "markdown",
   "id": "463d6bda-d212-4060-9183-c08055f44165",
   "metadata": {},
   "source": [
    "#### Pie Chart of Box Office Earnings"
   ]
  },
  {
   "cell_type": "code",
   "execution_count": 109,
   "id": "d468f244-d1f0-42eb-b4da-194dd715f26a",
   "metadata": {},
   "outputs": [
    {
     "data": {
      "image/png": "[encoded data removed]",
      "text/plain": [
       "<Figure size 800x800 with 1 Axes>"
      ]
     },
     "metadata": {},
     "output_type": "display_data"
    }
   ],
   "source": [
    "# Summing up the box office earnings for each decade\n",
    "total_box_office_per_decade = df_3.groupby('Decade')['Box office'].sum()\n",
    "\n",
    "# Plotting\n",
    "plt.figure(figsize=(8, 8))\n",
    "plt.pie(total_box_office_per_decade, labels=total_box_office_per_decade.index, autopct='%1.1f%%', startangle=140)\n",
    "plt.title('Distribution of Box Office Earnings by Decade')\n",
    "plt.axis('equal')  # Equal aspect ratio ensures that pie is drawn as a circle.\n",
    "plt.show()"
   ]
  },
  {
   "cell_type": "code",
   "execution_count": 110,
   "id": "2362f262-7bbe-40e4-8b3c-9786a2357234",
   "metadata": {},
   "outputs": [
    {
     "data": {
      "text/html": [
       "<div>\n",
       "<style scoped>\n",
       "    .dataframe tbody tr th:only-of-type {\n",
       "        vertical-align: middle;\n",
       "    }\n",
       "\n",
       "    .dataframe tbody tr th {\n",
       "        vertical-align: top;\n",
       "    }\n",
       "\n",
       "    .dataframe thead th {\n",
       "        text-align: right;\n",
       "    }\n",
       "</style>\n",
       "<table border=\"1\" class=\"dataframe\">\n",
       "  <thead>\n",
       "    <tr style=\"text-align: right;\">\n",
       "      <th></th>\n",
       "      <th>movie_name</th>\n",
       "      <th>Running time (min)</th>\n",
       "      <th>Release date</th>\n",
       "      <th>Box office</th>\n",
       "      <th>Decade</th>\n",
       "    </tr>\n",
       "  </thead>\n",
       "  <tbody>\n",
       "    <tr>\n",
       "      <th>0</th>\n",
       "      <td>Pinocchio (1940 film)</td>\n",
       "      <td>01:28</td>\n",
       "      <td>1940-02-07</td>\n",
       "      <td>164000000</td>\n",
       "      <td>1940</td>\n",
       "    </tr>\n",
       "  </tbody>\n",
       "</table>\n",
       "</div>"
      ],
      "text/plain": [
       "              movie_name Running time (min) Release date  Box office  Decade\n",
       "0  Pinocchio (1940 film)              01:28   1940-02-07   164000000    1940"
      ]
     },
     "execution_count": 110,
     "metadata": {},
     "output_type": "execute_result"
    }
   ],
   "source": [
    "df_3.head(1)"
   ]
  },
  {
   "cell_type": "markdown",
   "id": "2d5b2e8f-aafd-48ee-8e37-a8de5d9b6269",
   "metadata": {},
   "source": [
    "### Seaborn"
   ]
  },
  {
   "cell_type": "markdown",
   "id": "d4940480-326d-4c8f-bafc-d866ed242328",
   "metadata": {},
   "source": [
    "#### Boxplot displaying distribution of box office earnings per decade\n",
    "- detect outliers"
   ]
  },
  {
   "cell_type": "code",
   "execution_count": 111,
   "id": "54310484-79e5-4f13-8c32-bd476feeaaa5",
   "metadata": {},
   "outputs": [
    {
     "data": {
      "text/plain": [
       "<Axes: xlabel='Decade', ylabel='Box office'>"
      ]
     },
     "execution_count": 111,
     "metadata": {},
     "output_type": "execute_result"
    },
    {
     "data": {
      "image/png": "[encoded data removed]",
      "text/plain": [
       "<Figure size 640x480 with 1 Axes>"
      ]
     },
     "metadata": {},
     "output_type": "display_data"
    }
   ],
   "source": [
    "sns.boxplot(x='Decade', y='Box office', data=df_3)"
   ]
  },
  {
   "cell_type": "code",
   "execution_count": 112,
   "id": "ed05ebc2-0027-4231-858d-2d93bf3bfd46",
   "metadata": {},
   "outputs": [
    {
     "data": {
      "text/html": [
       "<div>\n",
       "<style scoped>\n",
       "    .dataframe tbody tr th:only-of-type {\n",
       "        vertical-align: middle;\n",
       "    }\n",
       "\n",
       "    .dataframe tbody tr th {\n",
       "        vertical-align: top;\n",
       "    }\n",
       "\n",
       "    .dataframe thead th {\n",
       "        text-align: right;\n",
       "    }\n",
       "</style>\n",
       "<table border=\"1\" class=\"dataframe\">\n",
       "  <thead>\n",
       "    <tr style=\"text-align: right;\">\n",
       "      <th></th>\n",
       "      <th>movie_name</th>\n",
       "      <th>Running time (min)</th>\n",
       "      <th>Release date</th>\n",
       "      <th>Box office</th>\n",
       "      <th>Decade</th>\n",
       "    </tr>\n",
       "  </thead>\n",
       "  <tbody>\n",
       "    <tr>\n",
       "      <th>0</th>\n",
       "      <td>Pinocchio (1940 film)</td>\n",
       "      <td>01:28</td>\n",
       "      <td>1940-02-07</td>\n",
       "      <td>164000000</td>\n",
       "      <td>1940</td>\n",
       "    </tr>\n",
       "  </tbody>\n",
       "</table>\n",
       "</div>"
      ],
      "text/plain": [
       "              movie_name Running time (min) Release date  Box office  Decade\n",
       "0  Pinocchio (1940 film)              01:28   1940-02-07   164000000    1940"
      ]
     },
     "execution_count": 112,
     "metadata": {},
     "output_type": "execute_result"
    }
   ],
   "source": [
    "df_3.head(1)"
   ]
  },
  {
   "cell_type": "markdown",
   "id": "b0cdd98e-576d-4a63-9410-439bd3676d51",
   "metadata": {},
   "source": [
    "#### Count Plot of movies releaseed in each decade"
   ]
  },
  {
   "cell_type": "code",
   "execution_count": 113,
   "id": "2672692f-7210-4c6f-a690-a9b47d11d97c",
   "metadata": {},
   "outputs": [
    {
     "data": {
      "text/plain": [
       "<Axes: xlabel='Decade', ylabel='count'>"
      ]
     },
     "execution_count": 113,
     "metadata": {},
     "output_type": "execute_result"
    },
    {
     "data": {
      "image/png": "[encoded data removed]",
      "text/plain": [
       "<Figure size 640x480 with 1 Axes>"
      ]
     },
     "metadata": {},
     "output_type": "display_data"
    }
   ],
   "source": [
    "sns.countplot(x='Decade', data=df_3)"
   ]
  },
  {
   "cell_type": "code",
   "execution_count": 114,
   "id": "08c21ab9-e806-4318-8dcc-531765c922b5",
   "metadata": {},
   "outputs": [
    {
     "data": {
      "text/html": [
       "<div>\n",
       "<style scoped>\n",
       "    .dataframe tbody tr th:only-of-type {\n",
       "        vertical-align: middle;\n",
       "    }\n",
       "\n",
       "    .dataframe tbody tr th {\n",
       "        vertical-align: top;\n",
       "    }\n",
       "\n",
       "    .dataframe thead th {\n",
       "        text-align: right;\n",
       "    }\n",
       "</style>\n",
       "<table border=\"1\" class=\"dataframe\">\n",
       "  <thead>\n",
       "    <tr style=\"text-align: right;\">\n",
       "      <th></th>\n",
       "      <th>movie_name</th>\n",
       "      <th>Running time (min)</th>\n",
       "      <th>Release date</th>\n",
       "      <th>Box office</th>\n",
       "      <th>Decade</th>\n",
       "    </tr>\n",
       "  </thead>\n",
       "  <tbody>\n",
       "    <tr>\n",
       "      <th>0</th>\n",
       "      <td>Pinocchio (1940 film)</td>\n",
       "      <td>01:28</td>\n",
       "      <td>1940-02-07</td>\n",
       "      <td>164000000</td>\n",
       "      <td>1940</td>\n",
       "    </tr>\n",
       "  </tbody>\n",
       "</table>\n",
       "</div>"
      ],
      "text/plain": [
       "              movie_name Running time (min) Release date  Box office  Decade\n",
       "0  Pinocchio (1940 film)              01:28   1940-02-07   164000000    1940"
      ]
     },
     "execution_count": 114,
     "metadata": {},
     "output_type": "execute_result"
    }
   ],
   "source": [
    "df_3.head(1)"
   ]
  },
  {
   "cell_type": "markdown",
   "id": "21b01356-8e35-42af-8d9b-a654b1d628d1",
   "metadata": {},
   "source": [
    "### Plotly"
   ]
  },
  {
   "cell_type": "markdown",
   "id": "f1555fb0-0614-4ab5-a0b5-9c9fcfd85e18",
   "metadata": {},
   "source": [
    "#### Area Chart of Total Box Office Revenue per decade"
   ]
  },
  {
   "cell_type": "code",
   "execution_count": 115,
   "id": "2839a578-b874-4955-a2d1-e72cdbe8b5de",
   "metadata": {},
   "outputs": [
    {
     "data": {
      "application/vnd.plotly.v1+json": {
       "config": {
        "plotlyServerURL": "https://plot.ly"
       },
       "data": [
        {
         "fillpattern": {
          "shape": ""
         },
         "hovertemplate": "Box Office Revenue=%{y}<extra></extra>",
         "legendgroup": "",
         "line": {
          "color": "#636efa"
         },
         "marker": {
          "symbol": "circle"
         },
         "mode": "lines",
         "name": "",
         "orientation": "v",
         "showlegend": false,
         "stackgroup": "1",
         "type": "scatter",
         "x": [
          1940,
          1950,
          1960,
          1970,
          1980,
          1990,
          2000,
          2010,
          2020
         ],
         "xaxis": "x",
         "y": [
          590838999,
          8332696771,
          14675233373,
          29811299998,
          4859368376,
          27022985883,
          61388966424,
          28766543154,
          42719353246
         ],
         "yaxis": "y"
        }
       ],
       "layout": {
        "autosize": true,
        "legend": {
         "tracegroupgap": 0
        },
        "template": {
         "data": {
          "bar": [
           {
            "error_x": {
             "color": "#2a3f5f"
            },
            "error_y": {
             "color": "#2a3f5f"
            },
            "marker": {
             "line": {
              "color": "#E5ECF6",
              "width": 0.5
             },
             "pattern": {
              "fillmode": "overlay",
              "size": 10,
              "solidity": 0.2
             }
            },
            "type": "bar"
           }
          ],
          "barpolar": [
           {
            "marker": {
             "line": {
              "color": "#E5ECF6",
              "width": 0.5
             },
             "pattern": {
              "fillmode": "overlay",
              "size": 10,
              "solidity": 0.2
             }
            },
            "type": "barpolar"
           }
          ],
          "carpet": [
           {
            "aaxis": {
             "endlinecolor": "#2a3f5f",
             "gridcolor": "white",
             "linecolor": "white",
             "minorgridcolor": "white",
             "startlinecolor": "#2a3f5f"
            },
            "baxis": {
             "endlinecolor": "#2a3f5f",
             "gridcolor": "white",
             "linecolor": "white",
             "minorgridcolor": "white",
             "startlinecolor": "#2a3f5f"
            },
            "type": "carpet"
           }
          ],
          "choropleth": [
           {
            "colorbar": {
             "outlinewidth": 0,
             "ticks": ""
            },
            "type": "choropleth"
           }
          ],
          "contour": [
           {
            "colorbar": {
             "outlinewidth": 0,
             "ticks": ""
            },
            "colorscale": [
             [
              0,
              "#0d0887"
             ],
             [
              0.1111111111111111,
              "#46039f"
             ],
             [
              0.2222222222222222,
              "#7201a8"
             ],
             [
              0.3333333333333333,
              "#9c179e"
             ],
             [
              0.4444444444444444,
              "#bd3786"
             ],
             [
              0.5555555555555556,
              "#d8576b"
             ],
             [
              0.6666666666666666,
              "#ed7953"
             ],
             [
              0.7777777777777778,
              "#fb9f3a"
             ],
             [
              0.8888888888888888,
              "#fdca26"
             ],
             [
              1,
              "#f0f921"
             ]
            ],
            "type": "contour"
           }
          ],
          "contourcarpet": [
           {
            "colorbar": {
             "outlinewidth": 0,
             "ticks": ""
            },
            "type": "contourcarpet"
           }
          ],
          "heatmap": [
           {
            "colorbar": {
             "outlinewidth": 0,
             "ticks": ""
            },
            "colorscale": [
             [
              0,
              "#0d0887"
             ],
             [
              0.1111111111111111,
              "#46039f"
             ],
             [
              0.2222222222222222,
              "#7201a8"
             ],
             [
              0.3333333333333333,
              "#9c179e"
             ],
             [
              0.4444444444444444,
              "#bd3786"
             ],
             [
              0.5555555555555556,
              "#d8576b"
             ],
             [
              0.6666666666666666,
              "#ed7953"
             ],
             [
              0.7777777777777778,
              "#fb9f3a"
             ],
             [
              0.8888888888888888,
              "#fdca26"
             ],
             [
              1,
              "#f0f921"
             ]
            ],
            "type": "heatmap"
           }
          ],
          "heatmapgl": [
           {
            "colorbar": {
             "outlinewidth": 0,
             "ticks": ""
            },
            "colorscale": [
             [
              0,
              "#0d0887"
             ],
             [
              0.1111111111111111,
              "#46039f"
             ],
             [
              0.2222222222222222,
              "#7201a8"
             ],
             [
              0.3333333333333333,
              "#9c179e"
             ],
             [
              0.4444444444444444,
              "#bd3786"
             ],
             [
              0.5555555555555556,
              "#d8576b"
             ],
             [
              0.6666666666666666,
              "#ed7953"
             ],
             [
              0.7777777777777778,
              "#fb9f3a"
             ],
             [
              0.8888888888888888,
              "#fdca26"
             ],
             [
              1,
              "#f0f921"
             ]
            ],
            "type": "heatmapgl"
           }
          ],
          "histogram": [
           {
            "marker": {
             "pattern": {
              "fillmode": "overlay",
              "size": 10,
              "solidity": 0.2
             }
            },
            "type": "histogram"
           }
          ],
          "histogram2d": [
           {
            "colorbar": {
             "outlinewidth": 0,
             "ticks": ""
            },
            "colorscale": [
             [
              0,
              "#0d0887"
             ],
             [
              0.1111111111111111,
              "#46039f"
             ],
             [
              0.2222222222222222,
              "#7201a8"
             ],
             [
              0.3333333333333333,
              "#9c179e"
             ],
             [
              0.4444444444444444,
              "#bd3786"
             ],
             [
              0.5555555555555556,
              "#d8576b"
             ],
             [
              0.6666666666666666,
              "#ed7953"
             ],
             [
              0.7777777777777778,
              "#fb9f3a"
             ],
             [
              0.8888888888888888,
              "#fdca26"
             ],
             [
              1,
              "#f0f921"
             ]
            ],
            "type": "histogram2d"
           }
          ],
          "histogram2dcontour": [
           {
            "colorbar": {
             "outlinewidth": 0,
             "ticks": ""
            },
            "colorscale": [
             [
              0,
              "#0d0887"
             ],
             [
              0.1111111111111111,
              "#46039f"
             ],
             [
              0.2222222222222222,
              "#7201a8"
             ],
             [
              0.3333333333333333,
              "#9c179e"
             ],
             [
              0.4444444444444444,
              "#bd3786"
             ],
             [
              0.5555555555555556,
              "#d8576b"
             ],
             [
              0.6666666666666666,
              "#ed7953"
             ],
             [
              0.7777777777777778,
              "#fb9f3a"
             ],
             [
              0.8888888888888888,
              "#fdca26"
             ],
             [
              1,
              "#f0f921"
             ]
            ],
            "type": "histogram2dcontour"
           }
          ],
          "mesh3d": [
           {
            "colorbar": {
             "outlinewidth": 0,
             "ticks": ""
            },
            "type": "mesh3d"
           }
          ],
          "parcoords": [
           {
            "line": {
             "colorbar": {
              "outlinewidth": 0,
              "ticks": ""
             }
            },
            "type": "parcoords"
           }
          ],
          "pie": [
           {
            "automargin": true,
            "type": "pie"
           }
          ],
          "scatter": [
           {
            "fillpattern": {
             "fillmode": "overlay",
             "size": 10,
             "solidity": 0.2
            },
            "type": "scatter"
           }
          ],
          "scatter3d": [
           {
            "line": {
             "colorbar": {
              "outlinewidth": 0,
              "ticks": ""
             }
            },
            "marker": {
             "colorbar": {
              "outlinewidth": 0,
              "ticks": ""
             }
            },
            "type": "scatter3d"
           }
          ],
          "scattercarpet": [
           {
            "marker": {
             "colorbar": {
              "outlinewidth": 0,
              "ticks": ""
             }
            },
            "type": "scattercarpet"
           }
          ],
          "scattergeo": [
           {
            "marker": {
             "colorbar": {
              "outlinewidth": 0,
              "ticks": ""
             }
            },
            "type": "scattergeo"
           }
          ],
          "scattergl": [
           {
            "marker": {
             "colorbar": {
              "outlinewidth": 0,
              "ticks": ""
             }
            },
            "type": "scattergl"
           }
          ],
          "scattermapbox": [
           {
            "marker": {
             "colorbar": {
              "outlinewidth": 0,
              "ticks": ""
             }
            },
            "type": "scattermapbox"
           }
          ],
          "scatterpolar": [
           {
            "marker": {
             "colorbar": {
              "outlinewidth": 0,
              "ticks": ""
             }
            },
            "type": "scatterpolar"
           }
          ],
          "scatterpolargl": [
           {
            "marker": {
             "colorbar": {
              "outlinewidth": 0,
              "ticks": ""
             }
            },
            "type": "scatterpolargl"
           }
          ],
          "scatterternary": [
           {
            "marker": {
             "colorbar": {
              "outlinewidth": 0,
              "ticks": ""
             }
            },
            "type": "scatterternary"
           }
          ],
          "surface": [
           {
            "colorbar": {
             "outlinewidth": 0,
             "ticks": ""
            },
            "colorscale": [
             [
              0,
              "#0d0887"
             ],
             [
              0.1111111111111111,
              "#46039f"
             ],
             [
              0.2222222222222222,
              "#7201a8"
             ],
             [
              0.3333333333333333,
              "#9c179e"
             ],
             [
              0.4444444444444444,
              "#bd3786"
             ],
             [
              0.5555555555555556,
              "#d8576b"
             ],
             [
              0.6666666666666666,
              "#ed7953"
             ],
             [
              0.7777777777777778,
              "#fb9f3a"
             ],
             [
              0.8888888888888888,
              "#fdca26"
             ],
             [
              1,
              "#f0f921"
             ]
            ],
            "type": "surface"
           }
          ],
          "table": [
           {
            "cells": {
             "fill": {
              "color": "#EBF0F8"
             },
             "line": {
              "color": "white"
             }
            },
            "header": {
             "fill": {
              "color": "#C8D4E3"
             },
             "line": {
              "color": "white"
             }
            },
            "type": "table"
           }
          ]
         },
         "layout": {
          "annotationdefaults": {
           "arrowcolor": "#2a3f5f",
           "arrowhead": 0,
           "arrowwidth": 1
          },
          "autotypenumbers": "strict",
          "coloraxis": {
           "colorbar": {
            "outlinewidth": 0,
            "ticks": ""
           }
          },
          "colorscale": {
           "diverging": [
            [
             0,
             "#8e0152"
            ],
            [
             0.1,
             "#c51b7d"
            ],
            [
             0.2,
             "#de77ae"
            ],
            [
             0.3,
             "#f1b6da"
            ],
            [
             0.4,
             "#fde0ef"
            ],
            [
             0.5,
             "#f7f7f7"
            ],
            [
             0.6,
             "#e6f5d0"
            ],
            [
             0.7,
             "#b8e186"
            ],
            [
             0.8,
             "#7fbc41"
            ],
            [
             0.9,
             "#4d9221"
            ],
            [
             1,
             "#276419"
            ]
           ],
           "sequential": [
            [
             0,
             "#0d0887"
            ],
            [
             0.1111111111111111,
             "#46039f"
            ],
            [
             0.2222222222222222,
             "#7201a8"
            ],
            [
             0.3333333333333333,
             "#9c179e"
            ],
            [
             0.4444444444444444,
             "#bd3786"
            ],
            [
             0.5555555555555556,
             "#d8576b"
            ],
            [
             0.6666666666666666,
             "#ed7953"
            ],
            [
             0.7777777777777778,
             "#fb9f3a"
            ],
            [
             0.8888888888888888,
             "#fdca26"
            ],
            [
             1,
             "#f0f921"
            ]
           ],
           "sequentialminus": [
            [
             0,
             "#0d0887"
            ],
            [
             0.1111111111111111,
             "#46039f"
            ],
            [
             0.2222222222222222,
             "#7201a8"
            ],
            [
             0.3333333333333333,
             "#9c179e"
            ],
            [
             0.4444444444444444,
             "#bd3786"
            ],
            [
             0.5555555555555556,
             "#d8576b"
            ],
            [
             0.6666666666666666,
             "#ed7953"
            ],
            [
             0.7777777777777778,
             "#fb9f3a"
            ],
            [
             0.8888888888888888,
             "#fdca26"
            ],
            [
             1,
             "#f0f921"
            ]
           ]
          },
          "colorway": [
           "#636efa",
           "#EF553B",
           "#00cc96",
           "#ab63fa",
           "#FFA15A",
           "#19d3f3",
           "#FF6692",
           "#B6E880",
           "#FF97FF",
           "#FECB52"
          ],
          "font": {
           "color": "#2a3f5f"
          },
          "geo": {
           "bgcolor": "white",
           "lakecolor": "white",
           "landcolor": "#E5ECF6",
           "showlakes": true,
           "showland": true,
           "subunitcolor": "white"
          },
          "hoverlabel": {
           "align": "left"
          },
          "hovermode": "closest",
          "mapbox": {
           "style": "light"
          },
          "paper_bgcolor": "white",
          "plot_bgcolor": "#E5ECF6",
          "polar": {
           "angularaxis": {
            "gridcolor": "white",
            "linecolor": "white",
            "ticks": ""
           },
           "bgcolor": "#E5ECF6",
           "radialaxis": {
            "gridcolor": "white",
            "linecolor": "white",
            "ticks": ""
           }
          },
          "scene": {
           "xaxis": {
            "backgroundcolor": "#E5ECF6",
            "gridcolor": "white",
            "gridwidth": 2,
            "linecolor": "white",
            "showbackground": true,
            "ticks": "",
            "zerolinecolor": "white"
           },
           "yaxis": {
            "backgroundcolor": "#E5ECF6",
            "gridcolor": "white",
            "gridwidth": 2,
            "linecolor": "white",
            "showbackground": true,
            "ticks": "",
            "zerolinecolor": "white"
           },
           "zaxis": {
            "backgroundcolor": "#E5ECF6",
            "gridcolor": "white",
            "gridwidth": 2,
            "linecolor": "white",
            "showbackground": true,
            "ticks": "",
            "zerolinecolor": "white"
           }
          },
          "shapedefaults": {
           "line": {
            "color": "#2a3f5f"
           }
          },
          "ternary": {
           "aaxis": {
            "gridcolor": "white",
            "linecolor": "white",
            "ticks": ""
           },
           "baxis": {
            "gridcolor": "white",
            "linecolor": "white",
            "ticks": ""
           },
           "bgcolor": "#E5ECF6",
           "caxis": {
            "gridcolor": "white",
            "linecolor": "white",
            "ticks": ""
           }
          },
          "title": {
           "x": 0.05
          },
          "xaxis": {
           "automargin": true,
           "gridcolor": "white",
           "linecolor": "white",
           "ticks": "",
           "title": {
            "standoff": 15
           },
           "zerolinecolor": "white",
           "zerolinewidth": 2
          },
          "yaxis": {
           "automargin": true,
           "gridcolor": "white",
           "linecolor": "white",
           "ticks": "",
           "title": {
            "standoff": 15
           },
           "zerolinecolor": "white",
           "zerolinewidth": 2
          }
         }
        },
        "title": {
         "text": "Box Office Revenue Over Time by Decade"
        },
        "xaxis": {
         "anchor": "y",
         "autorange": true,
         "domain": [
          0,
          1
         ],
         "range": [
          1940,
          2020
         ],
         "title": {
          "text": "Decade"
         },
         "type": "linear"
        },
        "yaxis": {
         "anchor": "x",
         "autorange": true,
         "domain": [
          0,
          1
         ],
         "range": [
          0,
          64619964656.8421
         ],
         "title": {
          "text": "Box Office Revenue"
         },
         "type": "linear"
        }
       }
      },
      "image/png": "[encoded data removed]",
      "text/html": [
       "<div>                            <div id=\"5cd07299-eed2-42f0-a0b2-29bfdc539b45\" class=\"plotly-graph-div\" style=\"height:525px; width:100%;\"></div>            <script type=\"text/javascript\">                require([\"plotly\"], function(Plotly) {                    window.PLOTLYENV=window.PLOTLYENV || {};                                    if (document.getElementById(\"5cd07299-eed2-42f0-a0b2-29bfdc539b45\")) {                    Plotly.newPlot(                        \"5cd07299-eed2-42f0-a0b2-29bfdc539b45\",                        [{\"fillpattern\":{\"shape\":\"\"},\"hovertemplate\":\"Box Office Revenue=%{y}\\u003cextra\\u003e\\u003c\\u002fextra\\u003e\",\"legendgroup\":\"\",\"line\":{\"color\":\"#636efa\"},\"marker\":{\"symbol\":\"circle\"},\"mode\":\"lines\",\"name\":\"\",\"orientation\":\"v\",\"showlegend\":false,\"stackgroup\":\"1\",\"x\":[1940,1950,1960,1970,1980,1990,2000,2010,2020],\"xaxis\":\"x\",\"y\":[590838999.0,8332696771.0,14675233373.0,29811299998.0,4859368376.0,27022985883.0,61388966424.0,28766543154.0,42719353246.0],\"yaxis\":\"y\",\"type\":\"scatter\"}],                        {\"template\":{\"data\":{\"histogram2dcontour\":[{\"type\":\"histogram2dcontour\",\"colorbar\":{\"outlinewidth\":0,\"ticks\":\"\"},\"colorscale\":[[0.0,\"#0d0887\"],[0.1111111111111111,\"#46039f\"],[0.2222222222222222,\"#7201a8\"],[0.3333333333333333,\"#9c179e\"],[0.4444444444444444,\"#bd3786\"],[0.5555555555555556,\"#d8576b\"],[0.6666666666666666,\"#ed7953\"],[0.7777777777777778,\"#fb9f3a\"],[0.8888888888888888,\"#fdca26\"],[1.0,\"#f0f921\"]]}],\"choropleth\":[{\"type\":\"choropleth\",\"colorbar\":{\"outlinewidth\":0,\"ticks\":\"\"}}],\"histogram2d\":[{\"type\":\"histogram2d\",\"colorbar\":{\"outlinewidth\":0,\"ticks\":\"\"},\"colorscale\":[[0.0,\"#0d0887\"],[0.1111111111111111,\"#46039f\"],[0.2222222222222222,\"#7201a8\"],[0.3333333333333333,\"#9c179e\"],[0.4444444444444444,\"#bd3786\"],[0.5555555555555556,\"#d8576b\"],[0.6666666666666666,\"#ed7953\"],[0.7777777777777778,\"#fb9f3a\"],[0.8888888888888888,\"#fdca26\"],[1.0,\"#f0f921\"]]}],\"heatmap\":[{\"type\":\"heatmap\",\"colorbar\":{\"outlinewidth\":0,\"ticks\":\"\"},\"colorscale\":[[0.0,\"#0d0887\"],[0.1111111111111111,\"#46039f\"],[0.2222222222222222,\"#7201a8\"],[0.3333333333333333,\"#9c179e\"],[0.4444444444444444,\"#bd3786\"],[0.5555555555555556,\"#d8576b\"],[0.6666666666666666,\"#ed7953\"],[0.7777777777777778,\"#fb9f3a\"],[0.8888888888888888,\"#fdca26\"],[1.0,\"#f0f921\"]]}],\"heatmapgl\":[{\"type\":\"heatmapgl\",\"colorbar\":{\"outlinewidth\":0,\"ticks\":\"\"},\"colorscale\":[[0.0,\"#0d0887\"],[0.1111111111111111,\"#46039f\"],[0.2222222222222222,\"#7201a8\"],[0.3333333333333333,\"#9c179e\"],[0.4444444444444444,\"#bd3786\"],[0.5555555555555556,\"#d8576b\"],[0.6666666666666666,\"#ed7953\"],[0.7777777777777778,\"#fb9f3a\"],[0.8888888888888888,\"#fdca26\"],[1.0,\"#f0f921\"]]}],\"contourcarpet\":[{\"type\":\"contourcarpet\",\"colorbar\":{\"outlinewidth\":0,\"ticks\":\"\"}}],\"contour\":[{\"type\":\"contour\",\"colorbar\":{\"outlinewidth\":0,\"ticks\":\"\"},\"colorscale\":[[0.0,\"#0d0887\"],[0.1111111111111111,\"#46039f\"],[0.2222222222222222,\"#7201a8\"],[0.3333333333333333,\"#9c179e\"],[0.4444444444444444,\"#bd3786\"],[0.5555555555555556,\"#d8576b\"],[0.6666666666666666,\"#ed7953\"],[0.7777777777777778,\"#fb9f3a\"],[0.8888888888888888,\"#fdca26\"],[1.0,\"#f0f921\"]]}],\"surface\":[{\"type\":\"surface\",\"colorbar\":{\"outlinewidth\":0,\"ticks\":\"\"},\"colorscale\":[[0.0,\"#0d0887\"],[0.1111111111111111,\"#46039f\"],[0.2222222222222222,\"#7201a8\"],[0.3333333333333333,\"#9c179e\"],[0.4444444444444444,\"#bd3786\"],[0.5555555555555556,\"#d8576b\"],[0.6666666666666666,\"#ed7953\"],[0.7777777777777778,\"#fb9f3a\"],[0.8888888888888888,\"#fdca26\"],[1.0,\"#f0f921\"]]}],\"mesh3d\":[{\"type\":\"mesh3d\",\"colorbar\":{\"outlinewidth\":0,\"ticks\":\"\"}}],\"scatter\":[{\"fillpattern\":{\"fillmode\":\"overlay\",\"size\":10,\"solidity\":0.2},\"type\":\"scatter\"}],\"parcoords\":[{\"type\":\"parcoords\",\"line\":{\"colorbar\":{\"outlinewidth\":0,\"ticks\":\"\"}}}],\"scatterpolargl\":[{\"type\":\"scatterpolargl\",\"marker\":{\"colorbar\":{\"outlinewidth\":0,\"ticks\":\"\"}}}],\"bar\":[{\"error_x\":{\"color\":\"#2a3f5f\"},\"error_y\":{\"color\":\"#2a3f5f\"},\"marker\":{\"line\":{\"color\":\"#E5ECF6\",\"width\":0.5},\"pattern\":{\"fillmode\":\"overlay\",\"size\":10,\"solidity\":0.2}},\"type\":\"bar\"}],\"scattergeo\":[{\"type\":\"scattergeo\",\"marker\":{\"colorbar\":{\"outlinewidth\":0,\"ticks\":\"\"}}}],\"scatterpolar\":[{\"type\":\"scatterpolar\",\"marker\":{\"colorbar\":{\"outlinewidth\":0,\"ticks\":\"\"}}}],\"histogram\":[{\"marker\":{\"pattern\":{\"fillmode\":\"overlay\",\"size\":10,\"solidity\":0.2}},\"type\":\"histogram\"}],\"scattergl\":[{\"type\":\"scattergl\",\"marker\":{\"colorbar\":{\"outlinewidth\":0,\"ticks\":\"\"}}}],\"scatter3d\":[{\"type\":\"scatter3d\",\"line\":{\"colorbar\":{\"outlinewidth\":0,\"ticks\":\"\"}},\"marker\":{\"colorbar\":{\"outlinewidth\":0,\"ticks\":\"\"}}}],\"scattermapbox\":[{\"type\":\"scattermapbox\",\"marker\":{\"colorbar\":{\"outlinewidth\":0,\"ticks\":\"\"}}}],\"scatterternary\":[{\"type\":\"scatterternary\",\"marker\":{\"colorbar\":{\"outlinewidth\":0,\"ticks\":\"\"}}}],\"scattercarpet\":[{\"type\":\"scattercarpet\",\"marker\":{\"colorbar\":{\"outlinewidth\":0,\"ticks\":\"\"}}}],\"carpet\":[{\"aaxis\":{\"endlinecolor\":\"#2a3f5f\",\"gridcolor\":\"white\",\"linecolor\":\"white\",\"minorgridcolor\":\"white\",\"startlinecolor\":\"#2a3f5f\"},\"baxis\":{\"endlinecolor\":\"#2a3f5f\",\"gridcolor\":\"white\",\"linecolor\":\"white\",\"minorgridcolor\":\"white\",\"startlinecolor\":\"#2a3f5f\"},\"type\":\"carpet\"}],\"table\":[{\"cells\":{\"fill\":{\"color\":\"#EBF0F8\"},\"line\":{\"color\":\"white\"}},\"header\":{\"fill\":{\"color\":\"#C8D4E3\"},\"line\":{\"color\":\"white\"}},\"type\":\"table\"}],\"barpolar\":[{\"marker\":{\"line\":{\"color\":\"#E5ECF6\",\"width\":0.5},\"pattern\":{\"fillmode\":\"overlay\",\"size\":10,\"solidity\":0.2}},\"type\":\"barpolar\"}],\"pie\":[{\"automargin\":true,\"type\":\"pie\"}]},\"layout\":{\"autotypenumbers\":\"strict\",\"colorway\":[\"#636efa\",\"#EF553B\",\"#00cc96\",\"#ab63fa\",\"#FFA15A\",\"#19d3f3\",\"#FF6692\",\"#B6E880\",\"#FF97FF\",\"#FECB52\"],\"font\":{\"color\":\"#2a3f5f\"},\"hovermode\":\"closest\",\"hoverlabel\":{\"align\":\"left\"},\"paper_bgcolor\":\"white\",\"plot_bgcolor\":\"#E5ECF6\",\"polar\":{\"bgcolor\":\"#E5ECF6\",\"angularaxis\":{\"gridcolor\":\"white\",\"linecolor\":\"white\",\"ticks\":\"\"},\"radialaxis\":{\"gridcolor\":\"white\",\"linecolor\":\"white\",\"ticks\":\"\"}},\"ternary\":{\"bgcolor\":\"#E5ECF6\",\"aaxis\":{\"gridcolor\":\"white\",\"linecolor\":\"white\",\"ticks\":\"\"},\"baxis\":{\"gridcolor\":\"white\",\"linecolor\":\"white\",\"ticks\":\"\"},\"caxis\":{\"gridcolor\":\"white\",\"linecolor\":\"white\",\"ticks\":\"\"}},\"coloraxis\":{\"colorbar\":{\"outlinewidth\":0,\"ticks\":\"\"}},\"colorscale\":{\"sequential\":[[0.0,\"#0d0887\"],[0.1111111111111111,\"#46039f\"],[0.2222222222222222,\"#7201a8\"],[0.3333333333333333,\"#9c179e\"],[0.4444444444444444,\"#bd3786\"],[0.5555555555555556,\"#d8576b\"],[0.6666666666666666,\"#ed7953\"],[0.7777777777777778,\"#fb9f3a\"],[0.8888888888888888,\"#fdca26\"],[1.0,\"#f0f921\"]],\"sequentialminus\":[[0.0,\"#0d0887\"],[0.1111111111111111,\"#46039f\"],[0.2222222222222222,\"#7201a8\"],[0.3333333333333333,\"#9c179e\"],[0.4444444444444444,\"#bd3786\"],[0.5555555555555556,\"#d8576b\"],[0.6666666666666666,\"#ed7953\"],[0.7777777777777778,\"#fb9f3a\"],[0.8888888888888888,\"#fdca26\"],[1.0,\"#f0f921\"]],\"diverging\":[[0,\"#8e0152\"],[0.1,\"#c51b7d\"],[0.2,\"#de77ae\"],[0.3,\"#f1b6da\"],[0.4,\"#fde0ef\"],[0.5,\"#f7f7f7\"],[0.6,\"#e6f5d0\"],[0.7,\"#b8e186\"],[0.8,\"#7fbc41\"],[0.9,\"#4d9221\"],[1,\"#276419\"]]},\"xaxis\":{\"gridcolor\":\"white\",\"linecolor\":\"white\",\"ticks\":\"\",\"title\":{\"standoff\":15},\"zerolinecolor\":\"white\",\"automargin\":true,\"zerolinewidth\":2},\"yaxis\":{\"gridcolor\":\"white\",\"linecolor\":\"white\",\"ticks\":\"\",\"title\":{\"standoff\":15},\"zerolinecolor\":\"white\",\"automargin\":true,\"zerolinewidth\":2},\"scene\":{\"xaxis\":{\"backgroundcolor\":\"#E5ECF6\",\"gridcolor\":\"white\",\"linecolor\":\"white\",\"showbackground\":true,\"ticks\":\"\",\"zerolinecolor\":\"white\",\"gridwidth\":2},\"yaxis\":{\"backgroundcolor\":\"#E5ECF6\",\"gridcolor\":\"white\",\"linecolor\":\"white\",\"showbackground\":true,\"ticks\":\"\",\"zerolinecolor\":\"white\",\"gridwidth\":2},\"zaxis\":{\"backgroundcolor\":\"#E5ECF6\",\"gridcolor\":\"white\",\"linecolor\":\"white\",\"showbackground\":true,\"ticks\":\"\",\"zerolinecolor\":\"white\",\"gridwidth\":2}},\"shapedefaults\":{\"line\":{\"color\":\"#2a3f5f\"}},\"annotationdefaults\":{\"arrowcolor\":\"#2a3f5f\",\"arrowhead\":0,\"arrowwidth\":1},\"geo\":{\"bgcolor\":\"white\",\"landcolor\":\"#E5ECF6\",\"subunitcolor\":\"white\",\"showland\":true,\"showlakes\":true,\"lakecolor\":\"white\"},\"title\":{\"x\":0.05},\"mapbox\":{\"style\":\"light\"}}},\"xaxis\":{\"anchor\":\"y\",\"domain\":[0.0,1.0],\"title\":{\"text\":\"Decade\"}},\"yaxis\":{\"anchor\":\"x\",\"domain\":[0.0,1.0],\"title\":{\"text\":\"Box Office Revenue\"}},\"legend\":{\"tracegroupgap\":0},\"title\":{\"text\":\"Box Office Revenue Over Time by Decade\"}},                        {\"responsive\": true}                    ).then(function(){\n",
       "                            \n",
       "var gd = document.getElementById('5cd07299-eed2-42f0-a0b2-29bfdc539b45');\n",
       "var x = new MutationObserver(function (mutations, observer) {{\n",
       "        var display = window.getComputedStyle(gd).display;\n",
       "        if (!display || display === 'none') {{\n",
       "            console.log([gd, 'removed!']);\n",
       "            Plotly.purge(gd);\n",
       "            observer.disconnect();\n",
       "        }}\n",
       "}});\n",
       "\n",
       "// Listen for the removal of the full notebook cells\n",
       "var notebookContainer = gd.closest('#notebook-container');\n",
       "if (notebookContainer) {{\n",
       "    x.observe(notebookContainer, {childList: true});\n",
       "}}\n",
       "\n",
       "// Listen for the clearing of the current output cell\n",
       "var outputEl = gd.closest('.output');\n",
       "if (outputEl) {{\n",
       "    x.observe(outputEl, {childList: true});\n",
       "}}\n",
       "\n",
       "                        })                };                });            </script>        </div>"
      ]
     },
     "metadata": {},
     "output_type": "display_data"
    }
   ],
   "source": [
    "# Convert 'Release date' to datetime if not already\n",
    "df_3['Release date'] = pd.to_datetime(df_3['Release date'])\n",
    "\n",
    "# Group by decade and sum the box office revenue\n",
    "df_box_office_by_decade = df_3.groupby('Decade')['Box office'].sum().reset_index()\n",
    "\n",
    "# Create the Area Chart\n",
    "fig = px.area(df_box_office_by_decade, x='Decade', y='Box office', title='Box Office Revenue Over Time by Decade',\n",
    "              labels={'Decade': 'Decade', 'Box office': 'Box Office Revenue'}, \n",
    "              hover_data={'Decade': False, 'Box office': True})\n",
    "\n",
    "# Show the plot\n",
    "fig.show()"
   ]
  },
  {
   "cell_type": "code",
   "execution_count": 116,
   "id": "08c6e405-2b9f-4c0e-86eb-ba70b47e1a96",
   "metadata": {},
   "outputs": [
    {
     "data": {
      "text/html": [
       "<div>\n",
       "<style scoped>\n",
       "    .dataframe tbody tr th:only-of-type {\n",
       "        vertical-align: middle;\n",
       "    }\n",
       "\n",
       "    .dataframe tbody tr th {\n",
       "        vertical-align: top;\n",
       "    }\n",
       "\n",
       "    .dataframe thead th {\n",
       "        text-align: right;\n",
       "    }\n",
       "</style>\n",
       "<table border=\"1\" class=\"dataframe\">\n",
       "  <thead>\n",
       "    <tr style=\"text-align: right;\">\n",
       "      <th></th>\n",
       "      <th>movie_name</th>\n",
       "      <th>Running time (min)</th>\n",
       "      <th>Release date</th>\n",
       "      <th>Box office</th>\n",
       "      <th>Decade</th>\n",
       "    </tr>\n",
       "  </thead>\n",
       "  <tbody>\n",
       "    <tr>\n",
       "      <th>0</th>\n",
       "      <td>Pinocchio (1940 film)</td>\n",
       "      <td>01:28</td>\n",
       "      <td>1940-02-07</td>\n",
       "      <td>164000000</td>\n",
       "      <td>1940</td>\n",
       "    </tr>\n",
       "  </tbody>\n",
       "</table>\n",
       "</div>"
      ],
      "text/plain": [
       "              movie_name Running time (min) Release date  Box office  Decade\n",
       "0  Pinocchio (1940 film)              01:28   1940-02-07   164000000    1940"
      ]
     },
     "execution_count": 116,
     "metadata": {},
     "output_type": "execute_result"
    }
   ],
   "source": [
    "df_3.head(1)"
   ]
  },
  {
   "cell_type": "markdown",
   "id": "94a14ce4-2472-4890-af17-0f0017628aeb",
   "metadata": {},
   "source": [
    "#### Violin Plot of distribution of box office earnings for each decade"
   ]
  },
  {
   "cell_type": "code",
   "execution_count": 117,
   "id": "75e3821b-9360-4d41-a6e7-34d239c59bf2",
   "metadata": {},
   "outputs": [
    {
     "data": {
      "application/vnd.plotly.v1+json": {
       "config": {
        "plotlyServerURL": "https://plot.ly"
       },
       "data": [
        {
         "alignmentgroup": "True",
         "box": {
          "visible": true
         },
         "hovertemplate": "Decade=%{x}<br>Box office=%{y}<extra></extra>",
         "legendgroup": "",
         "marker": {
          "color": "#636efa"
         },
         "name": "",
         "offsetgroup": "",
         "orientation": "v",
         "points": "all",
         "scalegroup": "True",
         "showlegend": false,
         "type": "violin",
         "x": [
          1940,
          1940,
          1940,
          1940,
          1940,
          1940,
          1940,
          1940,
          1940,
          1940,
          1940,
          1940,
          1940,
          1950,
          1950,
          1950,
          1950,
          1950,
          1950,
          1950,
          1950,
          1950,
          1950,
          1950,
          1950,
          1950,
          1950,
          1950,
          1950,
          1950,
          1950,
          1950,
          1950,
          1950,
          1950,
          1950,
          1950,
          1950,
          1950,
          1950,
          1960,
          1960,
          1960,
          1960,
          1960,
          1960,
          1960,
          1960,
          1960,
          1960,
          1960,
          1960,
          1960,
          1960,
          1960,
          1960,
          1960,
          1960,
          1960,
          1960,
          1960,
          1960,
          1960,
          1960,
          1960,
          1960,
          1960,
          1960,
          1960,
          1960,
          1960,
          1960,
          1960,
          1960,
          1960,
          1960,
          1960,
          1960,
          1960,
          1960,
          1960,
          1960,
          1970,
          1970,
          1970,
          1970,
          1970,
          1970,
          1970,
          1970,
          1970,
          1970,
          1970,
          1970,
          1970,
          1970,
          1970,
          1970,
          1970,
          1970,
          1970,
          1970,
          1970,
          1970,
          1970,
          1970,
          1970,
          1970,
          1970,
          1970,
          1970,
          1970,
          1970,
          1970,
          1970,
          1970,
          1970,
          1970,
          1970,
          1970,
          1970,
          1970,
          1980,
          1980,
          1980,
          1980,
          1980,
          1980,
          1980,
          1980,
          1980,
          1980,
          1980,
          1980,
          1980,
          1980,
          1980,
          1980,
          1980,
          1980,
          1980,
          1980,
          1980,
          1980,
          1980,
          1980,
          1980,
          1980,
          1990,
          1990,
          1990,
          1990,
          1990,
          1990,
          1990,
          1990,
          1990,
          1990,
          1990,
          1990,
          1990,
          1990,
          1990,
          1990,
          1990,
          1990,
          1990,
          1990,
          1990,
          1990,
          1990,
          1990,
          1990,
          1990,
          1990,
          1990,
          1990,
          1990,
          1990,
          1990,
          1990,
          1990,
          1990,
          1990,
          1990,
          1990,
          1990,
          1990,
          1990,
          1990,
          1990,
          1990,
          1990,
          1990,
          1990,
          1990,
          1990,
          1990,
          1990,
          1990,
          1990,
          1990,
          1990,
          1990,
          1990,
          1990,
          1990,
          1990,
          1990,
          1990,
          1990,
          1990,
          1990,
          1990,
          1990,
          1990,
          2000,
          2000,
          2000,
          2000,
          2000,
          2000,
          2000,
          2000,
          2000,
          2000,
          2000,
          2000,
          2000,
          2000,
          2000,
          2000,
          2000,
          2000,
          2000,
          2000,
          2000,
          2000,
          2000,
          2000,
          2000,
          2000,
          2000,
          2000,
          2000,
          2000,
          2000,
          2000,
          2000,
          2000,
          2000,
          2000,
          2000,
          2000,
          2000,
          2000,
          2000,
          2000,
          2000,
          2000,
          2000,
          2000,
          2000,
          2000,
          2000,
          2000,
          2000,
          2000,
          2000,
          2000,
          2000,
          2000,
          2000,
          2000,
          2000,
          2000,
          2000,
          2000,
          2000,
          2000,
          2000,
          2000,
          2000,
          2000,
          2000,
          2000,
          2000,
          2000,
          2000,
          2000,
          2000,
          2000,
          2000,
          2000,
          2000,
          2000,
          2000,
          2000,
          2000,
          2000,
          2000,
          2000,
          2000,
          2000,
          2010,
          2010,
          2010,
          2010,
          2010,
          2010,
          2010,
          2010,
          2010,
          2010,
          2010,
          2010,
          2010,
          2010,
          2010,
          2010,
          2010,
          2010,
          2010,
          2010,
          2010,
          2010,
          2010,
          2010,
          2010,
          2010,
          2010,
          2010,
          2010,
          2010,
          2010,
          2010,
          2010,
          2000,
          2010,
          2010,
          2010,
          2010,
          2010,
          2010,
          2010,
          2020,
          2010,
          2020,
          2020,
          2020,
          2020,
          2020,
          2020,
          2020,
          2020,
          2020,
          2020,
          2020,
          2020,
          2020,
          2020,
          2020,
          2020,
          2020,
          2020,
          2020,
          2020,
          2020,
          2020,
          2020
         ],
         "x0": " ",
         "xaxis": "x",
         "y": [
          164000000,
          76400000,
          960000,
          1300000,
          267399999,
          1000000,
          799000,
          3355000,
          3275000,
          65000000,
          3165000,
          2560000,
          1625000,
          182000000,
          4099999,
          2400000,
          2100000,
          87400000,
          1000000,
          2600000,
          1935761693,
          1750000,
          28200000,
          2150000,
          187000000,
          2100000,
          1600000,
          1935761693,
          1935761693,
          2750000,
          1935761693,
          1750000,
          6250000,
          2000000,
          1800000,
          2500000,
          51600000,
          12300000,
          2600000,
          1700000,
          1935761693,
          3750000,
          1935761693,
          40000000,
          303000000,
          25100000,
          2100000,
          1400000,
          4600000,
          3500000,
          5000000,
          1935761693,
          1935761693,
          21745500,
          22100000,
          2550000,
          1935761693,
          4350000,
          4200000,
          22200000,
          0,
          4000000,
          0,
          103100000,
          1275000,
          4000000,
          28068222,
          6200000,
          22565634,
          16207116,
          3000000,
          1900000,
          4000000,
          378000000,
          1935761693,
          21540050,
          4150000,
          3300000,
          51200000,
          1300000,
          1935761693,
          5500000,
          1935761693,
          18607492,
          4000000,
          191000000,
          1935761693,
          5100000,
          17900000,
          1935761693,
          4610000,
          1935761693,
          1935761693,
          6100000,
          1935761693,
          2000000,
          33000000,
          7000000,
          38200000,
          4000000,
          1935761693,
          6600000,
          20000000,
          36853000,
          5500000,
          1935761693,
          1935761693,
          1935761693,
          21873000,
          10500000,
          36000000,
          1935761693,
          169000000,
          28000000,
          36000000,
          1935761693,
          16300000,
          1935761693,
          1935761693,
          1935761693,
          20931111,
          35800000,
          2900000,
          5000000,
          18000000,
          11000000,
          60000000,
          1935761693,
          14100000,
          63500000,
          1935761693,
          8000000,
          50000000,
          7400000,
          4304286,
          8400000,
          11100000,
          21300000,
          9700000,
          13000000,
          38700000,
          18600000,
          22300000,
          13687027,
          121000000,
          222700000,
          8153677,
          235000000,
          18100000,
          47400000,
          41000000,
          17000000,
          7300000,
          46700000,
          2800000,
          96000000,
          50800000,
          504100000,
          27200000,
          57000000,
          12900000,
          24100000,
          50700000,
          154900000,
          111000000,
          21000000,
          39000000,
          45600000,
          8900000,
          1935761693,
          968400000,
          50200000,
          3300000,
          70000000,
          1935761693,
          17600000,
          40070995,
          8199999,
          37600000,
          346100000,
          24670346,
          13400000,
          17700000,
          23900000,
          34300000,
          32700000,
          37700000,
          1935761693,
          26465920,
          22900000,
          320700000,
          18300000,
          59900000,
          1935761693,
          252700000,
          174400000,
          27800000,
          1935761693,
          15400000,
          1935761693,
          28900000,
          4400000,
          92100000,
          1935761693,
          1935761693,
          1935761693,
          12200000,
          363300000,
          50600000,
          36800000,
          19400000,
          448200000,
          134400000,
          1935761693,
          1935761693,
          511400000,
          96200000,
          1935761693,
          110300000,
          1935761693,
          1935761693,
          136800000,
          183600000,
          44500000,
          1935761693,
          186100000,
          18600000,
          1935761693,
          115000000,
          1935761693,
          1935761693,
          80700000,
          1935761693,
          18000000,
          1935761693,
          19300000,
          1935761693,
          135700000,
          1935761693,
          28700000,
          71400000,
          55500000,
          1935761693,
          1935761693,
          1935761693,
          182300000,
          9600000,
          6500000,
          64500000,
          1465,
          33299999,
          1935761693,
          1100000,
          72200000,
          314402,
          134700000,
          1935761693,
          1935761693,
          347500000,
          9000000,
          1935761693,
          52900000,
          198600000,
          27600000,
          1935761693,
          86400000,
          61700000,
          1935761693,
          1935761693,
          15400000,
          1935761693,
          42900000,
          11000000,
          35,
          120500000,
          87100000,
          102300000,
          1935761693,
          58500000,
          1935761693,
          110800000,
          1935761693,
          1935761693,
          137600000,
          3130137,
          65300000,
          1935761693,
          459200000,
          51500000,
          1935761693,
          149300000,
          275776,
          252900000,
          2000000,
          9200000,
          212900000,
          30400000,
          106400000,
          1935761693,
          109000000,
          55513,
          292800000,
          8600000,
          96800000,
          336400000,
          215300000,
          10872752,
          1935761693,
          400100000,
          1935761693,
          29600000,
          1935761693,
          30900000,
          10700000,
          559800000,
          50100000,
          1935761693,
          165200000,
          1935761693,
          34800000,
          1935761693,
          56000000,
          12200000,
          67500000,
          496500000,
          1935761693,
          1935761693,
          1280000000,
          63900000,
          21300000,
          79430000,
          31200000,
          17100000,
          0,
          1024999999,
          17000000,
          2000000,
          127400000,
          25100000,
          1935761693,
          87,
          7700000,
          491700000,
          1935761693,
          1935761693,
          1935761693,
          1935761693,
          1935761693,
          1935761693,
          1935761693,
          1935761693,
          1935761693,
          1935761693,
          1935761693,
          1935761693,
          1935761693,
          130400000,
          1935761693,
          2196000,
          1935761693,
          1935761693,
          1935761693,
          1935761693,
          1935761693,
          1935761693,
          1935761693,
          1935761693,
          1935761693,
          1935761693,
          1935761693
         ],
         "y0": " ",
         "yaxis": "y"
        }
       ],
       "layout": {
        "autosize": true,
        "legend": {
         "tracegroupgap": 0
        },
        "margin": {
         "t": 60
        },
        "template": {
         "data": {
          "bar": [
           {
            "error_x": {
             "color": "#2a3f5f"
            },
            "error_y": {
             "color": "#2a3f5f"
            },
            "marker": {
             "line": {
              "color": "#E5ECF6",
              "width": 0.5
             },
             "pattern": {
              "fillmode": "overlay",
              "size": 10,
              "solidity": 0.2
             }
            },
            "type": "bar"
           }
          ],
          "barpolar": [
           {
            "marker": {
             "line": {
              "color": "#E5ECF6",
              "width": 0.5
             },
             "pattern": {
              "fillmode": "overlay",
              "size": 10,
              "solidity": 0.2
             }
            },
            "type": "barpolar"
           }
          ],
          "carpet": [
           {
            "aaxis": {
             "endlinecolor": "#2a3f5f",
             "gridcolor": "white",
             "linecolor": "white",
             "minorgridcolor": "white",
             "startlinecolor": "#2a3f5f"
            },
            "baxis": {
             "endlinecolor": "#2a3f5f",
             "gridcolor": "white",
             "linecolor": "white",
             "minorgridcolor": "white",
             "startlinecolor": "#2a3f5f"
            },
            "type": "carpet"
           }
          ],
          "choropleth": [
           {
            "colorbar": {
             "outlinewidth": 0,
             "ticks": ""
            },
            "type": "choropleth"
           }
          ],
          "contour": [
           {
            "colorbar": {
             "outlinewidth": 0,
             "ticks": ""
            },
            "colorscale": [
             [
              0,
              "#0d0887"
             ],
             [
              0.1111111111111111,
              "#46039f"
             ],
             [
              0.2222222222222222,
              "#7201a8"
             ],
             [
              0.3333333333333333,
              "#9c179e"
             ],
             [
              0.4444444444444444,
              "#bd3786"
             ],
             [
              0.5555555555555556,
              "#d8576b"
             ],
             [
              0.6666666666666666,
              "#ed7953"
             ],
             [
              0.7777777777777778,
              "#fb9f3a"
             ],
             [
              0.8888888888888888,
              "#fdca26"
             ],
             [
              1,
              "#f0f921"
             ]
            ],
            "type": "contour"
           }
          ],
          "contourcarpet": [
           {
            "colorbar": {
             "outlinewidth": 0,
             "ticks": ""
            },
            "type": "contourcarpet"
           }
          ],
          "heatmap": [
           {
            "colorbar": {
             "outlinewidth": 0,
             "ticks": ""
            },
            "colorscale": [
             [
              0,
              "#0d0887"
             ],
             [
              0.1111111111111111,
              "#46039f"
             ],
             [
              0.2222222222222222,
              "#7201a8"
             ],
             [
              0.3333333333333333,
              "#9c179e"
             ],
             [
              0.4444444444444444,
              "#bd3786"
             ],
             [
              0.5555555555555556,
              "#d8576b"
             ],
             [
              0.6666666666666666,
              "#ed7953"
             ],
             [
              0.7777777777777778,
              "#fb9f3a"
             ],
             [
              0.8888888888888888,
              "#fdca26"
             ],
             [
              1,
              "#f0f921"
             ]
            ],
            "type": "heatmap"
           }
          ],
          "heatmapgl": [
           {
            "colorbar": {
             "outlinewidth": 0,
             "ticks": ""
            },
            "colorscale": [
             [
              0,
              "#0d0887"
             ],
             [
              0.1111111111111111,
              "#46039f"
             ],
             [
              0.2222222222222222,
              "#7201a8"
             ],
             [
              0.3333333333333333,
              "#9c179e"
             ],
             [
              0.4444444444444444,
              "#bd3786"
             ],
             [
              0.5555555555555556,
              "#d8576b"
             ],
             [
              0.6666666666666666,
              "#ed7953"
             ],
             [
              0.7777777777777778,
              "#fb9f3a"
             ],
             [
              0.8888888888888888,
              "#fdca26"
             ],
             [
              1,
              "#f0f921"
             ]
            ],
            "type": "heatmapgl"
           }
          ],
          "histogram": [
           {
            "marker": {
             "pattern": {
              "fillmode": "overlay",
              "size": 10,
              "solidity": 0.2
             }
            },
            "type": "histogram"
           }
          ],
          "histogram2d": [
           {
            "colorbar": {
             "outlinewidth": 0,
             "ticks": ""
            },
            "colorscale": [
             [
              0,
              "#0d0887"
             ],
             [
              0.1111111111111111,
              "#46039f"
             ],
             [
              0.2222222222222222,
              "#7201a8"
             ],
             [
              0.3333333333333333,
              "#9c179e"
             ],
             [
              0.4444444444444444,
              "#bd3786"
             ],
             [
              0.5555555555555556,
              "#d8576b"
             ],
             [
              0.6666666666666666,
              "#ed7953"
             ],
             [
              0.7777777777777778,
              "#fb9f3a"
             ],
             [
              0.8888888888888888,
              "#fdca26"
             ],
             [
              1,
              "#f0f921"
             ]
            ],
            "type": "histogram2d"
           }
          ],
          "histogram2dcontour": [
           {
            "colorbar": {
             "outlinewidth": 0,
             "ticks": ""
            },
            "colorscale": [
             [
              0,
              "#0d0887"
             ],
             [
              0.1111111111111111,
              "#46039f"
             ],
             [
              0.2222222222222222,
              "#7201a8"
             ],
             [
              0.3333333333333333,
              "#9c179e"
             ],
             [
              0.4444444444444444,
              "#bd3786"
             ],
             [
              0.5555555555555556,
              "#d8576b"
             ],
             [
              0.6666666666666666,
              "#ed7953"
             ],
             [
              0.7777777777777778,
              "#fb9f3a"
             ],
             [
              0.8888888888888888,
              "#fdca26"
             ],
             [
              1,
              "#f0f921"
             ]
            ],
            "type": "histogram2dcontour"
           }
          ],
          "mesh3d": [
           {
            "colorbar": {
             "outlinewidth": 0,
             "ticks": ""
            },
            "type": "mesh3d"
           }
          ],
          "parcoords": [
           {
            "line": {
             "colorbar": {
              "outlinewidth": 0,
              "ticks": ""
             }
            },
            "type": "parcoords"
           }
          ],
          "pie": [
           {
            "automargin": true,
            "type": "pie"
           }
          ],
          "scatter": [
           {
            "fillpattern": {
             "fillmode": "overlay",
             "size": 10,
             "solidity": 0.2
            },
            "type": "scatter"
           }
          ],
          "scatter3d": [
           {
            "line": {
             "colorbar": {
              "outlinewidth": 0,
              "ticks": ""
             }
            },
            "marker": {
             "colorbar": {
              "outlinewidth": 0,
              "ticks": ""
             }
            },
            "type": "scatter3d"
           }
          ],
          "scattercarpet": [
           {
            "marker": {
             "colorbar": {
              "outlinewidth": 0,
              "ticks": ""
             }
            },
            "type": "scattercarpet"
           }
          ],
          "scattergeo": [
           {
            "marker": {
             "colorbar": {
              "outlinewidth": 0,
              "ticks": ""
             }
            },
            "type": "scattergeo"
           }
          ],
          "scattergl": [
           {
            "marker": {
             "colorbar": {
              "outlinewidth": 0,
              "ticks": ""
             }
            },
            "type": "scattergl"
           }
          ],
          "scattermapbox": [
           {
            "marker": {
             "colorbar": {
              "outlinewidth": 0,
              "ticks": ""
             }
            },
            "type": "scattermapbox"
           }
          ],
          "scatterpolar": [
           {
            "marker": {
             "colorbar": {
              "outlinewidth": 0,
              "ticks": ""
             }
            },
            "type": "scatterpolar"
           }
          ],
          "scatterpolargl": [
           {
            "marker": {
             "colorbar": {
              "outlinewidth": 0,
              "ticks": ""
             }
            },
            "type": "scatterpolargl"
           }
          ],
          "scatterternary": [
           {
            "marker": {
             "colorbar": {
              "outlinewidth": 0,
              "ticks": ""
             }
            },
            "type": "scatterternary"
           }
          ],
          "surface": [
           {
            "colorbar": {
             "outlinewidth": 0,
             "ticks": ""
            },
            "colorscale": [
             [
              0,
              "#0d0887"
             ],
             [
              0.1111111111111111,
              "#46039f"
             ],
             [
              0.2222222222222222,
              "#7201a8"
             ],
             [
              0.3333333333333333,
              "#9c179e"
             ],
             [
              0.4444444444444444,
              "#bd3786"
             ],
             [
              0.5555555555555556,
              "#d8576b"
             ],
             [
              0.6666666666666666,
              "#ed7953"
             ],
             [
              0.7777777777777778,
              "#fb9f3a"
             ],
             [
              0.8888888888888888,
              "#fdca26"
             ],
             [
              1,
              "#f0f921"
             ]
            ],
            "type": "surface"
           }
          ],
          "table": [
           {
            "cells": {
             "fill": {
              "color": "#EBF0F8"
             },
             "line": {
              "color": "white"
             }
            },
            "header": {
             "fill": {
              "color": "#C8D4E3"
             },
             "line": {
              "color": "white"
             }
            },
            "type": "table"
           }
          ]
         },
         "layout": {
          "annotationdefaults": {
           "arrowcolor": "#2a3f5f",
           "arrowhead": 0,
           "arrowwidth": 1
          },
          "autotypenumbers": "strict",
          "coloraxis": {
           "colorbar": {
            "outlinewidth": 0,
            "ticks": ""
           }
          },
          "colorscale": {
           "diverging": [
            [
             0,
             "#8e0152"
            ],
            [
             0.1,
             "#c51b7d"
            ],
            [
             0.2,
             "#de77ae"
            ],
            [
             0.3,
             "#f1b6da"
            ],
            [
             0.4,
             "#fde0ef"
            ],
            [
             0.5,
             "#f7f7f7"
            ],
            [
             0.6,
             "#e6f5d0"
            ],
            [
             0.7,
             "#b8e186"
            ],
            [
             0.8,
             "#7fbc41"
            ],
            [
             0.9,
             "#4d9221"
            ],
            [
             1,
             "#276419"
            ]
           ],
           "sequential": [
            [
             0,
             "#0d0887"
            ],
            [
             0.1111111111111111,
             "#46039f"
            ],
            [
             0.2222222222222222,
             "#7201a8"
            ],
            [
             0.3333333333333333,
             "#9c179e"
            ],
            [
             0.4444444444444444,
             "#bd3786"
            ],
            [
             0.5555555555555556,
             "#d8576b"
            ],
            [
             0.6666666666666666,
             "#ed7953"
            ],
            [
             0.7777777777777778,
             "#fb9f3a"
            ],
            [
             0.8888888888888888,
             "#fdca26"
            ],
            [
             1,
             "#f0f921"
            ]
           ],
           "sequentialminus": [
            [
             0,
             "#0d0887"
            ],
            [
             0.1111111111111111,
             "#46039f"
            ],
            [
             0.2222222222222222,
             "#7201a8"
            ],
            [
             0.3333333333333333,
             "#9c179e"
            ],
            [
             0.4444444444444444,
             "#bd3786"
            ],
            [
             0.5555555555555556,
             "#d8576b"
            ],
            [
             0.6666666666666666,
             "#ed7953"
            ],
            [
             0.7777777777777778,
             "#fb9f3a"
            ],
            [
             0.8888888888888888,
             "#fdca26"
            ],
            [
             1,
             "#f0f921"
            ]
           ]
          },
          "colorway": [
           "#636efa",
           "#EF553B",
           "#00cc96",
           "#ab63fa",
           "#FFA15A",
           "#19d3f3",
           "#FF6692",
           "#B6E880",
           "#FF97FF",
           "#FECB52"
          ],
          "font": {
           "color": "#2a3f5f"
          },
          "geo": {
           "bgcolor": "white",
           "lakecolor": "white",
           "landcolor": "#E5ECF6",
           "showlakes": true,
           "showland": true,
           "subunitcolor": "white"
          },
          "hoverlabel": {
           "align": "left"
          },
          "hovermode": "closest",
          "mapbox": {
           "style": "light"
          },
          "paper_bgcolor": "white",
          "plot_bgcolor": "#E5ECF6",
          "polar": {
           "angularaxis": {
            "gridcolor": "white",
            "linecolor": "white",
            "ticks": ""
           },
           "bgcolor": "#E5ECF6",
           "radialaxis": {
            "gridcolor": "white",
            "linecolor": "white",
            "ticks": ""
           }
          },
          "scene": {
           "xaxis": {
            "backgroundcolor": "#E5ECF6",
            "gridcolor": "white",
            "gridwidth": 2,
            "linecolor": "white",
            "showbackground": true,
            "ticks": "",
            "zerolinecolor": "white"
           },
           "yaxis": {
            "backgroundcolor": "#E5ECF6",
            "gridcolor": "white",
            "gridwidth": 2,
            "linecolor": "white",
            "showbackground": true,
            "ticks": "",
            "zerolinecolor": "white"
           },
           "zaxis": {
            "backgroundcolor": "#E5ECF6",
            "gridcolor": "white",
            "gridwidth": 2,
            "linecolor": "white",
            "showbackground": true,
            "ticks": "",
            "zerolinecolor": "white"
           }
          },
          "shapedefaults": {
           "line": {
            "color": "#2a3f5f"
           }
          },
          "ternary": {
           "aaxis": {
            "gridcolor": "white",
            "linecolor": "white",
            "ticks": ""
           },
           "baxis": {
            "gridcolor": "white",
            "linecolor": "white",
            "ticks": ""
           },
           "bgcolor": "#E5ECF6",
           "caxis": {
            "gridcolor": "white",
            "linecolor": "white",
            "ticks": ""
           }
          },
          "title": {
           "x": 0.05
          },
          "xaxis": {
           "automargin": true,
           "gridcolor": "white",
           "linecolor": "white",
           "ticks": "",
           "title": {
            "standoff": 15
           },
           "zerolinecolor": "white",
           "zerolinewidth": 2
          },
          "yaxis": {
           "automargin": true,
           "gridcolor": "white",
           "linecolor": "white",
           "ticks": "",
           "title": {
            "standoff": 15
           },
           "zerolinecolor": "white",
           "zerolinewidth": 2
          }
         }
        },
        "title": {
         "text": "Distribution of Box Office Earnings by Decade"
        },
        "violinmode": "group",
        "xaxis": {
         "anchor": "y",
         "autorange": true,
         "domain": [
          0,
          1
         ],
         "range": [
          1934.4757281553398,
          2025
         ],
         "title": {
          "text": "Decade"
         },
         "type": "linear"
        },
        "yaxis": {
         "anchor": "x",
         "autorange": true,
         "domain": [
          0,
          1
         ],
         "range": [
          -1157149704.4858072,
          3094911397.4858074
         ],
         "title": {
          "text": "Box Office"
         },
         "type": "linear"
        }
       }
      },
      "image/png": "[encoded data removed]",
      "text/html": [
       "<div>                            <div id=\"0f8a9d67-0a54-4678-8753-adee05bfca0f\" class=\"plotly-graph-div\" style=\"height:525px; width:100%;\"></div>            <script type=\"text/javascript\">                require([\"plotly\"], function(Plotly) {                    window.PLOTLYENV=window.PLOTLYENV || {};                                    if (document.getElementById(\"0f8a9d67-0a54-4678-8753-adee05bfca0f\")) {                    Plotly.newPlot(                        \"0f8a9d67-0a54-4678-8753-adee05bfca0f\",                        [{\"alignmentgroup\":\"True\",\"box\":{\"visible\":true},\"hovertemplate\":\"Decade=%{x}\\u003cbr\\u003eBox office=%{y}\\u003cextra\\u003e\\u003c\\u002fextra\\u003e\",\"legendgroup\":\"\",\"marker\":{\"color\":\"#636efa\"},\"name\":\"\",\"offsetgroup\":\"\",\"orientation\":\"v\",\"points\":\"all\",\"scalegroup\":\"True\",\"showlegend\":false,\"x\":[1940,1940,1940,1940,1940,1940,1940,1940,1940,1940,1940,1940,1940,1950,1950,1950,1950,1950,1950,1950,1950,1950,1950,1950,1950,1950,1950,1950,1950,1950,1950,1950,1950,1950,1950,1950,1950,1950,1950,1950,1960,1960,1960,1960,1960,1960,1960,1960,1960,1960,1960,1960,1960,1960,1960,1960,1960,1960,1960,1960,1960,1960,1960,1960,1960,1960,1960,1960,1960,1960,1960,1960,1960,1960,1960,1960,1960,1960,1960,1960,1960,1960,1970,1970,1970,1970,1970,1970,1970,1970,1970,1970,1970,1970,1970,1970,1970,1970,1970,1970,1970,1970,1970,1970,1970,1970,1970,1970,1970,1970,1970,1970,1970,1970,1970,1970,1970,1970,1970,1970,1970,1970,1980,1980,1980,1980,1980,1980,1980,1980,1980,1980,1980,1980,1980,1980,1980,1980,1980,1980,1980,1980,1980,1980,1980,1980,1980,1980,1990,1990,1990,1990,1990,1990,1990,1990,1990,1990,1990,1990,1990,1990,1990,1990,1990,1990,1990,1990,1990,1990,1990,1990,1990,1990,1990,1990,1990,1990,1990,1990,1990,1990,1990,1990,1990,1990,1990,1990,1990,1990,1990,1990,1990,1990,1990,1990,1990,1990,1990,1990,1990,1990,1990,1990,1990,1990,1990,1990,1990,1990,1990,1990,1990,1990,1990,1990,2000,2000,2000,2000,2000,2000,2000,2000,2000,2000,2000,2000,2000,2000,2000,2000,2000,2000,2000,2000,2000,2000,2000,2000,2000,2000,2000,2000,2000,2000,2000,2000,2000,2000,2000,2000,2000,2000,2000,2000,2000,2000,2000,2000,2000,2000,2000,2000,2000,2000,2000,2000,2000,2000,2000,2000,2000,2000,2000,2000,2000,2000,2000,2000,2000,2000,2000,2000,2000,2000,2000,2000,2000,2000,2000,2000,2000,2000,2000,2000,2000,2000,2000,2000,2000,2000,2000,2000,2010,2010,2010,2010,2010,2010,2010,2010,2010,2010,2010,2010,2010,2010,2010,2010,2010,2010,2010,2010,2010,2010,2010,2010,2010,2010,2010,2010,2010,2010,2010,2010,2010,2000,2010,2010,2010,2010,2010,2010,2010,2020,2010,2020,2020,2020,2020,2020,2020,2020,2020,2020,2020,2020,2020,2020,2020,2020,2020,2020,2020,2020,2020,2020,2020,2020],\"x0\":\" \",\"xaxis\":\"x\",\"y\":[164000000.0,76400000.0,960000.0,1300000.0,267399999.0,1000000.0,799000.0,3355000.0,3275000.0,65000000.0,3165000.0,2560000.0,1625000.0,182000000.0,4099999.0,2400000.0,2100000.0,87400000.0,1000000.0,2600000.0,1935761693.0,1750000.0,28200000.0,2150000.0,187000000.0,2100000.0,1600000.0,1935761693.0,1935761693.0,2750000.0,1935761693.0,1750000.0,6250000.0,2000000.0,1800000.0,2500000.0,51600000.0,12300000.0,2600000.0,1700000.0,1935761693.0,3750000.0,1935761693.0,40000000.0,303000000.0,25100000.0,2100000.0,1400000.0,4600000.0,3500000.0,5000000.0,1935761693.0,1935761693.0,21745500.0,22100000.0,2550000.0,1935761693.0,4350000.0,4200000.0,22200000.0,0.0,4000000.0,0.0,103100000.0,1275000.0,4000000.0,28068222.0,6200000.0,22565634.0,16207116.0,3000000.0,1900000.0,4000000.0,378000000.0,1935761693.0,21540050.0,4150000.0,3300000.0,51200000.0,1300000.0,1935761693.0,5500000.0,1935761693.0,18607492.0,4000000.0,191000000.0,1935761693.0,5100000.0,17900000.0,1935761693.0,4610000.0,1935761693.0,1935761693.0,6100000.0,1935761693.0,2000000.0,33000000.0,7000000.0,38200000.0,4000000.0,1935761693.0,6600000.0,20000000.0,36853000.0,5500000.0,1935761693.0,1935761693.0,1935761693.0,21873000.0,10500000.0,36000000.0,1935761693.0,169000000.0,28000000.0,36000000.0,1935761693.0,16300000.0,1935761693.0,1935761693.0,1935761693.0,20931111.0,35800000.0,2900000.0,5000000.0,18000000.0,11000000.0,60000000.0,1935761693.0,14100000.0,63500000.0,1935761693.0,8000000.0,50000000.0,7400000.0,4304286.0,8400000.0,11100000.0,21300000.0,9700000.0,13000000.0,38700000.0,18600000.0,22300000.0,13687027.0,121000000.0,222700000.0,8153677.0,235000000.0,18100000.0,47400000.0,41000000.0,17000000.0,7300000.0,46700000.0,2800000.0,96000000.0,50800000.0,504100000.0,27200000.0,57000000.0,12900000.0,24100000.0,50700000.0,154900000.0,111000000.0,21000000.0,39000000.0,45600000.0,8900000.0,1935761693.0,968400000.0,50200000.0,3300000.0,70000000.0,1935761693.0,17600000.0,40070995.0,8199999.0,37600000.0,346100000.0,24670346.0,13400000.0,17700000.0,23900000.0,34300000.0,32700000.0,37700000.0,1935761693.0,26465920.0,22900000.0,320700000.0,18300000.0,59900000.0,1935761693.0,252700000.0,174400000.0,27800000.0,1935761693.0,15400000.0,1935761693.0,28900000.0,4400000.0,92100000.0,1935761693.0,1935761693.0,1935761693.0,12200000.0,363300000.0,50600000.0,36800000.0,19400000.0,448200000.0,134400000.0,1935761693.0,1935761693.0,511400000.0,96200000.0,1935761693.0,110300000.0,1935761693.0,1935761693.0,136800000.0,183600000.0,44500000.0,1935761693.0,186100000.0,18600000.0,1935761693.0,115000000.0,1935761693.0,1935761693.0,80700000.0,1935761693.0,18000000.0,1935761693.0,19300000.0,1935761693.0,135700000.0,1935761693.0,28700000.0,71400000.0,55500000.0,1935761693.0,1935761693.0,1935761693.0,182300000.0,9600000.0,6500000.0,64500000.0,1465.0,33299999.0,1935761693.0,1100000.0,72200000.0,314402.0,134700000.0,1935761693.0,1935761693.0,347500000.0,9000000.0,1935761693.0,52900000.0,198600000.0,27600000.0,1935761693.0,86400000.0,61700000.0,1935761693.0,1935761693.0,15400000.0,1935761693.0,42900000.0,11000000.0,35.0,120500000.0,87100000.0,102300000.0,1935761693.0,58500000.0,1935761693.0,110800000.0,1935761693.0,1935761693.0,137600000.0,3130137.0,65300000.0,1935761693.0,459200000.0,51500000.0,1935761693.0,149300000.0,275776.0,252900000.0,2000000.0,9200000.0,212900000.0,30400000.0,106400000.0,1935761693.0,109000000.0,55513.0,292800000.0,8600000.0,96800000.0,336400000.0,215300000.0,10872752.0,1935761693.0,400100000.0,1935761693.0,29600000.0,1935761693.0,30900000.0,10700000.0,559800000.0,50100000.0,1935761693.0,165200000.0,1935761693.0,34800000.0,1935761693.0,56000000.0,12200000.0,67500000.0,496500000.0,1935761693.0,1935761693.0,1280000000.0,63900000.0,21300000.0,79430000.0,31200000.0,17100000.0,0.0,1024999999.0,17000000.0,2000000.0,127400000.0,25100000.0,1935761693.0,87.0,7700000.0,491700000.0,1935761693.0,1935761693.0,1935761693.0,1935761693.0,1935761693.0,1935761693.0,1935761693.0,1935761693.0,1935761693.0,1935761693.0,1935761693.0,1935761693.0,1935761693.0,130400000.0,1935761693.0,2196000.0,1935761693.0,1935761693.0,1935761693.0,1935761693.0,1935761693.0,1935761693.0,1935761693.0,1935761693.0,1935761693.0,1935761693.0,1935761693.0],\"y0\":\" \",\"yaxis\":\"y\",\"type\":\"violin\"}],                        {\"template\":{\"data\":{\"histogram2dcontour\":[{\"type\":\"histogram2dcontour\",\"colorbar\":{\"outlinewidth\":0,\"ticks\":\"\"},\"colorscale\":[[0.0,\"#0d0887\"],[0.1111111111111111,\"#46039f\"],[0.2222222222222222,\"#7201a8\"],[0.3333333333333333,\"#9c179e\"],[0.4444444444444444,\"#bd3786\"],[0.5555555555555556,\"#d8576b\"],[0.6666666666666666,\"#ed7953\"],[0.7777777777777778,\"#fb9f3a\"],[0.8888888888888888,\"#fdca26\"],[1.0,\"#f0f921\"]]}],\"choropleth\":[{\"type\":\"choropleth\",\"colorbar\":{\"outlinewidth\":0,\"ticks\":\"\"}}],\"histogram2d\":[{\"type\":\"histogram2d\",\"colorbar\":{\"outlinewidth\":0,\"ticks\":\"\"},\"colorscale\":[[0.0,\"#0d0887\"],[0.1111111111111111,\"#46039f\"],[0.2222222222222222,\"#7201a8\"],[0.3333333333333333,\"#9c179e\"],[0.4444444444444444,\"#bd3786\"],[0.5555555555555556,\"#d8576b\"],[0.6666666666666666,\"#ed7953\"],[0.7777777777777778,\"#fb9f3a\"],[0.8888888888888888,\"#fdca26\"],[1.0,\"#f0f921\"]]}],\"heatmap\":[{\"type\":\"heatmap\",\"colorbar\":{\"outlinewidth\":0,\"ticks\":\"\"},\"colorscale\":[[0.0,\"#0d0887\"],[0.1111111111111111,\"#46039f\"],[0.2222222222222222,\"#7201a8\"],[0.3333333333333333,\"#9c179e\"],[0.4444444444444444,\"#bd3786\"],[0.5555555555555556,\"#d8576b\"],[0.6666666666666666,\"#ed7953\"],[0.7777777777777778,\"#fb9f3a\"],[0.8888888888888888,\"#fdca26\"],[1.0,\"#f0f921\"]]}],\"heatmapgl\":[{\"type\":\"heatmapgl\",\"colorbar\":{\"outlinewidth\":0,\"ticks\":\"\"},\"colorscale\":[[0.0,\"#0d0887\"],[0.1111111111111111,\"#46039f\"],[0.2222222222222222,\"#7201a8\"],[0.3333333333333333,\"#9c179e\"],[0.4444444444444444,\"#bd3786\"],[0.5555555555555556,\"#d8576b\"],[0.6666666666666666,\"#ed7953\"],[0.7777777777777778,\"#fb9f3a\"],[0.8888888888888888,\"#fdca26\"],[1.0,\"#f0f921\"]]}],\"contourcarpet\":[{\"type\":\"contourcarpet\",\"colorbar\":{\"outlinewidth\":0,\"ticks\":\"\"}}],\"contour\":[{\"type\":\"contour\",\"colorbar\":{\"outlinewidth\":0,\"ticks\":\"\"},\"colorscale\":[[0.0,\"#0d0887\"],[0.1111111111111111,\"#46039f\"],[0.2222222222222222,\"#7201a8\"],[0.3333333333333333,\"#9c179e\"],[0.4444444444444444,\"#bd3786\"],[0.5555555555555556,\"#d8576b\"],[0.6666666666666666,\"#ed7953\"],[0.7777777777777778,\"#fb9f3a\"],[0.8888888888888888,\"#fdca26\"],[1.0,\"#f0f921\"]]}],\"surface\":[{\"type\":\"surface\",\"colorbar\":{\"outlinewidth\":0,\"ticks\":\"\"},\"colorscale\":[[0.0,\"#0d0887\"],[0.1111111111111111,\"#46039f\"],[0.2222222222222222,\"#7201a8\"],[0.3333333333333333,\"#9c179e\"],[0.4444444444444444,\"#bd3786\"],[0.5555555555555556,\"#d8576b\"],[0.6666666666666666,\"#ed7953\"],[0.7777777777777778,\"#fb9f3a\"],[0.8888888888888888,\"#fdca26\"],[1.0,\"#f0f921\"]]}],\"mesh3d\":[{\"type\":\"mesh3d\",\"colorbar\":{\"outlinewidth\":0,\"ticks\":\"\"}}],\"scatter\":[{\"fillpattern\":{\"fillmode\":\"overlay\",\"size\":10,\"solidity\":0.2},\"type\":\"scatter\"}],\"parcoords\":[{\"type\":\"parcoords\",\"line\":{\"colorbar\":{\"outlinewidth\":0,\"ticks\":\"\"}}}],\"scatterpolargl\":[{\"type\":\"scatterpolargl\",\"marker\":{\"colorbar\":{\"outlinewidth\":0,\"ticks\":\"\"}}}],\"bar\":[{\"error_x\":{\"color\":\"#2a3f5f\"},\"error_y\":{\"color\":\"#2a3f5f\"},\"marker\":{\"line\":{\"color\":\"#E5ECF6\",\"width\":0.5},\"pattern\":{\"fillmode\":\"overlay\",\"size\":10,\"solidity\":0.2}},\"type\":\"bar\"}],\"scattergeo\":[{\"type\":\"scattergeo\",\"marker\":{\"colorbar\":{\"outlinewidth\":0,\"ticks\":\"\"}}}],\"scatterpolar\":[{\"type\":\"scatterpolar\",\"marker\":{\"colorbar\":{\"outlinewidth\":0,\"ticks\":\"\"}}}],\"histogram\":[{\"marker\":{\"pattern\":{\"fillmode\":\"overlay\",\"size\":10,\"solidity\":0.2}},\"type\":\"histogram\"}],\"scattergl\":[{\"type\":\"scattergl\",\"marker\":{\"colorbar\":{\"outlinewidth\":0,\"ticks\":\"\"}}}],\"scatter3d\":[{\"type\":\"scatter3d\",\"line\":{\"colorbar\":{\"outlinewidth\":0,\"ticks\":\"\"}},\"marker\":{\"colorbar\":{\"outlinewidth\":0,\"ticks\":\"\"}}}],\"scattermapbox\":[{\"type\":\"scattermapbox\",\"marker\":{\"colorbar\":{\"outlinewidth\":0,\"ticks\":\"\"}}}],\"scatterternary\":[{\"type\":\"scatterternary\",\"marker\":{\"colorbar\":{\"outlinewidth\":0,\"ticks\":\"\"}}}],\"scattercarpet\":[{\"type\":\"scattercarpet\",\"marker\":{\"colorbar\":{\"outlinewidth\":0,\"ticks\":\"\"}}}],\"carpet\":[{\"aaxis\":{\"endlinecolor\":\"#2a3f5f\",\"gridcolor\":\"white\",\"linecolor\":\"white\",\"minorgridcolor\":\"white\",\"startlinecolor\":\"#2a3f5f\"},\"baxis\":{\"endlinecolor\":\"#2a3f5f\",\"gridcolor\":\"white\",\"linecolor\":\"white\",\"minorgridcolor\":\"white\",\"startlinecolor\":\"#2a3f5f\"},\"type\":\"carpet\"}],\"table\":[{\"cells\":{\"fill\":{\"color\":\"#EBF0F8\"},\"line\":{\"color\":\"white\"}},\"header\":{\"fill\":{\"color\":\"#C8D4E3\"},\"line\":{\"color\":\"white\"}},\"type\":\"table\"}],\"barpolar\":[{\"marker\":{\"line\":{\"color\":\"#E5ECF6\",\"width\":0.5},\"pattern\":{\"fillmode\":\"overlay\",\"size\":10,\"solidity\":0.2}},\"type\":\"barpolar\"}],\"pie\":[{\"automargin\":true,\"type\":\"pie\"}]},\"layout\":{\"autotypenumbers\":\"strict\",\"colorway\":[\"#636efa\",\"#EF553B\",\"#00cc96\",\"#ab63fa\",\"#FFA15A\",\"#19d3f3\",\"#FF6692\",\"#B6E880\",\"#FF97FF\",\"#FECB52\"],\"font\":{\"color\":\"#2a3f5f\"},\"hovermode\":\"closest\",\"hoverlabel\":{\"align\":\"left\"},\"paper_bgcolor\":\"white\",\"plot_bgcolor\":\"#E5ECF6\",\"polar\":{\"bgcolor\":\"#E5ECF6\",\"angularaxis\":{\"gridcolor\":\"white\",\"linecolor\":\"white\",\"ticks\":\"\"},\"radialaxis\":{\"gridcolor\":\"white\",\"linecolor\":\"white\",\"ticks\":\"\"}},\"ternary\":{\"bgcolor\":\"#E5ECF6\",\"aaxis\":{\"gridcolor\":\"white\",\"linecolor\":\"white\",\"ticks\":\"\"},\"baxis\":{\"gridcolor\":\"white\",\"linecolor\":\"white\",\"ticks\":\"\"},\"caxis\":{\"gridcolor\":\"white\",\"linecolor\":\"white\",\"ticks\":\"\"}},\"coloraxis\":{\"colorbar\":{\"outlinewidth\":0,\"ticks\":\"\"}},\"colorscale\":{\"sequential\":[[0.0,\"#0d0887\"],[0.1111111111111111,\"#46039f\"],[0.2222222222222222,\"#7201a8\"],[0.3333333333333333,\"#9c179e\"],[0.4444444444444444,\"#bd3786\"],[0.5555555555555556,\"#d8576b\"],[0.6666666666666666,\"#ed7953\"],[0.7777777777777778,\"#fb9f3a\"],[0.8888888888888888,\"#fdca26\"],[1.0,\"#f0f921\"]],\"sequentialminus\":[[0.0,\"#0d0887\"],[0.1111111111111111,\"#46039f\"],[0.2222222222222222,\"#7201a8\"],[0.3333333333333333,\"#9c179e\"],[0.4444444444444444,\"#bd3786\"],[0.5555555555555556,\"#d8576b\"],[0.6666666666666666,\"#ed7953\"],[0.7777777777777778,\"#fb9f3a\"],[0.8888888888888888,\"#fdca26\"],[1.0,\"#f0f921\"]],\"diverging\":[[0,\"#8e0152\"],[0.1,\"#c51b7d\"],[0.2,\"#de77ae\"],[0.3,\"#f1b6da\"],[0.4,\"#fde0ef\"],[0.5,\"#f7f7f7\"],[0.6,\"#e6f5d0\"],[0.7,\"#b8e186\"],[0.8,\"#7fbc41\"],[0.9,\"#4d9221\"],[1,\"#276419\"]]},\"xaxis\":{\"gridcolor\":\"white\",\"linecolor\":\"white\",\"ticks\":\"\",\"title\":{\"standoff\":15},\"zerolinecolor\":\"white\",\"automargin\":true,\"zerolinewidth\":2},\"yaxis\":{\"gridcolor\":\"white\",\"linecolor\":\"white\",\"ticks\":\"\",\"title\":{\"standoff\":15},\"zerolinecolor\":\"white\",\"automargin\":true,\"zerolinewidth\":2},\"scene\":{\"xaxis\":{\"backgroundcolor\":\"#E5ECF6\",\"gridcolor\":\"white\",\"linecolor\":\"white\",\"showbackground\":true,\"ticks\":\"\",\"zerolinecolor\":\"white\",\"gridwidth\":2},\"yaxis\":{\"backgroundcolor\":\"#E5ECF6\",\"gridcolor\":\"white\",\"linecolor\":\"white\",\"showbackground\":true,\"ticks\":\"\",\"zerolinecolor\":\"white\",\"gridwidth\":2},\"zaxis\":{\"backgroundcolor\":\"#E5ECF6\",\"gridcolor\":\"white\",\"linecolor\":\"white\",\"showbackground\":true,\"ticks\":\"\",\"zerolinecolor\":\"white\",\"gridwidth\":2}},\"shapedefaults\":{\"line\":{\"color\":\"#2a3f5f\"}},\"annotationdefaults\":{\"arrowcolor\":\"#2a3f5f\",\"arrowhead\":0,\"arrowwidth\":1},\"geo\":{\"bgcolor\":\"white\",\"landcolor\":\"#E5ECF6\",\"subunitcolor\":\"white\",\"showland\":true,\"showlakes\":true,\"lakecolor\":\"white\"},\"title\":{\"x\":0.05},\"mapbox\":{\"style\":\"light\"}}},\"xaxis\":{\"anchor\":\"y\",\"domain\":[0.0,1.0],\"title\":{\"text\":\"Decade\"}},\"yaxis\":{\"anchor\":\"x\",\"domain\":[0.0,1.0],\"title\":{\"text\":\"Box Office\"}},\"legend\":{\"tracegroupgap\":0},\"margin\":{\"t\":60},\"violinmode\":\"group\",\"title\":{\"text\":\"Distribution of Box Office Earnings by Decade\"}},                        {\"responsive\": true}                    ).then(function(){\n",
       "                            \n",
       "var gd = document.getElementById('0f8a9d67-0a54-4678-8753-adee05bfca0f');\n",
       "var x = new MutationObserver(function (mutations, observer) {{\n",
       "        var display = window.getComputedStyle(gd).display;\n",
       "        if (!display || display === 'none') {{\n",
       "            console.log([gd, 'removed!']);\n",
       "            Plotly.purge(gd);\n",
       "            observer.disconnect();\n",
       "        }}\n",
       "}});\n",
       "\n",
       "// Listen for the removal of the full notebook cells\n",
       "var notebookContainer = gd.closest('#notebook-container');\n",
       "if (notebookContainer) {{\n",
       "    x.observe(notebookContainer, {childList: true});\n",
       "}}\n",
       "\n",
       "// Listen for the clearing of the current output cell\n",
       "var outputEl = gd.closest('.output');\n",
       "if (outputEl) {{\n",
       "    x.observe(outputEl, {childList: true});\n",
       "}}\n",
       "\n",
       "                        })                };                });            </script>        </div>"
      ]
     },
     "metadata": {},
     "output_type": "display_data"
    }
   ],
   "source": [
    "# Assuming df_3 is your DataFrame\n",
    "fig = px.violin(df_3, x='Decade', y='Box office', box=True, points=\"all\")\n",
    "\n",
    "# Customize the layout if needed\n",
    "fig.update_layout(title='Distribution of Box Office Earnings by Decade',\n",
    "                  xaxis_title='Decade',\n",
    "                  yaxis_title='Box Office',\n",
    "                  )\n",
    "\n",
    "# Show the plot\n",
    "fig.show()"
   ]
  },
  {
   "cell_type": "code",
   "execution_count": 118,
   "id": "497b1018-518a-4d6f-979e-038b3a524c37",
   "metadata": {},
   "outputs": [
    {
     "data": {
      "text/html": [
       "<div>\n",
       "<style scoped>\n",
       "    .dataframe tbody tr th:only-of-type {\n",
       "        vertical-align: middle;\n",
       "    }\n",
       "\n",
       "    .dataframe tbody tr th {\n",
       "        vertical-align: top;\n",
       "    }\n",
       "\n",
       "    .dataframe thead th {\n",
       "        text-align: right;\n",
       "    }\n",
       "</style>\n",
       "<table border=\"1\" class=\"dataframe\">\n",
       "  <thead>\n",
       "    <tr style=\"text-align: right;\">\n",
       "      <th></th>\n",
       "      <th>movie_name</th>\n",
       "      <th>Running time (min)</th>\n",
       "      <th>Release date</th>\n",
       "      <th>Box office</th>\n",
       "      <th>Decade</th>\n",
       "    </tr>\n",
       "  </thead>\n",
       "  <tbody>\n",
       "    <tr>\n",
       "      <th>0</th>\n",
       "      <td>Pinocchio (1940 film)</td>\n",
       "      <td>01:28</td>\n",
       "      <td>1940-02-07</td>\n",
       "      <td>164000000</td>\n",
       "      <td>1940</td>\n",
       "    </tr>\n",
       "  </tbody>\n",
       "</table>\n",
       "</div>"
      ],
      "text/plain": [
       "              movie_name Running time (min) Release date  Box office  Decade\n",
       "0  Pinocchio (1940 film)              01:28   1940-02-07   164000000    1940"
      ]
     },
     "execution_count": 118,
     "metadata": {},
     "output_type": "execute_result"
    }
   ],
   "source": [
    "df_3.head(1)"
   ]
  },
  {
   "cell_type": "markdown",
   "id": "2a206fe0-0162-46c8-b251-20798e54b327",
   "metadata": {},
   "source": [
    "### Interquartile Range (IQR)"
   ]
  },
  {
   "cell_type": "markdown",
   "id": "94ca4599-695f-4850-8b00-c1ab93dabe89",
   "metadata": {},
   "source": [
    "Measure of statistical dispersion\n",
    "- Calculated as the difference between the third quartile (Q3) and the first quartile (Q1) of a dataset.\n",
    "- Used to identify the spread of the middle 50% of the data."
   ]
  },
  {
   "cell_type": "code",
   "execution_count": 119,
   "id": "85f0dd54-0d4b-4444-9a6f-e789e326f7f3",
   "metadata": {},
   "outputs": [
    {
     "name": "stdout",
     "output_type": "stream",
     "text": [
      "Interquartile Range (IQR): 1924761693.0\n"
     ]
    }
   ],
   "source": [
    "# Calculate the first quartile (Q1)\n",
    "Q1 = df_3['Box office'].quantile(0.25)\n",
    "\n",
    "# Calculate the third quartile (Q3)\n",
    "Q3 = df_3['Box office'].quantile(0.75)\n",
    "\n",
    "# Calculate the interquartile range (IQR)\n",
    "IQR = Q3 - Q1\n",
    "\n",
    "print(\"Interquartile Range (IQR):\", IQR)"
   ]
  },
  {
   "cell_type": "markdown",
   "id": "0fa1b3a6-5294-4ea0-8207-63c4ddc90a80",
   "metadata": {},
   "source": [
    "Difference between the third quartile (Q3) and the first quartile (Q1) of the box office earnings data is approximately 1924761693.0"
   ]
  },
  {
   "cell_type": "markdown",
   "id": "c2153530-19c9-4935-883d-487c61661f65",
   "metadata": {},
   "source": [
    "## Statistical Analysis"
   ]
  },
  {
   "cell_type": "markdown",
   "id": "7998e398-45c7-44a1-b062-aabbd900f262",
   "metadata": {},
   "source": [
    "### Descriptive Statistics (summary statistics)"
   ]
  },
  {
   "cell_type": "code",
   "execution_count": 120,
   "id": "65b6eff6-f8c7-49e2-b413-28ef510152da",
   "metadata": {},
   "outputs": [
    {
     "data": {
      "text/html": [
       "<div>\n",
       "<style scoped>\n",
       "    .dataframe tbody tr th:only-of-type {\n",
       "        vertical-align: middle;\n",
       "    }\n",
       "\n",
       "    .dataframe tbody tr th {\n",
       "        vertical-align: top;\n",
       "    }\n",
       "\n",
       "    .dataframe thead th {\n",
       "        text-align: right;\n",
       "    }\n",
       "</style>\n",
       "<table border=\"1\" class=\"dataframe\">\n",
       "  <thead>\n",
       "    <tr style=\"text-align: right;\">\n",
       "      <th></th>\n",
       "      <th>Release date</th>\n",
       "      <th>Box office</th>\n",
       "      <th>Decade</th>\n",
       "    </tr>\n",
       "  </thead>\n",
       "  <tbody>\n",
       "    <tr>\n",
       "      <th>count</th>\n",
       "      <td>370</td>\n",
       "      <td>370</td>\n",
       "      <td>370</td>\n",
       "    </tr>\n",
       "    <tr>\n",
       "      <th>mean</th>\n",
       "      <td>1990-05-26 12:00:00</td>\n",
       "      <td>589641314</td>\n",
       "      <td>1986</td>\n",
       "    </tr>\n",
       "    <tr>\n",
       "      <th>min</th>\n",
       "      <td>1940-02-07 00:00:00</td>\n",
       "      <td>0</td>\n",
       "      <td>1940</td>\n",
       "    </tr>\n",
       "    <tr>\n",
       "      <th>25%</th>\n",
       "      <td>1972-11-03 06:00:00</td>\n",
       "      <td>11000000</td>\n",
       "      <td>1970</td>\n",
       "    </tr>\n",
       "    <tr>\n",
       "      <th>50%</th>\n",
       "      <td>1996-02-26 12:00:00</td>\n",
       "      <td>52250000</td>\n",
       "      <td>1990</td>\n",
       "    </tr>\n",
       "    <tr>\n",
       "      <th>75%</th>\n",
       "      <td>2006-04-05 06:00:00</td>\n",
       "      <td>1935761693</td>\n",
       "      <td>2000</td>\n",
       "    </tr>\n",
       "    <tr>\n",
       "      <th>max</th>\n",
       "      <td>2023-11-17 00:00:00</td>\n",
       "      <td>1935761693</td>\n",
       "      <td>2020</td>\n",
       "    </tr>\n",
       "    <tr>\n",
       "      <th>std</th>\n",
       "      <td>NaN</td>\n",
       "      <td>841469910</td>\n",
       "      <td>22</td>\n",
       "    </tr>\n",
       "  </tbody>\n",
       "</table>\n",
       "</div>"
      ],
      "text/plain": [
       "              Release date  Box office  Decade\n",
       "count                  370         370     370\n",
       "mean   1990-05-26 12:00:00   589641314    1986\n",
       "min    1940-02-07 00:00:00           0    1940\n",
       "25%    1972-11-03 06:00:00    11000000    1970\n",
       "50%    1996-02-26 12:00:00    52250000    1990\n",
       "75%    2006-04-05 06:00:00  1935761693    2000\n",
       "max    2023-11-17 00:00:00  1935761693    2020\n",
       "std                    NaN   841469910      22"
      ]
     },
     "execution_count": 120,
     "metadata": {},
     "output_type": "execute_result"
    }
   ],
   "source": [
    "df_3.describe()"
   ]
  },
  {
   "cell_type": "markdown",
   "id": "830e2e97-e930-49c3-b946-b855eaebe9ab",
   "metadata": {},
   "source": [
    "#### Hypothesis testing"
   ]
  },
  {
   "cell_type": "code",
   "execution_count": 121,
   "id": "9e3321fb-0674-4e45-b2b1-bbb9aaa1dbac",
   "metadata": {},
   "outputs": [
    {
     "name": "stdout",
     "output_type": "stream",
     "text": [
      "Basic statistics for Box Office:\n",
      "count          370\n",
      "mean     589641314\n",
      "std      841469910\n",
      "min              0\n",
      "25%       11000000\n",
      "50%       52250000\n",
      "75%     1935761693\n",
      "max     1935761693\n",
      "Name: Box office, dtype: float64\n",
      "\n",
      "Skewness: 0.9444799257609094\n",
      "Kurtosis: -1.0562822836042778\n"
     ]
    }
   ],
   "source": [
    "# Calculate basic statistics for the 'Box office' column\n",
    "box_office_stats = df_3['Box office'].describe()\n",
    "\n",
    "print(\"Basic statistics for Box Office:\")\n",
    "print(box_office_stats)\n",
    "\n",
    "# Calculate additional statistics if needed\n",
    "# For example, skewness and kurtosis\n",
    "skewness = stats.skew(df_3['Box office'])\n",
    "kurtosis = stats.kurtosis(df_3['Box office'])\n",
    "\n",
    "print(\"\\nSkewness:\", skewness)\n",
    "print(\"Kurtosis:\", kurtosis)"
   ]
  },
  {
   "cell_type": "markdown",
   "id": "1db7416f-1259-497a-ad1a-c06579ea7e2f",
   "metadata": {},
   "source": [
    "#### t-tests"
   ]
  },
  {
   "cell_type": "markdown",
   "id": "bd18afa7-137c-4dfc-a88e-11017fc4c2f2",
   "metadata": {},
   "source": [
    "Used to determine if there is a significant difference between the means"
   ]
  },
  {
   "cell_type": "code",
   "execution_count": 122,
   "id": "41b0a2f9-d96e-4678-aa4d-baa9a039b89b",
   "metadata": {},
   "outputs": [
    {
     "name": "stdout",
     "output_type": "stream",
     "text": [
      "T-test between decades 1940 and 1950:\n",
      "   T-statistic: -1.3550068515187959\n",
      "   P-value: 0.18341630692560262\n",
      "\n",
      "T-test between decades 1940 and 1960:\n",
      "   T-statistic: -1.5058358533966993\n",
      "   P-value: 0.13804645597149257\n",
      "\n",
      "T-test between decades 1940 and 1970:\n",
      "   T-statistic: -2.6789414958967406\n",
      "   P-value: 0.009916327038368405\n",
      "\n",
      "T-test between decades 1940 and 1980:\n",
      "   T-statistic: -0.9712250868528151\n",
      "   P-value: 0.33774291296393866\n",
      "\n",
      "T-test between decades 1940 and 1990:\n",
      "   T-statistic: -1.8048242048457221\n",
      "   P-value: 0.0749127183897504\n",
      "\n",
      "T-test between decades 1940 and 2000:\n",
      "   T-statistic: -2.644091739950184\n",
      "   P-value: 0.009511621967832527\n",
      "\n",
      "T-test between decades 1940 and 2010:\n",
      "   T-statistic: -2.773504649336389\n",
      "   P-value: 0.007682393717450605\n",
      "\n",
      "T-test between decades 1940 and 2020:\n",
      "   T-statistic: -11.690373074932985\n",
      "   P-value: 1.2235616637749225e-13\n",
      "\n",
      "T-test between decades 1950 and 1960:\n",
      "   T-statistic: -0.23264564486020622\n",
      "   P-value: 0.8167457996089864\n",
      "\n",
      "T-test between decades 1950 and 1970:\n",
      "   T-statistic: -2.0713834109848803\n",
      "   P-value: 0.042296763490261076\n",
      "\n",
      "T-test between decades 1950 and 1980:\n",
      "   T-statistic: 0.7216692471711046\n",
      "   P-value: 0.4737936472729942\n",
      "\n",
      "T-test between decades 1950 and 1990:\n",
      "   T-statistic: -0.5598258024725448\n",
      "   P-value: 0.5769441914560072\n",
      "\n",
      "T-test between decades 1950 and 2000:\n",
      "   T-statistic: -2.0738091669491534\n",
      "   P-value: 0.04034946965281259\n",
      "\n",
      "T-test between decades 1950 and 2010:\n",
      "   T-statistic: -2.008341777854885\n",
      "   P-value: 0.04870208262653944\n",
      "\n",
      "T-test between decades 1950 and 2020:\n",
      "   T-statistic: -8.442059935701307\n",
      "   P-value: 4.0613474188565196e-11\n",
      "\n",
      "T-test between decades 1960 and 1970:\n",
      "   T-statistic: -2.1528059206152452\n",
      "   P-value: 0.0343467390484459\n",
      "\n",
      "T-test between decades 1960 and 1980:\n",
      "   T-statistic: 0.9984846321596708\n",
      "   P-value: 0.32169118885201187\n",
      "\n",
      "T-test between decades 1960 and 1990:\n",
      "   T-statistic: -0.3456010298116284\n",
      "   P-value: 0.7303148328893203\n",
      "\n",
      "T-test between decades 1960 and 2000:\n",
      "   T-statistic: -2.193393877391626\n",
      "   P-value: 0.030071171064187763\n",
      "\n",
      "T-test between decades 1960 and 2010:\n",
      "   T-statistic: -2.041853168671869\n",
      "   P-value: 0.04442062042380608\n",
      "\n",
      "T-test between decades 1960 and 2020:\n",
      "   T-statistic: -8.486950259716018\n",
      "   P-value: 4.478874169217511e-12\n",
      "\n",
      "T-test between decades 1970 and 1980:\n",
      "   T-statistic: 2.776590153948989\n",
      "   P-value: 0.007196647159257759\n",
      "\n",
      "T-test between decades 1970 and 1990:\n",
      "   T-statistic: 2.199744224561393\n",
      "   P-value: 0.02999646545128834\n",
      "\n",
      "T-test between decades 1970 and 2000:\n",
      "   T-statistic: 0.3264985863985403\n",
      "   P-value: 0.7445846009757343\n",
      "\n",
      "T-test between decades 1970 and 2010:\n",
      "   T-statistic: 0.2204919012432178\n",
      "   P-value: 0.8260569089777372\n",
      "\n",
      "T-test between decades 1970 and 2020:\n",
      "   T-statistic: -4.9593378748455015\n",
      "   P-value: 5.800373617643279e-06\n",
      "\n",
      "T-test between decades 1980 and 1990:\n",
      "   T-statistic: -1.3945686035645724\n",
      "   P-value: 0.166504335748669\n",
      "\n",
      "T-test between decades 1980 and 2000:\n",
      "   T-statistic: -2.787558639374276\n",
      "   P-value: 0.006231990079157012\n",
      "\n",
      "T-test between decades 1980 and 2010:\n",
      "   T-statistic: -2.7833795233092964\n",
      "   P-value: 0.007036411084611018\n",
      "\n",
      "T-test between decades 1980 and 2020:\n",
      "   T-statistic: -10.758194581535458\n",
      "   P-value: 2.192879607906277e-14\n",
      "\n",
      "T-test between decades 1990 and 2000:\n",
      "   T-statistic: -2.260170445047591\n",
      "   P-value: 0.02520343689337645\n",
      "\n",
      "T-test between decades 1990 and 2010:\n",
      "   T-statistic: -2.031941480598266\n",
      "   P-value: 0.04463722686859762\n",
      "\n",
      "T-test between decades 1990 and 2020:\n",
      "   T-statistic: -8.83244601465529\n",
      "   P-value: 7.682462891692107e-14\n",
      "\n",
      "T-test between decades 2000 and 2010:\n",
      "   T-statistic: -0.07258098478843232\n",
      "   P-value: 0.9422528511848456\n",
      "\n",
      "T-test between decades 2000 and 2020:\n",
      "   T-statistic: -5.817401651336833\n",
      "   P-value: 5.860811812254883e-08\n",
      "\n",
      "T-test between decades 2010 and 2020:\n",
      "   T-statistic: -5.624043514111509\n",
      "   P-value: 4.575182261687343e-07\n",
      "\n"
     ]
    }
   ],
   "source": [
    "# Create an empty dictionary to store t-test results\n",
    "t_test_results = {}\n",
    "\n",
    "# Group data by decade\n",
    "grouped_data = df_3.groupby('Decade')\n",
    "\n",
    "# Perform t-tests for each pair of decades\n",
    "for decade1, data1 in grouped_data:\n",
    "    for decade2, data2 in grouped_data:\n",
    "        if decade1 < decade2:\n",
    "            # Perform t-test\n",
    "            t_statistic, p_value = stats.ttest_ind(data1['Box office'], data2['Box office'])\n",
    "            # Store the result\n",
    "            t_test_results[(decade1, decade2)] = (t_statistic, p_value)\n",
    "\n",
    "# Print t-test results\n",
    "for decades, result in t_test_results.items():\n",
    "    decade1, decade2 = decades\n",
    "    t_statistic, p_value = result\n",
    "    print(f\"T-test between decades {decade1} and {decade2}:\")\n",
    "    print(f\"   T-statistic: {t_statistic}\")\n",
    "    print(f\"   P-value: {p_value}\")\n",
    "    print()"
   ]
  },
  {
   "cell_type": "markdown",
   "id": "4a9d99b0-a1ce-4536-a980-42e86b8e40ea",
   "metadata": {},
   "source": [
    "#### ANOVA\n",
    "\n",
    "Variance test on box office revenue across different decaddes"
   ]
  },
  {
   "cell_type": "code",
   "execution_count": 123,
   "id": "da68aaf1-60ea-42a7-8297-950f87c2ee54",
   "metadata": {},
   "outputs": [
    {
     "name": "stdout",
     "output_type": "stream",
     "text": [
      "ANOVA F-value: 11.082627089171467\n",
      "ANOVA p-value: 5.0578417687944844e-14\n"
     ]
    }
   ],
   "source": [
    "# Grouping box office revenue by decade\n",
    "box_office_by_decade = [group_data['Box office'] for _, group_data in df_3.groupby('Decade')]\n",
    "\n",
    "# Performing ANOVA\n",
    "anova_result = f_oneway(*box_office_by_decade)\n",
    "\n",
    "# Printing ANOVA result\n",
    "print(\"ANOVA F-value:\", anova_result.statistic)\n",
    "print(\"ANOVA p-value:\", anova_result.pvalue)"
   ]
  },
  {
   "cell_type": "markdown",
   "id": "8273eb20-7e6e-47b6-bbee-8e49b27991c6",
   "metadata": {},
   "source": [
    "#### Regression analysis"
   ]
  },
  {
   "cell_type": "markdown",
   "id": "551d4ced-d6cb-4176-b56c-ff50d0c0b46d",
   "metadata": {},
   "source": [
    "##### Statsmodel"
   ]
  },
  {
   "cell_type": "code",
   "execution_count": 124,
   "id": "580a7076-47d0-4cec-a317-686d7fa1ad0d",
   "metadata": {},
   "outputs": [
    {
     "name": "stdout",
     "output_type": "stream",
     "text": [
      "                            OLS Regression Results                            \n",
      "==============================================================================\n",
      "Dep. Variable:        Q(\"Box office\")   R-squared:                       0.087\n",
      "Model:                            OLS   Adj. R-squared:                  0.085\n",
      "Method:                 Least Squares   F-statistic:                     35.12\n",
      "Date:                Sat, 01 Jun 2024   Prob (F-statistic):           7.14e-09\n",
      "Time:                        18:18:59   Log-Likelihood:                -8111.4\n",
      "No. Observations:                 370   AIC:                         1.623e+04\n",
      "Df Residuals:                     368   BIC:                         1.623e+04\n",
      "Df Model:                           1                                         \n",
      "Covariance Type:            nonrobust                                         \n",
      "==============================================================================\n",
      "                 coef    std err          t      P>|t|      [0.025      0.975]\n",
      "------------------------------------------------------------------------------\n",
      "Intercept  -2.226e+10   3.86e+09     -5.773      0.000   -2.98e+10   -1.47e+10\n",
      "Decade      1.151e+07   1.94e+06      5.926      0.000    7.69e+06    1.53e+07\n",
      "==============================================================================\n",
      "Omnibus:                       70.350   Durbin-Watson:                   1.800\n",
      "Prob(Omnibus):                  0.000   Jarque-Bera (JB):               57.935\n",
      "Skew:                           0.875   Prob(JB):                     2.63e-13\n",
      "Kurtosis:                       2.164   Cond. No.                     1.83e+05\n",
      "==============================================================================\n",
      "\n",
      "Notes:\n",
      "[1] Standard Errors assume that the covariance matrix of the errors is correctly specified.\n",
      "[2] The condition number is large, 1.83e+05. This might indicate that there are\n",
      "strong multicollinearity or other numerical problems.\n"
     ]
    }
   ],
   "source": [
    "# Define the formula for regression\n",
    "formula = 'Q(\"Box office\") ~ Decade'\n",
    "\n",
    "# Perform regression analysis\n",
    "model = smf.ols(formula=formula, data=df_3).fit()\n",
    "\n",
    "# Print regression summary\n",
    "print(model.summary())"
   ]
  },
  {
   "cell_type": "markdown",
   "id": "3b4237e5-eeb9-4371-b388-799634aa2f79",
   "metadata": {},
   "source": [
    "##### scikit-learn\n",
    "\n",
    "Performing linear regression"
   ]
  },
  {
   "cell_type": "code",
   "execution_count": 125,
   "id": "ff05688f-b836-440f-bb46-1943e043c9a1",
   "metadata": {},
   "outputs": [
    {
     "name": "stdout",
     "output_type": "stream",
     "text": [
      "Coefficients: [11517384.20795009]\n",
      "Mean Squared Error: 5.5788585712747014e+17\n"
     ]
    }
   ],
   "source": [
    "# Extracting features (X) and target variable (y)\n",
    "X = df_3[['Decade']]\n",
    "y = df_3['Box office']\n",
    "\n",
    "# Splitting the dataset into training and testing sets\n",
    "X_train, X_test, y_train, y_test = train_test_split(X, y, test_size=0.2, random_state=42)\n",
    "\n",
    "# Creating a linear regression model\n",
    "model = LinearRegression()\n",
    "\n",
    "# Training the model\n",
    "model.fit(X_train, y_train)\n",
    "\n",
    "# Making predictions\n",
    "y_pred = model.predict(X_test)\n",
    "\n",
    "# Calculating the Mean Squared Error (MSE)\n",
    "mse = mean_squared_error(y_test, y_pred)\n",
    "\n",
    "# Printing the coefficients\n",
    "print('Coefficients:', model.coef_)\n",
    "\n",
    "# Printing the Mean Squared Error\n",
    "print('Mean Squared Error:', mse)"
   ]
  }
 ],
 "metadata": {
  "kernelspec": {
   "display_name": "Python 3 (ipykernel)",
   "language": "python",
   "name": "python3"
  },
  "language_info": {
   "codemirror_mode": {
    "name": "ipython",
    "version": 3
   },
   "file_extension": ".py",
   "mimetype": "text/x-python",
   "name": "python",
   "nbconvert_exporter": "python",
   "pygments_lexer": "ipython3",
   "version": "3.11.7"
  }
 },
 "nbformat": 4,
 "nbformat_minor": 5
}
