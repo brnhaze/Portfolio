{
 "cells": [
  {
   "cell_type": "markdown",
   "id": "bf3297c0-3b41-4be9-9569-d28be6e7338d",
   "metadata": {},
   "source": [
    "# News API\n",
    "\n",
    "- https://newsapi.org/\n",
    "- https://newsapi.org/docs/get-\n",
    "\n",
    "- https://newsapi.org/docs/endpoints/everything\n",
    "    - parameters\n",
    "    - response object"
   ]
  },
  {
   "cell_type": "code",
   "execution_count": 23,
   "id": "5ff897aa-d339-4598-9036-4c7130145bfc",
   "metadata": {},
   "outputs": [],
   "source": [
    "import pandas as pd\n",
    "import numpy as np\n",
    "import requests\n",
    "from newsapi import NewsApiClient\n",
    "import datetime as dt"
   ]
  },
  {
   "cell_type": "markdown",
   "id": "474b6073-558e-4a36-932e-e26f442fc1a1",
   "metadata": {},
   "source": [
    "## API Request"
   ]
  },
  {
   "cell_type": "code",
   "execution_count": 24,
   "id": "5c32ccae-36d7-4bf0-911c-17cbee937a04",
   "metadata": {},
   "outputs": [],
   "source": [
    "API_KEY = '96512a8b450b4e5f97eba5e700befb7c'\n",
    "\n",
    "url = 'https://newsapi.org/v2/everything'"
   ]
  },
  {
   "cell_type": "code",
   "execution_count": 25,
   "id": "724836dd-df2b-47fc-9f9a-6b7420c30d35",
   "metadata": {},
   "outputs": [],
   "source": [
    "parameters = {\n",
    "    'q': 'Bitcoin',\n",
    "    'from': '2024-08-07',\n",
    "    'sortBy': 'popularity',\n",
    "    'apiKey': API_KEY\n",
    "}\n",
    "\n",
    "\n",
    "response = requests.get(url, params=parameters)\n",
    "\n",
    "# Print the response\n",
    "if response.status_code == 200:\n",
    "    data = response.json()\n",
    "    articles = data.get('articles', [])\n",
    "    \n",
    "    for article in articles:\n",
    "        source_name = article['source']['name']\n",
    "        author = article.get('author', 'No author')\n",
    "        title = article['title']\n",
    "        description = article['description']\n",
    "        url = article['url']\n",
    "        \n",
    "        print(f\"Source: {source_name}\")\n",
    "        print(f\"Author: {author}\")\n",
    "        print(f\"Title: {title}\")\n",
    "        print(f\"Description: {description}\")\n",
    "        print(f\"URL: {url}\")\n",
    "        print('-' * 40)\n",
    "else:\n",
    "    print(f\"Error: {response.status_code}\")"
   ]
  },
  {
   "cell_type": "markdown",
   "id": "4708a7bf-5c77-4bf5-93c2-e74777d2972a",
   "metadata": {},
   "source": [
    "## Get Everything"
   ]
  },
  {
   "cell_type": "code",
   "execution_count": 26,
   "id": "24314068-78d4-47e2-9802-127b0f255911",
   "metadata": {},
   "outputs": [
    {
     "name": "stdout",
     "output_type": "stream",
     "text": [
      "<Response [200]>\n"
     ]
    }
   ],
   "source": [
    "print(response)"
   ]
  },
  {
   "cell_type": "code",
   "execution_count": 27,
   "id": "a3c9cdb6-ed48-4e6a-9fa8-1fce8a468831",
   "metadata": {},
   "outputs": [
    {
     "name": "stdout",
     "output_type": "stream",
     "text": [
      "{'status': 'ok', 'totalResults': 0, 'articles': []}\n"
     ]
    }
   ],
   "source": [
    "print(response.json())"
   ]
  },
  {
   "cell_type": "markdown",
   "id": "ac3e0480-b02d-4f8d-b16b-48c6cbe9ed50",
   "metadata": {},
   "source": [
    "## "
   ]
  },
  {
   "cell_type": "code",
   "execution_count": 65,
   "id": "cb7c3cf2-5fad-402c-b26a-d05c113e5207",
   "metadata": {},
   "outputs": [],
   "source": [
    "newsapi = NewsApiClient(api_key=API_KEY)"
   ]
  },
  {
   "cell_type": "code",
   "execution_count": 79,
   "id": "77ccb8da-d7ca-4d9b-99a9-252fb73f5843",
   "metadata": {},
   "outputs": [],
   "source": [
    "data = newsapi.get_everything(q='Bitcoin',language='en',page_size=20)"
   ]
  },
  {
   "cell_type": "code",
   "execution_count": 80,
   "id": "2e583ed2-d453-4ada-bcf5-94b10c5aaff4",
   "metadata": {},
   "outputs": [
    {
     "data": {
      "text/plain": [
       "dict"
      ]
     },
     "execution_count": 80,
     "metadata": {},
     "output_type": "execute_result"
    }
   ],
   "source": [
    "type(data)"
   ]
  },
  {
   "cell_type": "code",
   "execution_count": 81,
   "id": "54feb11f-b94e-472a-86c3-4a478fe437e0",
   "metadata": {},
   "outputs": [
    {
     "data": {
      "text/plain": [
       "dict_keys(['status', 'totalResults', 'articles'])"
      ]
     },
     "execution_count": 81,
     "metadata": {},
     "output_type": "execute_result"
    }
   ],
   "source": [
    "data.keys()"
   ]
  },
  {
   "cell_type": "code",
   "execution_count": 82,
   "id": "e05588d3-86ae-4c46-93af-5844836dbc7d",
   "metadata": {},
   "outputs": [
    {
     "data": {
      "text/plain": [
       "'ok'"
      ]
     },
     "execution_count": 82,
     "metadata": {},
     "output_type": "execute_result"
    }
   ],
   "source": [
    "data['status']"
   ]
  },
  {
   "cell_type": "code",
   "execution_count": 83,
   "id": "8878f875-ecf8-4123-9a9c-7751f3d8e5ae",
   "metadata": {},
   "outputs": [
    {
     "data": {
      "text/plain": [
       "6740"
      ]
     },
     "execution_count": 83,
     "metadata": {},
     "output_type": "execute_result"
    }
   ],
   "source": [
    "data['totalResults']"
   ]
  },
  {
   "cell_type": "code",
   "execution_count": 88,
   "id": "936b2975-536e-4ded-88fb-31e8f1c1a5e2",
   "metadata": {},
   "outputs": [
    {
     "data": {
      "text/plain": [
       "{'source': {'id': 'wired', 'name': 'Wired'},\n",
       " 'author': 'Jessica Klein',\n",
       " 'title': 'Bitcoin Bros Go Wild for Donald Trump',\n",
       " 'description': 'At Bitcoin 2024 conference in Nashville, Trump is finally telling crypto enthusiasts what they want to hear.',\n",
       " 'url': 'https://www.wired.com/story/bitcoin-bros-go-wild-for-donald-trump/',\n",
       " 'urlToImage': 'https://media.wired.com/photos/66a56f21bf2909f08a634953/191:100/w_1280,c_limit/Crypto-Bros-Business-2162975355.jpg',\n",
       " 'publishedAt': '2024-07-28T12:43:07Z',\n",
       " 'content': 'Trumps speech is an hour behind. A half hour into the wait, restless attendees start chanting Trump. The woman sitting in front of me murmurs her own chant:\\r\\nBitcoin, bitcointhats what they should be… [+3147 chars]'}"
      ]
     },
     "execution_count": 88,
     "metadata": {},
     "output_type": "execute_result"
    }
   ],
   "source": [
    "# View Article 0\n",
    "\n",
    "data['articles'][0]"
   ]
  },
  {
   "cell_type": "code",
   "execution_count": 85,
   "id": "cacc44ca-59f1-4722-ba0d-b1ef595f766a",
   "metadata": {},
   "outputs": [],
   "source": [
    "articles = data['articles']"
   ]
  },
  {
   "cell_type": "code",
   "execution_count": 93,
   "id": "fbfc77d9-c90a-4f3c-b39b-a084cd538c59",
   "metadata": {},
   "outputs": [
    {
     "name": "stdout",
     "output_type": "stream",
     "text": [
      "0 Bitcoin Bros Go Wild for Donald Trump\n",
      "1 Craig Wright Faces Perjury Investigation Over Claims He Created Bitcoin\n",
      "2 Trump's Crypto Embrace Could Be a Disaster for Bitcoin\n",
      "3 A Tiny Texas Village Is About To Annex a Gigantic Bitcoin Mine\n",
      "4 Trump Promises to Make U.S. the ‘Crypto Capital of the Planet and the Bitcoin Superpower’\n",
      "5 Silicon Valley Hasn’t Embraced Trump. But It’s Wavering on Biden\n",
      "6 RFK Jr. Says He'd Direct the Government to Buy $615 Billion in Bitcoin or 4 Million Bitcoins\n",
      "7 Mt. Gox to repay investors in Bitcoin\n",
      "8 Mt. Gox moves nearly $2.7 billion in bitcoin, signaling anticipated payouts\n",
      "9 Bitcoin 2024 announces Donald Trump as speaker\n",
      "10 German government continues Bitcoin transfers to exchanges\n",
      "11 Bitcoin surges past $68,000 amid continued ETF inflows\n",
      "12 Bitcoin surges following assassination attempt on Donald Trump\n",
      "13 Bitcoin transaction cost hits four-year low\n",
      "14 Jersey City Pension Fund to Invest in Bitcoin ETFs\n",
      "15 Crypto asset firm Grayscale has lost $20 billion in Bitcoin and Ethereum ETFs\n",
      "16 US strategic Bitcoin reserve to be financed by revaluing Fed’s gold\n",
      "17 Bitcoin is Legit, BlackRock's Larry Fink Says\n",
      "18 Long-dormant Bitcoin wallet awakens, moves $60M\n",
      "19 Mt. Gox Moves Another $2.5B of Bitcoin\n"
     ]
    }
   ],
   "source": [
    "# Enumerate through list of articles with index\n",
    "\n",
    "for x, y in enumerate(articles):\n",
    "    print(f'{x} {y[\"title\"]}')"
   ]
  },
  {
   "cell_type": "markdown",
   "id": "37fd2ece-de4e-45a6-9239-591d6b132bcd",
   "metadata": {},
   "source": [
    "### Access Index 0"
   ]
  },
  {
   "cell_type": "code",
   "execution_count": 87,
   "id": "767e9d29-e84b-4ae3-9a2a-371c679be2b8",
   "metadata": {},
   "outputs": [
    {
     "name": "stdout",
     "output_type": "stream",
     "text": [
      "\n",
      "source          {'id': 'wired', 'name': 'Wired'}\n",
      "\n",
      "author          Jessica Klein\n",
      "\n",
      "title           Bitcoin Bros Go Wild for Donald Trump\n",
      "\n",
      "description     At Bitcoin 2024 conference in Nashville, Trump is finally telling crypto enthusiasts what they want to hear.\n",
      "\n",
      "url             https://www.wired.com/story/bitcoin-bros-go-wild-for-donald-trump/\n",
      "\n",
      "urlToImage      https://media.wired.com/photos/66a56f21bf2909f08a634953/191:100/w_1280,c_limit/Crypto-Bros-Business-2162975355.jpg\n",
      "\n",
      "publishedAt     2024-07-28T12:43:07Z\n",
      "\n",
      "content         Trumps speech is an hour behind. A half hour into the wait, restless attendees start chanting Trump. The woman sitting in front of me murmurs her own chant:\n",
      "Bitcoin, bitcointhats what they should be… [+3147 chars]\n"
     ]
    }
   ],
   "source": [
    "for key, value in articles[0].items():\n",
    "    print (f\"\\n{key.ljust(15)} {value}\")"
   ]
  },
  {
   "cell_type": "markdown",
   "id": "a24793c7-b132-40fc-ace9-0f11938d124b",
   "metadata": {},
   "source": [
    "### urlToImage"
   ]
  },
  {
   "cell_type": "markdown",
   "id": "7ed43877-8713-466e-9909-3c1ac5e567aa",
   "metadata": {},
   "source": [
    " ![image](https://media.wired.com/photos/66a56f21bf2909f08a634953/191:100/w_1280,c_limit/Crypto-Bros-Business-2162975355.jpg)"
   ]
  },
  {
   "cell_type": "markdown",
   "id": "b3921a20-bea9-4164-97b8-21dce0d166ed",
   "metadata": {},
   "source": [
    "## Import to DataFrame"
   ]
  },
  {
   "cell_type": "code",
   "execution_count": 90,
   "id": "9416c2fe-7c5a-4fb9-8616-9d2de65eb3eb",
   "metadata": {},
   "outputs": [],
   "source": [
    "df = pd.DataFrame(articles)"
   ]
  },
  {
   "cell_type": "code",
   "execution_count": 91,
   "id": "1eac9f65-715c-4424-a0a9-00197dd603b3",
   "metadata": {},
   "outputs": [
    {
     "data": {
      "text/html": [
       "<div>\n",
       "<style scoped>\n",
       "    .dataframe tbody tr th:only-of-type {\n",
       "        vertical-align: middle;\n",
       "    }\n",
       "\n",
       "    .dataframe tbody tr th {\n",
       "        vertical-align: top;\n",
       "    }\n",
       "\n",
       "    .dataframe thead th {\n",
       "        text-align: right;\n",
       "    }\n",
       "</style>\n",
       "<table border=\"1\" class=\"dataframe\">\n",
       "  <thead>\n",
       "    <tr style=\"text-align: right;\">\n",
       "      <th></th>\n",
       "      <th>source</th>\n",
       "      <th>author</th>\n",
       "      <th>title</th>\n",
       "      <th>description</th>\n",
       "      <th>url</th>\n",
       "      <th>urlToImage</th>\n",
       "      <th>publishedAt</th>\n",
       "      <th>content</th>\n",
       "    </tr>\n",
       "  </thead>\n",
       "  <tbody>\n",
       "    <tr>\n",
       "      <th>0</th>\n",
       "      <td>{'id': 'wired', 'name': 'Wired'}</td>\n",
       "      <td>Jessica Klein</td>\n",
       "      <td>Bitcoin Bros Go Wild for Donald Trump</td>\n",
       "      <td>At Bitcoin 2024 conference in Nashville, Trump...</td>\n",
       "      <td>https://www.wired.com/story/bitcoin-bros-go-wi...</td>\n",
       "      <td>https://media.wired.com/photos/66a56f21bf2909f...</td>\n",
       "      <td>2024-07-28T12:43:07Z</td>\n",
       "      <td>Trumps speech is an hour behind. A half hour i...</td>\n",
       "    </tr>\n",
       "  </tbody>\n",
       "</table>\n",
       "</div>"
      ],
      "text/plain": [
       "                             source         author  \\\n",
       "0  {'id': 'wired', 'name': 'Wired'}  Jessica Klein   \n",
       "\n",
       "                                   title  \\\n",
       "0  Bitcoin Bros Go Wild for Donald Trump   \n",
       "\n",
       "                                         description  \\\n",
       "0  At Bitcoin 2024 conference in Nashville, Trump...   \n",
       "\n",
       "                                                 url  \\\n",
       "0  https://www.wired.com/story/bitcoin-bros-go-wi...   \n",
       "\n",
       "                                          urlToImage           publishedAt  \\\n",
       "0  https://media.wired.com/photos/66a56f21bf2909f...  2024-07-28T12:43:07Z   \n",
       "\n",
       "                                             content  \n",
       "0  Trumps speech is an hour behind. A half hour i...  "
      ]
     },
     "execution_count": 91,
     "metadata": {},
     "output_type": "execute_result"
    }
   ],
   "source": [
    "df.head(1)"
   ]
  },
  {
   "cell_type": "code",
   "execution_count": 92,
   "id": "39b93c7b-60d9-46d4-83bb-31364272fcf8",
   "metadata": {},
   "outputs": [],
   "source": [
    "df.to_csv('articles.csv', index=False)"
   ]
  },
  {
   "cell_type": "code",
   "execution_count": null,
   "id": "ea40e491-f5c7-4652-9ae5-31b8783f8d1e",
   "metadata": {},
   "outputs": [],
   "source": []
  }
 ],
 "metadata": {
  "kernelspec": {
   "display_name": "Python 3 (ipykernel)",
   "language": "python",
   "name": "python3"
  },
  "language_info": {
   "codemirror_mode": {
    "name": "ipython",
    "version": 3
   },
   "file_extension": ".py",
   "mimetype": "text/x-python",
   "name": "python",
   "nbconvert_exporter": "python",
   "pygments_lexer": "ipython3",
   "version": "3.11.7"
  }
 },
 "nbformat": 4,
 "nbformat_minor": 5
}
